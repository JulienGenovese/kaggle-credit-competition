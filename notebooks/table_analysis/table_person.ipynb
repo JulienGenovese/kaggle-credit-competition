{
 "cells": [
  {
   "cell_type": "markdown",
   "metadata": {},
   "source": [
    "# TABLE PERSON"
   ]
  },
  {
   "cell_type": "markdown",
   "metadata": {},
   "source": [
    "This table is composed by 3 tables:\n",
    "\n",
    "- <code>train_person_1</code> with depth=1\n",
    "- <code>train_person_2</code> with depth=2\n",
    "\n",
    "\n",
    "We will analyze this points:\n",
    "\n",
    "- the columns of all dataframes\n",
    "- how to merge them\n",
    "- their NA meanings and how to fill them\n",
    "- some plots\n",
    "- how to create some behavioural KPI."
   ]
  },
  {
   "cell_type": "markdown",
   "metadata": {},
   "source": [
    "# 1. SETTINGS"
   ]
  },
  {
   "cell_type": "code",
   "execution_count": null,
   "metadata": {},
   "outputs": [],
   "source": [
    "import polars as pl\n",
    "import matplotlib.pyplot as plt\n",
    "import seaborn as sns\n",
    "import pandas as pd\n",
    "import sys\n",
    "import os \n",
    "\n",
    "sys.path.append(\"../../\")\n",
    "from src.utils import get_feature_definitions"
   ]
  },
  {
   "cell_type": "code",
   "execution_count": null,
   "metadata": {},
   "outputs": [],
   "source": [
    "dataPath = \"../../data/\""
   ]
  },
  {
   "cell_type": "code",
   "execution_count": null,
   "metadata": {},
   "outputs": [],
   "source": [
    "df_feature_definition = pl.read_csv(dataPath + \"feature_definitions.csv\")        "
   ]
  },
  {
   "cell_type": "code",
   "execution_count": null,
   "metadata": {},
   "outputs": [],
   "source": [
    "table_person_1 = pl.read_parquet(dataPath + \"parquet_files/train/train_person_1.parquet\")\n",
    "table_person_2 = pl.read_parquet(dataPath + \"parquet_files/train/train_person_2.parquet\")"
   ]
  },
  {
   "cell_type": "markdown",
   "metadata": {},
   "source": [
    "# 2. TRAIN PERSON 1 "
   ]
  },
  {
   "cell_type": "code",
   "execution_count": null,
   "metadata": {},
   "outputs": [],
   "source": [
    "with pl.Config() as cfg:\n",
    "    cfg.set_fmt_str_lengths(150)\n",
    "    cfg.set_tbl_rows(-1)\n",
    "\n",
    "    display(get_feature_definitions(table_person_1.columns, df_feature_definition)) "
   ]
  },
  {
   "cell_type": "markdown",
   "metadata": {},
   "source": [
    "# 3. TRAIN PERSON 2"
   ]
  },
  {
   "cell_type": "code",
   "execution_count": null,
   "metadata": {},
   "outputs": [],
   "source": [
    "table_person_2_pd = table_person_2.to_pandas()"
   ]
  },
  {
   "cell_type": "code",
   "execution_count": null,
   "metadata": {},
   "outputs": [],
   "source": [
    "with pl.Config() as cfg:\n",
    "    cfg.set_fmt_str_lengths(150)\n",
    "    cfg.set_tbl_rows(-1)\n",
    "\n",
    "    display(get_feature_definitions(table_person_2.columns, df_feature_definition)) "
   ]
  },
  {
   "cell_type": "code",
   "execution_count": null,
   "metadata": {},
   "outputs": [],
   "source": [
    "number_of_persons = table_person_2.group_by(\"case_id\").agg(\n",
    "    pl.col(\"num_group2\").max().alias(\"number_of_persons\")\n",
    ").sort(\"number_of_persons\", descending=True)\n",
    "\n",
    "summary_status = table_person_2.filter(pl.col(\"num_group1\")==0).sort(\"num_group2\", descenging=False).group_by(\"case_id\").agg(\n",
    "    pl.col(\"empls_employedfrom_796D\").min().alias(\"start_to_work\"),\n",
    "    pl.col(\"empls_employer_name_740M\").n_unique().alias(\"number_of_employers\"),\n",
    "    pl.col(\"empls_employedfrom_796D\").n_unique().alias(\"number_of_economical_status_changes\"),\n",
    "    \n",
    "    pl.col(\"addres_zip_823M\").n_unique().alias(\"number_of_house_changes\"),    \n",
    "    (pl.col(\"addres_role_871L\") == \"PERMANENT\").max().alias(\"is_permanent_work\"),\n",
    "    (pl.col(\"addres_role_871L\") == \"TEMPORARY\").max().alias(\"is_temporary_work\"),\n",
    "    (pl.col(\"addres_role_871L\") == \"PERMANENT\").last().alias(\"is_permanent_last_work\"),\n",
    "    (pl.col(\"addres_role_871L\") == \"TEMPORARY\").last().alias(\"is_temporary_last_work\"),\n",
    "    \n",
    "\n",
    ")"
   ]
  },
  {
   "cell_type": "code",
   "execution_count": null,
   "metadata": {},
   "outputs": [],
   "source": [
    "table_person_2_agg_conts_role = table_person_2.filter(pl.col(\"num_group1\") == 0).sort(\"num_group2\", descending=False).group_by(\"case_id\").agg(\n",
    "        pl.col(\"conts_role_79M\").last().alias(\"last_conts_role_79M\"),\n",
    "        pl.col(\"conts_role_79M\").first().alias(\"first_conts_role_79M\"),\n",
    "        pl.col(\"conts_role_79M\").mode().alias(\"most_frequent_conts_role_79M\"),\n",
    "\n",
    "        pl.col(\"empls_economicalst_849M\").last().alias(\"last_empls_economicalst_849M\"),\n",
    "        pl.col(\"empls_economicalst_849M\").first().alias(\"first_empls_economicalst_849M\"),\n",
    "        pl.col(\"empls_economicalst_849M\").mode().alias(\"most_frequent_empls_economicalst_849M\"),\n",
    "\n",
    "        \n",
    "        pl.col(\"empls_employer_name_740M\").last().alias(\"last_empls_employer_name_740M\"),\n",
    "        pl.col(\"empls_employer_name_740M\").first().alias(\"first_empls_employer_name_740M\"),\n",
    "        pl.col(\"empls_employer_name_740M\").mode().alias(\"most_frequent_empls_employer_name_740M\"),\n",
    "\n",
    "        pl.col(\"addres_role_871L\").last().alias(\"last_addres_role_871L\"),\n",
    "        pl.col(\"addres_role_871L\").first().alias(\"first_addres_role_871L\"),\n",
    "        pl.col(\"addres_role_871L\").mode().alias(\"most_frequent_addres_role_871L\"),\n",
    "        \n",
    "        pl.col(\"addres_zip_823M\").last().alias(\"last_addres_zip_823M\"),\n",
    "        pl.col(\"addres_zip_823M\").first().alias(\"first_addres_zip_823M\"),\n",
    "        pl.col(\"addres_zip_823M\").mode().alias(\"most_frequent_addres_zip_823M\"),\n",
    "\n",
    "\n",
    "        pl.col(\"addres_district_368M\").last().alias(\"last_addres_addres_district_368M\"),\n",
    "        pl.col(\"addres_district_368M\").first().alias(\"first_addres_addres_district_368M\"),\n",
    "        pl.col(\"addres_district_368M\").mode().alias(\"most_frequent_addres_district_368M\"),\n",
    "\n",
    ")\n"
   ]
  },
  {
   "cell_type": "markdown",
   "metadata": {},
   "source": [
    "## 3.1 TABLE PERSON 2:NULL ANALYSIS"
   ]
  },
  {
   "cell_type": "code",
   "execution_count": null,
   "metadata": {},
   "outputs": [],
   "source": [
    "df_nulls = (table_person_2.null_count() / table_person_2.shape[0]).transpose(include_header=True).sort(by=\"column_0\", descending=True).to_pandas()\n",
    "df_nulls[\"perc_of_nulls\"] = df_nulls.iloc[:, 1] \n",
    "df_nulls = df_nulls.drop(\"column_0\", axis = 1)\n",
    "df_nulls"
   ]
  },
  {
   "cell_type": "markdown",
   "metadata": {},
   "source": [
    "The only null information are related with:\n",
    "- start of employment\n",
    "- related people\n",
    "- address role\n"
   ]
  },
  {
   "cell_type": "code",
   "execution_count": null,
   "metadata": {},
   "outputs": [],
   "source": [
    "case_id_without_start_empl = table_person_2.filter(pl.col(\"num_group1\") == 0).filter(pl.col(\"empls_employedfrom_796D\").is_null()).select(\"case_id\").unique()\n"
   ]
  },
  {
   "cell_type": "markdown",
   "metadata": {},
   "source": [
    "### 3.2 TABLE: PERSON2: COLUMN ANALYSIS"
   ]
  },
  {
   "cell_type": "code",
   "execution_count": null,
   "metadata": {},
   "outputs": [],
   "source": [
    "features_num = list(table_person_2_pd.select_dtypes('number'))\n",
    "features_total = table_person_2_pd.columns.tolist()\n",
    "features_date = [el for el in features_total if el.endswith(\"D\")]\n",
    "features_cat = [el for el in features_total if el not in (features_num + features_date)]\n",
    "features_num.remove('case_id')"
   ]
  },
  {
   "cell_type": "code",
   "execution_count": null,
   "metadata": {},
   "outputs": [],
   "source": [
    "for col in features_num:\n",
    "    print(col, \": \", len(table_person_2_pd[col].unique()))"
   ]
  },
  {
   "cell_type": "code",
   "execution_count": null,
   "metadata": {},
   "outputs": [],
   "source": [
    "for col in features_cat:\n",
    "    print(col, \": \", len(table_person_2_pd[col].unique()))"
   ]
  },
  {
   "cell_type": "code",
   "execution_count": null,
   "metadata": {},
   "outputs": [],
   "source": [
    "for col in features_cat:\n",
    "    print(col, \": \", len(table_person_2_pd[col].unique()))"
   ]
  },
  {
   "cell_type": "code",
   "execution_count": null,
   "metadata": {},
   "outputs": [],
   "source": [
    "for col in features_date:\n",
    "    table_person_2_pd[col] = pd.to_datetime(table_person_2_pd[col], errors='coerce')\n",
    "    min_date, max_date = table_person_2_pd[col].min(), table_person_2_pd[col].max()\n",
    "    print(f\"Col: {col}, Min: {min_date}, Max: {max_date}\")"
   ]
  },
  {
   "cell_type": "markdown",
   "metadata": {},
   "source": [
    "# 4. FINAL AGGREGATION"
   ]
  },
  {
   "cell_type": "code",
   "execution_count": null,
   "metadata": {},
   "outputs": [],
   "source": []
  },
  {
   "cell_type": "code",
   "execution_count": null,
   "metadata": {},
   "outputs": [],
   "source": [
    "table_person_2.filter(table_person_2[\"case_id\"] == 2562911\t)"
   ]
  },
  {
   "cell_type": "code",
   "execution_count": null,
   "metadata": {},
   "outputs": [],
   "source": [
    "table_person_2.groupby(\"case_id\").agg(pl.col(\"addres_zip_823M\").n_unique()).sort(by=\"addres_zip_823M\", descending=True)\n"
   ]
  },
  {
   "cell_type": "code",
   "execution_count": null,
   "metadata": {},
   "outputs": [],
   "source": [
    "table_person_2.groupby(\"case_id\").agg(pl.col(\"addres_district_368M\").n_unique()).sort(by=\"addres_district_368M\", descending=True)\n"
   ]
  },
  {
   "cell_type": "code",
   "execution_count": null,
   "metadata": {},
   "outputs": [],
   "source": [
    "table_person_2.groupby(\"case_id\").agg(\n",
    "    [\n",
    "        pl.col(\"addres_district_368M\").unique()\n",
    "        \n",
    "    ]\n",
    ")"
   ]
  },
  {
   "cell_type": "code",
   "execution_count": null,
   "metadata": {},
   "outputs": [],
   "source": [
    "sys.exit()"
   ]
  },
  {
   "cell_type": "code",
   "execution_count": null,
   "metadata": {},
   "outputs": [],
   "source": [
    "table_person_2"
   ]
  },
  {
   "cell_type": "markdown",
   "metadata": {},
   "source": [
    "! POSSIBLE AGGREGATION:\n",
    "- \"empls_employedfrom_796D\" -> we take the min date. \n",
    "- \"empls_employer_name_740M\" -> do frequency encoding and associate with the related date (if possible)\n",
    "- \"empls_economicalst_849M\" -> same as above. Take the week if possible and associate with the loan.\n",
    "- \"relatedpersons_role_762T\" -> create how many related person the loan have "
   ]
  },
  {
   "cell_type": "code",
   "execution_count": null,
   "metadata": {},
   "outputs": [],
   "source": [
    "table_person_2.filter(table_person_2[\"case_id\"] == 2702362)"
   ]
  },
  {
   "cell_type": "code",
   "execution_count": null,
   "metadata": {},
   "outputs": [],
   "source": [
    "table_person_2.filter(~table_person_2[\"relatedpersons_role_762T\"].is_null()).sort(\"case_id\")"
   ]
  },
  {
   "cell_type": "code",
   "execution_count": null,
   "metadata": {},
   "outputs": [],
   "source": [
    "table_person_2[\"relatedpersons_role_762T\"].unique()"
   ]
  },
  {
   "cell_type": "code",
   "execution_count": null,
   "metadata": {},
   "outputs": [],
   "source": []
  }
 ],
 "metadata": {
  "kernelspec": {
   "display_name": "kaggle_competition",
   "language": "python",
   "name": "python3"
  },
  "language_info": {
   "codemirror_mode": {
    "name": "ipython",
    "version": 3
   },
   "file_extension": ".py",
   "mimetype": "text/x-python",
   "name": "python",
   "nbconvert_exporter": "python",
   "pygments_lexer": "ipython3",
   "version": "3.8.18"
  }
 },
 "nbformat": 4,
 "nbformat_minor": 2
}
