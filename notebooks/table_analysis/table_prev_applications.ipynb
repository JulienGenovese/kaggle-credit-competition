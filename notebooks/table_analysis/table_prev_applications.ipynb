{
 "cells": [
  {
   "cell_type": "markdown",
   "metadata": {},
   "source": [
    "# TABLE PREVIOUS APPLICATIONS"
   ]
  },
  {
   "cell_type": "markdown",
   "metadata": {},
   "source": [
    "This table is composed by 3 tables:\n",
    "\n",
    "- <code>train_applprev_1_0</code>, <code>train_applprev_1_1</code> that are internal data frames of home credit.\n",
    "- <code>train_applprev_2</code> that is another internal table with different structure.\n",
    "\n",
    "\n",
    "We will analyze this points:\n",
    "\n",
    "- the columns of all dataframes\n",
    "- how to merge them\n",
    "- their NA meanings and how to fill them\n",
    "- some plots\n",
    "- how to create some behavioural KPI."
   ]
  },
  {
   "cell_type": "markdown",
   "metadata": {},
   "source": [
    "# 1. SETTINGS"
   ]
  },
  {
   "cell_type": "code",
   "execution_count": 1,
   "metadata": {},
   "outputs": [],
   "source": [
    "import polars as pl\n",
    "import matplotlib.pyplot as plt\n",
    "import seaborn as sns\n",
    "import pandas as pd\n",
    "import sys \n",
    "import os \n",
    "\n",
    "sys.path.append(\"../../\")\n",
    "from src.utils import get_feature_definitions, extract_columns_tipe, aggregate_num_features_by_historic"
   ]
  },
  {
   "cell_type": "code",
   "execution_count": 2,
   "metadata": {},
   "outputs": [],
   "source": [
    "dataPath = \"../../data/\""
   ]
  },
  {
   "cell_type": "code",
   "execution_count": 3,
   "metadata": {},
   "outputs": [],
   "source": [
    "df_feature_definition = pl.read_csv(dataPath + \"feature_definitions.csv\")        "
   ]
  },
  {
   "cell_type": "code",
   "execution_count": 4,
   "metadata": {},
   "outputs": [],
   "source": [
    "df_target = pl.read_parquet(dataPath  + \"parquet_files/train/train_base.parquet\")"
   ]
  },
  {
   "cell_type": "code",
   "execution_count": 5,
   "metadata": {},
   "outputs": [],
   "source": [
    "train_applprev_1_0 = pl.read_parquet(dataPath + \"parquet_files/train/train_applprev_1_0.parquet\")\n",
    "train_applprev_1_1 = pl.read_parquet(dataPath + \"parquet_files/train/train_applprev_1_1.parquet\")\n",
    "train_applprev_2 = pl.read_parquet(dataPath + \"parquet_files/train/train_applprev_2.parquet\")\n"
   ]
  },
  {
   "cell_type": "markdown",
   "metadata": {},
   "source": [
    "# 2. STRUCTURE OF THE DATAFRAMES"
   ]
  },
  {
   "cell_type": "markdown",
   "metadata": {},
   "source": [
    "Let's first see how the dataframe are made. "
   ]
  },
  {
   "cell_type": "code",
   "execution_count": 6,
   "metadata": {},
   "outputs": [
    {
     "data": {
      "text/plain": [
       "(3887684, 41)"
      ]
     },
     "execution_count": 6,
     "metadata": {},
     "output_type": "execute_result"
    }
   ],
   "source": [
    "train_applprev_1_0.shape"
   ]
  },
  {
   "cell_type": "code",
   "execution_count": 7,
   "metadata": {},
   "outputs": [
    {
     "data": {
      "text/plain": [
       "(2638295, 41)"
      ]
     },
     "execution_count": 7,
     "metadata": {},
     "output_type": "execute_result"
    }
   ],
   "source": [
    "train_applprev_1_1.shape"
   ]
  },
  {
   "cell_type": "code",
   "execution_count": 8,
   "metadata": {},
   "outputs": [
    {
     "data": {
      "text/plain": [
       "(14075487, 6)"
      ]
     },
     "execution_count": 8,
     "metadata": {},
     "output_type": "execute_result"
    }
   ],
   "source": [
    "train_applprev_2.shape"
   ]
  },
  {
   "cell_type": "markdown",
   "metadata": {},
   "source": [
    "It's quite clear that the two fist dataframes has a different structure wrt the third one.\n"
   ]
  },
  {
   "cell_type": "markdown",
   "metadata": {},
   "source": [
    "# 3. INTERNAL DATA SOURCE ANALYSIS"
   ]
  },
  {
   "cell_type": "code",
   "execution_count": 9,
   "metadata": {},
   "outputs": [
    {
     "data": {
      "text/plain": [
       "True"
      ]
     },
     "execution_count": 9,
     "metadata": {},
     "output_type": "execute_result"
    }
   ],
   "source": [
    "columns_0_0 = list(train_applprev_1_0.columns)\n",
    "columns_0_1 = list(train_applprev_1_1.columns)\n",
    "\n",
    "columns_0_0.sort()\n",
    "columns_0_1.sort()\n",
    "\n",
    "columns_0_0 == columns_0_1"
   ]
  },
  {
   "cell_type": "code",
   "execution_count": 10,
   "metadata": {},
   "outputs": [
    {
     "name": "stdout",
     "output_type": "stream",
     "text": [
      "Number of case id in first dataframe:  782997\n",
      "The case id are unique in the first dataframe:  False\n"
     ]
    }
   ],
   "source": [
    "print(\"Number of case id in first dataframe: \", train_applprev_1_0[\"case_id\"].n_unique())\n",
    "print(\"The case id are unique in the first dataframe: \", train_applprev_1_0[\"case_id\"].n_unique() == train_applprev_1_0.shape[0])"
   ]
  },
  {
   "cell_type": "markdown",
   "metadata": {},
   "source": [
    "It's make sense since we have num group as historical events."
   ]
  },
  {
   "cell_type": "code",
   "execution_count": 11,
   "metadata": {},
   "outputs": [
    {
     "name": "stdout",
     "output_type": "stream",
     "text": [
      "Number of case id in second dataframe:  438525\n",
      "The case id are unique in the second dataframe:  False\n"
     ]
    }
   ],
   "source": [
    "print(\"Number of case id in second dataframe: \", train_applprev_1_1[\"case_id\"].n_unique())\n",
    "print(\"The case id are unique in the second dataframe: \", train_applprev_1_1[\"case_id\"].n_unique() == train_applprev_1_1.shape[0])"
   ]
  },
  {
   "cell_type": "code",
   "execution_count": 12,
   "metadata": {},
   "outputs": [
    {
     "name": "stdout",
     "output_type": "stream",
     "text": [
      "Number of case id in third dataframe:  1221522\n",
      "The case id are unique in the third dataframe:  False\n"
     ]
    }
   ],
   "source": [
    "print(\"Number of case id in third dataframe: \", train_applprev_2[\"case_id\"].n_unique())\n",
    "print(\"The case id are unique in the third dataframe: \", train_applprev_2[\"case_id\"].n_unique() == train_applprev_2.shape[0])"
   ]
  },
  {
   "cell_type": "code",
   "execution_count": 13,
   "metadata": {},
   "outputs": [
    {
     "data": {
      "text/plain": [
       "0"
      ]
     },
     "execution_count": 13,
     "metadata": {},
     "output_type": "execute_result"
    }
   ],
   "source": [
    "len(set(train_applprev_1_0[\"case_id\"].unique()).intersection(set(train_applprev_1_1[\"case_id\"].unique())))"
   ]
  },
  {
   "cell_type": "markdown",
   "metadata": {},
   "source": [
    "So we can infer that the two first dataframe can be concatenated and the third one is different."
   ]
  },
  {
   "cell_type": "code",
   "execution_count": 14,
   "metadata": {},
   "outputs": [
    {
     "data": {
      "text/plain": [
       "1221522"
      ]
     },
     "execution_count": 14,
     "metadata": {},
     "output_type": "execute_result"
    }
   ],
   "source": [
    "len(set(list(train_applprev_1_0[\"case_id\"].unique()) + list(train_applprev_1_1[\"case_id\"].unique())))"
   ]
  },
  {
   "cell_type": "code",
   "execution_count": 15,
   "metadata": {},
   "outputs": [
    {
     "data": {
      "text/plain": [
       "1221522"
      ]
     },
     "execution_count": 15,
     "metadata": {},
     "output_type": "execute_result"
    }
   ],
   "source": [
    "len(set(list(train_applprev_1_0[\"case_id\"].unique()) + list(train_applprev_1_1[\"case_id\"].unique())).intersection(set(train_applprev_2[\"case_id\"].unique())))"
   ]
  },
  {
   "cell_type": "markdown",
   "metadata": {},
   "source": [
    "From this first analysis we can say that the the first two dataframe are a unique one, and the third one is separated and contain other informations."
   ]
  },
  {
   "cell_type": "code",
   "execution_count": 16,
   "metadata": {},
   "outputs": [],
   "source": [
    "train_applprev_1 = pl.concat(\n",
    "    [\n",
    "        train_applprev_1_0, \n",
    "        train_applprev_1_1,\n",
    "    ],\n",
    "    how=\"vertical_relaxed\",\n",
    ")"
   ]
  },
  {
   "cell_type": "markdown",
   "metadata": {},
   "source": [
    "# 4. ANALYSIS ON THE SECOND TABLE"
   ]
  },
  {
   "cell_type": "markdown",
   "metadata": {},
   "source": [
    "Let's start from the smallest one."
   ]
  },
  {
   "cell_type": "markdown",
   "metadata": {},
   "source": [
    "**Analyze comment**"
   ]
  },
  {
   "cell_type": "code",
   "execution_count": 17,
   "metadata": {},
   "outputs": [
    {
     "data": {
      "text/html": [
       "<div><style>\n",
       ".dataframe > thead > tr,\n",
       ".dataframe > tbody > tr {\n",
       "  text-align: right;\n",
       "  white-space: pre-wrap;\n",
       "}\n",
       "</style>\n",
       "<small>shape: (6, 2)</small><table border=\"1\" class=\"dataframe\"><thead><tr><th>Variable</th><th>Description</th></tr><tr><td>str</td><td>str</td></tr></thead><tbody><tr><td>&quot;case_id&quot;</td><td>null</td></tr><tr><td>&quot;cacccardblochreas_147M&quot;</td><td>&quot;Card blocking reason.&quot;</td></tr><tr><td>&quot;conts_type_509L&quot;</td><td>&quot;Person contact type in previous application.&quot;</td></tr><tr><td>&quot;credacc_cards_status_52L&quot;</td><td>&quot;Card status of the previous credit account.&quot;</td></tr><tr><td>&quot;num_group1&quot;</td><td>null</td></tr><tr><td>&quot;num_group2&quot;</td><td>null</td></tr></tbody></table></div>"
      ],
      "text/plain": [
       "shape: (6, 2)\n",
       "┌──────────────────────────┬──────────────────────────────────────────────┐\n",
       "│ Variable                 ┆ Description                                  │\n",
       "│ ---                      ┆ ---                                          │\n",
       "│ str                      ┆ str                                          │\n",
       "╞══════════════════════════╪══════════════════════════════════════════════╡\n",
       "│ case_id                  ┆ null                                         │\n",
       "│ cacccardblochreas_147M   ┆ Card blocking reason.                        │\n",
       "│ conts_type_509L          ┆ Person contact type in previous application. │\n",
       "│ credacc_cards_status_52L ┆ Card status of the previous credit account.  │\n",
       "│ num_group1               ┆ null                                         │\n",
       "│ num_group2               ┆ null                                         │\n",
       "└──────────────────────────┴──────────────────────────────────────────────┘"
      ]
     },
     "metadata": {},
     "output_type": "display_data"
    }
   ],
   "source": [
    "with pl.Config() as cfg:\n",
    "    cfg.set_fmt_str_lengths(150)\n",
    "    cfg.set_tbl_rows(-1)\n",
    "\n",
    "    display(get_feature_definitions(train_applprev_2.columns, df_feature_definition)) "
   ]
  },
  {
   "cell_type": "code",
   "execution_count": 18,
   "metadata": {},
   "outputs": [
    {
     "name": "stdout",
     "output_type": "stream",
     "text": [
      "case_id :  1221522\n",
      "cacccardblochreas_147M :  10\n",
      "conts_type_509L :  10\n",
      "credacc_cards_status_52L :  7\n",
      "num_group1 :  20\n",
      "num_group2 :  12\n"
     ]
    }
   ],
   "source": [
    "for col in train_applprev_2.columns:\n",
    "    print(col, \": \", train_applprev_2[col].n_unique())"
   ]
  },
  {
   "cell_type": "code",
   "execution_count": 19,
   "metadata": {},
   "outputs": [
    {
     "data": {
      "text/plain": [
       "1526659"
      ]
     },
     "execution_count": 19,
     "metadata": {},
     "output_type": "execute_result"
    }
   ],
   "source": [
    "df_target[\"case_id\"].n_unique()"
   ]
  },
  {
   "cell_type": "code",
   "execution_count": 20,
   "metadata": {},
   "outputs": [
    {
     "data": {
      "text/plain": [
       "1221522"
      ]
     },
     "execution_count": 20,
     "metadata": {},
     "output_type": "execute_result"
    }
   ],
   "source": [
    "train_applprev_2[\"case_id\"].n_unique()"
   ]
  },
  {
   "cell_type": "code",
   "execution_count": 21,
   "metadata": {},
   "outputs": [
    {
     "data": {
      "text/html": [
       "<div><style>\n",
       ".dataframe > thead > tr,\n",
       ".dataframe > tbody > tr {\n",
       "  text-align: right;\n",
       "  white-space: pre-wrap;\n",
       "}\n",
       "</style>\n",
       "<small>shape: (10,)</small><table border=\"1\" class=\"dataframe\"><thead><tr><th>conts_type_509L</th></tr><tr><td>str</td></tr></thead><tbody><tr><td>&quot;SECONDARY_MOBI…</td></tr><tr><td>&quot;HOME_PHONE&quot;</td></tr><tr><td>&quot;EMPLOYMENT_PHO…</td></tr><tr><td>&quot;PRIMARY_MOBILE…</td></tr><tr><td>&quot;PHONE&quot;</td></tr><tr><td>&quot;ALTERNATIVE_PH…</td></tr><tr><td>&quot;PRIMARY_EMAIL&quot;</td></tr><tr><td>null</td></tr><tr><td>&quot;WHATSAPP&quot;</td></tr><tr><td>&quot;SKYPE&quot;</td></tr></tbody></table></div>"
      ],
      "text/plain": [
       "shape: (10,)\n",
       "Series: 'conts_type_509L' [str]\n",
       "[\n",
       "\t\"SECONDARY_MOBI…\n",
       "\t\"HOME_PHONE\"\n",
       "\t\"EMPLOYMENT_PHO…\n",
       "\t\"PRIMARY_MOBILE…\n",
       "\t\"PHONE\"\n",
       "\t\"ALTERNATIVE_PH…\n",
       "\t\"PRIMARY_EMAIL\"\n",
       "\tnull\n",
       "\t\"WHATSAPP\"\n",
       "\t\"SKYPE\"\n",
       "]"
      ]
     },
     "execution_count": 21,
     "metadata": {},
     "output_type": "execute_result"
    }
   ],
   "source": [
    "train_applprev_2[\"conts_type_509L\"].unique()"
   ]
  },
  {
   "cell_type": "code",
   "execution_count": 22,
   "metadata": {},
   "outputs": [],
   "source": [
    "train_prev_app_w_target = train_applprev_2.join(df_target, on=\"case_id\", how=\"left\")"
   ]
  },
  {
   "cell_type": "code",
   "execution_count": 23,
   "metadata": {},
   "outputs": [
    {
     "name": "stdout",
     "output_type": "stream",
     "text": [
      "cacccardblochreas_147M : percentage of target == 1 is \n",
      "shape: (10, 2)\n",
      "┌────────────────────────┬──────────┐\n",
      "│ cacccardblochreas_147M ┆ target   │\n",
      "│ ---                    ┆ ---      │\n",
      "│ str                    ┆ f64      │\n",
      "╞════════════════════════╪══════════╡\n",
      "│ P19_60_110             ┆ 4.845815 │\n",
      "│ P41_107_150            ┆ 1.086957 │\n",
      "│ P127_74_114            ┆ 0.0      │\n",
      "│ P33_145_161            ┆ 1.571472 │\n",
      "│ a55475b1               ┆ 3.425389 │\n",
      "│ null                   ┆ 5.023387 │\n",
      "│ P201_63_60             ┆ 8.513514 │\n",
      "│ P23_105_103            ┆ 3.418803 │\n",
      "│ P17_56_144             ┆ 6.349206 │\n",
      "│ P133_119_56            ┆ 5.0      │\n",
      "└────────────────────────┴──────────┘\n",
      "conts_type_509L : percentage of target == 1 is \n",
      "shape: (10, 2)\n",
      "┌───────────────────┬──────────┐\n",
      "│ conts_type_509L   ┆ target   │\n",
      "│ ---               ┆ ---      │\n",
      "│ str               ┆ f64      │\n",
      "╞═══════════════════╪══════════╡\n",
      "│ WHATSAPP          ┆ 12.0     │\n",
      "│ ALTERNATIVE_PHONE ┆ 4.258187 │\n",
      "│ PHONE             ┆ 3.980397 │\n",
      "│ null              ┆ 3.00394  │\n",
      "│ SECONDARY_MOBILE  ┆ 3.489422 │\n",
      "│ SKYPE             ┆ 0.0      │\n",
      "│ PRIMARY_MOBILE    ┆ 3.763814 │\n",
      "│ EMPLOYMENT_PHONE  ┆ 3.411422 │\n",
      "│ HOME_PHONE        ┆ 2.852341 │\n",
      "│ PRIMARY_EMAIL     ┆ 3.262214 │\n",
      "└───────────────────┴──────────┘\n",
      "credacc_cards_status_52L : percentage of target == 1 is \n",
      "shape: (7, 2)\n",
      "┌──────────────────────────┬──────────┐\n",
      "│ credacc_cards_status_52L ┆ target   │\n",
      "│ ---                      ┆ ---      │\n",
      "│ str                      ┆ f64      │\n",
      "╞══════════════════════════╪══════════╡\n",
      "│ UNCONFIRMED              ┆ 2.5      │\n",
      "│ CANCELLED                ┆ 2.01759  │\n",
      "│ INACTIVE                 ┆ 2.420277 │\n",
      "│ RENEWED                  ┆ 5.263158 │\n",
      "│ null                     ┆ 3.460118 │\n",
      "│ ACTIVE                   ┆ 3.425695 │\n",
      "│ BLOCKED                  ┆ 6.339371 │\n",
      "└──────────────────────────┴──────────┘\n"
     ]
    }
   ],
   "source": [
    "cols = [\"cacccardblochreas_147M\", \"conts_type_509L\", \"credacc_cards_status_52L\"]\n",
    "for col in cols:\n",
    "    percentage = train_prev_app_w_target.group_by(col).agg(\n",
    "        pl.col(\"target\").mean() * 100\n",
    "        )\n",
    "    print(col, \": percentage of target == 1 is \")\n",
    "    print(percentage)\n"
   ]
  },
  {
   "cell_type": "markdown",
   "metadata": {},
   "source": [
    "# 5. ANALYSIS OF THE FIRST TABLE"
   ]
  },
  {
   "cell_type": "code",
   "execution_count": 24,
   "metadata": {},
   "outputs": [],
   "source": [
    "train_applprev_1_pd = train_applprev_1.to_pandas()"
   ]
  },
  {
   "cell_type": "code",
   "execution_count": 25,
   "metadata": {},
   "outputs": [],
   "source": [
    "features_num, features_date, features_cat = extract_columns_tipe(train_applprev_1_pd)"
   ]
  },
  {
   "cell_type": "code",
   "execution_count": 26,
   "metadata": {},
   "outputs": [
    {
     "data": {
      "text/plain": [
       "['actualdpd_943P',\n",
       " 'annuity_853A',\n",
       " 'byoccupationinc_3656910L',\n",
       " 'childnum_21L',\n",
       " 'credacc_actualbalance_314A',\n",
       " 'credacc_credlmt_575A',\n",
       " 'credacc_maxhisbal_375A',\n",
       " 'credacc_minhisbal_90A',\n",
       " 'credacc_transactions_402L',\n",
       " 'credamount_590A',\n",
       " 'currdebt_94A',\n",
       " 'downpmt_134A',\n",
       " 'mainoccupationinc_437A',\n",
       " 'maxdpdtolerance_577P',\n",
       " 'outstandingdebt_522A',\n",
       " 'pmtnum_8L',\n",
       " 'revolvingaccount_394A',\n",
       " 'tenor_203L']"
      ]
     },
     "execution_count": 26,
     "metadata": {},
     "output_type": "execute_result"
    }
   ],
   "source": [
    "features_num"
   ]
  },
  {
   "cell_type": "code",
   "execution_count": 27,
   "metadata": {},
   "outputs": [
    {
     "data": {
      "text/plain": [
       "['approvaldate_319D',\n",
       " 'creationdate_885D',\n",
       " 'dateactivated_425D',\n",
       " 'dtlastpmt_581D',\n",
       " 'dtlastpmtallstes_3545839D',\n",
       " 'employedfrom_700D',\n",
       " 'firstnonzeroinstldate_307D']"
      ]
     },
     "execution_count": 27,
     "metadata": {},
     "output_type": "execute_result"
    }
   ],
   "source": [
    "features_date"
   ]
  },
  {
   "cell_type": "code",
   "execution_count": 28,
   "metadata": {},
   "outputs": [
    {
     "data": {
      "text/html": [
       "<div><style>\n",
       ".dataframe > thead > tr,\n",
       ".dataframe > tbody > tr {\n",
       "  text-align: right;\n",
       "  white-space: pre-wrap;\n",
       "}\n",
       "</style>\n",
       "<small>shape: (7, 2)</small><table border=\"1\" class=\"dataframe\"><thead><tr><th>Variable</th><th>Description</th></tr><tr><td>str</td><td>str</td></tr></thead><tbody><tr><td>&quot;approvaldate_319D&quot;</td><td>&quot;Approval Date of Previous Application&quot;</td></tr><tr><td>&quot;creationdate_885D&quot;</td><td>&quot;Date when previous application was created.&quot;</td></tr><tr><td>&quot;dateactivated_425D&quot;</td><td>&quot;Contract activation date of the applicant&#x27;s previous application.&quot;</td></tr><tr><td>&quot;dtlastpmt_581D&quot;</td><td>&quot;Date of last payment made by the applicant.&quot;</td></tr><tr><td>&quot;dtlastpmtallstes_3545839D&quot;</td><td>&quot;Date of the applicant&#x27;s last payment.&quot;</td></tr><tr><td>&quot;employedfrom_700D&quot;</td><td>&quot;Employment start date from the previous application.&quot;</td></tr><tr><td>&quot;firstnonzeroinstldate_307D&quot;</td><td>&quot;Date of first instalment in the previous application.&quot;</td></tr></tbody></table></div>"
      ],
      "text/plain": [
       "shape: (7, 2)\n",
       "┌────────────────────────────┬───────────────────────────────────────────────────────────────────┐\n",
       "│ Variable                   ┆ Description                                                       │\n",
       "│ ---                        ┆ ---                                                               │\n",
       "│ str                        ┆ str                                                               │\n",
       "╞════════════════════════════╪═══════════════════════════════════════════════════════════════════╡\n",
       "│ approvaldate_319D          ┆ Approval Date of Previous Application                             │\n",
       "│ creationdate_885D          ┆ Date when previous application was created.                       │\n",
       "│ dateactivated_425D         ┆ Contract activation date of the applicant's previous application. │\n",
       "│ dtlastpmt_581D             ┆ Date of last payment made by the applicant.                       │\n",
       "│ dtlastpmtallstes_3545839D  ┆ Date of the applicant's last payment.                             │\n",
       "│ employedfrom_700D          ┆ Employment start date from the previous application.              │\n",
       "│ firstnonzeroinstldate_307D ┆ Date of first instalment in the previous application.             │\n",
       "└────────────────────────────┴───────────────────────────────────────────────────────────────────┘"
      ]
     },
     "metadata": {},
     "output_type": "display_data"
    }
   ],
   "source": [
    "with pl.Config() as cfg:\n",
    "    cfg.set_fmt_str_lengths(150)\n",
    "    cfg.set_tbl_rows(-1)\n",
    "\n",
    "    display(get_feature_definitions(features_date, df_feature_definition)) "
   ]
  },
  {
   "cell_type": "code",
   "execution_count": 29,
   "metadata": {},
   "outputs": [
    {
     "data": {
      "text/plain": [
       "['approvaldate_319D',\n",
       " 'creationdate_885D',\n",
       " 'dateactivated_425D',\n",
       " 'dtlastpmt_581D',\n",
       " 'dtlastpmtallstes_3545839D',\n",
       " 'employedfrom_700D',\n",
       " 'firstnonzeroinstldate_307D']"
      ]
     },
     "execution_count": 29,
     "metadata": {},
     "output_type": "execute_result"
    }
   ],
   "source": [
    "features_date"
   ]
  },
  {
   "cell_type": "code",
   "execution_count": 30,
   "metadata": {},
   "outputs": [
    {
     "name": "stdout",
     "output_type": "stream",
     "text": [
      "approvaldate_319D :  2020-10-19\n",
      "creationdate_885D :  2020-10-19\n",
      "dateactivated_425D :  2020-10-19\n",
      "dtlastpmt_581D :  2020-10-19\n",
      "dtlastpmtallstes_3545839D :  2020-10-19\n",
      "employedfrom_700D :  2020-07-15\n",
      "firstnonzeroinstldate_307D :  2020-11-19\n"
     ]
    }
   ],
   "source": [
    "for col_d in features_date:\n",
    "    train_applprev_1 = train_applprev_1.with_columns(pl.col(col_d).str.strptime(pl.Date))\n",
    "    print(col_d, \": \", train_applprev_1[col_d].max())"
   ]
  },
  {
   "cell_type": "code",
   "execution_count": 31,
   "metadata": {},
   "outputs": [
    {
     "data": {
      "text/html": [
       "<div><style>\n",
       ".dataframe > thead > tr,\n",
       ".dataframe > tbody > tr {\n",
       "  text-align: right;\n",
       "  white-space: pre-wrap;\n",
       "}\n",
       "</style>\n",
       "<small>shape: (18, 2)</small><table border=\"1\" class=\"dataframe\"><thead><tr><th>Variable</th><th>Description</th></tr><tr><td>str</td><td>str</td></tr></thead><tbody><tr><td>&quot;actualdpd_943P&quot;</td><td>&quot;Days Past Due (DPD) of previous contract (actual).&quot;</td></tr><tr><td>&quot;annuity_853A&quot;</td><td>&quot;Monthly annuity for previous applications.&quot;</td></tr><tr><td>&quot;byoccupationinc_3656910L&quot;</td><td>&quot;Applicant&#x27;s income from previous applications.&quot;</td></tr><tr><td>&quot;childnum_21L&quot;</td><td>&quot;Number of children in the previous application.&quot;</td></tr><tr><td>&quot;credacc_actualbalance_314A&quot;</td><td>&quot;Actual balance on credit account.&quot;</td></tr><tr><td>&quot;credacc_credlmt_575A&quot;</td><td>&quot;Credit card credit limit provided for previous applications.&quot;</td></tr><tr><td>&quot;credacc_maxhisbal_375A&quot;</td><td>&quot;Maximal historical balance of previous credit account&quot;</td></tr><tr><td>&quot;credacc_minhisbal_90A&quot;</td><td>&quot;Minimum historical balance of previous credit accounts.&quot;</td></tr><tr><td>&quot;credacc_transactions_402L&quot;</td><td>&quot;Number of transactions made with the previous credit account of the applicant.&quot;</td></tr><tr><td>&quot;credamount_590A&quot;</td><td>&quot;Loan amount or card limit of previous applications.&quot;</td></tr><tr><td>&quot;currdebt_94A&quot;</td><td>&quot;Previous application&#x27;s current debt.&quot;</td></tr><tr><td>&quot;downpmt_134A&quot;</td><td>&quot;Previous application downpayment amount.&quot;</td></tr><tr><td>&quot;mainoccupationinc_437A&quot;</td><td>&quot;Client&#x27;s main income amount in their previous application.&quot;</td></tr><tr><td>&quot;maxdpdtolerance_577P&quot;</td><td>&quot;Maximum DPD with tolerance (on previous application/s).&quot;</td></tr><tr><td>&quot;outstandingdebt_522A&quot;</td><td>&quot;Amount of outstanding debt on the client&#x27;s previous application.&quot;</td></tr><tr><td>&quot;pmtnum_8L&quot;</td><td>&quot;Number of payments made for the previous application.&quot;</td></tr><tr><td>&quot;revolvingaccount_394A&quot;</td><td>&quot;Revolving account that was present in the applicant&#x27;s previous application.&quot;</td></tr><tr><td>&quot;tenor_203L&quot;</td><td>&quot;Number of instalments in the previous application.&quot;</td></tr></tbody></table></div>"
      ],
      "text/plain": [
       "shape: (18, 2)\n",
       "┌────────────────────────────┬─────────────────────────────────────────────────────────────────────┐\n",
       "│ Variable                   ┆ Description                                                         │\n",
       "│ ---                        ┆ ---                                                                 │\n",
       "│ str                        ┆ str                                                                 │\n",
       "╞════════════════════════════╪═════════════════════════════════════════════════════════════════════╡\n",
       "│ actualdpd_943P             ┆ Days Past Due (DPD) of previous contract (actual).                  │\n",
       "│ annuity_853A               ┆ Monthly annuity for previous applications.                          │\n",
       "│ byoccupationinc_3656910L   ┆ Applicant's income from previous applications.                      │\n",
       "│ childnum_21L               ┆ Number of children in the previous application.                     │\n",
       "│ credacc_actualbalance_314A ┆ Actual balance on credit account.                                   │\n",
       "│ credacc_credlmt_575A       ┆ Credit card credit limit provided for previous applications.        │\n",
       "│ credacc_maxhisbal_375A     ┆ Maximal historical balance of previous credit account               │\n",
       "│ credacc_minhisbal_90A      ┆ Minimum historical balance of previous credit accounts.             │\n",
       "│ credacc_transactions_402L  ┆ Number of transactions made with the previous credit account of the │\n",
       "│                            ┆ applicant.                                                          │\n",
       "│ credamount_590A            ┆ Loan amount or card limit of previous applications.                 │\n",
       "│ currdebt_94A               ┆ Previous application's current debt.                                │\n",
       "│ downpmt_134A               ┆ Previous application downpayment amount.                            │\n",
       "│ mainoccupationinc_437A     ┆ Client's main income amount in their previous application.          │\n",
       "│ maxdpdtolerance_577P       ┆ Maximum DPD with tolerance (on previous application/s).             │\n",
       "│ outstandingdebt_522A       ┆ Amount of outstanding debt on the client's previous application.    │\n",
       "│ pmtnum_8L                  ┆ Number of payments made for the previous application.               │\n",
       "│ revolvingaccount_394A      ┆ Revolving account that was present in the applicant's previous      │\n",
       "│                            ┆ application.                                                        │\n",
       "│ tenor_203L                 ┆ Number of instalments in the previous application.                  │\n",
       "└────────────────────────────┴─────────────────────────────────────────────────────────────────────┘"
      ]
     },
     "metadata": {},
     "output_type": "display_data"
    }
   ],
   "source": [
    "with pl.Config() as cfg:\n",
    "    cfg.set_fmt_str_lengths(150)\n",
    "    cfg.set_tbl_rows(-1)\n",
    "\n",
    "    display(get_feature_definitions(features_num, df_feature_definition)) "
   ]
  },
  {
   "cell_type": "code",
   "execution_count": 32,
   "metadata": {},
   "outputs": [
    {
     "ename": "SystemExit",
     "evalue": "",
     "output_type": "error",
     "traceback": [
      "An exception has occurred, use %tb to see the full traceback.\n",
      "\u001b[0;31mSystemExit\u001b[0m\n"
     ]
    },
    {
     "name": "stderr",
     "output_type": "stream",
     "text": [
      "/home/jgenovese/anaconda3/envs/kaggle_competition/lib/python3.8/site-packages/IPython/core/interactiveshell.py:3516: UserWarning: To exit: use 'exit', 'quit', or Ctrl-D.\n",
      "  warn(\"To exit: use 'exit', 'quit', or Ctrl-D.\", stacklevel=1)\n"
     ]
    }
   ],
   "source": [
    "sys.exit()"
   ]
  },
  {
   "cell_type": "code",
   "execution_count": 33,
   "metadata": {},
   "outputs": [
    {
     "data": {
      "text/html": [
       "<div><style>\n",
       ".dataframe > thead > tr,\n",
       ".dataframe > tbody > tr {\n",
       "  text-align: right;\n",
       "  white-space: pre-wrap;\n",
       "}\n",
       "</style>\n",
       "<small>shape: (18, 2)</small><table border=\"1\" class=\"dataframe\"><thead><tr><th>Variable</th><th>Description</th></tr><tr><td>str</td><td>str</td></tr></thead><tbody><tr><td>&quot;actualdpd_943P&quot;</td><td>&quot;Days Past Due (DPD) of previous contract (actual).&quot;</td></tr><tr><td>&quot;annuity_853A&quot;</td><td>&quot;Monthly annuity for previous applications.&quot;</td></tr><tr><td>&quot;byoccupationinc_3656910L&quot;</td><td>&quot;Applicant&#x27;s income from previous applications.&quot;</td></tr><tr><td>&quot;childnum_21L&quot;</td><td>&quot;Number of children in the previous application.&quot;</td></tr><tr><td>&quot;credacc_actualbalance_314A&quot;</td><td>&quot;Actual balance on credit account.&quot;</td></tr><tr><td>&quot;credacc_credlmt_575A&quot;</td><td>&quot;Credit card credit limit provided for previous applications.&quot;</td></tr><tr><td>&quot;credacc_maxhisbal_375A&quot;</td><td>&quot;Maximal historical balance of previous credit account&quot;</td></tr><tr><td>&quot;credacc_minhisbal_90A&quot;</td><td>&quot;Minimum historical balance of previous credit accounts.&quot;</td></tr><tr><td>&quot;credacc_transactions_402L&quot;</td><td>&quot;Number of transactions made with the previous credit account of the applicant.&quot;</td></tr><tr><td>&quot;credamount_590A&quot;</td><td>&quot;Loan amount or card limit of previous applications.&quot;</td></tr><tr><td>&quot;currdebt_94A&quot;</td><td>&quot;Previous application&#x27;s current debt.&quot;</td></tr><tr><td>&quot;downpmt_134A&quot;</td><td>&quot;Previous application downpayment amount.&quot;</td></tr><tr><td>&quot;mainoccupationinc_437A&quot;</td><td>&quot;Client&#x27;s main income amount in their previous application.&quot;</td></tr><tr><td>&quot;maxdpdtolerance_577P&quot;</td><td>&quot;Maximum DPD with tolerance (on previous application/s).&quot;</td></tr><tr><td>&quot;outstandingdebt_522A&quot;</td><td>&quot;Amount of outstanding debt on the client&#x27;s previous application.&quot;</td></tr><tr><td>&quot;pmtnum_8L&quot;</td><td>&quot;Number of payments made for the previous application.&quot;</td></tr><tr><td>&quot;revolvingaccount_394A&quot;</td><td>&quot;Revolving account that was present in the applicant&#x27;s previous application.&quot;</td></tr><tr><td>&quot;tenor_203L&quot;</td><td>&quot;Number of instalments in the previous application.&quot;</td></tr></tbody></table></div>"
      ],
      "text/plain": [
       "shape: (18, 2)\n",
       "┌────────────────────────────┬─────────────────────────────────────────────────────────────────────┐\n",
       "│ Variable                   ┆ Description                                                         │\n",
       "│ ---                        ┆ ---                                                                 │\n",
       "│ str                        ┆ str                                                                 │\n",
       "╞════════════════════════════╪═════════════════════════════════════════════════════════════════════╡\n",
       "│ actualdpd_943P             ┆ Days Past Due (DPD) of previous contract (actual).                  │\n",
       "│ annuity_853A               ┆ Monthly annuity for previous applications.                          │\n",
       "│ byoccupationinc_3656910L   ┆ Applicant's income from previous applications.                      │\n",
       "│ childnum_21L               ┆ Number of children in the previous application.                     │\n",
       "│ credacc_actualbalance_314A ┆ Actual balance on credit account.                                   │\n",
       "│ credacc_credlmt_575A       ┆ Credit card credit limit provided for previous applications.        │\n",
       "│ credacc_maxhisbal_375A     ┆ Maximal historical balance of previous credit account               │\n",
       "│ credacc_minhisbal_90A      ┆ Minimum historical balance of previous credit accounts.             │\n",
       "│ credacc_transactions_402L  ┆ Number of transactions made with the previous credit account of the │\n",
       "│                            ┆ applicant.                                                          │\n",
       "│ credamount_590A            ┆ Loan amount or card limit of previous applications.                 │\n",
       "│ currdebt_94A               ┆ Previous application's current debt.                                │\n",
       "│ downpmt_134A               ┆ Previous application downpayment amount.                            │\n",
       "│ mainoccupationinc_437A     ┆ Client's main income amount in their previous application.          │\n",
       "│ maxdpdtolerance_577P       ┆ Maximum DPD with tolerance (on previous application/s).             │\n",
       "│ outstandingdebt_522A       ┆ Amount of outstanding debt on the client's previous application.    │\n",
       "│ pmtnum_8L                  ┆ Number of payments made for the previous application.               │\n",
       "│ revolvingaccount_394A      ┆ Revolving account that was present in the applicant's previous      │\n",
       "│                            ┆ application.                                                        │\n",
       "│ tenor_203L                 ┆ Number of instalments in the previous application.                  │\n",
       "└────────────────────────────┴─────────────────────────────────────────────────────────────────────┘"
      ]
     },
     "metadata": {},
     "output_type": "display_data"
    }
   ],
   "source": [
    "with pl.Config() as cfg:\n",
    "    cfg.set_fmt_str_lengths(150)\n",
    "    cfg.set_tbl_rows(-1)\n",
    "\n",
    "    display(get_feature_definitions(features_num, df_feature_definition)) "
   ]
  },
  {
   "cell_type": "code",
   "execution_count": 38,
   "metadata": {},
   "outputs": [
    {
     "data": {
      "text/html": [
       "<div><style>\n",
       ".dataframe > thead > tr,\n",
       ".dataframe > tbody > tr {\n",
       "  text-align: right;\n",
       "  white-space: pre-wrap;\n",
       "}\n",
       "</style>\n",
       "<small>shape: (202_198, 20)</small><table border=\"1\" class=\"dataframe\"><thead><tr><th>actualdpd_943P</th><th>annuity_853A</th><th>byoccupationinc_3656910L</th><th>childnum_21L</th><th>credacc_actualbalance_314A</th><th>credacc_credlmt_575A</th><th>credacc_maxhisbal_375A</th><th>credacc_minhisbal_90A</th><th>credacc_transactions_402L</th><th>credamount_590A</th><th>currdebt_94A</th><th>downpmt_134A</th><th>mainoccupationinc_437A</th><th>maxdpdtolerance_577P</th><th>outstandingdebt_522A</th><th>pmtnum_8L</th><th>revolvingaccount_394A</th><th>tenor_203L</th><th>case_id</th><th>num_group1</th></tr><tr><td>f64</td><td>f64</td><td>f64</td><td>f64</td><td>f64</td><td>f64</td><td>f64</td><td>f64</td><td>f64</td><td>f64</td><td>f64</td><td>f64</td><td>f64</td><td>f64</td><td>f64</td><td>f64</td><td>f64</td><td>f64</td><td>i64</td><td>i64</td></tr></thead><tbody><tr><td>0.0</td><td>null</td><td>null</td><td>null</td><td>null</td><td>null</td><td>null</td><td>null</td><td>null</td><td>null</td><td>null</td><td>null</td><td>62000.0</td><td>null</td><td>null</td><td>null</td><td>null</td><td>null</td><td>5</td><td>0</td></tr><tr><td>0.0</td><td>null</td><td>null</td><td>null</td><td>null</td><td>null</td><td>null</td><td>null</td><td>null</td><td>null</td><td>null</td><td>null</td><td>70000.0</td><td>null</td><td>null</td><td>null</td><td>null</td><td>null</td><td>29</td><td>0</td></tr><tr><td>0.0</td><td>null</td><td>null</td><td>null</td><td>null</td><td>null</td><td>null</td><td>null</td><td>null</td><td>null</td><td>null</td><td>null</td><td>80000.0</td><td>null</td><td>null</td><td>null</td><td>null</td><td>null</td><td>36</td><td>2</td></tr><tr><td>0.0</td><td>null</td><td>null</td><td>null</td><td>null</td><td>null</td><td>null</td><td>null</td><td>null</td><td>null</td><td>null</td><td>null</td><td>76000.0</td><td>null</td><td>null</td><td>null</td><td>null</td><td>null</td><td>36</td><td>3</td></tr><tr><td>0.0</td><td>null</td><td>null</td><td>null</td><td>null</td><td>null</td><td>null</td><td>null</td><td>null</td><td>null</td><td>null</td><td>null</td><td>58000.0</td><td>null</td><td>null</td><td>null</td><td>null</td><td>null</td><td>102</td><td>0</td></tr><tr><td>0.0</td><td>null</td><td>null</td><td>null</td><td>null</td><td>null</td><td>null</td><td>null</td><td>null</td><td>null</td><td>null</td><td>null</td><td>30000.0</td><td>null</td><td>null</td><td>null</td><td>null</td><td>null</td><td>175</td><td>2</td></tr><tr><td>0.0</td><td>null</td><td>null</td><td>null</td><td>null</td><td>null</td><td>null</td><td>null</td><td>null</td><td>null</td><td>null</td><td>null</td><td>77000.0</td><td>null</td><td>null</td><td>null</td><td>null</td><td>null</td><td>179</td><td>0</td></tr><tr><td>0.0</td><td>null</td><td>null</td><td>null</td><td>null</td><td>null</td><td>null</td><td>null</td><td>null</td><td>null</td><td>null</td><td>null</td><td>39000.0</td><td>null</td><td>null</td><td>null</td><td>null</td><td>null</td><td>185</td><td>0</td></tr><tr><td>0.0</td><td>null</td><td>null</td><td>null</td><td>null</td><td>null</td><td>null</td><td>null</td><td>null</td><td>null</td><td>null</td><td>null</td><td>36000.0</td><td>null</td><td>null</td><td>null</td><td>null</td><td>null</td><td>185</td><td>1</td></tr><tr><td>0.0</td><td>null</td><td>null</td><td>null</td><td>null</td><td>null</td><td>null</td><td>null</td><td>null</td><td>null</td><td>null</td><td>null</td><td>10000.0</td><td>null</td><td>null</td><td>null</td><td>null</td><td>null</td><td>215</td><td>6</td></tr><tr><td>0.0</td><td>null</td><td>null</td><td>null</td><td>null</td><td>null</td><td>null</td><td>null</td><td>null</td><td>null</td><td>null</td><td>null</td><td>50000.0</td><td>null</td><td>null</td><td>null</td><td>null</td><td>null</td><td>223</td><td>0</td></tr><tr><td>0.0</td><td>null</td><td>null</td><td>null</td><td>null</td><td>null</td><td>null</td><td>null</td><td>null</td><td>null</td><td>null</td><td>null</td><td>50000.0</td><td>null</td><td>null</td><td>null</td><td>null</td><td>null</td><td>232</td><td>0</td></tr><tr><td>&hellip;</td><td>&hellip;</td><td>&hellip;</td><td>&hellip;</td><td>&hellip;</td><td>&hellip;</td><td>&hellip;</td><td>&hellip;</td><td>&hellip;</td><td>&hellip;</td><td>&hellip;</td><td>&hellip;</td><td>&hellip;</td><td>&hellip;</td><td>&hellip;</td><td>&hellip;</td><td>&hellip;</td><td>&hellip;</td><td>&hellip;</td><td>&hellip;</td></tr><tr><td>0.0</td><td>null</td><td>null</td><td>null</td><td>43014.0</td><td>43014.0</td><td>0.0</td><td>0.0</td><td>0.0</td><td>null</td><td>null</td><td>null</td><td>5000.0</td><td>null</td><td>null</td><td>null</td><td>null</td><td>null</td><td>2703400</td><td>5</td></tr><tr><td>0.0</td><td>null</td><td>null</td><td>null</td><td>null</td><td>null</td><td>null</td><td>null</td><td>null</td><td>null</td><td>null</td><td>null</td><td>112000.0</td><td>null</td><td>null</td><td>null</td><td>null</td><td>null</td><td>2703403</td><td>5</td></tr><tr><td>0.0</td><td>null</td><td>null</td><td>null</td><td>null</td><td>null</td><td>null</td><td>null</td><td>null</td><td>null</td><td>null</td><td>null</td><td>70000.0</td><td>null</td><td>null</td><td>null</td><td>null</td><td>null</td><td>2703412</td><td>8</td></tr><tr><td>0.0</td><td>null</td><td>null</td><td>null</td><td>null</td><td>null</td><td>null</td><td>null</td><td>null</td><td>null</td><td>null</td><td>null</td><td>90000.0</td><td>null</td><td>null</td><td>null</td><td>null</td><td>null</td><td>2703412</td><td>10</td></tr><tr><td>0.0</td><td>null</td><td>null</td><td>null</td><td>null</td><td>null</td><td>null</td><td>null</td><td>null</td><td>null</td><td>null</td><td>null</td><td>70000.0</td><td>null</td><td>null</td><td>null</td><td>null</td><td>null</td><td>2703412</td><td>13</td></tr><tr><td>0.0</td><td>null</td><td>null</td><td>null</td><td>null</td><td>null</td><td>null</td><td>null</td><td>null</td><td>null</td><td>null</td><td>null</td><td>26000.0</td><td>null</td><td>null</td><td>null</td><td>null</td><td>null</td><td>2703416</td><td>9</td></tr><tr><td>0.0</td><td>null</td><td>null</td><td>null</td><td>null</td><td>null</td><td>null</td><td>null</td><td>null</td><td>null</td><td>null</td><td>null</td><td>16000.0</td><td>null</td><td>null</td><td>null</td><td>null</td><td>null</td><td>2703416</td><td>10</td></tr><tr><td>0.0</td><td>null</td><td>null</td><td>null</td><td>null</td><td>null</td><td>null</td><td>null</td><td>null</td><td>null</td><td>null</td><td>null</td><td>62000.0</td><td>null</td><td>null</td><td>null</td><td>null</td><td>null</td><td>2703420</td><td>1</td></tr><tr><td>0.0</td><td>null</td><td>null</td><td>null</td><td>null</td><td>null</td><td>null</td><td>null</td><td>null</td><td>null</td><td>null</td><td>null</td><td>86000.0</td><td>null</td><td>null</td><td>null</td><td>null</td><td>null</td><td>2703424</td><td>2</td></tr><tr><td>0.0</td><td>null</td><td>null</td><td>null</td><td>null</td><td>null</td><td>null</td><td>null</td><td>null</td><td>null</td><td>null</td><td>null</td><td>140000.0</td><td>null</td><td>null</td><td>null</td><td>null</td><td>null</td><td>2703424</td><td>6</td></tr><tr><td>0.0</td><td>null</td><td>null</td><td>null</td><td>null</td><td>null</td><td>null</td><td>null</td><td>null</td><td>null</td><td>null</td><td>null</td><td>74000.0</td><td>null</td><td>null</td><td>null</td><td>null</td><td>null</td><td>2703436</td><td>0</td></tr><tr><td>0.0</td><td>null</td><td>null</td><td>null</td><td>null</td><td>null</td><td>null</td><td>null</td><td>null</td><td>null</td><td>null</td><td>null</td><td>20000.0</td><td>null</td><td>null</td><td>null</td><td>null</td><td>null</td><td>2703450</td><td>9</td></tr></tbody></table></div>"
      ],
      "text/plain": [
       "shape: (202_198, 20)\n",
       "┌────────────┬───────────┬───────────┬───────────┬───┬───────────┬───────────┬─────────┬───────────┐\n",
       "│ actualdpd_ ┆ annuity_8 ┆ byoccupat ┆ childnum_ ┆ … ┆ revolving ┆ tenor_203 ┆ case_id ┆ num_group │\n",
       "│ 943P       ┆ 53A       ┆ ioninc_36 ┆ 21L       ┆   ┆ account_3 ┆ L         ┆ ---     ┆ 1         │\n",
       "│ ---        ┆ ---       ┆ 56910L    ┆ ---       ┆   ┆ 94A       ┆ ---       ┆ i64     ┆ ---       │\n",
       "│ f64        ┆ f64       ┆ ---       ┆ f64       ┆   ┆ ---       ┆ f64       ┆         ┆ i64       │\n",
       "│            ┆           ┆ f64       ┆           ┆   ┆ f64       ┆           ┆         ┆           │\n",
       "╞════════════╪═══════════╪═══════════╪═══════════╪═══╪═══════════╪═══════════╪═════════╪═══════════╡\n",
       "│ 0.0        ┆ null      ┆ null      ┆ null      ┆ … ┆ null      ┆ null      ┆ 5       ┆ 0         │\n",
       "│ 0.0        ┆ null      ┆ null      ┆ null      ┆ … ┆ null      ┆ null      ┆ 29      ┆ 0         │\n",
       "│ 0.0        ┆ null      ┆ null      ┆ null      ┆ … ┆ null      ┆ null      ┆ 36      ┆ 2         │\n",
       "│ 0.0        ┆ null      ┆ null      ┆ null      ┆ … ┆ null      ┆ null      ┆ 36      ┆ 3         │\n",
       "│ 0.0        ┆ null      ┆ null      ┆ null      ┆ … ┆ null      ┆ null      ┆ 102     ┆ 0         │\n",
       "│ …          ┆ …         ┆ …         ┆ …         ┆ … ┆ …         ┆ …         ┆ …       ┆ …         │\n",
       "│ 0.0        ┆ null      ┆ null      ┆ null      ┆ … ┆ null      ┆ null      ┆ 2703420 ┆ 1         │\n",
       "│ 0.0        ┆ null      ┆ null      ┆ null      ┆ … ┆ null      ┆ null      ┆ 2703424 ┆ 2         │\n",
       "│ 0.0        ┆ null      ┆ null      ┆ null      ┆ … ┆ null      ┆ null      ┆ 2703424 ┆ 6         │\n",
       "│ 0.0        ┆ null      ┆ null      ┆ null      ┆ … ┆ null      ┆ null      ┆ 2703436 ┆ 0         │\n",
       "│ 0.0        ┆ null      ┆ null      ┆ null      ┆ … ┆ null      ┆ null      ┆ 2703450 ┆ 9         │\n",
       "└────────────┴───────────┴───────────┴───────────┴───┴───────────┴───────────┴─────────┴───────────┘"
      ]
     },
     "execution_count": 38,
     "metadata": {},
     "output_type": "execute_result"
    }
   ],
   "source": [
    "train_applprev_1.filter(pl.col(\"downpmt_134A\").is_null()).select(features_num + [\"case_id\", \"num_group1\"])\n"
   ]
  },
  {
   "cell_type": "code",
   "execution_count": 34,
   "metadata": {},
   "outputs": [
    {
     "data": {
      "text/html": [
       "<div><style>\n",
       ".dataframe > thead > tr,\n",
       ".dataframe > tbody > tr {\n",
       "  text-align: right;\n",
       "  white-space: pre-wrap;\n",
       "}\n",
       "</style>\n",
       "<small>shape: (1_221_522, 73)</small><table border=\"1\" class=\"dataframe\"><thead><tr><th>case_id</th><th>actualdpd_943P_mean</th><th>actualdpd_943P_std</th><th>actualdpd_943P_last</th><th>actualdpd_943P_first</th><th>annuity_853A_mean</th><th>annuity_853A_std</th><th>annuity_853A_last</th><th>annuity_853A_first</th><th>byoccupationinc_3656910L_mean</th><th>byoccupationinc_3656910L_std</th><th>byoccupationinc_3656910L_last</th><th>byoccupationinc_3656910L_first</th><th>childnum_21L_mean</th><th>childnum_21L_std</th><th>childnum_21L_last</th><th>childnum_21L_first</th><th>credacc_actualbalance_314A_mean</th><th>credacc_actualbalance_314A_std</th><th>credacc_actualbalance_314A_last</th><th>credacc_actualbalance_314A_first</th><th>credacc_credlmt_575A_mean</th><th>credacc_credlmt_575A_std</th><th>credacc_credlmt_575A_last</th><th>credacc_credlmt_575A_first</th><th>credacc_maxhisbal_375A_mean</th><th>credacc_maxhisbal_375A_std</th><th>credacc_maxhisbal_375A_last</th><th>credacc_maxhisbal_375A_first</th><th>credacc_minhisbal_90A_mean</th><th>credacc_minhisbal_90A_std</th><th>credacc_minhisbal_90A_last</th><th>credacc_minhisbal_90A_first</th><th>credacc_transactions_402L_mean</th><th>credacc_transactions_402L_std</th><th>credacc_transactions_402L_last</th><th>credacc_transactions_402L_first</th><th>credamount_590A_mean</th><th>credamount_590A_std</th><th>credamount_590A_last</th><th>credamount_590A_first</th><th>currdebt_94A_mean</th><th>currdebt_94A_std</th><th>currdebt_94A_last</th><th>currdebt_94A_first</th><th>downpmt_134A_mean</th><th>downpmt_134A_std</th><th>downpmt_134A_last</th><th>downpmt_134A_first</th><th>mainoccupationinc_437A_mean</th><th>mainoccupationinc_437A_std</th><th>mainoccupationinc_437A_last</th><th>mainoccupationinc_437A_first</th><th>maxdpdtolerance_577P_mean</th><th>maxdpdtolerance_577P_std</th><th>maxdpdtolerance_577P_last</th><th>maxdpdtolerance_577P_first</th><th>outstandingdebt_522A_mean</th><th>outstandingdebt_522A_std</th><th>outstandingdebt_522A_last</th><th>outstandingdebt_522A_first</th><th>pmtnum_8L_mean</th><th>pmtnum_8L_std</th><th>pmtnum_8L_last</th><th>pmtnum_8L_first</th><th>revolvingaccount_394A_mean</th><th>revolvingaccount_394A_std</th><th>revolvingaccount_394A_last</th><th>revolvingaccount_394A_first</th><th>tenor_203L_mean</th><th>tenor_203L_std</th><th>tenor_203L_last</th><th>tenor_203L_first</th></tr><tr><td>i64</td><td>f64</td><td>f64</td><td>f64</td><td>f64</td><td>f64</td><td>f64</td><td>f64</td><td>f64</td><td>f64</td><td>f64</td><td>f64</td><td>f64</td><td>f64</td><td>f64</td><td>f64</td><td>f64</td><td>f64</td><td>f64</td><td>f64</td><td>f64</td><td>f64</td><td>f64</td><td>f64</td><td>f64</td><td>f64</td><td>f64</td><td>f64</td><td>f64</td><td>f64</td><td>f64</td><td>f64</td><td>f64</td><td>f64</td><td>f64</td><td>f64</td><td>f64</td><td>f64</td><td>f64</td><td>f64</td><td>f64</td><td>f64</td><td>f64</td><td>f64</td><td>f64</td><td>f64</td><td>f64</td><td>f64</td><td>f64</td><td>f64</td><td>f64</td><td>f64</td><td>f64</td><td>f64</td><td>f64</td><td>f64</td><td>f64</td><td>f64</td><td>f64</td><td>f64</td><td>f64</td><td>f64</td><td>f64</td><td>f64</td><td>f64</td><td>f64</td><td>f64</td><td>f64</td><td>f64</td><td>f64</td><td>f64</td><td>f64</td><td>f64</td></tr></thead><tbody><tr><td>1586108</td><td>0.0</td><td>0.0</td><td>0.0</td><td>0.0</td><td>3268.3778</td><td>2168.860695</td><td>1120.8</td><td>1120.8</td><td>1.0</td><td>0.0</td><td>null</td><td>null</td><td>1.6</td><td>0.547723</td><td>null</td><td>null</td><td>null</td><td>null</td><td>null</td><td>null</td><td>0.0</td><td>0.0</td><td>0.0</td><td>0.0</td><td>null</td><td>null</td><td>null</td><td>null</td><td>null</td><td>null</td><td>null</td><td>null</td><td>null</td><td>null</td><td>null</td><td>null</td><td>30815.333333</td><td>43789.86651</td><td>11978.0</td><td>11978.0</td><td>0.0</td><td>0.0</td><td>0.0</td><td>0.0</td><td>0.0</td><td>0.0</td><td>0.0</td><td>0.0</td><td>60666.666667</td><td>40706.264874</td><td>132000.0</td><td>132000.0</td><td>0.375</td><td>0.517549</td><td>1.0</td><td>1.0</td><td>0.0</td><td>0.0</td><td>0.0</td><td>0.0</td><td>10.333333</td><td>8.093207</td><td>12.0</td><td>12.0</td><td>null</td><td>null</td><td>null</td><td>null</td><td>10.333333</td><td>8.093207</td><td>12.0</td><td>12.0</td></tr><tr><td>1329198</td><td>0.0</td><td>0.0</td><td>0.0</td><td>0.0</td><td>9239.533333</td><td>4557.91237</td><td>11235.0</td><td>11235.0</td><td>null</td><td>null</td><td>null</td><td>null</td><td>1.0</td><td>null</td><td>null</td><td>null</td><td>null</td><td>null</td><td>null</td><td>null</td><td>0.0</td><td>0.0</td><td>0.0</td><td>0.0</td><td>null</td><td>null</td><td>null</td><td>null</td><td>null</td><td>null</td><td>null</td><td>null</td><td>null</td><td>null</td><td>null</td><td>null</td><td>48703.866667</td><td>13433.655767</td><td>41000.0</td><td>41000.0</td><td>0.0</td><td>0.0</td><td>0.0</td><td>0.0</td><td>0.0</td><td>0.0</td><td>0.0</td><td>0.0</td><td>53333.333333</td><td>15275.252317</td><td>50000.0</td><td>50000.0</td><td>0.0</td><td>0.0</td><td>0.0</td><td>0.0</td><td>0.0</td><td>0.0</td><td>0.0</td><td>0.0</td><td>7.333333</td><td>4.163332</td><td>4.0</td><td>4.0</td><td>null</td><td>null</td><td>null</td><td>null</td><td>7.333333</td><td>4.163332</td><td>4.0</td><td>4.0</td></tr><tr><td>1691212</td><td>0.0</td><td>0.0</td><td>0.0</td><td>0.0</td><td>2646.35</td><td>1877.61123</td><td>5180.0</td><td>5180.0</td><td>null</td><td>null</td><td>null</td><td>null</td><td>0.25</td><td>0.5</td><td>0.0</td><td>0.0</td><td>null</td><td>null</td><td>null</td><td>null</td><td>0.0</td><td>0.0</td><td>0.0</td><td>0.0</td><td>null</td><td>null</td><td>null</td><td>null</td><td>null</td><td>null</td><td>null</td><td>null</td><td>null</td><td>null</td><td>null</td><td>null</td><td>12214.75</td><td>11626.364791</td><td>29219.0</td><td>29219.0</td><td>0.0</td><td>0.0</td><td>0.0</td><td>0.0</td><td>1975.0</td><td>1885.838805</td><td>0.0</td><td>0.0</td><td>6750.0</td><td>957.427108</td><td>7000.0</td><td>7000.0</td><td>0.0</td><td>0.0</td><td>0.0</td><td>0.0</td><td>0.0</td><td>0.0</td><td>0.0</td><td>0.0</td><td>5.0</td><td>1.154701</td><td>6.0</td><td>6.0</td><td>null</td><td>null</td><td>null</td><td>null</td><td>5.0</td><td>1.154701</td><td>6.0</td><td>6.0</td></tr><tr><td>1477821</td><td>0.0</td><td>0.0</td><td>0.0</td><td>0.0</td><td>3246.17505</td><td>2799.852228</td><td>2906.6</td><td>2906.6</td><td>10000.75</td><td>19999.5</td><td>null</td><td>null</td><td>0.4</td><td>0.894427</td><td>null</td><td>null</td><td>null</td><td>null</td><td>null</td><td>null</td><td>9128.25</td><td>25818.589901</td><td>0.0</td><td>0.0</td><td>null</td><td>null</td><td>null</td><td>null</td><td>null</td><td>null</td><td>null</td><td>null</td><td>null</td><td>null</td><td>null</td><td>null</td><td>55263.5</td><td>32662.200569</td><td>49250.0</td><td>49250.0</td><td>4361.4042</td><td>9752.396269</td><td>21807.021</td><td>21807.021</td><td>0.0</td><td>0.0</td><td>0.0</td><td>0.0</td><td>39750.0</td><td>20540.899966</td><td>60000.0</td><td>60000.0</td><td>3.75</td><td>7.5</td><td>0.0</td><td>0.0</td><td>4950.2</td><td>11068.983702</td><td>24751.0</td><td>24751.0</td><td>24.285714</td><td>8.976159</td><td>24.0</td><td>24.0</td><td>null</td><td>null</td><td>null</td><td>null</td><td>24.285714</td><td>8.976159</td><td>24.0</td><td>24.0</td></tr><tr><td>1432087</td><td>0.0</td><td>0.0</td><td>0.0</td><td>0.0</td><td>2300.95</td><td>2054.495308</td><td>0.0</td><td>0.0</td><td>null</td><td>null</td><td>null</td><td>null</td><td>0.0</td><td>0.0</td><td>null</td><td>null</td><td>null</td><td>null</td><td>null</td><td>null</td><td>7500.0</td><td>15000.0</td><td>30000.0</td><td>30000.0</td><td>null</td><td>null</td><td>null</td><td>null</td><td>null</td><td>null</td><td>null</td><td>null</td><td>null</td><td>null</td><td>null</td><td>null</td><td>34999.5</td><td>30833.336953</td><td>30000.0</td><td>30000.0</td><td>0.0</td><td>null</td><td>null</td><td>null</td><td>0.0</td><td>0.0</td><td>0.0</td><td>0.0</td><td>47500.0</td><td>20615.528128</td><td>70000.0</td><td>70000.0</td><td>0.0</td><td>null</td><td>null</td><td>null</td><td>0.0</td><td>null</td><td>null</td><td>null</td><td>14.0</td><td>9.165151</td><td>null</td><td>null</td><td>null</td><td>null</td><td>null</td><td>null</td><td>14.0</td><td>9.165151</td><td>null</td><td>null</td></tr><tr><td>692767</td><td>0.0</td><td>null</td><td>0.0</td><td>0.0</td><td>5376.2</td><td>null</td><td>5376.2</td><td>5376.2</td><td>null</td><td>null</td><td>null</td><td>null</td><td>null</td><td>null</td><td>null</td><td>null</td><td>null</td><td>null</td><td>null</td><td>null</td><td>0.0</td><td>null</td><td>0.0</td><td>0.0</td><td>null</td><td>null</td><td>null</td><td>null</td><td>null</td><td>null</td><td>null</td><td>null</td><td>null</td><td>null</td><td>null</td><td>null</td><td>86000.0</td><td>null</td><td>86000.0</td><td>86000.0</td><td>null</td><td>null</td><td>null</td><td>null</td><td>0.0</td><td>null</td><td>0.0</td><td>0.0</td><td>45200.0</td><td>null</td><td>45200.0</td><td>45200.0</td><td>null</td><td>null</td><td>null</td><td>null</td><td>null</td><td>null</td><td>null</td><td>null</td><td>24.0</td><td>null</td><td>24.0</td><td>24.0</td><td>null</td><td>null</td><td>null</td><td>null</td><td>24.0</td><td>null</td><td>24.0</td><td>24.0</td></tr><tr><td>1656345</td><td>0.0</td><td>0.0</td><td>0.0</td><td>0.0</td><td>3521.50005</td><td>1048.0736</td><td>4262.6</td><td>4262.6</td><td>null</td><td>null</td><td>null</td><td>null</td><td>0.0</td><td>null</td><td>null</td><td>null</td><td>null</td><td>null</td><td>null</td><td>null</td><td>0.0</td><td>0.0</td><td>0.0</td><td>0.0</td><td>null</td><td>null</td><td>null</td><td>null</td><td>null</td><td>null</td><td>null</td><td>null</td><td>null</td><td>null</td><td>null</td><td>null</td><td>48418.0</td><td>29166.74051</td><td>69042.0</td><td>69042.0</td><td>3041.82</td><td>4301.783098</td><td>6083.64</td><td>6083.64</td><td>0.0</td><td>0.0</td><td>0.0</td><td>0.0</td><td>45000.0</td><td>7071.067812</td><td>50000.0</td><td>50000.0</td><td>0.0</td><td>0.0</td><td>0.0</td><td>0.0</td><td>3249.40015</td><td>4595.345762</td><td>6498.8003</td><td>6498.8003</td><td>18.0</td><td>8.485281</td><td>24.0</td><td>24.0</td><td>null</td><td>null</td><td>null</td><td>null</td><td>18.0</td><td>8.485281</td><td>24.0</td><td>24.0</td></tr><tr><td>231121</td><td>0.0</td><td>0.0</td><td>0.0</td><td>0.0</td><td>8673.850162</td><td>6128.552694</td><td>17329.6</td><td>17329.6</td><td>70000.0</td><td>null</td><td>null</td><td>null</td><td>2.0</td><td>0.0</td><td>null</td><td>null</td><td>null</td><td>null</td><td>null</td><td>null</td><td>0.0</td><td>0.0</td><td>0.0</td><td>0.0</td><td>null</td><td>null</td><td>null</td><td>null</td><td>null</td><td>null</td><td>null</td><td>null</td><td>null</td><td>null</td><td>null</td><td>null</td><td>125271.25</td><td>142577.6228</td><td>400000.0</td><td>400000.0</td><td>7558.9568</td><td>10423.948552</td><td>null</td><td>null</td><td>375.0</td><td>1060.660172</td><td>0.0</td><td>0.0</td><td>54250.0</td><td>38179.089265</td><td>100000.0</td><td>100000.0</td><td>0.4</td><td>0.547723</td><td>null</td><td>null</td><td>8488.2002</td><td>11651.422133</td><td>null</td><td>null</td><td>18.75</td><td>13.002747</td><td>48.0</td><td>48.0</td><td>null</td><td>null</td><td>null</td><td>null</td><td>18.75</td><td>13.002747</td><td>48.0</td><td>48.0</td></tr><tr><td>2557394</td><td>0.0</td><td>null</td><td>0.0</td><td>0.0</td><td>685.60004</td><td>null</td><td>685.60004</td><td>685.60004</td><td>1.0</td><td>null</td><td>1.0</td><td>1.0</td><td>1.0</td><td>null</td><td>1.0</td><td>1.0</td><td>null</td><td>null</td><td>null</td><td>null</td><td>0.0</td><td>null</td><td>0.0</td><td>0.0</td><td>null</td><td>null</td><td>null</td><td>null</td><td>null</td><td>null</td><td>null</td><td>null</td><td>null</td><td>null</td><td>null</td><td>null</td><td>2368.0</td><td>null</td><td>2368.0</td><td>2368.0</td><td>0.0</td><td>null</td><td>0.0</td><td>0.0</td><td>592.0</td><td>null</td><td>592.0</td><td>592.0</td><td>15000.0</td><td>null</td><td>15000.0</td><td>15000.0</td><td>0.0</td><td>null</td><td>0.0</td><td>0.0</td><td>0.0</td><td>null</td><td>0.0</td><td>0.0</td><td>4.0</td><td>null</td><td>4.0</td><td>4.0</td><td>null</td><td>null</td><td>null</td><td>null</td><td>4.0</td><td>null</td><td>4.0</td><td>4.0</td></tr><tr><td>2561342</td><td>0.0</td><td>null</td><td>0.0</td><td>0.0</td><td>5137.8003</td><td>null</td><td>5137.8003</td><td>5137.8003</td><td>null</td><td>null</td><td>null</td><td>null</td><td>1.0</td><td>null</td><td>1.0</td><td>1.0</td><td>null</td><td>null</td><td>null</td><td>null</td><td>0.0</td><td>null</td><td>0.0</td><td>0.0</td><td>null</td><td>null</td><td>null</td><td>null</td><td>null</td><td>null</td><td>null</td><td>null</td><td>null</td><td>null</td><td>null</td><td>null</td><td>27540.0</td><td>null</td><td>27540.0</td><td>27540.0</td><td>0.0</td><td>null</td><td>0.0</td><td>0.0</td><td>0.0</td><td>null</td><td>0.0</td><td>0.0</td><td>40000.0</td><td>null</td><td>40000.0</td><td>40000.0</td><td>0.0</td><td>null</td><td>0.0</td><td>0.0</td><td>0.0</td><td>null</td><td>0.0</td><td>0.0</td><td>6.0</td><td>null</td><td>6.0</td><td>6.0</td><td>null</td><td>null</td><td>null</td><td>null</td><td>6.0</td><td>null</td><td>6.0</td><td>6.0</td></tr><tr><td>1940128</td><td>0.0</td><td>0.0</td><td>0.0</td><td>0.0</td><td>2088.400075</td><td>3039.228599</td><td>0.0</td><td>0.0</td><td>null</td><td>null</td><td>null</td><td>null</td><td>2.0</td><td>1.0</td><td>3.0</td><td>3.0</td><td>26360.754</td><td>null</td><td>null</td><td>null</td><td>13132.8</td><td>15164.45123</td><td>26265.6</td><td>26265.6</td><td>95.154</td><td>null</td><td>null</td><td>null</td><td>95.154</td><td>null</td><td>null</td><td>null</td><td>0.0</td><td>null</td><td>null</td><td>null</td><td>23847.350075</td><td>26227.357046</td><td>26265.6</td><td>26265.6</td><td>0.0</td><td>0.0</td><td>0.0</td><td>0.0</td><td>0.0</td><td>0.0</td><td>0.0</td><td>0.0</td><td>25750.0</td><td>25966.324345</td><td>24000.0</td><td>24000.0</td><td>0.5</td><td>0.57735</td><td>1.0</td><td>1.0</td><td>0.0</td><td>0.0</td><td>0.0</td><td>0.0</td><td>10.0</td><td>5.887841</td><td>18.0</td><td>18.0</td><td>7.6020474e8</td><td>null</td><td>7.6020474e8</td><td>7.6020474e8</td><td>10.0</td><td>5.887841</td><td>18.0</td><td>18.0</td></tr><tr><td>1000413</td><td>0.0</td><td>null</td><td>0.0</td><td>0.0</td><td>4123.4</td><td>null</td><td>4123.4</td><td>4123.4</td><td>null</td><td>null</td><td>null</td><td>null</td><td>null</td><td>null</td><td>null</td><td>null</td><td>null</td><td>null</td><td>null</td><td>null</td><td>0.0</td><td>null</td><td>0.0</td><td>0.0</td><td>null</td><td>null</td><td>null</td><td>null</td><td>null</td><td>null</td><td>null</td><td>null</td><td>null</td><td>null</td><td>null</td><td>null</td><td>22154.0</td><td>null</td><td>22154.0</td><td>22154.0</td><td>null</td><td>null</td><td>null</td><td>null</td><td>0.0</td><td>null</td><td>0.0</td><td>0.0</td><td>14000.0</td><td>null</td><td>14000.0</td><td>14000.0</td><td>null</td><td>null</td><td>null</td><td>null</td><td>null</td><td>null</td><td>null</td><td>null</td><td>6.0</td><td>null</td><td>6.0</td><td>6.0</td><td>null</td><td>null</td><td>null</td><td>null</td><td>6.0</td><td>null</td><td>6.0</td><td>6.0</td></tr><tr><td>&hellip;</td><td>&hellip;</td><td>&hellip;</td><td>&hellip;</td><td>&hellip;</td><td>&hellip;</td><td>&hellip;</td><td>&hellip;</td><td>&hellip;</td><td>&hellip;</td><td>&hellip;</td><td>&hellip;</td><td>&hellip;</td><td>&hellip;</td><td>&hellip;</td><td>&hellip;</td><td>&hellip;</td><td>&hellip;</td><td>&hellip;</td><td>&hellip;</td><td>&hellip;</td><td>&hellip;</td><td>&hellip;</td><td>&hellip;</td><td>&hellip;</td><td>&hellip;</td><td>&hellip;</td><td>&hellip;</td><td>&hellip;</td><td>&hellip;</td><td>&hellip;</td><td>&hellip;</td><td>&hellip;</td><td>&hellip;</td><td>&hellip;</td><td>&hellip;</td><td>&hellip;</td><td>&hellip;</td><td>&hellip;</td><td>&hellip;</td><td>&hellip;</td><td>&hellip;</td><td>&hellip;</td><td>&hellip;</td><td>&hellip;</td><td>&hellip;</td><td>&hellip;</td><td>&hellip;</td><td>&hellip;</td><td>&hellip;</td><td>&hellip;</td><td>&hellip;</td><td>&hellip;</td><td>&hellip;</td><td>&hellip;</td><td>&hellip;</td><td>&hellip;</td><td>&hellip;</td><td>&hellip;</td><td>&hellip;</td><td>&hellip;</td><td>&hellip;</td><td>&hellip;</td><td>&hellip;</td><td>&hellip;</td><td>&hellip;</td><td>&hellip;</td><td>&hellip;</td><td>&hellip;</td><td>&hellip;</td><td>&hellip;</td><td>&hellip;</td><td>&hellip;</td></tr><tr><td>802179</td><td>0.0</td><td>null</td><td>0.0</td><td>0.0</td><td>2296.2</td><td>null</td><td>2296.2</td><td>2296.2</td><td>1.0</td><td>null</td><td>1.0</td><td>1.0</td><td>1.0</td><td>null</td><td>1.0</td><td>1.0</td><td>null</td><td>null</td><td>null</td><td>null</td><td>0.0</td><td>null</td><td>0.0</td><td>0.0</td><td>null</td><td>null</td><td>null</td><td>null</td><td>null</td><td>null</td><td>null</td><td>null</td><td>null</td><td>null</td><td>null</td><td>null</td><td>6398.0</td><td>null</td><td>6398.0</td><td>6398.0</td><td>0.0</td><td>null</td><td>0.0</td><td>0.0</td><td>0.0</td><td>null</td><td>0.0</td><td>0.0</td><td>30000.0</td><td>null</td><td>30000.0</td><td>30000.0</td><td>null</td><td>null</td><td>null</td><td>null</td><td>0.0</td><td>null</td><td>0.0</td><td>0.0</td><td>3.0</td><td>null</td><td>3.0</td><td>3.0</td><td>null</td><td>null</td><td>null</td><td>null</td><td>3.0</td><td>null</td><td>3.0</td><td>3.0</td></tr><tr><td>140900</td><td>0.0</td><td>0.0</td><td>0.0</td><td>0.0</td><td>3261.6667</td><td>1328.512809</td><td>1990.6</td><td>1990.6</td><td>null</td><td>null</td><td>null</td><td>null</td><td>null</td><td>null</td><td>null</td><td>null</td><td>null</td><td>null</td><td>null</td><td>null</td><td>0.0</td><td>0.0</td><td>0.0</td><td>0.0</td><td>null</td><td>null</td><td>null</td><td>null</td><td>null</td><td>null</td><td>null</td><td>null</td><td>null</td><td>null</td><td>null</td><td>null</td><td>36412.0</td><td>21124.896023</td><td>19236.0</td><td>19236.0</td><td>6838.803</td><td>9671.527953</td><td>13677.606</td><td>13677.606</td><td>0.0</td><td>0.0</td><td>0.0</td><td>0.0</td><td>39933.333333</td><td>12522.51306</td><td>30000.0</td><td>30000.0</td><td>0.0</td><td>0.0</td><td>0.0</td><td>0.0</td><td>7961.5</td><td>11259.261277</td><td>15923.0</td><td>15923.0</td><td>14.0</td><td>3.464102</td><td>12.0</td><td>12.0</td><td>null</td><td>null</td><td>null</td><td>null</td><td>14.0</td><td>3.464102</td><td>12.0</td><td>12.0</td></tr><tr><td>1510428</td><td>0.0</td><td>null</td><td>0.0</td><td>0.0</td><td>1323.2001</td><td>null</td><td>1323.2001</td><td>1323.2001</td><td>null</td><td>null</td><td>null</td><td>null</td><td>1.0</td><td>null</td><td>1.0</td><td>1.0</td><td>null</td><td>null</td><td>null</td><td>null</td><td>0.0</td><td>null</td><td>0.0</td><td>0.0</td><td>null</td><td>null</td><td>null</td><td>null</td><td>null</td><td>null</td><td>null</td><td>null</td><td>null</td><td>null</td><td>null</td><td>null</td><td>23792.0</td><td>null</td><td>23792.0</td><td>23792.0</td><td>0.0</td><td>null</td><td>0.0</td><td>0.0</td><td>200.0</td><td>null</td><td>200.0</td><td>200.0</td><td>7000.0</td><td>null</td><td>7000.0</td><td>7000.0</td><td>0.0</td><td>null</td><td>0.0</td><td>0.0</td><td>0.0</td><td>null</td><td>0.0</td><td>0.0</td><td>18.0</td><td>null</td><td>18.0</td><td>18.0</td><td>null</td><td>null</td><td>null</td><td>null</td><td>18.0</td><td>null</td><td>18.0</td><td>18.0</td></tr><tr><td>2644262</td><td>0.0</td><td>null</td><td>0.0</td><td>0.0</td><td>2820.8</td><td>null</td><td>2820.8</td><td>2820.8</td><td>null</td><td>null</td><td>null</td><td>null</td><td>null</td><td>null</td><td>null</td><td>null</td><td>null</td><td>null</td><td>null</td><td>null</td><td>0.0</td><td>null</td><td>0.0</td><td>0.0</td><td>null</td><td>null</td><td>null</td><td>null</td><td>null</td><td>null</td><td>null</td><td>null</td><td>null</td><td>null</td><td>null</td><td>null</td><td>7520.0</td><td>null</td><td>7520.0</td><td>7520.0</td><td>0.0</td><td>null</td><td>0.0</td><td>0.0</td><td>0.0</td><td>null</td><td>0.0</td><td>0.0</td><td>39000.0</td><td>null</td><td>39000.0</td><td>39000.0</td><td>0.0</td><td>null</td><td>0.0</td><td>0.0</td><td>0.0</td><td>null</td><td>0.0</td><td>0.0</td><td>3.0</td><td>null</td><td>3.0</td><td>3.0</td><td>null</td><td>null</td><td>null</td><td>null</td><td>3.0</td><td>null</td><td>3.0</td><td>3.0</td></tr><tr><td>769542</td><td>0.0</td><td>0.0</td><td>0.0</td><td>0.0</td><td>4319.9</td><td>2326.522731</td><td>2674.8</td><td>2674.8</td><td>null</td><td>null</td><td>null</td><td>null</td><td>null</td><td>null</td><td>null</td><td>null</td><td>null</td><td>null</td><td>null</td><td>null</td><td>0.0</td><td>0.0</td><td>0.0</td><td>0.0</td><td>null</td><td>null</td><td>null</td><td>null</td><td>null</td><td>null</td><td>null</td><td>null</td><td>null</td><td>null</td><td>null</td><td>null</td><td>37159.0</td><td>32302.051978</td><td>14318.0</td><td>14318.0</td><td>null</td><td>null</td><td>null</td><td>null</td><td>0.0</td><td>0.0</td><td>0.0</td><td>0.0</td><td>76230.0</td><td>51236.957365</td><td>40000.0</td><td>40000.0</td><td>null</td><td>null</td><td>null</td><td>null</td><td>null</td><td>null</td><td>null</td><td>null</td><td>10.0</td><td>5.656854</td><td>6.0</td><td>6.0</td><td>null</td><td>null</td><td>null</td><td>null</td><td>10.0</td><td>5.656854</td><td>6.0</td><td>6.0</td></tr><tr><td>1630883</td><td>0.0</td><td>0.0</td><td>0.0</td><td>0.0</td><td>3333.6</td><td>null</td><td>3333.6</td><td>3333.6</td><td>null</td><td>null</td><td>null</td><td>null</td><td>null</td><td>null</td><td>null</td><td>null</td><td>null</td><td>null</td><td>null</td><td>null</td><td>0.0</td><td>null</td><td>0.0</td><td>0.0</td><td>null</td><td>null</td><td>null</td><td>null</td><td>null</td><td>null</td><td>null</td><td>null</td><td>null</td><td>null</td><td>null</td><td>null</td><td>33900.0</td><td>null</td><td>33900.0</td><td>33900.0</td><td>0.0</td><td>null</td><td>0.0</td><td>0.0</td><td>0.0</td><td>null</td><td>0.0</td><td>0.0</td><td>31500.0</td><td>16263.455967</td><td>20000.0</td><td>20000.0</td><td>16.0</td><td>null</td><td>16.0</td><td>16.0</td><td>0.0</td><td>null</td><td>0.0</td><td>0.0</td><td>12.0</td><td>null</td><td>12.0</td><td>12.0</td><td>null</td><td>null</td><td>null</td><td>null</td><td>12.0</td><td>null</td><td>12.0</td><td>12.0</td></tr><tr><td>1346838</td><td>0.0</td><td>0.0</td><td>0.0</td><td>0.0</td><td>9810.8</td><td>6638.601304</td><td>5116.6</td><td>5116.6</td><td>null</td><td>null</td><td>null</td><td>null</td><td>1.0</td><td>null</td><td>null</td><td>null</td><td>null</td><td>null</td><td>null</td><td>null</td><td>0.0</td><td>0.0</td><td>0.0</td><td>0.0</td><td>null</td><td>null</td><td>null</td><td>null</td><td>null</td><td>null</td><td>null</td><td>null</td><td>null</td><td>null</td><td>null</td><td>null</td><td>69498.0</td><td>24748.737342</td><td>51998.0</td><td>51998.0</td><td>0.0</td><td>0.0</td><td>0.0</td><td>0.0</td><td>0.0</td><td>0.0</td><td>0.0</td><td>0.0</td><td>120000.0</td><td>0.0</td><td>120000.0</td><td>120000.0</td><td>0.0</td><td>0.0</td><td>0.0</td><td>0.0</td><td>0.0</td><td>0.0</td><td>0.0</td><td>0.0</td><td>9.0</td><td>4.242641</td><td>12.0</td><td>12.0</td><td>null</td><td>null</td><td>null</td><td>null</td><td>9.0</td><td>4.242641</td><td>12.0</td><td>12.0</td></tr><tr><td>2634297</td><td>0.0</td><td>0.0</td><td>0.0</td><td>0.0</td><td>671.65</td><td>1343.3</td><td>0.0</td><td>0.0</td><td>null</td><td>null</td><td>null</td><td>null</td><td>0.0</td><td>0.0</td><td>null</td><td>null</td><td>59725.601333</td><td>52756.263052</td><td>null</td><td>null</td><td>69792.5</td><td>47553.186626</td><td>100000.0</td><td>100000.0</td><td>2.268</td><td>3.928291</td><td>null</td><td>null</td><td>2.268</td><td>3.928291</td><td>null</td><td>null</td><td>0.0</td><td>0.0</td><td>null</td><td>null</td><td>51292.0</td><td>46261.243131</td><td>100000.0</td><td>100000.0</td><td>0.0</td><td>0.0</td><td>0.0</td><td>0.0</td><td>0.0</td><td>0.0</td><td>0.0</td><td>0.0</td><td>27666.666667</td><td>3214.550254</td><td>29000.0</td><td>29000.0</td><td>0.0</td><td>0.0</td><td>0.0</td><td>0.0</td><td>0.0</td><td>0.0</td><td>0.0</td><td>0.0</td><td>12.0</td><td>null</td><td>null</td><td>null</td><td>7.5718e8</td><td>2.4816e7</td><td>7.803689e8</td><td>7.803689e8</td><td>12.0</td><td>null</td><td>null</td><td>null</td></tr><tr><td>2661155</td><td>0.0</td><td>0.0</td><td>0.0</td><td>0.0</td><td>2887.800057</td><td>2299.253317</td><td>0.0</td><td>0.0</td><td>null</td><td>null</td><td>null</td><td>null</td><td>0.0</td><td>0.0</td><td>null</td><td>null</td><td>0.0</td><td>null</td><td>null</td><td>null</td><td>0.0</td><td>0.0</td><td>0.0</td><td>0.0</td><td>0.0</td><td>null</td><td>null</td><td>null</td><td>0.0</td><td>null</td><td>null</td><td>null</td><td>0.0</td><td>null</td><td>null</td><td>null</td><td>28563.171429</td><td>20012.431703</td><td>0.0</td><td>0.0</td><td>6970.440286</td><td>18442.051525</td><td>0.0</td><td>0.0</td><td>0.0</td><td>0.0</td><td>0.0</td><td>0.0</td><td>53800.0</td><td>72148.18085</td><td>null</td><td>null</td><td>0.166667</td><td>0.408248</td><td>0.0</td><td>0.0</td><td>8110.343143</td><td>21457.951003</td><td>0.0</td><td>0.0</td><td>15.5</td><td>7.314369</td><td>null</td><td>null</td><td>7.806408e8</td><td>null</td><td>7.806408e8</td><td>7.806408e8</td><td>15.5</td><td>7.314369</td><td>null</td><td>null</td></tr><tr><td>1625250</td><td>0.0</td><td>0.0</td><td>0.0</td><td>0.0</td><td>1616.133333</td><td>1000.522877</td><td>3132.2</td><td>3132.2</td><td>null</td><td>null</td><td>null</td><td>null</td><td>0.75</td><td>0.5</td><td>null</td><td>null</td><td>40998.0</td><td>null</td><td>40998.0</td><td>40998.0</td><td>13666.0</td><td>21171.276164</td><td>40998.0</td><td>40998.0</td><td>0.0</td><td>null</td><td>0.0</td><td>0.0</td><td>0.0</td><td>null</td><td>0.0</td><td>0.0</td><td>0.0</td><td>null</td><td>0.0</td><td>0.0</td><td>36580.767667</td><td>4523.704866</td><td>29830.4</td><td>29830.4</td><td>4266.045</td><td>10449.63347</td><td>25596.27</td><td>25596.27</td><td>866.666667</td><td>1562.903281</td><td>0.0</td><td>0.0</td><td>27666.666667</td><td>18173.240401</td><td>60000.0</td><td>60000.0</td><td>0.333333</td><td>0.57735</td><td>0.0</td><td>0.0</td><td>5197.3</td><td>12730.73304</td><td>31183.8</td><td>31183.8</td><td>23.4</td><td>6.730527</td><td>12.0</td><td>12.0</td><td>7.2937165e8</td><td>null</td><td>null</td><td>null</td><td>23.4</td><td>6.730527</td><td>12.0</td><td>12.0</td></tr><tr><td>1535181</td><td>0.0</td><td>0.0</td><td>0.0</td><td>0.0</td><td>3622.066667</td><td>2765.16177</td><td>2925.2</td><td>2925.2</td><td>6876.0</td><td>null</td><td>null</td><td>null</td><td>5.0</td><td>null</td><td>null</td><td>null</td><td>null</td><td>null</td><td>null</td><td>null</td><td>0.0</td><td>0.0</td><td>0.0</td><td>0.0</td><td>null</td><td>null</td><td>null</td><td>null</td><td>null</td><td>null</td><td>null</td><td>null</td><td>null</td><td>null</td><td>null</td><td>null</td><td>49498.0</td><td>44810.266815</td><td>34000.0</td><td>34000.0</td><td>0.0</td><td>0.0</td><td>0.0</td><td>0.0</td><td>0.0</td><td>0.0</td><td>0.0</td><td>0.0</td><td>33200.0</td><td>20983.803278</td><td>30000.0</td><td>30000.0</td><td>18.0</td><td>null</td><td>18.0</td><td>18.0</td><td>0.0</td><td>0.0</td><td>0.0</td><td>0.0</td><td>24.666667</td><td>11.015141</td><td>24.0</td><td>24.0</td><td>null</td><td>null</td><td>null</td><td>null</td><td>24.666667</td><td>11.015141</td><td>24.0</td><td>24.0</td></tr><tr><td>2693524</td><td>0.0</td><td>0.0</td><td>0.0</td><td>0.0</td><td>1749.6</td><td>2173.28993</td><td>0.0</td><td>0.0</td><td>null</td><td>null</td><td>null</td><td>null</td><td>null</td><td>null</td><td>null</td><td>null</td><td>20212.6</td><td>null</td><td>null</td><td>null</td><td>0.0</td><td>0.0</td><td>0.0</td><td>0.0</td><td>20212.6</td><td>null</td><td>null</td><td>null</td><td>20212.6</td><td>null</td><td>null</td><td>null</td><td>0.0</td><td>null</td><td>null</td><td>null</td><td>9792.0</td><td>11859.028122</td><td>0.0</td><td>0.0</td><td>0.0</td><td>0.0</td><td>0.0</td><td>0.0</td><td>0.0</td><td>0.0</td><td>0.0</td><td>0.0</td><td>56000.0</td><td>8485.281374</td><td>null</td><td>null</td><td>0.0</td><td>0.0</td><td>0.0</td><td>0.0</td><td>0.0</td><td>0.0</td><td>0.0</td><td>0.0</td><td>6.0</td><td>0.0</td><td>null</td><td>null</td><td>7.805026e8</td><td>null</td><td>7.805026e8</td><td>7.805026e8</td><td>6.0</td><td>0.0</td><td>null</td><td>null</td></tr></tbody></table></div>"
      ],
      "text/plain": [
       "shape: (1_221_522, 73)\n",
       "┌─────────┬────────────┬───────────┬───────────┬───┬───────────┬───────────┬───────────┬───────────┐\n",
       "│ case_id ┆ actualdpd_ ┆ actualdpd ┆ actualdpd ┆ … ┆ tenor_203 ┆ tenor_203 ┆ tenor_203 ┆ tenor_203 │\n",
       "│ ---     ┆ 943P_mean  ┆ _943P_std ┆ _943P_las ┆   ┆ L_mean    ┆ L_std     ┆ L_last    ┆ L_first   │\n",
       "│ i64     ┆ ---        ┆ ---       ┆ t         ┆   ┆ ---       ┆ ---       ┆ ---       ┆ ---       │\n",
       "│         ┆ f64        ┆ f64       ┆ ---       ┆   ┆ f64       ┆ f64       ┆ f64       ┆ f64       │\n",
       "│         ┆            ┆           ┆ f64       ┆   ┆           ┆           ┆           ┆           │\n",
       "╞═════════╪════════════╪═══════════╪═══════════╪═══╪═══════════╪═══════════╪═══════════╪═══════════╡\n",
       "│ 1586108 ┆ 0.0        ┆ 0.0       ┆ 0.0       ┆ … ┆ 10.333333 ┆ 8.093207  ┆ 12.0      ┆ 12.0      │\n",
       "│ 1329198 ┆ 0.0        ┆ 0.0       ┆ 0.0       ┆ … ┆ 7.333333  ┆ 4.163332  ┆ 4.0       ┆ 4.0       │\n",
       "│ 1691212 ┆ 0.0        ┆ 0.0       ┆ 0.0       ┆ … ┆ 5.0       ┆ 1.154701  ┆ 6.0       ┆ 6.0       │\n",
       "│ 1477821 ┆ 0.0        ┆ 0.0       ┆ 0.0       ┆ … ┆ 24.285714 ┆ 8.976159  ┆ 24.0      ┆ 24.0      │\n",
       "│ 1432087 ┆ 0.0        ┆ 0.0       ┆ 0.0       ┆ … ┆ 14.0      ┆ 9.165151  ┆ null      ┆ null      │\n",
       "│ …       ┆ …          ┆ …         ┆ …         ┆ … ┆ …         ┆ …         ┆ …         ┆ …         │\n",
       "│ 2634297 ┆ 0.0        ┆ 0.0       ┆ 0.0       ┆ … ┆ 12.0      ┆ null      ┆ null      ┆ null      │\n",
       "│ 2661155 ┆ 0.0        ┆ 0.0       ┆ 0.0       ┆ … ┆ 15.5      ┆ 7.314369  ┆ null      ┆ null      │\n",
       "│ 1625250 ┆ 0.0        ┆ 0.0       ┆ 0.0       ┆ … ┆ 23.4      ┆ 6.730527  ┆ 12.0      ┆ 12.0      │\n",
       "│ 1535181 ┆ 0.0        ┆ 0.0       ┆ 0.0       ┆ … ┆ 24.666667 ┆ 11.015141 ┆ 24.0      ┆ 24.0      │\n",
       "│ 2693524 ┆ 0.0        ┆ 0.0       ┆ 0.0       ┆ … ┆ 6.0       ┆ 0.0       ┆ null      ┆ null      │\n",
       "└─────────┴────────────┴───────────┴───────────┴───┴───────────┴───────────┴───────────┴───────────┘"
      ]
     },
     "execution_count": 34,
     "metadata": {},
     "output_type": "execute_result"
    }
   ],
   "source": [
    "aggregate_num_features_by_historic(train_applprev_1.select(features_num + [\"case_id\", \"num_group1\"]), features_num, \"num_group1\")"
   ]
  },
  {
   "cell_type": "code",
   "execution_count": null,
   "metadata": {},
   "outputs": [],
   "source": [
    "def aggregate_num_features_by_historic(df, col_list, col_sort):\n",
    "    operation_to_apply = []\n",
    "    for col in col_list:\n",
    "        operation_to_apply.append(pl.col(col).mean().alias(f\"{col}_mean\"))\n",
    "        operation_to_apply.append(pl.col(col).std().alias(f\"{col}_std\"))\n",
    "        operation_to_apply.append(pl.col(col).last().alias(f\"{col}_last\"))\n",
    "        operation_to_apply.append(pl.col(col).last().alias(f\"{col}_first\"))\n",
    "    df_grouped = df.sort(by=col_sort, descending=True).group_by(\"case_id\").agg(operation_to_apply)\n",
    "    return df_grouped\n"
   ]
  }
 ],
 "metadata": {
  "kernelspec": {
   "display_name": "kaggle_competition",
   "language": "python",
   "name": "python3"
  },
  "language_info": {
   "codemirror_mode": {
    "name": "ipython",
    "version": 3
   },
   "file_extension": ".py",
   "mimetype": "text/x-python",
   "name": "python",
   "nbconvert_exporter": "python",
   "pygments_lexer": "ipython3",
   "version": "3.8.18"
  }
 },
 "nbformat": 4,
 "nbformat_minor": 2
}
