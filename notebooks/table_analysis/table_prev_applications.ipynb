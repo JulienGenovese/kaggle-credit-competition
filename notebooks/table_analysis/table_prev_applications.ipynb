{
 "cells": [
  {
   "cell_type": "markdown",
   "metadata": {},
   "source": [
    "# TABLE PREVIOUS APPLICATIONS"
   ]
  },
  {
   "cell_type": "markdown",
   "metadata": {},
   "source": [
    "This table is composed by 3 tables:\n",
    "\n",
    "- <code>train_applprev_1_0</code>, <code>train_applprev_1_1</code> that are internal data frames of home credit.\n",
    "- <code>train_applprev_2</code> that is another internal table with different structure.\n",
    "\n",
    "\n",
    "We will analyze this points:\n",
    "\n",
    "- the columns of all dataframes\n",
    "- how to merge them\n",
    "- their NA meanings and how to fill them\n",
    "- some plots\n",
    "- how to create some behavioural KPI."
   ]
  },
  {
   "cell_type": "markdown",
   "metadata": {},
   "source": [
    "# 1. SETTINGS"
   ]
  },
  {
   "cell_type": "code",
   "execution_count": 1,
   "metadata": {},
   "outputs": [],
   "source": [
    "import polars as pl\n",
    "import matplotlib.pyplot as plt\n",
    "import seaborn as sns\n",
    "import pandas as pd\n",
    "import sys \n",
    "import os \n",
    "\n",
    "sys.path.append(\"../../\")\n",
    "from src.utils import get_feature_definitions, extract_columns_tipe, aggregate_num_features_by_historic"
   ]
  },
  {
   "cell_type": "code",
   "execution_count": 2,
   "metadata": {},
   "outputs": [],
   "source": [
    "dataPath = \"../../data/\""
   ]
  },
  {
   "cell_type": "code",
   "execution_count": 3,
   "metadata": {},
   "outputs": [],
   "source": [
    "df_feature_definition = pl.read_csv(dataPath + \"feature_definitions.csv\")        "
   ]
  },
  {
   "cell_type": "code",
   "execution_count": 4,
   "metadata": {},
   "outputs": [],
   "source": [
    "df_target = pl.read_parquet(dataPath  + \"parquet_files/train/train_base.parquet\")"
   ]
  },
  {
   "cell_type": "code",
   "execution_count": 5,
   "metadata": {},
   "outputs": [],
   "source": [
    "train_applprev_1_0 = pl.read_parquet(dataPath + \"parquet_files/train/train_applprev_1_0.parquet\")\n",
    "train_applprev_1_1 = pl.read_parquet(dataPath + \"parquet_files/train/train_applprev_1_1.parquet\")\n",
    "train_applprev_2 = pl.read_parquet(dataPath + \"parquet_files/train/train_applprev_2.parquet\")\n"
   ]
  },
  {
   "cell_type": "markdown",
   "metadata": {},
   "source": [
    "# 2. STRUCTURE OF THE DATAFRAMES"
   ]
  },
  {
   "cell_type": "markdown",
   "metadata": {},
   "source": [
    "Let's first see how the dataframe are made. "
   ]
  },
  {
   "cell_type": "code",
   "execution_count": 6,
   "metadata": {},
   "outputs": [
    {
     "data": {
      "text/plain": [
       "(3887684, 41)"
      ]
     },
     "execution_count": 6,
     "metadata": {},
     "output_type": "execute_result"
    }
   ],
   "source": [
    "train_applprev_1_0.shape"
   ]
  },
  {
   "cell_type": "code",
   "execution_count": 7,
   "metadata": {},
   "outputs": [
    {
     "data": {
      "text/plain": [
       "(2638295, 41)"
      ]
     },
     "execution_count": 7,
     "metadata": {},
     "output_type": "execute_result"
    }
   ],
   "source": [
    "train_applprev_1_1.shape"
   ]
  },
  {
   "cell_type": "code",
   "execution_count": 8,
   "metadata": {},
   "outputs": [
    {
     "data": {
      "text/plain": [
       "(14075487, 6)"
      ]
     },
     "execution_count": 8,
     "metadata": {},
     "output_type": "execute_result"
    }
   ],
   "source": [
    "train_applprev_2.shape"
   ]
  },
  {
   "cell_type": "markdown",
   "metadata": {},
   "source": [
    "It's quite clear that the two fist dataframes has a different structure wrt the third one.\n"
   ]
  },
  {
   "cell_type": "markdown",
   "metadata": {},
   "source": [
    "# 3. INTERNAL DATA SOURCE ANALYSIS"
   ]
  },
  {
   "cell_type": "code",
   "execution_count": 9,
   "metadata": {},
   "outputs": [
    {
     "data": {
      "text/plain": [
       "True"
      ]
     },
     "execution_count": 9,
     "metadata": {},
     "output_type": "execute_result"
    }
   ],
   "source": [
    "columns_0_0 = list(train_applprev_1_0.columns)\n",
    "columns_0_1 = list(train_applprev_1_1.columns)\n",
    "\n",
    "columns_0_0.sort()\n",
    "columns_0_1.sort()\n",
    "\n",
    "columns_0_0 == columns_0_1"
   ]
  },
  {
   "cell_type": "code",
   "execution_count": 10,
   "metadata": {},
   "outputs": [
    {
     "name": "stdout",
     "output_type": "stream",
     "text": [
      "Number of case id in first dataframe:  782997\n",
      "The case id are unique in the first dataframe:  False\n"
     ]
    }
   ],
   "source": [
    "print(\"Number of case id in first dataframe: \", train_applprev_1_0[\"case_id\"].n_unique())\n",
    "print(\"The case id are unique in the first dataframe: \", train_applprev_1_0[\"case_id\"].n_unique() == train_applprev_1_0.shape[0])"
   ]
  },
  {
   "cell_type": "markdown",
   "metadata": {},
   "source": [
    "It's make sense since we have num group as historical events."
   ]
  },
  {
   "cell_type": "code",
   "execution_count": 11,
   "metadata": {},
   "outputs": [
    {
     "name": "stdout",
     "output_type": "stream",
     "text": [
      "Number of case id in second dataframe:  438525\n",
      "The case id are unique in the second dataframe:  False\n"
     ]
    }
   ],
   "source": [
    "print(\"Number of case id in second dataframe: \", train_applprev_1_1[\"case_id\"].n_unique())\n",
    "print(\"The case id are unique in the second dataframe: \", train_applprev_1_1[\"case_id\"].n_unique() == train_applprev_1_1.shape[0])"
   ]
  },
  {
   "cell_type": "code",
   "execution_count": 12,
   "metadata": {},
   "outputs": [
    {
     "name": "stdout",
     "output_type": "stream",
     "text": [
      "Number of case id in third dataframe:  1221522\n",
      "The case id are unique in the third dataframe:  False\n"
     ]
    }
   ],
   "source": [
    "print(\"Number of case id in third dataframe: \", train_applprev_2[\"case_id\"].n_unique())\n",
    "print(\"The case id are unique in the third dataframe: \", train_applprev_2[\"case_id\"].n_unique() == train_applprev_2.shape[0])"
   ]
  },
  {
   "cell_type": "code",
   "execution_count": 13,
   "metadata": {},
   "outputs": [
    {
     "data": {
      "text/plain": [
       "0"
      ]
     },
     "execution_count": 13,
     "metadata": {},
     "output_type": "execute_result"
    }
   ],
   "source": [
    "len(set(train_applprev_1_0[\"case_id\"].unique()).intersection(set(train_applprev_1_1[\"case_id\"].unique())))"
   ]
  },
  {
   "cell_type": "markdown",
   "metadata": {},
   "source": [
    "So we can infer that the two first dataframe can be concatenated and the third one is different."
   ]
  },
  {
   "cell_type": "code",
   "execution_count": 14,
   "metadata": {},
   "outputs": [
    {
     "data": {
      "text/plain": [
       "1221522"
      ]
     },
     "execution_count": 14,
     "metadata": {},
     "output_type": "execute_result"
    }
   ],
   "source": [
    "len(set(list(train_applprev_1_0[\"case_id\"].unique()) + list(train_applprev_1_1[\"case_id\"].unique())))"
   ]
  },
  {
   "cell_type": "code",
   "execution_count": 15,
   "metadata": {},
   "outputs": [
    {
     "data": {
      "text/plain": [
       "1221522"
      ]
     },
     "execution_count": 15,
     "metadata": {},
     "output_type": "execute_result"
    }
   ],
   "source": [
    "len(set(list(train_applprev_1_0[\"case_id\"].unique()) + list(train_applprev_1_1[\"case_id\"].unique())).intersection(set(train_applprev_2[\"case_id\"].unique())))"
   ]
  },
  {
   "cell_type": "markdown",
   "metadata": {},
   "source": [
    "From this first analysis we can say that the the first two dataframe are a unique one, and the third one is separated and contain other informations."
   ]
  },
  {
   "cell_type": "code",
   "execution_count": 16,
   "metadata": {},
   "outputs": [],
   "source": [
    "train_applprev_1 = pl.concat(\n",
    "    [\n",
    "        train_applprev_1_0, \n",
    "        train_applprev_1_1,\n",
    "    ],\n",
    "    how=\"vertical_relaxed\",\n",
    ")"
   ]
  },
  {
   "cell_type": "markdown",
   "metadata": {},
   "source": [
    "# 4. ANALYSIS ON THE SECOND TABLE"
   ]
  },
  {
   "cell_type": "markdown",
   "metadata": {},
   "source": [
    "Let's start from the smallest one."
   ]
  },
  {
   "cell_type": "markdown",
   "metadata": {},
   "source": [
    "**Analyze comment**"
   ]
  },
  {
   "cell_type": "code",
   "execution_count": 17,
   "metadata": {},
   "outputs": [
    {
     "data": {
      "text/html": [
       "<div><style>\n",
       ".dataframe > thead > tr,\n",
       ".dataframe > tbody > tr {\n",
       "  text-align: right;\n",
       "  white-space: pre-wrap;\n",
       "}\n",
       "</style>\n",
       "<small>shape: (6, 2)</small><table border=\"1\" class=\"dataframe\"><thead><tr><th>Variable</th><th>Description</th></tr><tr><td>str</td><td>str</td></tr></thead><tbody><tr><td>&quot;case_id&quot;</td><td>null</td></tr><tr><td>&quot;cacccardblochreas_147M&quot;</td><td>&quot;Card blocking reason.&quot;</td></tr><tr><td>&quot;conts_type_509L&quot;</td><td>&quot;Person contact type in previous application.&quot;</td></tr><tr><td>&quot;credacc_cards_status_52L&quot;</td><td>&quot;Card status of the previous credit account.&quot;</td></tr><tr><td>&quot;num_group1&quot;</td><td>null</td></tr><tr><td>&quot;num_group2&quot;</td><td>null</td></tr></tbody></table></div>"
      ],
      "text/plain": [
       "shape: (6, 2)\n",
       "┌──────────────────────────┬──────────────────────────────────────────────┐\n",
       "│ Variable                 ┆ Description                                  │\n",
       "│ ---                      ┆ ---                                          │\n",
       "│ str                      ┆ str                                          │\n",
       "╞══════════════════════════╪══════════════════════════════════════════════╡\n",
       "│ case_id                  ┆ null                                         │\n",
       "│ cacccardblochreas_147M   ┆ Card blocking reason.                        │\n",
       "│ conts_type_509L          ┆ Person contact type in previous application. │\n",
       "│ credacc_cards_status_52L ┆ Card status of the previous credit account.  │\n",
       "│ num_group1               ┆ null                                         │\n",
       "│ num_group2               ┆ null                                         │\n",
       "└──────────────────────────┴──────────────────────────────────────────────┘"
      ]
     },
     "metadata": {},
     "output_type": "display_data"
    }
   ],
   "source": [
    "with pl.Config() as cfg:\n",
    "    cfg.set_fmt_str_lengths(150)\n",
    "    cfg.set_tbl_rows(-1)\n",
    "\n",
    "    display(get_feature_definitions(train_applprev_2.columns, df_feature_definition)) "
   ]
  },
  {
   "cell_type": "code",
   "execution_count": 18,
   "metadata": {},
   "outputs": [
    {
     "name": "stdout",
     "output_type": "stream",
     "text": [
      "case_id :  1221522\n",
      "cacccardblochreas_147M :  10\n",
      "conts_type_509L :  10\n",
      "credacc_cards_status_52L :  7\n",
      "num_group1 :  20\n",
      "num_group2 :  12\n"
     ]
    }
   ],
   "source": [
    "for col in train_applprev_2.columns:\n",
    "    print(col, \": \", train_applprev_2[col].n_unique())"
   ]
  },
  {
   "cell_type": "code",
   "execution_count": 19,
   "metadata": {},
   "outputs": [
    {
     "data": {
      "text/plain": [
       "1526659"
      ]
     },
     "execution_count": 19,
     "metadata": {},
     "output_type": "execute_result"
    }
   ],
   "source": [
    "df_target[\"case_id\"].n_unique()"
   ]
  },
  {
   "cell_type": "code",
   "execution_count": 20,
   "metadata": {},
   "outputs": [
    {
     "data": {
      "text/plain": [
       "1221522"
      ]
     },
     "execution_count": 20,
     "metadata": {},
     "output_type": "execute_result"
    }
   ],
   "source": [
    "train_applprev_2[\"case_id\"].n_unique()"
   ]
  },
  {
   "cell_type": "code",
   "execution_count": 21,
   "metadata": {},
   "outputs": [
    {
     "data": {
      "text/html": [
       "<div><style>\n",
       ".dataframe > thead > tr,\n",
       ".dataframe > tbody > tr {\n",
       "  text-align: right;\n",
       "  white-space: pre-wrap;\n",
       "}\n",
       "</style>\n",
       "<small>shape: (10,)</small><table border=\"1\" class=\"dataframe\"><thead><tr><th>conts_type_509L</th></tr><tr><td>str</td></tr></thead><tbody><tr><td>&quot;SECONDARY_MOBI…</td></tr><tr><td>&quot;HOME_PHONE&quot;</td></tr><tr><td>&quot;EMPLOYMENT_PHO…</td></tr><tr><td>&quot;PRIMARY_MOBILE…</td></tr><tr><td>&quot;PHONE&quot;</td></tr><tr><td>&quot;ALTERNATIVE_PH…</td></tr><tr><td>&quot;PRIMARY_EMAIL&quot;</td></tr><tr><td>null</td></tr><tr><td>&quot;WHATSAPP&quot;</td></tr><tr><td>&quot;SKYPE&quot;</td></tr></tbody></table></div>"
      ],
      "text/plain": [
       "shape: (10,)\n",
       "Series: 'conts_type_509L' [str]\n",
       "[\n",
       "\t\"SECONDARY_MOBI…\n",
       "\t\"HOME_PHONE\"\n",
       "\t\"EMPLOYMENT_PHO…\n",
       "\t\"PRIMARY_MOBILE…\n",
       "\t\"PHONE\"\n",
       "\t\"ALTERNATIVE_PH…\n",
       "\t\"PRIMARY_EMAIL\"\n",
       "\tnull\n",
       "\t\"WHATSAPP\"\n",
       "\t\"SKYPE\"\n",
       "]"
      ]
     },
     "execution_count": 21,
     "metadata": {},
     "output_type": "execute_result"
    }
   ],
   "source": [
    "train_applprev_2[\"conts_type_509L\"].unique()"
   ]
  },
  {
   "cell_type": "code",
   "execution_count": 22,
   "metadata": {},
   "outputs": [],
   "source": [
    "train_prev_app_w_target = train_applprev_2.join(df_target, on=\"case_id\", how=\"left\")"
   ]
  },
  {
   "cell_type": "code",
   "execution_count": 23,
   "metadata": {},
   "outputs": [
    {
     "name": "stdout",
     "output_type": "stream",
     "text": [
      "cacccardblochreas_147M : percentage of target == 1 is \n",
      "shape: (10, 2)\n",
      "┌────────────────────────┬──────────┐\n",
      "│ cacccardblochreas_147M ┆ target   │\n",
      "│ ---                    ┆ ---      │\n",
      "│ str                    ┆ f64      │\n",
      "╞════════════════════════╪══════════╡\n",
      "│ P19_60_110             ┆ 4.845815 │\n",
      "│ P41_107_150            ┆ 1.086957 │\n",
      "│ P127_74_114            ┆ 0.0      │\n",
      "│ P33_145_161            ┆ 1.571472 │\n",
      "│ a55475b1               ┆ 3.425389 │\n",
      "│ null                   ┆ 5.023387 │\n",
      "│ P201_63_60             ┆ 8.513514 │\n",
      "│ P23_105_103            ┆ 3.418803 │\n",
      "│ P17_56_144             ┆ 6.349206 │\n",
      "│ P133_119_56            ┆ 5.0      │\n",
      "└────────────────────────┴──────────┘\n",
      "conts_type_509L : percentage of target == 1 is \n",
      "shape: (10, 2)\n",
      "┌───────────────────┬──────────┐\n",
      "│ conts_type_509L   ┆ target   │\n",
      "│ ---               ┆ ---      │\n",
      "│ str               ┆ f64      │\n",
      "╞═══════════════════╪══════════╡\n",
      "│ WHATSAPP          ┆ 12.0     │\n",
      "│ ALTERNATIVE_PHONE ┆ 4.258187 │\n",
      "│ PHONE             ┆ 3.980397 │\n",
      "│ null              ┆ 3.00394  │\n",
      "│ SECONDARY_MOBILE  ┆ 3.489422 │\n",
      "│ SKYPE             ┆ 0.0      │\n",
      "│ PRIMARY_MOBILE    ┆ 3.763814 │\n",
      "│ EMPLOYMENT_PHONE  ┆ 3.411422 │\n",
      "│ HOME_PHONE        ┆ 2.852341 │\n",
      "│ PRIMARY_EMAIL     ┆ 3.262214 │\n",
      "└───────────────────┴──────────┘\n",
      "credacc_cards_status_52L : percentage of target == 1 is \n",
      "shape: (7, 2)\n",
      "┌──────────────────────────┬──────────┐\n",
      "│ credacc_cards_status_52L ┆ target   │\n",
      "│ ---                      ┆ ---      │\n",
      "│ str                      ┆ f64      │\n",
      "╞══════════════════════════╪══════════╡\n",
      "│ UNCONFIRMED              ┆ 2.5      │\n",
      "│ CANCELLED                ┆ 2.01759  │\n",
      "│ INACTIVE                 ┆ 2.420277 │\n",
      "│ RENEWED                  ┆ 5.263158 │\n",
      "│ null                     ┆ 3.460118 │\n",
      "│ ACTIVE                   ┆ 3.425695 │\n",
      "│ BLOCKED                  ┆ 6.339371 │\n",
      "└──────────────────────────┴──────────┘\n"
     ]
    }
   ],
   "source": [
    "cols = [\"cacccardblochreas_147M\", \"conts_type_509L\", \"credacc_cards_status_52L\"]\n",
    "for col in cols:\n",
    "    percentage = train_prev_app_w_target.group_by(col).agg(\n",
    "        pl.col(\"target\").mean() * 100\n",
    "        )\n",
    "    print(col, \": percentage of target == 1 is \")\n",
    "    print(percentage)\n"
   ]
  },
  {
   "cell_type": "markdown",
   "metadata": {},
   "source": [
    "# 5. ANALYSIS OF THE FIRST TABLE"
   ]
  },
  {
   "cell_type": "code",
   "execution_count": 24,
   "metadata": {},
   "outputs": [],
   "source": [
    "train_applprev_1_pd = train_applprev_1.to_pandas()"
   ]
  },
  {
   "cell_type": "code",
   "execution_count": 25,
   "metadata": {},
   "outputs": [],
   "source": [
    "features_num, features_date, features_cat = extract_columns_tipe(train_applprev_1_pd)"
   ]
  },
  {
   "cell_type": "code",
   "execution_count": 26,
   "metadata": {},
   "outputs": [
    {
     "data": {
      "text/plain": [
       "['actualdpd_943P',\n",
       " 'annuity_853A',\n",
       " 'byoccupationinc_3656910L',\n",
       " 'childnum_21L',\n",
       " 'credacc_actualbalance_314A',\n",
       " 'credacc_credlmt_575A',\n",
       " 'credacc_maxhisbal_375A',\n",
       " 'credacc_minhisbal_90A',\n",
       " 'credacc_transactions_402L',\n",
       " 'credamount_590A',\n",
       " 'currdebt_94A',\n",
       " 'downpmt_134A',\n",
       " 'mainoccupationinc_437A',\n",
       " 'maxdpdtolerance_577P',\n",
       " 'outstandingdebt_522A',\n",
       " 'pmtnum_8L',\n",
       " 'revolvingaccount_394A',\n",
       " 'tenor_203L']"
      ]
     },
     "execution_count": 26,
     "metadata": {},
     "output_type": "execute_result"
    }
   ],
   "source": [
    "features_num"
   ]
  },
  {
   "cell_type": "code",
   "execution_count": 27,
   "metadata": {},
   "outputs": [
    {
     "data": {
      "text/plain": [
       "['approvaldate_319D',\n",
       " 'creationdate_885D',\n",
       " 'dateactivated_425D',\n",
       " 'dtlastpmt_581D',\n",
       " 'dtlastpmtallstes_3545839D',\n",
       " 'employedfrom_700D',\n",
       " 'firstnonzeroinstldate_307D']"
      ]
     },
     "execution_count": 27,
     "metadata": {},
     "output_type": "execute_result"
    }
   ],
   "source": [
    "features_date"
   ]
  },
  {
   "cell_type": "code",
   "execution_count": 28,
   "metadata": {},
   "outputs": [
    {
     "data": {
      "text/html": [
       "<div><style>\n",
       ".dataframe > thead > tr,\n",
       ".dataframe > tbody > tr {\n",
       "  text-align: right;\n",
       "  white-space: pre-wrap;\n",
       "}\n",
       "</style>\n",
       "<small>shape: (7, 2)</small><table border=\"1\" class=\"dataframe\"><thead><tr><th>Variable</th><th>Description</th></tr><tr><td>str</td><td>str</td></tr></thead><tbody><tr><td>&quot;approvaldate_319D&quot;</td><td>&quot;Approval Date of Previous Application&quot;</td></tr><tr><td>&quot;creationdate_885D&quot;</td><td>&quot;Date when previous application was created.&quot;</td></tr><tr><td>&quot;dateactivated_425D&quot;</td><td>&quot;Contract activation date of the applicant&#x27;s previous application.&quot;</td></tr><tr><td>&quot;dtlastpmt_581D&quot;</td><td>&quot;Date of last payment made by the applicant.&quot;</td></tr><tr><td>&quot;dtlastpmtallstes_3545839D&quot;</td><td>&quot;Date of the applicant&#x27;s last payment.&quot;</td></tr><tr><td>&quot;employedfrom_700D&quot;</td><td>&quot;Employment start date from the previous application.&quot;</td></tr><tr><td>&quot;firstnonzeroinstldate_307D&quot;</td><td>&quot;Date of first instalment in the previous application.&quot;</td></tr></tbody></table></div>"
      ],
      "text/plain": [
       "shape: (7, 2)\n",
       "┌────────────────────────────┬───────────────────────────────────────────────────────────────────┐\n",
       "│ Variable                   ┆ Description                                                       │\n",
       "│ ---                        ┆ ---                                                               │\n",
       "│ str                        ┆ str                                                               │\n",
       "╞════════════════════════════╪═══════════════════════════════════════════════════════════════════╡\n",
       "│ approvaldate_319D          ┆ Approval Date of Previous Application                             │\n",
       "│ creationdate_885D          ┆ Date when previous application was created.                       │\n",
       "│ dateactivated_425D         ┆ Contract activation date of the applicant's previous application. │\n",
       "│ dtlastpmt_581D             ┆ Date of last payment made by the applicant.                       │\n",
       "│ dtlastpmtallstes_3545839D  ┆ Date of the applicant's last payment.                             │\n",
       "│ employedfrom_700D          ┆ Employment start date from the previous application.              │\n",
       "│ firstnonzeroinstldate_307D ┆ Date of first instalment in the previous application.             │\n",
       "└────────────────────────────┴───────────────────────────────────────────────────────────────────┘"
      ]
     },
     "metadata": {},
     "output_type": "display_data"
    }
   ],
   "source": [
    "with pl.Config() as cfg:\n",
    "    cfg.set_fmt_str_lengths(150)\n",
    "    cfg.set_tbl_rows(-1)\n",
    "\n",
    "    display(get_feature_definitions(features_date, df_feature_definition)) "
   ]
  },
  {
   "cell_type": "code",
   "execution_count": 29,
   "metadata": {},
   "outputs": [
    {
     "data": {
      "text/plain": [
       "['approvaldate_319D',\n",
       " 'creationdate_885D',\n",
       " 'dateactivated_425D',\n",
       " 'dtlastpmt_581D',\n",
       " 'dtlastpmtallstes_3545839D',\n",
       " 'employedfrom_700D',\n",
       " 'firstnonzeroinstldate_307D']"
      ]
     },
     "execution_count": 29,
     "metadata": {},
     "output_type": "execute_result"
    }
   ],
   "source": [
    "features_date"
   ]
  },
  {
   "cell_type": "code",
   "execution_count": 30,
   "metadata": {},
   "outputs": [
    {
     "name": "stdout",
     "output_type": "stream",
     "text": [
      "approvaldate_319D :  2020-10-19\n",
      "creationdate_885D :  2020-10-19\n",
      "dateactivated_425D :  2020-10-19\n",
      "dtlastpmt_581D :  2020-10-19\n",
      "dtlastpmtallstes_3545839D :  2020-10-19\n",
      "employedfrom_700D :  2020-07-15\n",
      "firstnonzeroinstldate_307D :  2020-11-19\n"
     ]
    }
   ],
   "source": [
    "for col_d in features_date:\n",
    "    train_applprev_1 = train_applprev_1.with_columns(pl.col(col_d).str.strptime(pl.Date))\n",
    "    print(col_d, \": \", train_applprev_1[col_d].max())"
   ]
  },
  {
   "cell_type": "code",
   "execution_count": 31,
   "metadata": {},
   "outputs": [
    {
     "data": {
      "text/html": [
       "<div><style>\n",
       ".dataframe > thead > tr,\n",
       ".dataframe > tbody > tr {\n",
       "  text-align: right;\n",
       "  white-space: pre-wrap;\n",
       "}\n",
       "</style>\n",
       "<small>shape: (18, 2)</small><table border=\"1\" class=\"dataframe\"><thead><tr><th>Variable</th><th>Description</th></tr><tr><td>str</td><td>str</td></tr></thead><tbody><tr><td>&quot;actualdpd_943P&quot;</td><td>&quot;Days Past Due (DPD) of previous contract (actual).&quot;</td></tr><tr><td>&quot;annuity_853A&quot;</td><td>&quot;Monthly annuity for previous applications.&quot;</td></tr><tr><td>&quot;byoccupationinc_3656910L&quot;</td><td>&quot;Applicant&#x27;s income from previous applications.&quot;</td></tr><tr><td>&quot;childnum_21L&quot;</td><td>&quot;Number of children in the previous application.&quot;</td></tr><tr><td>&quot;credacc_actualbalance_314A&quot;</td><td>&quot;Actual balance on credit account.&quot;</td></tr><tr><td>&quot;credacc_credlmt_575A&quot;</td><td>&quot;Credit card credit limit provided for previous applications.&quot;</td></tr><tr><td>&quot;credacc_maxhisbal_375A&quot;</td><td>&quot;Maximal historical balance of previous credit account&quot;</td></tr><tr><td>&quot;credacc_minhisbal_90A&quot;</td><td>&quot;Minimum historical balance of previous credit accounts.&quot;</td></tr><tr><td>&quot;credacc_transactions_402L&quot;</td><td>&quot;Number of transactions made with the previous credit account of the applicant.&quot;</td></tr><tr><td>&quot;credamount_590A&quot;</td><td>&quot;Loan amount or card limit of previous applications.&quot;</td></tr><tr><td>&quot;currdebt_94A&quot;</td><td>&quot;Previous application&#x27;s current debt.&quot;</td></tr><tr><td>&quot;downpmt_134A&quot;</td><td>&quot;Previous application downpayment amount.&quot;</td></tr><tr><td>&quot;mainoccupationinc_437A&quot;</td><td>&quot;Client&#x27;s main income amount in their previous application.&quot;</td></tr><tr><td>&quot;maxdpdtolerance_577P&quot;</td><td>&quot;Maximum DPD with tolerance (on previous application/s).&quot;</td></tr><tr><td>&quot;outstandingdebt_522A&quot;</td><td>&quot;Amount of outstanding debt on the client&#x27;s previous application.&quot;</td></tr><tr><td>&quot;pmtnum_8L&quot;</td><td>&quot;Number of payments made for the previous application.&quot;</td></tr><tr><td>&quot;revolvingaccount_394A&quot;</td><td>&quot;Revolving account that was present in the applicant&#x27;s previous application.&quot;</td></tr><tr><td>&quot;tenor_203L&quot;</td><td>&quot;Number of instalments in the previous application.&quot;</td></tr></tbody></table></div>"
      ],
      "text/plain": [
       "shape: (18, 2)\n",
       "┌────────────────────────────┬─────────────────────────────────────────────────────────────────────┐\n",
       "│ Variable                   ┆ Description                                                         │\n",
       "│ ---                        ┆ ---                                                                 │\n",
       "│ str                        ┆ str                                                                 │\n",
       "╞════════════════════════════╪═════════════════════════════════════════════════════════════════════╡\n",
       "│ actualdpd_943P             ┆ Days Past Due (DPD) of previous contract (actual).                  │\n",
       "│ annuity_853A               ┆ Monthly annuity for previous applications.                          │\n",
       "│ byoccupationinc_3656910L   ┆ Applicant's income from previous applications.                      │\n",
       "│ childnum_21L               ┆ Number of children in the previous application.                     │\n",
       "│ credacc_actualbalance_314A ┆ Actual balance on credit account.                                   │\n",
       "│ credacc_credlmt_575A       ┆ Credit card credit limit provided for previous applications.        │\n",
       "│ credacc_maxhisbal_375A     ┆ Maximal historical balance of previous credit account               │\n",
       "│ credacc_minhisbal_90A      ┆ Minimum historical balance of previous credit accounts.             │\n",
       "│ credacc_transactions_402L  ┆ Number of transactions made with the previous credit account of the │\n",
       "│                            ┆ applicant.                                                          │\n",
       "│ credamount_590A            ┆ Loan amount or card limit of previous applications.                 │\n",
       "│ currdebt_94A               ┆ Previous application's current debt.                                │\n",
       "│ downpmt_134A               ┆ Previous application downpayment amount.                            │\n",
       "│ mainoccupationinc_437A     ┆ Client's main income amount in their previous application.          │\n",
       "│ maxdpdtolerance_577P       ┆ Maximum DPD with tolerance (on previous application/s).             │\n",
       "│ outstandingdebt_522A       ┆ Amount of outstanding debt on the client's previous application.    │\n",
       "│ pmtnum_8L                  ┆ Number of payments made for the previous application.               │\n",
       "│ revolvingaccount_394A      ┆ Revolving account that was present in the applicant's previous      │\n",
       "│                            ┆ application.                                                        │\n",
       "│ tenor_203L                 ┆ Number of instalments in the previous application.                  │\n",
       "└────────────────────────────┴─────────────────────────────────────────────────────────────────────┘"
      ]
     },
     "metadata": {},
     "output_type": "display_data"
    }
   ],
   "source": [
    "with pl.Config() as cfg:\n",
    "    cfg.set_fmt_str_lengths(150)\n",
    "    cfg.set_tbl_rows(-1)\n",
    "\n",
    "    display(get_feature_definitions(features_num, df_feature_definition)) "
   ]
  },
  {
   "cell_type": "code",
   "execution_count": 32,
   "metadata": {},
   "outputs": [
    {
     "ename": "SystemExit",
     "evalue": "",
     "output_type": "error",
     "traceback": [
      "An exception has occurred, use %tb to see the full traceback.\n",
      "\u001b[0;31mSystemExit\u001b[0m\n"
     ]
    },
    {
     "name": "stderr",
     "output_type": "stream",
     "text": [
      "/home/jgenovese/anaconda3/envs/kaggle_competition/lib/python3.8/site-packages/IPython/core/interactiveshell.py:3516: UserWarning: To exit: use 'exit', 'quit', or Ctrl-D.\n",
      "  warn(\"To exit: use 'exit', 'quit', or Ctrl-D.\", stacklevel=1)\n"
     ]
    }
   ],
   "source": [
    "sys.exit()"
   ]
  },
  {
   "cell_type": "code",
   "execution_count": null,
   "metadata": {},
   "outputs": [
    {
     "data": {
      "text/html": [
       "<div><style>\n",
       ".dataframe > thead > tr,\n",
       ".dataframe > tbody > tr {\n",
       "  text-align: right;\n",
       "  white-space: pre-wrap;\n",
       "}\n",
       "</style>\n",
       "<small>shape: (19, 2)</small><table border=\"1\" class=\"dataframe\"><thead><tr><th>Variable</th><th>Description</th></tr><tr><td>str</td><td>str</td></tr></thead><tbody><tr><td>&quot;actualdpd_943P&quot;</td><td>&quot;Days Past Due (DPD) of previous contract (actual).&quot;</td></tr><tr><td>&quot;annuity_853A&quot;</td><td>&quot;Monthly annuity for previous applications.&quot;</td></tr><tr><td>&quot;byoccupationinc_3656910L&quot;</td><td>&quot;Applicant&#x27;s income from previous applications.&quot;</td></tr><tr><td>&quot;childnum_21L&quot;</td><td>&quot;Number of children in the previous application.&quot;</td></tr><tr><td>&quot;credacc_actualbalance_314A&quot;</td><td>&quot;Actual balance on credit account.&quot;</td></tr><tr><td>&quot;credacc_credlmt_575A&quot;</td><td>&quot;Credit card credit limit provided for previous applications.&quot;</td></tr><tr><td>&quot;credacc_maxhisbal_375A&quot;</td><td>&quot;Maximal historical balance of previous credit account&quot;</td></tr><tr><td>&quot;credacc_minhisbal_90A&quot;</td><td>&quot;Minimum historical balance of previous credit accounts.&quot;</td></tr><tr><td>&quot;credacc_transactions_402L&quot;</td><td>&quot;Number of transactions made with the previous credit account of the applicant.&quot;</td></tr><tr><td>&quot;credamount_590A&quot;</td><td>&quot;Loan amount or card limit of previous applications.&quot;</td></tr><tr><td>&quot;currdebt_94A&quot;</td><td>&quot;Previous application&#x27;s current debt.&quot;</td></tr><tr><td>&quot;downpmt_134A&quot;</td><td>&quot;Previous application downpayment amount.&quot;</td></tr><tr><td>&quot;mainoccupationinc_437A&quot;</td><td>&quot;Client&#x27;s main income amount in their previous application.&quot;</td></tr><tr><td>&quot;maxdpdtolerance_577P&quot;</td><td>&quot;Maximum DPD with tolerance (on previous application/s).&quot;</td></tr><tr><td>&quot;num_group1&quot;</td><td>null</td></tr><tr><td>&quot;outstandingdebt_522A&quot;</td><td>&quot;Amount of outstanding debt on the client&#x27;s previous application.&quot;</td></tr><tr><td>&quot;pmtnum_8L&quot;</td><td>&quot;Number of payments made for the previous application.&quot;</td></tr><tr><td>&quot;revolvingaccount_394A&quot;</td><td>&quot;Revolving account that was present in the applicant&#x27;s previous application.&quot;</td></tr><tr><td>&quot;tenor_203L&quot;</td><td>&quot;Number of instalments in the previous application.&quot;</td></tr></tbody></table></div>"
      ],
      "text/plain": [
       "shape: (19, 2)\n",
       "┌────────────────────────────┬─────────────────────────────────────────────────────────────────────┐\n",
       "│ Variable                   ┆ Description                                                         │\n",
       "│ ---                        ┆ ---                                                                 │\n",
       "│ str                        ┆ str                                                                 │\n",
       "╞════════════════════════════╪═════════════════════════════════════════════════════════════════════╡\n",
       "│ actualdpd_943P             ┆ Days Past Due (DPD) of previous contract (actual).                  │\n",
       "│ annuity_853A               ┆ Monthly annuity for previous applications.                          │\n",
       "│ byoccupationinc_3656910L   ┆ Applicant's income from previous applications.                      │\n",
       "│ childnum_21L               ┆ Number of children in the previous application.                     │\n",
       "│ credacc_actualbalance_314A ┆ Actual balance on credit account.                                   │\n",
       "│ credacc_credlmt_575A       ┆ Credit card credit limit provided for previous applications.        │\n",
       "│ credacc_maxhisbal_375A     ┆ Maximal historical balance of previous credit account               │\n",
       "│ credacc_minhisbal_90A      ┆ Minimum historical balance of previous credit accounts.             │\n",
       "│ credacc_transactions_402L  ┆ Number of transactions made with the previous credit account of the │\n",
       "│                            ┆ applicant.                                                          │\n",
       "│ credamount_590A            ┆ Loan amount or card limit of previous applications.                 │\n",
       "│ currdebt_94A               ┆ Previous application's current debt.                                │\n",
       "│ downpmt_134A               ┆ Previous application downpayment amount.                            │\n",
       "│ mainoccupationinc_437A     ┆ Client's main income amount in their previous application.          │\n",
       "│ maxdpdtolerance_577P       ┆ Maximum DPD with tolerance (on previous application/s).             │\n",
       "│ num_group1                 ┆ null                                                                │\n",
       "│ outstandingdebt_522A       ┆ Amount of outstanding debt on the client's previous application.    │\n",
       "│ pmtnum_8L                  ┆ Number of payments made for the previous application.               │\n",
       "│ revolvingaccount_394A      ┆ Revolving account that was present in the applicant's previous      │\n",
       "│                            ┆ application.                                                        │\n",
       "│ tenor_203L                 ┆ Number of instalments in the previous application.                  │\n",
       "└────────────────────────────┴─────────────────────────────────────────────────────────────────────┘"
      ]
     },
     "metadata": {},
     "output_type": "display_data"
    }
   ],
   "source": [
    "with pl.Config() as cfg:\n",
    "    cfg.set_fmt_str_lengths(150)\n",
    "    cfg.set_tbl_rows(-1)\n",
    "\n",
    "    display(get_feature_definitions(features_num, df_feature_definition)) "
   ]
  },
  {
   "cell_type": "code",
   "execution_count": null,
   "metadata": {},
   "outputs": [
    {
     "ename": "",
     "evalue": "",
     "output_type": "error",
     "traceback": [
      "\u001b[1;31mThe Kernel crashed while executing code in the current cell or a previous cell. \n",
      "\u001b[1;31mPlease review the code in the cell(s) to identify a possible cause of the failure. \n",
      "\u001b[1;31mClick <a href='https://aka.ms/vscodeJupyterKernelCrash'>here</a> for more info. \n",
      "\u001b[1;31mView Jupyter <a href='command:jupyter.viewOutput'>log</a> for further details."
     ]
    }
   ],
   "source": [
    "aggregate_num_features_by_historic(train_applprev_1.select(features_num + [\"case_id\", \"num_group1\"]), features_num, \"num_group1\")"
   ]
  },
  {
   "cell_type": "code",
   "execution_count": null,
   "metadata": {},
   "outputs": [],
   "source": [
    "def aggregate_num_features_by_historic(df, col_list, col_sort):\n",
    "    operation_to_apply = []\n",
    "    for col in col_list:\n",
    "        operation_to_apply.append(pl.col(col).mean().alias(f\"{col}_mean\"))\n",
    "        operation_to_apply.append(pl.col(col).std().alias(f\"{col}_std\"))\n",
    "        operation_to_apply.append(pl.col(col).last().alias(f\"{col}_last\"))\n",
    "        operation_to_apply.append(pl.col(col).last().alias(f\"{col}_first\"))\n",
    "    df_grouped = df.sort(by=col_sort, descending=True).group_by(\"case_id\").agg(operation_to_apply)\n",
    "    return df_grouped\n"
   ]
  }
 ],
 "metadata": {
  "kernelspec": {
   "display_name": "kaggle_competition",
   "language": "python",
   "name": "python3"
  },
  "language_info": {
   "codemirror_mode": {
    "name": "ipython",
    "version": 3
   },
   "file_extension": ".py",
   "mimetype": "text/x-python",
   "name": "python",
   "nbconvert_exporter": "python",
   "pygments_lexer": "ipython3",
   "version": "3.8.18"
  }
 },
 "nbformat": 4,
 "nbformat_minor": 2
}
