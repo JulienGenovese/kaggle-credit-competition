{
 "cells": [
  {
   "cell_type": "markdown",
   "metadata": {},
   "source": [
    "Analyze comment"
   ]
  },
  {
   "cell_type": "markdown",
   "metadata": {},
   "source": [
    "I noticed that some DPD features (those ending with P) contain seemingly impossible values. The most extreme example is dpd_550P in train_credit_bureau_b_1 whose max is greater than 2e8. Assuming the unit is day, this is more than 547945 years. I haven't checked if this fact affects model performance, but probably something to keep in mind when using DPD features."
   ]
  }
 ],
 "metadata": {
  "language_info": {
   "name": "python"
  }
 },
 "nbformat": 4,
 "nbformat_minor": 2
}
