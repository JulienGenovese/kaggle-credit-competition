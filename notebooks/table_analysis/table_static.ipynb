{
 "cells": [
  {
   "cell_type": "markdown",
   "metadata": {},
   "source": [
    "# TABLE STATIC ANALYSIS"
   ]
  },
  {
   "cell_type": "markdown",
   "metadata": {},
   "source": [
    "This table is composed by 3 tables:\n",
    "\n",
    "- <code>train_static_0_0</code>, <code>train_static_0_1</code> that are internal data frames of home credit.\n",
    "- <code>train_tatic_cb_0</code> that is an external dataset.\n",
    "\n",
    "We are mainly interested in the internal datasets since we will have to do a stable inference in a future and a not sure table cannot be a good predictor with this goal.\n",
    "\n",
    "We will analyze this points:\n",
    "\n",
    "- the columns of all dataframes\n",
    "- how to merge them\n",
    "- their NA meanings and how to fill them\n",
    "- some plots"
   ]
  },
  {
   "cell_type": "markdown",
   "metadata": {},
   "source": [
    "!!! From https://www.kaggle.com/competitions/home-credit-credit-risk-model-stability/discussion/476463 we can see that the person age must be taken from train_person_1 \"birth_259D\"."
   ]
  },
  {
   "cell_type": "markdown",
   "metadata": {},
   "source": [
    "# 1. SETTINGS"
   ]
  },
  {
   "cell_type": "code",
   "execution_count": 25,
   "metadata": {},
   "outputs": [],
   "source": [
    "import polars as pl\n",
    "import matplotlib.pyplot as plt\n",
    "import seaborn as sns\n",
    "import pandas as pd\n",
    "import sys\n",
    "\n",
    "sys.path.append(\"../../\")\n",
    "from src.utils import get_feature_definitions, compute_date_distance_from_col, extract_columns_tipe, aggregate_num_features_by_historic"
   ]
  },
  {
   "cell_type": "code",
   "execution_count": 26,
   "metadata": {},
   "outputs": [],
   "source": [
    "dataPath = \"../../data/\""
   ]
  },
  {
   "cell_type": "markdown",
   "metadata": {},
   "source": [
    "We will import the target dataframe with the features definition in order to improve the graphics later. "
   ]
  },
  {
   "cell_type": "code",
   "execution_count": 27,
   "metadata": {},
   "outputs": [],
   "source": [
    "df_target = pl.read_parquet(dataPath + 'parquet_files/train/train_base.parquet')"
   ]
  },
  {
   "cell_type": "code",
   "execution_count": 28,
   "metadata": {},
   "outputs": [],
   "source": [
    "df_feature_definition = pl.read_csv(dataPath + 'feature_definitions.csv')"
   ]
  },
  {
   "cell_type": "code",
   "execution_count": 29,
   "metadata": {},
   "outputs": [],
   "source": [
    "train_static_0_0 = pl.read_parquet(dataPath + \"parquet_files/train/train_static_0_0.parquet\")\n",
    "train_static_0_1 = pl.read_parquet(dataPath + \"parquet_files/train/train_static_0_1.parquet\")\n",
    "train_static_cb_1 = pl.read_parquet(dataPath + \"parquet_files/train/train_static_cb_0.parquet\")"
   ]
  },
  {
   "cell_type": "markdown",
   "metadata": {},
   "source": [
    "# 2. STRUCTURE OF THE DATAFRAMES"
   ]
  },
  {
   "cell_type": "markdown",
   "metadata": {},
   "source": [
    "Let's first see how the dataframe are made. "
   ]
  },
  {
   "cell_type": "code",
   "execution_count": 30,
   "metadata": {},
   "outputs": [
    {
     "data": {
      "text/plain": [
       "(1003757, 168)"
      ]
     },
     "execution_count": 30,
     "metadata": {},
     "output_type": "execute_result"
    }
   ],
   "source": [
    "train_static_0_0.shape"
   ]
  },
  {
   "cell_type": "code",
   "execution_count": 31,
   "metadata": {},
   "outputs": [
    {
     "data": {
      "text/plain": [
       "(522902, 168)"
      ]
     },
     "execution_count": 31,
     "metadata": {},
     "output_type": "execute_result"
    }
   ],
   "source": [
    "train_static_0_1.shape"
   ]
  },
  {
   "cell_type": "code",
   "execution_count": 32,
   "metadata": {},
   "outputs": [
    {
     "data": {
      "text/plain": [
       "(1500476, 53)"
      ]
     },
     "execution_count": 32,
     "metadata": {},
     "output_type": "execute_result"
    }
   ],
   "source": [
    "train_static_cb_1.shape"
   ]
  },
  {
   "cell_type": "markdown",
   "metadata": {},
   "source": [
    "It's quite clear that the esternal dataframe has a different structure. \n",
    "\n",
    "In this first analys as we have said we will only analyze the internal dataset. "
   ]
  },
  {
   "cell_type": "markdown",
   "metadata": {},
   "source": [
    "# 3. INTERNAL DATA SOURCE ANALYSIS"
   ]
  },
  {
   "cell_type": "markdown",
   "metadata": {},
   "source": [
    "Let's first see if the internal datasources have the same columns."
   ]
  },
  {
   "cell_type": "code",
   "execution_count": 33,
   "metadata": {},
   "outputs": [
    {
     "data": {
      "text/plain": [
       "True"
      ]
     },
     "execution_count": 33,
     "metadata": {},
     "output_type": "execute_result"
    }
   ],
   "source": [
    "columns_0_0 = list(train_static_0_0.columns)\n",
    "columns_0_1 = list(train_static_0_1.columns)\n",
    "\n",
    "columns_0_0.sort()\n",
    "columns_0_1.sort()\n",
    "\n",
    "columns_0_0 == columns_0_1"
   ]
  },
  {
   "cell_type": "markdown",
   "metadata": {},
   "source": [
    "The two dataframe have the same columns but different rows."
   ]
  },
  {
   "cell_type": "markdown",
   "metadata": {},
   "source": [
    "Let's go in more details."
   ]
  },
  {
   "cell_type": "code",
   "execution_count": 34,
   "metadata": {},
   "outputs": [
    {
     "name": "stdout",
     "output_type": "stream",
     "text": [
      "Number of case id in first dataframe:  1003757\n",
      "The case id are unique in the first dataframe:  True\n"
     ]
    }
   ],
   "source": [
    "print(\"Number of case id in first dataframe: \", train_static_0_0[\"case_id\"].n_unique())\n",
    "print(\"The case id are unique in the first dataframe: \", train_static_0_0[\"case_id\"].n_unique() == train_static_0_0.shape[0])"
   ]
  },
  {
   "cell_type": "code",
   "execution_count": 35,
   "metadata": {},
   "outputs": [
    {
     "name": "stdout",
     "output_type": "stream",
     "text": [
      "Number of case id in second dataframe:  522902\n",
      "The case id are unique in the second dataframe:  True\n"
     ]
    }
   ],
   "source": [
    "print(\"Number of case id in second dataframe: \", train_static_0_1[\"case_id\"].n_unique())\n",
    "print(\"The case id are unique in the second dataframe: \", train_static_0_1[\"case_id\"].n_unique() == train_static_0_1.shape[0])"
   ]
  },
  {
   "cell_type": "markdown",
   "metadata": {},
   "source": [
    "So each case id in the dataframes is unique.\n",
    "\n",
    "Let's see if the two dataframe have some case id in common."
   ]
  },
  {
   "cell_type": "code",
   "execution_count": 36,
   "metadata": {},
   "outputs": [
    {
     "data": {
      "text/plain": [
       "set()"
      ]
     },
     "execution_count": 36,
     "metadata": {},
     "output_type": "execute_result"
    }
   ],
   "source": [
    "set(train_static_0_1[\"case_id\"].unique()).intersection(set(train_static_0_0[\"case_id\"].unique()))"
   ]
  },
  {
   "cell_type": "markdown",
   "metadata": {},
   "source": [
    "**We can conclude that we have two perfectly separated dataframes with each one its case ids and with the same columns. We can concated them.**"
   ]
  },
  {
   "cell_type": "code",
   "execution_count": 37,
   "metadata": {},
   "outputs": [],
   "source": [
    "train_static_internal = pl.concat(\n",
    "    [\n",
    "        train_static_0_0, \n",
    "        train_static_0_1,\n",
    "    ],\n",
    "    how=\"vertical_relaxed\",\n",
    ")"
   ]
  },
  {
   "cell_type": "markdown",
   "metadata": {},
   "source": [
    "# 4. DEEPER ANALYSIS ON THE COMPLETE INTERNAL TABLE"
   ]
  },
  {
   "cell_type": "markdown",
   "metadata": {},
   "source": [
    "Let's move to a deeper analysis on the entire dataframe."
   ]
  },
  {
   "cell_type": "markdown",
   "metadata": {},
   "source": [
    "Create the pandas representation in order to plot it."
   ]
  },
  {
   "cell_type": "code",
   "execution_count": 38,
   "metadata": {},
   "outputs": [],
   "source": [
    "train_static_internal_pd = train_static_internal.to_pandas()"
   ]
  },
  {
   "cell_type": "markdown",
   "metadata": {},
   "source": [
    "### 4.1 COLUMNS TYPE EXTRACTION"
   ]
  },
  {
   "cell_type": "markdown",
   "metadata": {},
   "source": [
    "Let's extract the column types splitted by tipe."
   ]
  },
  {
   "cell_type": "code",
   "execution_count": 41,
   "metadata": {},
   "outputs": [],
   "source": [
    "features_num, features_date, features_cat = extract_columns_tipe(train_static_internal_pd)"
   ]
  },
  {
   "cell_type": "code",
   "execution_count": 43,
   "metadata": {},
   "outputs": [
    {
     "data": {
      "text/html": [
       "<div><style>\n",
       ".dataframe > thead > tr,\n",
       ".dataframe > tbody > tr {\n",
       "  text-align: right;\n",
       "  white-space: pre-wrap;\n",
       "}\n",
       "</style>\n",
       "<small>shape: (15, 2)</small><table border=\"1\" class=\"dataframe\"><thead><tr><th>Variable</th><th>Description</th></tr><tr><td>str</td><td>str</td></tr></thead><tbody><tr><td>&quot;datefirstoffer_1144D&quot;</td><td>&quot;Date of first customer relationship management (CRM) offer.&quot;</td></tr><tr><td>&quot;datelastinstal40dpd_247D&quot;</td><td>&quot;Date of last instalment that was more than 40 days past due (DPD).&quot;</td></tr><tr><td>&quot;datelastunpaid_3546854D&quot;</td><td>&quot;Date of the last unpaid instalment.&quot;</td></tr><tr><td>&quot;dtlastpmtallstes_4499206D&quot;</td><td>&quot;Date of last payment made by the applicant.&quot;</td></tr><tr><td>&quot;firstclxcampaign_1125D&quot;</td><td>&quot;Date of the client&#x27;s first campaign.&quot;</td></tr><tr><td>&quot;firstdatedue_489D&quot;</td><td>&quot;Date of the first due date.&quot;</td></tr><tr><td>&quot;lastactivateddate_801D&quot;</td><td>&quot;Contract activation date for previous applications.&quot;</td></tr><tr><td>&quot;lastapplicationdate_877D&quot;</td><td>&quot;Date of previous customer&#x27;s application.&quot;</td></tr><tr><td>&quot;lastapprdate_640D&quot;</td><td>&quot;Date of approval on client&#x27;s most recent previous application.&quot;</td></tr><tr><td>&quot;lastdelinqdate_224D&quot;</td><td>&quot;Date of the last delinquency occurrence.&quot;</td></tr><tr><td>&quot;lastrejectdate_50D&quot;</td><td>&quot;Date of most recent rejected application by the applicant.&quot;</td></tr><tr><td>&quot;lastrepayingdate_696D&quot;</td><td>&quot;Date of the last payment made by the applicant.&quot;</td></tr><tr><td>&quot;maxdpdinstldate_3546855D&quot;</td><td>&quot;Date of instalment on which client was most days past due.&quot;</td></tr><tr><td>&quot;payvacationpostpone_4187118D&quot;</td><td>&quot;Date of last payment holiday instalment.&quot;</td></tr><tr><td>&quot;validfrom_1069D&quot;</td><td>&quot;Date since the client has an active campaign.&quot;</td></tr></tbody></table></div>"
      ],
      "text/plain": [
       "shape: (15, 2)\n",
       "┌──────────────────────────────┬────────────────────────────────────────────────────────────────┐\n",
       "│ Variable                     ┆ Description                                                    │\n",
       "│ ---                          ┆ ---                                                            │\n",
       "│ str                          ┆ str                                                            │\n",
       "╞══════════════════════════════╪════════════════════════════════════════════════════════════════╡\n",
       "│ datefirstoffer_1144D         ┆ Date of first customer relationship management (CRM) offer.    │\n",
       "│ datelastinstal40dpd_247D     ┆ Date of last instalment that was more than 40 days past due    │\n",
       "│                              ┆ (DPD).                                                         │\n",
       "│ datelastunpaid_3546854D      ┆ Date of the last unpaid instalment.                            │\n",
       "│ dtlastpmtallstes_4499206D    ┆ Date of last payment made by the applicant.                    │\n",
       "│ firstclxcampaign_1125D       ┆ Date of the client's first campaign.                           │\n",
       "│ firstdatedue_489D            ┆ Date of the first due date.                                    │\n",
       "│ lastactivateddate_801D       ┆ Contract activation date for previous applications.            │\n",
       "│ lastapplicationdate_877D     ┆ Date of previous customer's application.                       │\n",
       "│ lastapprdate_640D            ┆ Date of approval on client's most recent previous application. │\n",
       "│ lastdelinqdate_224D          ┆ Date of the last delinquency occurrence.                       │\n",
       "│ lastrejectdate_50D           ┆ Date of most recent rejected application by the applicant.     │\n",
       "│ lastrepayingdate_696D        ┆ Date of the last payment made by the applicant.                │\n",
       "│ maxdpdinstldate_3546855D     ┆ Date of instalment on which client was most days past due.     │\n",
       "│ payvacationpostpone_4187118D ┆ Date of last payment holiday instalment.                       │\n",
       "│ validfrom_1069D              ┆ Date since the client has an active campaign.                  │\n",
       "└──────────────────────────────┴────────────────────────────────────────────────────────────────┘"
      ]
     },
     "metadata": {},
     "output_type": "display_data"
    }
   ],
   "source": [
    "with pl.Config() as cfg:\n",
    "    cfg.set_fmt_str_lengths(150)\n",
    "    cfg.set_tbl_rows(-1)\n",
    "\n",
    "    display(get_feature_definitions(features_date, df_feature_definition)) "
   ]
  },
  {
   "cell_type": "code",
   "execution_count": 44,
   "metadata": {},
   "outputs": [],
   "source": [
    "for col in features_date:\n",
    "    train_static_internal = train_static_internal.with_columns(pl.col(col).str.to_date())"
   ]
  },
  {
   "cell_type": "code",
   "execution_count": 45,
   "metadata": {},
   "outputs": [],
   "source": [
    "df_target = df_target.with_columns(pl.col(\"date_decision\").str.to_date())"
   ]
  },
  {
   "cell_type": "code",
   "execution_count": 46,
   "metadata": {},
   "outputs": [
    {
     "data": {
      "text/html": [
       "<div><style>\n",
       ".dataframe > thead > tr,\n",
       ".dataframe > tbody > tr {\n",
       "  text-align: right;\n",
       "  white-space: pre-wrap;\n",
       "}\n",
       "</style>\n",
       "<small>shape: (128, 2)</small><table border=\"1\" class=\"dataframe\"><thead><tr><th>Variable</th><th>Description</th></tr><tr><td>str</td><td>str</td></tr></thead><tbody><tr><td>&quot;actualdpdtolerance_344P&quot;</td><td>&quot;DPD of client with tolerance.&quot;</td></tr><tr><td>&quot;amtinstpaidbefduel24m_4187115A&quot;</td><td>&quot;Number of instalments paid before due date in the last 24 months.&quot;</td></tr><tr><td>&quot;annuity_780A&quot;</td><td>&quot;Monthly annuity amount.&quot;</td></tr><tr><td>&quot;annuitynextmonth_57A&quot;</td><td>&quot;Next month&#x27;s amount of annuity.&quot;</td></tr><tr><td>&quot;applicationcnt_361L&quot;</td><td>&quot;Number of applications associated with the same email address as the client.&quot;</td></tr><tr><td>&quot;applications30d_658L&quot;</td><td>&quot;Number of applications made by the client in the last 30 days.&quot;</td></tr><tr><td>&quot;applicationscnt_1086L&quot;</td><td>&quot;Number of applications associated with the same phone number.&quot;</td></tr><tr><td>&quot;applicationscnt_464L&quot;</td><td>&quot;Number of applications made in the last 30 days by other clients with the same employer as the applicant.&quot;</td></tr><tr><td>&quot;applicationscnt_629L&quot;</td><td>&quot;Number of applications with the same employer in the last 7 days.&quot;</td></tr><tr><td>&quot;applicationscnt_867L&quot;</td><td>&quot;Number of applications associated with the same mobile phone.&quot;</td></tr><tr><td>&quot;avgdbddpdlast24m_3658932P&quot;</td><td>&quot;Average days past or before due of payment during the last 24 months.&quot;</td></tr><tr><td>&quot;avgdbddpdlast3m_4187120P&quot;</td><td>&quot;Average days past or before due of payment during the last 3 months.&quot;</td></tr><tr><td>&quot;avgdbdtollast24m_4525197P&quot;</td><td>&quot;Average days of payment before due date within the last 24 months (with tolerance).&quot;</td></tr><tr><td>&quot;avgdpdtolclosure24_3658938P&quot;</td><td>&quot;Average DPD (days past due) with tolerance within the past 24 months from the maximum closure date, assuming that the contract is finished. If the co…</td></tr><tr><td>&quot;avginstallast24m_3658937A&quot;</td><td>&quot;Average instalments paid by the client over the past 24 months.&quot;</td></tr><tr><td>&quot;avglnamtstart24m_4525187A&quot;</td><td>&quot;Average loan amount in the last 24 months.&quot;</td></tr><tr><td>&quot;avgmaxdpdlast9m_3716943P&quot;</td><td>&quot;Average Days Past Due (DPD) of the client in last 9 months.&quot;</td></tr><tr><td>&quot;avgoutstandbalancel6m_4187114A&quot;</td><td>&quot;Average outstanding balance of applicant for the last 6 months.&quot;</td></tr><tr><td>&quot;avgpmtlast12m_4525200A&quot;</td><td>&quot;Average of payments made by the client in the last 12 months.&quot;</td></tr><tr><td>&quot;clientscnt12m_3712952L&quot;</td><td>&quot;Number of clients that have used the same mobile phone as the applicant in the past 12 months.&quot;</td></tr><tr><td>&quot;clientscnt3m_3712950L&quot;</td><td>&quot;Number of clients who have the same mobile phone number in the last 3 months.&quot;</td></tr><tr><td>&quot;clientscnt6m_3712949L&quot;</td><td>&quot;Total number of clients who have used the same mobile number in the last 6 months.&quot;</td></tr><tr><td>&quot;clientscnt_100L&quot;</td><td>&quot;Number of applications with matching employer&#x27;s phone and client&#x27;s.&quot;</td></tr><tr><td>&quot;clientscnt_1022L&quot;</td><td>&quot;Number of clients sharing the same mobile phone.&quot;</td></tr><tr><td>&quot;clientscnt_1071L&quot;</td><td>&quot;Number of applications where the alternative phone number matches that of the client.&quot;</td></tr><tr><td>&quot;clientscnt_1130L&quot;</td><td>&quot;Number of applications where client&#x27;s phone number matches the alternative phone contact.&quot;</td></tr><tr><td>&quot;clientscnt_136L&quot;</td><td>&quot;Number of applications associated with same email address as client&#x27;s email.&quot;</td></tr><tr><td>&quot;clientscnt_157L&quot;</td><td>&quot;Number of clients whose employer has the same phone number as the client.&quot;</td></tr><tr><td>&quot;clientscnt_257L&quot;</td><td>&quot;Number of clients that share an alternative phone number with the applicant.&quot;</td></tr><tr><td>&quot;clientscnt_304L&quot;</td><td>&quot;Number of clients with the same phone number.&quot;</td></tr><tr><td>&quot;clientscnt_360L&quot;</td><td>&quot;Number of clients that have the same alternative phone number and employer&#x27;s phone number.&quot;</td></tr><tr><td>&quot;clientscnt_493L&quot;</td><td>&quot;Number of clients with matching phone numbers for both the employer and the client.&quot;</td></tr><tr><td>&quot;clientscnt_533L&quot;</td><td>&quot;Number of clients with same client&#x27;s and alternative&#x27;s phone number&quot;</td></tr><tr><td>&quot;clientscnt_887L&quot;</td><td>&quot;Number of clients sharing the same employer&#x27;s phone number.&quot;</td></tr><tr><td>&quot;clientscnt_946L&quot;</td><td>&quot;Number of clients with matching mobile and employer&#x27;s number.&quot;</td></tr><tr><td>&quot;cntincpaycont9m_3716944L&quot;</td><td>&quot;Number of incoming payments in the past 9 months.&quot;</td></tr><tr><td>&quot;cntpmts24_3658933L&quot;</td><td>&quot;Number of months with any incoming payment in last 24 months.&quot;</td></tr><tr><td>&quot;commnoinclast6m_3546845L&quot;</td><td>&quot;Number of communications indicating low income in the last six months.&quot;</td></tr><tr><td>&quot;credamount_770A&quot;</td><td>&quot;Loan amount or credit card limit.&quot;</td></tr><tr><td>&quot;currdebt_22A&quot;</td><td>&quot;Current debt amount of the client.&quot;</td></tr><tr><td>&quot;currdebtcredtyperange_828A&quot;</td><td>&quot;Current amount of debt of the applicant.&quot;</td></tr><tr><td>&quot;daysoverduetolerancedd_3976961L&quot;</td><td>&quot;Number of days that past after the due date (with tolerance).&quot;</td></tr><tr><td>&quot;deferredmnthsnum_166L&quot;</td><td>&quot;Number of deferred months.&quot;</td></tr><tr><td>&quot;disbursedcredamount_1113A&quot;</td><td>&quot;Disbursed credit amount after consolidation.&quot;</td></tr><tr><td>&quot;downpmt_116A&quot;</td><td>&quot;Amount of downpayment.&quot;</td></tr><tr><td>&quot;eir_270L&quot;</td><td>&quot;Interest rate.&quot;</td></tr><tr><td>&quot;homephncnt_628L&quot;</td><td>&quot;Number of distinct home phones on client&#x27;s application.&quot;</td></tr><tr><td>&quot;inittransactionamount_650A&quot;</td><td>&quot;Initial transaction amount of the credit application.&quot;</td></tr><tr><td>&quot;interestrate_311L&quot;</td><td>&quot;The interest rate of the active credit contract.&quot;</td></tr><tr><td>&quot;interestrategrace_34L&quot;</td><td>&quot;Interest rate during the grace period.&quot;</td></tr><tr><td>&quot;lastapprcredamount_781A&quot;</td><td>&quot;Credit amount from the client&#x27;s last application.&quot;</td></tr><tr><td>&quot;lastdependentsnum_448L&quot;</td><td>&quot;Number of dependents in the client&#x27;s last loan application.&quot;</td></tr><tr><td>&quot;lastotherinc_902A&quot;</td><td>&quot;Amount of other income reported by the client in their last application.&quot;</td></tr><tr><td>&quot;lastotherlnsexpense_631A&quot;</td><td>&quot;Monthly expenses on other loans from the last application.&quot;</td></tr><tr><td>&quot;lastrejectcredamount_222A&quot;</td><td>&quot;Credit amount on last rejected application.&quot;</td></tr><tr><td>&quot;maininc_215A&quot;</td><td>&quot;Client&#x27;s primary income amount.&quot;</td></tr><tr><td>&quot;mastercontrelectronic_519L&quot;</td><td>&quot;Flag indicating the existence of the master contract for the client.&quot;</td></tr><tr><td>&quot;mastercontrexist_109L&quot;</td><td>&quot;Flag indicating whether or not the applicant has an existing master contract.&quot;</td></tr><tr><td>&quot;maxannuity_159A&quot;</td><td>&quot;Maximum annuity previously obtained by client.&quot;</td></tr><tr><td>&quot;maxannuity_4075009A&quot;</td><td>&quot;Maximal annuity offered to the client in the current application.&quot;</td></tr><tr><td>&quot;maxdbddpdlast1m_3658939P&quot;</td><td>&quot;Maximum number of days past due in the last month. A negative value indicates the number of days before the due date.&quot;</td></tr><tr><td>&quot;maxdbddpdtollast12m_3658940P&quot;</td><td>&quot;Maximum number of days past due in last 12 months. A negative value implies days before due date.&quot;</td></tr><tr><td>&quot;maxdbddpdtollast6m_4187119P&quot;</td><td>&quot;Maximum number of days past due in last 6 months. This predictor takes the value as a negative number when it represents days before due date.&quot;</td></tr><tr><td>&quot;maxdebt4_972A&quot;</td><td>&quot;Maximal principal debt of the client in the history older than 4 months.&quot;</td></tr><tr><td>&quot;maxdpdfrom6mto36m_3546853P&quot;</td><td>&quot;Maximum Days Past Due (DPD) in the period ranging from 6 to 36 months.&quot;</td></tr><tr><td>&quot;maxdpdinstlnum_3546846P&quot;</td><td>&quot;Instalment number of which client was most days past due.&quot;</td></tr><tr><td>&quot;maxdpdlast12m_727P&quot;</td><td>&quot;Maximum days past due in the past 12 months.&quot;</td></tr><tr><td>&quot;maxdpdlast24m_143P&quot;</td><td>&quot;Maximal days past due in the last 24 months.&quot;</td></tr><tr><td>&quot;maxdpdlast3m_392P&quot;</td><td>&quot;Maximum number of days past due in last 3 months.&quot;</td></tr><tr><td>&quot;maxdpdlast6m_474P&quot;</td><td>&quot;Maximum days past due in the last 6 months.&quot;</td></tr><tr><td>&quot;maxdpdlast9m_1059P&quot;</td><td>&quot;Maximum days past due in last 9 months.&quot;</td></tr><tr><td>&quot;maxdpdtolerance_374P&quot;</td><td>&quot;Maximum number of days past due (with tolerance).&quot;</td></tr><tr><td>&quot;maxinstallast24m_3658928A&quot;</td><td>&quot;Maximum instalment in the last 24 months&quot;</td></tr><tr><td>&quot;maxlnamtstart6m_4525199A&quot;</td><td>&quot;Maximum loan amount started in the last 6 months.&quot;</td></tr><tr><td>&quot;maxoutstandbalancel12m_4187113A&quot;</td><td>&quot;Maximum outstanding balance in the last 12 months.&quot;</td></tr><tr><td>&quot;maxpmtlast3m_4525190A&quot;</td><td>&quot;Maximum payment made by the client in the last 3 months.&quot;</td></tr><tr><td>&quot;mindbddpdlast24m_3658935P&quot;</td><td>&quot;Minimum days past due (or days before due) in last 24 months.&quot;</td></tr><tr><td>&quot;mindbdtollast24m_4525191P&quot;</td><td>&quot;Minimum days before due in last 24 months.&quot;</td></tr><tr><td>&quot;mobilephncnt_593L&quot;</td><td>&quot;Number of persons with the same mobile phone number.&quot;</td></tr><tr><td>&quot;monthsannuity_845L&quot;</td><td>&quot;Monthly annuity amount for the applicant.&quot;</td></tr><tr><td>&quot;numactivecreds_622L&quot;</td><td>&quot;Number of active credits.&quot;</td></tr><tr><td>&quot;numactivecredschannel_414L&quot;</td><td>&quot;Number of active credits.&quot;</td></tr><tr><td>&quot;numactiverelcontr_750L&quot;</td><td>&quot;Number of active revolving credits.&quot;</td></tr><tr><td>&quot;numcontrs3months_479L&quot;</td><td>&quot;Number of contracts in last 3 months.&quot;</td></tr><tr><td>&quot;numincomingpmts_3546848L&quot;</td><td>&quot;Number of incoming payments.&quot;</td></tr><tr><td>&quot;numinstlallpaidearly3d_817L&quot;</td><td>&quot;Number of instalments paid at least 3 days prior to their due date.&quot;</td></tr><tr><td>&quot;numinstls_657L&quot;</td><td>&quot;Number of instalments.&quot;</td></tr><tr><td>&quot;numinstlsallpaid_934L&quot;</td><td>&quot;Number of paid instalments.&quot;</td></tr><tr><td>&quot;numinstlswithdpd10_728L&quot;</td><td>&quot;Number of instalments that were overdue for 10 or more days.&quot;</td></tr><tr><td>&quot;numinstlswithdpd5_4187116L&quot;</td><td>&quot;Number of instalments that were overdue by at least 5 days.&quot;</td></tr><tr><td>&quot;numinstlswithoutdpd_562L&quot;</td><td>&quot;Number of instalments that were not past due date.&quot;</td></tr><tr><td>&quot;numinstmatpaidtearly2d_4499204L&quot;</td><td>&quot;Number of instalments that have been paid more than 2 days before their due date.&quot;</td></tr><tr><td>&quot;numinstpaid_4499208L&quot;</td><td>&quot;Number of paid instalments.&quot;</td></tr><tr><td>&quot;numinstpaidearly3d_3546850L&quot;</td><td>&quot;Number of instalments paid more than three days before the due date.&quot;</td></tr><tr><td>&quot;numinstpaidearly3dest_4493216L&quot;</td><td>&quot;Number of instalments that have been paid more than 3 days in advance of the due date.&quot;</td></tr><tr><td>&quot;numinstpaidearly5d_1087L&quot;</td><td>&quot;Number of instalments paid more than 5 days prior to the due date.&quot;</td></tr><tr><td>&quot;numinstpaidearly5dest_4493211L&quot;</td><td>&quot;Number of instalments that were paid more than 5 days before the due date.&quot;</td></tr><tr><td>&quot;numinstpaidearly5dobd_4499205L&quot;</td><td>&quot;Number of installments paid more than 5 days prior to the due date.&quot;</td></tr><tr><td>&quot;numinstpaidearly_338L&quot;</td><td>&quot;Number of installments paid prior to the due date.&quot;</td></tr><tr><td>&quot;numinstpaidearlyest_4493214L&quot;</td><td>&quot;Number of instalments paid before the due date.&quot;</td></tr><tr><td>&quot;numinstpaidlastcontr_4325080L&quot;</td><td>&quot;Number of paid installments from the client&#x27;s last contract.&quot;</td></tr><tr><td>&quot;numinstpaidlate1d_3546852L&quot;</td><td>&quot;Number of instalments paid more than 1 day past their due date.&quot;</td></tr><tr><td>&quot;numinstregularpaid_973L&quot;</td><td>&quot;Number of fully paid regular installments in the client&#x27;s previous contracts.&quot;</td></tr><tr><td>&quot;numinstregularpaidest_4493210L&quot;</td><td>&quot;Number of fully paid regular installments on clients&#x27; previous contracts.&quot;</td></tr><tr><td>&quot;numinsttopaygr_769L&quot;</td><td>&quot;Number of unpaid instalments.&quot;</td></tr><tr><td>&quot;numinsttopaygrest_4493213L&quot;</td><td>&quot;Number of unpaid instalments.&quot;</td></tr><tr><td>&quot;numinstunpaidmax_3546851L&quot;</td><td>&quot;Maximum number of unpaid instalments.&quot;</td></tr><tr><td>&quot;numinstunpaidmaxest_4493212L&quot;</td><td>&quot;Maximum number of unpaid instalments.&quot;</td></tr><tr><td>&quot;numnotactivated_1143L&quot;</td><td>&quot;Number of non-activated credits.&quot;</td></tr><tr><td>&quot;numpmtchanneldd_318L&quot;</td><td>&quot;Number of previous loan contracts for the applicant that had direct debit as payment channel.&quot;</td></tr><tr><td>&quot;numrejects9m_859L&quot;</td><td>&quot;Number of credit applications that were rejected in the last 9 months.&quot;</td></tr><tr><td>&quot;pctinstlsallpaidearl3d_427L&quot;</td><td>&quot;Percentage of installments paid at least 3 days prior to the due date.&quot;</td></tr><tr><td>&quot;pctinstlsallpaidlat10d_839L&quot;</td><td>&quot;Percentage of installments that were paid 10 or more days after the due date.&quot;</td></tr><tr><td>&quot;pctinstlsallpaidlate1d_3546856L&quot;</td><td>&quot;Percentage of installments that are paid 1 or more days after the due date.&quot;</td></tr><tr><td>&quot;pctinstlsallpaidlate4d_3546849L&quot;</td><td>&quot;Percentage of installments that were paid 4 or more days past their due date.&quot;</td></tr><tr><td>&quot;pctinstlsallpaidlate6d_3546844L&quot;</td><td>&quot;Percentage of installments that were paid 6 or more days past their due date.&quot;</td></tr><tr><td>&quot;pmtnum_254L&quot;</td><td>&quot;Total number of loan payments made by the client.&quot;</td></tr><tr><td>&quot;posfpd10lastmonth_333P&quot;</td><td>&quot;Average FPD10 (Share of contracts with first installment past due more than 10 days) from point of sales that processed contract in the previous mont…</td></tr><tr><td>&quot;posfpd30lastmonth_3976960P&quot;</td><td>&quot;Average FPD30 (Share of contracts with first installment past due more than 30 days) from point of sales that processed contract in the previous mont…</td></tr><tr><td>&quot;posfstqpd30lastmonth_3976962P&quot;</td><td>&quot;Average FSTPD30 (share of contracts with first, second, or third installment past due more than 30 days) from point of sale that processed contract i…</td></tr><tr><td>&quot;price_1097A&quot;</td><td>&quot;Credit price.&quot;</td></tr><tr><td>&quot;sellerplacecnt_915L&quot;</td><td>&quot;Number of sellerplaces where the same client&#x27;s document was used.&quot;</td></tr><tr><td>&quot;sellerplacescnt_216L&quot;</td><td>&quot;Number of sellerplaces where the same client&#x27;s mobile phone was used.&quot;</td></tr><tr><td>&quot;sumoutstandtotal_3546847A&quot;</td><td>&quot;Sum of total outstanding amount.&quot;</td></tr><tr><td>&quot;sumoutstandtotalest_4493215A&quot;</td><td>&quot;Sum of total outstanding amount.&quot;</td></tr><tr><td>&quot;totaldebt_9A&quot;</td><td>&quot;Total amount of debt.&quot;</td></tr><tr><td>&quot;totalsettled_863A&quot;</td><td>&quot;Sum of all payments made by the client.&quot;</td></tr><tr><td>&quot;totinstallast1m_4525188A&quot;</td><td>&quot;Total amount of monthly instalments paid in the previous month.&quot;</td></tr></tbody></table></div>"
      ],
      "text/plain": [
       "shape: (128, 2)\n",
       "┌─────────────────────────────────┬────────────────────────────────────────────────────────────────┐\n",
       "│ Variable                        ┆ Description                                                    │\n",
       "│ ---                             ┆ ---                                                            │\n",
       "│ str                             ┆ str                                                            │\n",
       "╞═════════════════════════════════╪════════════════════════════════════════════════════════════════╡\n",
       "│ actualdpdtolerance_344P         ┆ DPD of client with tolerance.                                  │\n",
       "│ amtinstpaidbefduel24m_4187115A  ┆ Number of instalments paid before due date in the last 24      │\n",
       "│                                 ┆ months.                                                        │\n",
       "│ annuity_780A                    ┆ Monthly annuity amount.                                        │\n",
       "│ annuitynextmonth_57A            ┆ Next month's amount of annuity.                                │\n",
       "│ applicationcnt_361L             ┆ Number of applications associated with the same email address  │\n",
       "│                                 ┆ as the client.                                                 │\n",
       "│ applications30d_658L            ┆ Number of applications made by the client in the last 30 days. │\n",
       "│ applicationscnt_1086L           ┆ Number of applications associated with the same phone number.  │\n",
       "│ applicationscnt_464L            ┆ Number of applications made in the last 30 days by other       │\n",
       "│                                 ┆ clients with the same employer as the applicant.               │\n",
       "│ applicationscnt_629L            ┆ Number of applications with the same employer in the last 7    │\n",
       "│                                 ┆ days.                                                          │\n",
       "│ applicationscnt_867L            ┆ Number of applications associated with the same mobile phone.  │\n",
       "│ avgdbddpdlast24m_3658932P       ┆ Average days past or before due of payment during the last 24  │\n",
       "│                                 ┆ months.                                                        │\n",
       "│ avgdbddpdlast3m_4187120P        ┆ Average days past or before due of payment during the last 3   │\n",
       "│                                 ┆ months.                                                        │\n",
       "│ avgdbdtollast24m_4525197P       ┆ Average days of payment before due date within the last 24     │\n",
       "│                                 ┆ months (with tolerance).                                       │\n",
       "│ avgdpdtolclosure24_3658938P     ┆ Average DPD (days past due) with tolerance within the past 24  │\n",
       "│                                 ┆ months from the maximum closure date, assuming that the        │\n",
       "│                                 ┆ contract is finished. If the con…                              │\n",
       "│ avginstallast24m_3658937A       ┆ Average instalments paid by the client over the past 24        │\n",
       "│                                 ┆ months.                                                        │\n",
       "│ avglnamtstart24m_4525187A       ┆ Average loan amount in the last 24 months.                     │\n",
       "│ avgmaxdpdlast9m_3716943P        ┆ Average Days Past Due (DPD) of the client in last 9 months.    │\n",
       "│ avgoutstandbalancel6m_4187114A  ┆ Average outstanding balance of applicant for the last 6        │\n",
       "│                                 ┆ months.                                                        │\n",
       "│ avgpmtlast12m_4525200A          ┆ Average of payments made by the client in the last 12 months.  │\n",
       "│ clientscnt12m_3712952L          ┆ Number of clients that have used the same mobile phone as the  │\n",
       "│                                 ┆ applicant in the past 12 months.                               │\n",
       "│ clientscnt3m_3712950L           ┆ Number of clients who have the same mobile phone number in the │\n",
       "│                                 ┆ last 3 months.                                                 │\n",
       "│ clientscnt6m_3712949L           ┆ Total number of clients who have used the same mobile number   │\n",
       "│                                 ┆ in the last 6 months.                                          │\n",
       "│ clientscnt_100L                 ┆ Number of applications with matching employer's phone and      │\n",
       "│                                 ┆ client's.                                                      │\n",
       "│ clientscnt_1022L                ┆ Number of clients sharing the same mobile phone.               │\n",
       "│ clientscnt_1071L                ┆ Number of applications where the alternative phone number      │\n",
       "│                                 ┆ matches that of the client.                                    │\n",
       "│ clientscnt_1130L                ┆ Number of applications where client's phone number matches the │\n",
       "│                                 ┆ alternative phone contact.                                     │\n",
       "│ clientscnt_136L                 ┆ Number of applications associated with same email address as   │\n",
       "│                                 ┆ client's email.                                                │\n",
       "│ clientscnt_157L                 ┆ Number of clients whose employer has the same phone number as  │\n",
       "│                                 ┆ the client.                                                    │\n",
       "│ clientscnt_257L                 ┆ Number of clients that share an alternative phone number with  │\n",
       "│                                 ┆ the applicant.                                                 │\n",
       "│ clientscnt_304L                 ┆ Number of clients with the same phone number.                  │\n",
       "│ clientscnt_360L                 ┆ Number of clients that have the same alternative phone number  │\n",
       "│                                 ┆ and employer's phone number.                                   │\n",
       "│ clientscnt_493L                 ┆ Number of clients with matching phone numbers for both the     │\n",
       "│                                 ┆ employer and the client.                                       │\n",
       "│ clientscnt_533L                 ┆ Number of clients with same client's and alternative's phone   │\n",
       "│                                 ┆ number                                                         │\n",
       "│ clientscnt_887L                 ┆ Number of clients sharing the same employer's phone number.    │\n",
       "│ clientscnt_946L                 ┆ Number of clients with matching mobile and employer's number.  │\n",
       "│ cntincpaycont9m_3716944L        ┆ Number of incoming payments in the past 9 months.              │\n",
       "│ cntpmts24_3658933L              ┆ Number of months with any incoming payment in last 24 months.  │\n",
       "│ commnoinclast6m_3546845L        ┆ Number of communications indicating low income in the last six │\n",
       "│                                 ┆ months.                                                        │\n",
       "│ credamount_770A                 ┆ Loan amount or credit card limit.                              │\n",
       "│ currdebt_22A                    ┆ Current debt amount of the client.                             │\n",
       "│ currdebtcredtyperange_828A      ┆ Current amount of debt of the applicant.                       │\n",
       "│ daysoverduetolerancedd_3976961L ┆ Number of days that past after the due date (with tolerance).  │\n",
       "│ deferredmnthsnum_166L           ┆ Number of deferred months.                                     │\n",
       "│ disbursedcredamount_1113A       ┆ Disbursed credit amount after consolidation.                   │\n",
       "│ downpmt_116A                    ┆ Amount of downpayment.                                         │\n",
       "│ eir_270L                        ┆ Interest rate.                                                 │\n",
       "│ homephncnt_628L                 ┆ Number of distinct home phones on client's application.        │\n",
       "│ inittransactionamount_650A      ┆ Initial transaction amount of the credit application.          │\n",
       "│ interestrate_311L               ┆ The interest rate of the active credit contract.               │\n",
       "│ interestrategrace_34L           ┆ Interest rate during the grace period.                         │\n",
       "│ lastapprcredamount_781A         ┆ Credit amount from the client's last application.              │\n",
       "│ lastdependentsnum_448L          ┆ Number of dependents in the client's last loan application.    │\n",
       "│ lastotherinc_902A               ┆ Amount of other income reported by the client in their last    │\n",
       "│                                 ┆ application.                                                   │\n",
       "│ lastotherlnsexpense_631A        ┆ Monthly expenses on other loans from the last application.     │\n",
       "│ lastrejectcredamount_222A       ┆ Credit amount on last rejected application.                    │\n",
       "│ maininc_215A                    ┆ Client's primary income amount.                                │\n",
       "│ mastercontrelectronic_519L      ┆ Flag indicating the existence of the master contract for the   │\n",
       "│                                 ┆ client.                                                        │\n",
       "│ mastercontrexist_109L           ┆ Flag indicating whether or not the applicant has an existing   │\n",
       "│                                 ┆ master contract.                                               │\n",
       "│ maxannuity_159A                 ┆ Maximum annuity previously obtained by client.                 │\n",
       "│ maxannuity_4075009A             ┆ Maximal annuity offered to the client in the current           │\n",
       "│                                 ┆ application.                                                   │\n",
       "│ maxdbddpdlast1m_3658939P        ┆ Maximum number of days past due in the last month. A negative  │\n",
       "│                                 ┆ value indicates the number of days before the due date.        │\n",
       "│ maxdbddpdtollast12m_3658940P    ┆ Maximum number of days past due in last 12 months. A negative  │\n",
       "│                                 ┆ value implies days before due date.                            │\n",
       "│ maxdbddpdtollast6m_4187119P     ┆ Maximum number of days past due in last 6 months. This         │\n",
       "│                                 ┆ predictor takes the value as a negative number when it         │\n",
       "│                                 ┆ represents days before due date.                               │\n",
       "│ maxdebt4_972A                   ┆ Maximal principal debt of the client in the history older than │\n",
       "│                                 ┆ 4 months.                                                      │\n",
       "│ maxdpdfrom6mto36m_3546853P      ┆ Maximum Days Past Due (DPD) in the period ranging from 6 to 36 │\n",
       "│                                 ┆ months.                                                        │\n",
       "│ maxdpdinstlnum_3546846P         ┆ Instalment number of which client was most days past due.      │\n",
       "│ maxdpdlast12m_727P              ┆ Maximum days past due in the past 12 months.                   │\n",
       "│ maxdpdlast24m_143P              ┆ Maximal days past due in the last 24 months.                   │\n",
       "│ maxdpdlast3m_392P               ┆ Maximum number of days past due in last 3 months.              │\n",
       "│ maxdpdlast6m_474P               ┆ Maximum days past due in the last 6 months.                    │\n",
       "│ maxdpdlast9m_1059P              ┆ Maximum days past due in last 9 months.                        │\n",
       "│ maxdpdtolerance_374P            ┆ Maximum number of days past due (with tolerance).              │\n",
       "│ maxinstallast24m_3658928A       ┆ Maximum instalment in the last 24 months                       │\n",
       "│ maxlnamtstart6m_4525199A        ┆ Maximum loan amount started in the last 6 months.              │\n",
       "│ maxoutstandbalancel12m_4187113A ┆ Maximum outstanding balance in the last 12 months.             │\n",
       "│ maxpmtlast3m_4525190A           ┆ Maximum payment made by the client in the last 3 months.       │\n",
       "│ mindbddpdlast24m_3658935P       ┆ Minimum days past due (or days before due) in last 24 months.  │\n",
       "│ mindbdtollast24m_4525191P       ┆ Minimum days before due in last 24 months.                     │\n",
       "│ mobilephncnt_593L               ┆ Number of persons with the same mobile phone number.           │\n",
       "│ monthsannuity_845L              ┆ Monthly annuity amount for the applicant.                      │\n",
       "│ numactivecreds_622L             ┆ Number of active credits.                                      │\n",
       "│ numactivecredschannel_414L      ┆ Number of active credits.                                      │\n",
       "│ numactiverelcontr_750L          ┆ Number of active revolving credits.                            │\n",
       "│ numcontrs3months_479L           ┆ Number of contracts in last 3 months.                          │\n",
       "│ numincomingpmts_3546848L        ┆ Number of incoming payments.                                   │\n",
       "│ numinstlallpaidearly3d_817L     ┆ Number of instalments paid at least 3 days prior to their due  │\n",
       "│                                 ┆ date.                                                          │\n",
       "│ numinstls_657L                  ┆ Number of instalments.                                         │\n",
       "│ numinstlsallpaid_934L           ┆ Number of paid instalments.                                    │\n",
       "│ numinstlswithdpd10_728L         ┆ Number of instalments that were overdue for 10 or more days.   │\n",
       "│ numinstlswithdpd5_4187116L      ┆ Number of instalments that were overdue by at least 5 days.    │\n",
       "│ numinstlswithoutdpd_562L        ┆ Number of instalments that were not past due date.             │\n",
       "│ numinstmatpaidtearly2d_4499204L ┆ Number of instalments that have been paid more than 2 days     │\n",
       "│                                 ┆ before their due date.                                         │\n",
       "│ numinstpaid_4499208L            ┆ Number of paid instalments.                                    │\n",
       "│ numinstpaidearly3d_3546850L     ┆ Number of instalments paid more than three days before the due │\n",
       "│                                 ┆ date.                                                          │\n",
       "│ numinstpaidearly3dest_4493216L  ┆ Number of instalments that have been paid more than 3 days in  │\n",
       "│                                 ┆ advance of the due date.                                       │\n",
       "│ numinstpaidearly5d_1087L        ┆ Number of instalments paid more than 5 days prior to the due   │\n",
       "│                                 ┆ date.                                                          │\n",
       "│ numinstpaidearly5dest_4493211L  ┆ Number of instalments that were paid more than 5 days before   │\n",
       "│                                 ┆ the due date.                                                  │\n",
       "│ numinstpaidearly5dobd_4499205L  ┆ Number of installments paid more than 5 days prior to the due  │\n",
       "│                                 ┆ date.                                                          │\n",
       "│ numinstpaidearly_338L           ┆ Number of installments paid prior to the due date.             │\n",
       "│ numinstpaidearlyest_4493214L    ┆ Number of instalments paid before the due date.                │\n",
       "│ numinstpaidlastcontr_4325080L   ┆ Number of paid installments from the client's last contract.   │\n",
       "│ numinstpaidlate1d_3546852L      ┆ Number of instalments paid more than 1 day past their due      │\n",
       "│                                 ┆ date.                                                          │\n",
       "│ numinstregularpaid_973L         ┆ Number of fully paid regular installments in the client's      │\n",
       "│                                 ┆ previous contracts.                                            │\n",
       "│ numinstregularpaidest_4493210L  ┆ Number of fully paid regular installments on clients' previous │\n",
       "│                                 ┆ contracts.                                                     │\n",
       "│ numinsttopaygr_769L             ┆ Number of unpaid instalments.                                  │\n",
       "│ numinsttopaygrest_4493213L      ┆ Number of unpaid instalments.                                  │\n",
       "│ numinstunpaidmax_3546851L       ┆ Maximum number of unpaid instalments.                          │\n",
       "│ numinstunpaidmaxest_4493212L    ┆ Maximum number of unpaid instalments.                          │\n",
       "│ numnotactivated_1143L           ┆ Number of non-activated credits.                               │\n",
       "│ numpmtchanneldd_318L            ┆ Number of previous loan contracts for the applicant that had   │\n",
       "│                                 ┆ direct debit as payment channel.                               │\n",
       "│ numrejects9m_859L               ┆ Number of credit applications that were rejected in the last 9 │\n",
       "│                                 ┆ months.                                                        │\n",
       "│ pctinstlsallpaidearl3d_427L     ┆ Percentage of installments paid at least 3 days prior to the   │\n",
       "│                                 ┆ due date.                                                      │\n",
       "│ pctinstlsallpaidlat10d_839L     ┆ Percentage of installments that were paid 10 or more days      │\n",
       "│                                 ┆ after the due date.                                            │\n",
       "│ pctinstlsallpaidlate1d_3546856L ┆ Percentage of installments that are paid 1 or more days after  │\n",
       "│                                 ┆ the due date.                                                  │\n",
       "│ pctinstlsallpaidlate4d_3546849L ┆ Percentage of installments that were paid 4 or more days past  │\n",
       "│                                 ┆ their due date.                                                │\n",
       "│ pctinstlsallpaidlate6d_3546844L ┆ Percentage of installments that were paid 6 or more days past  │\n",
       "│                                 ┆ their due date.                                                │\n",
       "│ pmtnum_254L                     ┆ Total number of loan payments made by the client.              │\n",
       "│ posfpd10lastmonth_333P          ┆ Average FPD10 (Share of contracts with first installment past  │\n",
       "│                                 ┆ due more than 10 days) from point of sales that processed      │\n",
       "│                                 ┆ contract in the previous month…                                │\n",
       "│ posfpd30lastmonth_3976960P      ┆ Average FPD30 (Share of contracts with first installment past  │\n",
       "│                                 ┆ due more than 30 days) from point of sales that processed      │\n",
       "│                                 ┆ contract in the previous month…                                │\n",
       "│ posfstqpd30lastmonth_3976962P   ┆ Average FSTPD30 (share of contracts with first, second, or     │\n",
       "│                                 ┆ third installment past due more than 30 days) from point of    │\n",
       "│                                 ┆ sale that processed contract in…                               │\n",
       "│ price_1097A                     ┆ Credit price.                                                  │\n",
       "│ sellerplacecnt_915L             ┆ Number of sellerplaces where the same client's document was    │\n",
       "│                                 ┆ used.                                                          │\n",
       "│ sellerplacescnt_216L            ┆ Number of sellerplaces where the same client's mobile phone    │\n",
       "│                                 ┆ was used.                                                      │\n",
       "│ sumoutstandtotal_3546847A       ┆ Sum of total outstanding amount.                               │\n",
       "│ sumoutstandtotalest_4493215A    ┆ Sum of total outstanding amount.                               │\n",
       "│ totaldebt_9A                    ┆ Total amount of debt.                                          │\n",
       "│ totalsettled_863A               ┆ Sum of all payments made by the client.                        │\n",
       "│ totinstallast1m_4525188A        ┆ Total amount of monthly instalments paid in the previous       │\n",
       "│                                 ┆ month.                                                         │\n",
       "└─────────────────────────────────┴────────────────────────────────────────────────────────────────┘"
      ]
     },
     "metadata": {},
     "output_type": "display_data"
    }
   ],
   "source": [
    "with pl.Config() as cfg:\n",
    "    cfg.set_fmt_str_lengths(150)\n",
    "    cfg.set_tbl_rows(-1)\n",
    "\n",
    "    display(get_feature_definitions(features_num, df_feature_definition)) "
   ]
  },
  {
   "cell_type": "markdown",
   "metadata": {},
   "source": [
    "## 4.1 NULL ANALYSIS"
   ]
  },
  {
   "cell_type": "code",
   "execution_count": null,
   "metadata": {},
   "outputs": [],
   "source": [
    "sys.exit()"
   ]
  },
  {
   "cell_type": "code",
   "execution_count": null,
   "metadata": {},
   "outputs": [],
   "source": [
    "df_nulls = (train_static_internal.null_count() / train_static_internal.shape[0]).transpose(include_header=True).sort(by=\"column_0\", descending=True).to_pandas()\n",
    "df_nulls[\"perc_of_nulls\"] = df_nulls.iloc[:, 1] \n",
    "df_nulls = df_nulls.drop(\"column_0\", axis = 1)\n",
    "df_nulls"
   ]
  },
  {
   "cell_type": "markdown",
   "metadata": {},
   "source": [
    "As we can see in case of a lot of null it seems this is a information. We have to understand how to deal with it. "
   ]
  },
  {
   "cell_type": "code",
   "execution_count": null,
   "metadata": {},
   "outputs": [],
   "source": [
    "df_nulls[\"perc_of_nulls\"].hist(bins=30)"
   ]
  },
  {
   "cell_type": "code",
   "execution_count": null,
   "metadata": {},
   "outputs": [],
   "source": [
    "df_nulls.loc[(df_nulls[\"perc_of_nulls\"] < 0.8) & (df_nulls[\"perc_of_nulls\"]>0.6)]"
   ]
  },
  {
   "cell_type": "markdown",
   "metadata": {},
   "source": [
    "It's seems in this case as well that the absence of the value is an information. "
   ]
  },
  {
   "cell_type": "markdown",
   "metadata": {},
   "source": [
    "## 4.2 ANALYSIS OF CATEGORICAL VS NUMERICAL "
   ]
  },
  {
   "cell_type": "markdown",
   "metadata": {},
   "source": [
    "We first want to split the numerical variable from the cathegorical ones."
   ]
  },
  {
   "cell_type": "code",
   "execution_count": null,
   "metadata": {},
   "outputs": [],
   "source": [
    "features_date"
   ]
  },
  {
   "cell_type": "code",
   "execution_count": null,
   "metadata": {},
   "outputs": [],
   "source": [
    "for col in features_cat:\n",
    "    print(f\"  {col}\")"
   ]
  },
  {
   "cell_type": "markdown",
   "metadata": {},
   "source": [
    "From the date column we can see that we will need to compute a difference between a reference time and the considered date. "
   ]
  },
  {
   "cell_type": "code",
   "execution_count": null,
   "metadata": {},
   "outputs": [],
   "source": [
    "# aesthetics\n",
    "default_color_1 = 'darkblue'\n",
    "default_color_2 = 'darkgreen'\n",
    "default_color_3 = 'darkred'"
   ]
  },
  {
   "cell_type": "code",
   "execution_count": null,
   "metadata": {},
   "outputs": [],
   "source": [
    "train_static_internal_pd = train_static_internal_pd.merge(df_target, on='case_id')"
   ]
  },
  {
   "cell_type": "markdown",
   "metadata": {},
   "source": [
    "Let's see how much values are unique in the numerical and categorical variables."
   ]
  },
  {
   "cell_type": "code",
   "execution_count": null,
   "metadata": {},
   "outputs": [],
   "source": [
    "for col in features_num:\n",
    "    print(col, \": \", len(train_static_internal_pd[col].unique()))"
   ]
  },
  {
   "cell_type": "code",
   "execution_count": null,
   "metadata": {},
   "outputs": [],
   "source": [
    "date_columns = []\n",
    "long_features_cat = []\n",
    "short_features_cat = []\n",
    "for col in features_cat:\n",
    "    if 'date' in col or col.endswith(\"D\"):\n",
    "        date_columns.append(col)\n",
    "        features_cat.remove(col)\n",
    "    elif len(train_static_internal_pd[col].unique()) > 10:\n",
    "        long_features_cat.append(col)\n",
    "    elif len(train_static_internal_pd[col].unique()) <= 10:\n",
    "        short_features_cat.append(col)\n",
    "    else: \n",
    "        raise ValueError(\"Strange column: \", col)\n",
    "        "
   ]
  },
  {
   "cell_type": "code",
   "execution_count": null,
   "metadata": {},
   "outputs": [],
   "source": [
    "for col in long_features_cat:\n",
    "    print(col, \": \", len(train_static_internal_pd[col].unique()))"
   ]
  },
  {
   "cell_type": "code",
   "execution_count": null,
   "metadata": {},
   "outputs": [],
   "source": [
    "for col in short_features_cat:\n",
    "    print(col, \": \", len(train_static_internal_pd[col].unique()))"
   ]
  },
  {
   "cell_type": "code",
   "execution_count": null,
   "metadata": {},
   "outputs": [],
   "source": [
    "train_static_internal_pd[\"isdebitcard_729L\"].unique()"
   ]
  },
  {
   "cell_type": "code",
   "execution_count": null,
   "metadata": {},
   "outputs": [],
   "source": [
    "train_static_internal_pd[\"isbidproductrequest_292L\"].unique()"
   ]
  },
  {
   "cell_type": "code",
   "execution_count": null,
   "metadata": {},
   "outputs": [],
   "source": [
    "train_static_internal_pd[\"paytype_783L\"].unique()"
   ]
  },
  {
   "cell_type": "code",
   "execution_count": null,
   "metadata": {},
   "outputs": [],
   "source": [
    "train_static_internal_pd[\"typesuite_864L\"].unique()"
   ]
  },
  {
   "cell_type": "code",
   "execution_count": null,
   "metadata": {},
   "outputs": [],
   "source": [
    "train_static_internal_pd[\"bankacctype_710L\"].unique()"
   ]
  },
  {
   "cell_type": "code",
   "execution_count": null,
   "metadata": {},
   "outputs": [],
   "source": [
    "train_static_internal_pd[\"isbidproduct_1095L\"].unique()"
   ]
  },
  {
   "cell_type": "markdown",
   "metadata": {},
   "source": [
    "We can see a very big difference among the variable cardinality."
   ]
  },
  {
   "cell_type": "code",
   "execution_count": null,
   "metadata": {},
   "outputs": [],
   "source": [
    "def plot_continuous(df, feature, txt):\n",
    "    '''Plot a histogram and boxplot for the churned and retained distributions for the specified feature.'''\n",
    "    df_func = df.copy()\n",
    "    df_paid = df.loc[df[\"target\"] == 1]\n",
    "    df_default = df.loc[df[\"target\"] == 0]\n",
    "    \n",
    "    df_func['target'] = df_func['target'].astype('category')\n",
    "    fig, ax1 = plt.subplots()\n",
    "\n",
    "    for df, label in zip([df_paid,df_default], [0, 1]): \n",
    "        sns.boxplot(data=df,\n",
    "                     x=feature,\n",
    "                     bins=30,\n",
    "                     alpha=0.66,\n",
    "                     edgecolor='firebrick',\n",
    "                     label=label,\n",
    "                     kde=False,\n",
    "                     ax=ax1)\n",
    "    ax1.legend()\n",
    "    fig.text(.5, .005, txt, ha='center')\n",
    "    plt.tight_layout();"
   ]
  },
  {
   "cell_type": "code",
   "execution_count": null,
   "metadata": {},
   "outputs": [],
   "source": [
    "def plot_categorical(df, feature, txt):\n",
    "    '''For a categorical feature, plot a seaborn.countplot for the total counts of each category next to a barplot for the churn rate.'''\n",
    "    fig, ax1 = plt.subplots()\n",
    "\n",
    "    sns.countplot(x=feature,\n",
    "                  hue='target',\n",
    "                  data=df,\n",
    "                  ax=ax1)\n",
    "    ax1.set_ylabel('Count')\n",
    "    ax1.legend(labels=['paid', 'default'])\n",
    "    ax1.tick_params(axis='x', rotation=90)\n",
    "    \n",
    "    fig.text(.5, .005, txt, ha='center')\n",
    "    plt.tight_layout();\n"
   ]
  },
  {
   "cell_type": "code",
   "execution_count": null,
   "metadata": {},
   "outputs": [],
   "source": [
    "for i in short_features_cat:\n",
    "    print(i)\n",
    "    plot_categorical(train_static_internal_pd, i, f'({dict_feature[i]})')"
   ]
  },
  {
   "cell_type": "markdown",
   "metadata": {},
   "source": [
    "# 5. FEATURE CREATION"
   ]
  },
  {
   "cell_type": "code",
   "execution_count": null,
   "metadata": {},
   "outputs": [],
   "source": [
    "df_target_with_static = df_target.join(other=train_static_internal, left_on=\"case_id\", right_on=\"case_id\", how=\"left\")  \n",
    "df_target_with_static, diff_col = compute_date_distance_from_col(df_target_with_static, features_date, \"date_decision\")\n",
    "df_target_with_static= df_target_with_static.drop(features_date)"
   ]
  },
  {
   "cell_type": "markdown",
   "metadata": {},
   "source": [
    "## CONCLUSIONS"
   ]
  },
  {
   "cell_type": "markdown",
   "metadata": {},
   "source": [
    "For this dataframe we can conclude that on a first glance, the internal dataset has a good quality.\n",
    "\n",
    "We only have to take into account that:\n",
    "\n",
    "- The NAs seem informative and so we don't have to drop them. \n",
    "- We don't know nothing about the outlier values at the moment. Maybe they are informative so we will not drop them.\n",
    "- the date can be used to compute a time difference. "
   ]
  }
 ],
 "metadata": {
  "kernelspec": {
   "display_name": "kaggle_competition",
   "language": "python",
   "name": "python3"
  },
  "language_info": {
   "codemirror_mode": {
    "name": "ipython",
    "version": 3
   },
   "file_extension": ".py",
   "mimetype": "text/x-python",
   "name": "python",
   "nbconvert_exporter": "python",
   "pygments_lexer": "ipython3",
   "version": "3.8.18"
  }
 },
 "nbformat": 4,
 "nbformat_minor": 2
}
