{
 "cells": [
  {
   "cell_type": "code",
   "execution_count": 3,
   "metadata": {},
   "outputs": [],
   "source": [
    "import polars as pl\n",
    "\n",
    "dataPath = \"../data/\""
   ]
  },
  {
   "cell_type": "code",
   "execution_count": 4,
   "metadata": {},
   "outputs": [],
   "source": [
    "train_tax_registry_provider_a = pl.read_parquet(dataPath + \"parquet_files/train/train_tax_registry_a_1.parquet\")\n",
    "train_tax_registry_provider_b = pl.read_parquet(dataPath + \"parquet_files/train/train_tax_registry_b_1.parquet\")\n",
    "train_tax_registry_provider_c = pl.read_parquet(dataPath + \"parquet_files/train/train_tax_registry_c_1.parquet\")\n"
   ]
  },
  {
   "cell_type": "code",
   "execution_count": 5,
   "metadata": {},
   "outputs": [
    {
     "data": {
      "text/plain": [
       "(3275770, 5)"
      ]
     },
     "execution_count": 5,
     "metadata": {},
     "output_type": "execute_result"
    }
   ],
   "source": [
    "train_tax_registry_provider_a.shape"
   ]
  },
  {
   "cell_type": "code",
   "execution_count": 6,
   "metadata": {},
   "outputs": [
    {
     "data": {
      "text/plain": [
       "(1107933, 5)"
      ]
     },
     "execution_count": 6,
     "metadata": {},
     "output_type": "execute_result"
    }
   ],
   "source": [
    "train_tax_registry_provider_b.shape"
   ]
  },
  {
   "cell_type": "code",
   "execution_count": 7,
   "metadata": {},
   "outputs": [
    {
     "data": {
      "text/plain": [
       "(3343800, 5)"
      ]
     },
     "execution_count": 7,
     "metadata": {},
     "output_type": "execute_result"
    }
   ],
   "source": [
    "train_tax_registry_provider_c.shape"
   ]
  },
  {
   "cell_type": "markdown",
   "metadata": {},
   "source": [
    "The columns are different for the tables. We cannot concatenate naively."
   ]
  },
  {
   "cell_type": "code",
   "execution_count": 19,
   "metadata": {},
   "outputs": [],
   "source": [
    "column_total = list(set(train_tax_registry_provider_a.columns + train_tax_registry_provider_b.columns + train_tax_registry_provider_c.columns))\n",
    "column_total.sort()"
   ]
  },
  {
   "cell_type": "code",
   "execution_count": 20,
   "metadata": {},
   "outputs": [
    {
     "data": {
      "text/plain": [
       "['amount_4527230A',\n",
       " 'amount_4917619A',\n",
       " 'case_id',\n",
       " 'deductiondate_4917603D',\n",
       " 'employername_160M',\n",
       " 'name_4527232M',\n",
       " 'name_4917606M',\n",
       " 'num_group1',\n",
       " 'pmtamount_36A',\n",
       " 'processingdate_168D',\n",
       " 'recorddate_4527225D']"
      ]
     },
     "execution_count": 20,
     "metadata": {},
     "output_type": "execute_result"
    }
   ],
   "source": [
    "column_total"
   ]
  },
  {
   "cell_type": "code",
   "execution_count": 22,
   "metadata": {},
   "outputs": [
    {
     "data": {
      "text/plain": [
       "<bound method DataFrame.head of shape: (1_107_933, 5)\n",
       "┌─────────┬─────────────────┬────────────────────────┬───────────────┬────────────┐\n",
       "│ case_id ┆ amount_4917619A ┆ deductiondate_4917603D ┆ name_4917606M ┆ num_group1 │\n",
       "│ ---     ┆ ---             ┆ ---                    ┆ ---           ┆ ---        │\n",
       "│ i64     ┆ f64             ┆ str                    ┆ str           ┆ i64        │\n",
       "╞═════════╪═════════════════╪════════════════════════╪═══════════════╪════════════╡\n",
       "│ 49435   ┆ 6885.0          ┆ 2019-10-16             ┆ 6b730375      ┆ 7          │\n",
       "│ 49435   ┆ 6885.0          ┆ 2019-10-16             ┆ 6b730375      ┆ 1          │\n",
       "│ 49435   ┆ 6885.0          ┆ 2019-10-16             ┆ 6b730375      ┆ 8          │\n",
       "│ 49435   ┆ 6885.0          ┆ 2019-10-16             ┆ 6b730375      ┆ 3          │\n",
       "│ 49435   ┆ 6885.0          ┆ 2019-10-16             ┆ 6b730375      ┆ 4          │\n",
       "│ …       ┆ …               ┆ …                      ┆ …             ┆ …          │\n",
       "│ 2703452 ┆ 7290.0          ┆ 2020-06-11             ┆ ad68e80f      ┆ 2          │\n",
       "│ 2703452 ┆ 10638.0         ┆ 2020-08-05             ┆ ad68e80f      ┆ 4          │\n",
       "│ 2703452 ┆ 15552.0         ┆ 2020-07-07             ┆ 3ba7682e      ┆ 3          │\n",
       "│ 2703452 ┆ 6033.6          ┆ 2020-05-05             ┆ 5502675a      ┆ 0          │\n",
       "│ 2703452 ┆ 15228.0         ┆ 2020-06-11             ┆ ad68e80f      ┆ 1          │\n",
       "└─────────┴─────────────────┴────────────────────────┴───────────────┴────────────┘>"
      ]
     },
     "execution_count": 22,
     "metadata": {},
     "output_type": "execute_result"
    }
   ],
   "source": [
    "train_tax_registry_provider_b.head"
   ]
  },
  {
   "cell_type": "code",
   "execution_count": 12,
   "metadata": {},
   "outputs": [
    {
     "data": {
      "text/plain": [
       "<bound method DataFrame.head of shape: (3_275_770, 5)\n",
       "┌─────────┬─────────────────┬───────────────┬────────────┬─────────────────────┐\n",
       "│ case_id ┆ amount_4527230A ┆ name_4527232M ┆ num_group1 ┆ recorddate_4527225D │\n",
       "│ ---     ┆ ---             ┆ ---           ┆ ---        ┆ ---                 │\n",
       "│ i64     ┆ f64             ┆ str           ┆ i64        ┆ str                 │\n",
       "╞═════════╪═════════════════╪═══════════════╪════════════╪═════════════════════╡\n",
       "│ 28631   ┆ 1946.0          ┆ f980a1ea      ┆ 2          ┆ 2019-09-13          │\n",
       "│ 28631   ┆ 711.0           ┆ f980a1ea      ┆ 3          ┆ 2019-09-13          │\n",
       "│ 28631   ┆ 3616.4001       ┆ f980a1ea      ┆ 0          ┆ 2019-09-13          │\n",
       "│ 28631   ┆ 2600.0          ┆ f980a1ea      ┆ 1          ┆ 2019-09-13          │\n",
       "│ 28632   ┆ 2564.0          ┆ 5f9b74f5      ┆ 5          ┆ 2019-09-13          │\n",
       "│ …       ┆ …               ┆ …             ┆ …          ┆ …                   │\n",
       "│ 2701515 ┆ 356.0           ┆ 5e180ef0      ┆ 7          ┆ 2020-10-09          │\n",
       "│ 2701515 ┆ 479.80002       ┆ 5e180ef0      ┆ 6          ┆ 2020-10-09          │\n",
       "│ 2702290 ┆ 850.0           ┆ 94721311      ┆ 1          ┆ 2020-10-13          │\n",
       "│ 2702290 ┆ 850.0           ┆ 94721311      ┆ 2          ┆ 2020-10-13          │\n",
       "│ 2702290 ┆ 850.0           ┆ 94721311      ┆ 0          ┆ 2020-10-13          │\n",
       "└─────────┴─────────────────┴───────────────┴────────────┴─────────────────────┘>"
      ]
     },
     "execution_count": 12,
     "metadata": {},
     "output_type": "execute_result"
    }
   ],
   "source": [
    "train_tax_registry_provider_a.head"
   ]
  },
  {
   "cell_type": "code",
   "execution_count": null,
   "metadata": {},
   "outputs": [],
   "source": [
    "['amount_4527230A',\n",
    " 'amount_4917619A',\n",
    " 'case_id',\n",
    " 'deductiondate_4917603D',\n",
    " 'employername_160M',\n",
    " 'name_4527232M',\n",
    " 'name_4917606M',\n",
    " 'num_group1',\n",
    " 'pmtamount_36A',\n",
    " 'processingdate_168D',\n",
    " 'recorddate_4527225D']"
   ]
  },
  {
   "cell_type": "code",
   "execution_count": 25,
   "metadata": {},
   "outputs": [
    {
     "data": {
      "text/plain": [
       "['case_id',\n",
       " 'employername_160M',\n",
       " 'num_group1',\n",
       " 'pmtamount_36A',\n",
       " 'processingdate_168D']"
      ]
     },
     "execution_count": 25,
     "metadata": {},
     "output_type": "execute_result"
    }
   ],
   "source": [
    "train_tax_registry_provider_c.columns"
   ]
  },
  {
   "cell_type": "markdown",
   "metadata": {},
   "source": [
    "Features: \n",
    "\n",
    "- 'case id': not clear why is related to the loan? \n",
    "- 'name_4527232M', 'name_4917606M': name of the employee\n",
    "- 'num_group1' historic index. To understand. \n",
    "- pmtamount_36A: amount of tax deduction by bureau \n",
    "\n",
    "\n",
    "!!! THESE COLUMNS ARE PROBABLY THE SAME\n",
    "\n",
    "- 'deductiondate_4917603D': tax deduction date (table b)\n",
    "- 'processingdate_168D': when the tax deduction was made (table c)\n",
    "- 'recorddate_4527225D': record date of taxe deduction.  (table a)"
   ]
  }
 ],
 "metadata": {
  "kernelspec": {
   "display_name": "kaggle_competition",
   "language": "python",
   "name": "python3"
  },
  "language_info": {
   "codemirror_mode": {
    "name": "ipython",
    "version": 3
   },
   "file_extension": ".py",
   "mimetype": "text/x-python",
   "name": "python",
   "nbconvert_exporter": "python",
   "pygments_lexer": "ipython3",
   "version": "3.8.18"
  }
 },
 "nbformat": 4,
 "nbformat_minor": 2
}
