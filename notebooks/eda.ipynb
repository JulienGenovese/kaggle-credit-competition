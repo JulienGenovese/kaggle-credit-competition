{
 "cells": [
  {
   "cell_type": "code",
   "execution_count": 1,
   "metadata": {},
   "outputs": [],
   "source": [
    "import pandas as pd\n",
    "import os\n",
    "import matplotlib.pyplot as plt\n",
    "import seaborn as sns"
   ]
  },
  {
   "cell_type": "code",
   "execution_count": 2,
   "metadata": {},
   "outputs": [],
   "source": [
    "pd.set_option('display.max_columns', None) # we want to display all columns in this notebook\n",
    "pd.set_option('display.max_rows', 500)\n",
    "\n",
    "# aesthetics\n",
    "default_color_1 = 'darkblue'\n",
    "default_color_2 = 'darkgreen'\n",
    "default_color_3 = 'darkred'"
   ]
  },
  {
   "cell_type": "code",
   "execution_count": 3,
   "metadata": {},
   "outputs": [],
   "source": [
    "os.chdir('./..')"
   ]
  },
  {
   "cell_type": "code",
   "execution_count": 4,
   "metadata": {},
   "outputs": [],
   "source": [
    "path_training = \"data/parquet_files/train\"\n",
    "train_base_path = os.path.join(path_training, \"train_base.parquet\")"
   ]
  },
  {
   "cell_type": "code",
   "execution_count": 5,
   "metadata": {},
   "outputs": [],
   "source": [
    "df_train = pd.read_parquet(train_base_path)"
   ]
  },
  {
   "cell_type": "code",
   "execution_count": 6,
   "metadata": {},
   "outputs": [
    {
     "name": "stdout",
     "output_type": "stream",
     "text": [
      "<class 'pandas.core.frame.DataFrame'>\n",
      "RangeIndex: 1526659 entries, 0 to 1526658\n",
      "Data columns (total 5 columns):\n",
      " #   Column         Non-Null Count    Dtype \n",
      "---  ------         --------------    ----- \n",
      " 0   case_id        1526659 non-null  int64 \n",
      " 1   date_decision  1526659 non-null  object\n",
      " 2   MONTH          1526659 non-null  int64 \n",
      " 3   WEEK_NUM       1526659 non-null  int64 \n",
      " 4   target         1526659 non-null  int64 \n",
      "dtypes: int64(4), object(1)\n",
      "memory usage: 58.2+ MB\n"
     ]
    }
   ],
   "source": [
    "df_train.info()"
   ]
  },
  {
   "cell_type": "code",
   "execution_count": 7,
   "metadata": {},
   "outputs": [
    {
     "data": {
      "text/html": [
       "<div>\n",
       "<style scoped>\n",
       "    .dataframe tbody tr th:only-of-type {\n",
       "        vertical-align: middle;\n",
       "    }\n",
       "\n",
       "    .dataframe tbody tr th {\n",
       "        vertical-align: top;\n",
       "    }\n",
       "\n",
       "    .dataframe thead th {\n",
       "        text-align: right;\n",
       "    }\n",
       "</style>\n",
       "<table border=\"1\" class=\"dataframe\">\n",
       "  <thead>\n",
       "    <tr style=\"text-align: right;\">\n",
       "      <th></th>\n",
       "      <th>case_id</th>\n",
       "      <th>date_decision</th>\n",
       "      <th>MONTH</th>\n",
       "      <th>WEEK_NUM</th>\n",
       "      <th>target</th>\n",
       "    </tr>\n",
       "  </thead>\n",
       "  <tbody>\n",
       "    <tr>\n",
       "      <th>count</th>\n",
       "      <td>1.526659e+06</td>\n",
       "      <td>1526659</td>\n",
       "      <td>1.526659e+06</td>\n",
       "      <td>1.526659e+06</td>\n",
       "      <td>1.526659e+06</td>\n",
       "    </tr>\n",
       "    <tr>\n",
       "      <th>unique</th>\n",
       "      <td>NaN</td>\n",
       "      <td>644</td>\n",
       "      <td>NaN</td>\n",
       "      <td>NaN</td>\n",
       "      <td>NaN</td>\n",
       "    </tr>\n",
       "    <tr>\n",
       "      <th>top</th>\n",
       "      <td>NaN</td>\n",
       "      <td>2019-11-29</td>\n",
       "      <td>NaN</td>\n",
       "      <td>NaN</td>\n",
       "      <td>NaN</td>\n",
       "    </tr>\n",
       "    <tr>\n",
       "      <th>freq</th>\n",
       "      <td>NaN</td>\n",
       "      <td>8812</td>\n",
       "      <td>NaN</td>\n",
       "      <td>NaN</td>\n",
       "      <td>NaN</td>\n",
       "    </tr>\n",
       "    <tr>\n",
       "      <th>mean</th>\n",
       "      <td>1.286077e+06</td>\n",
       "      <td>NaN</td>\n",
       "      <td>2.019363e+05</td>\n",
       "      <td>4.076904e+01</td>\n",
       "      <td>3.143728e-02</td>\n",
       "    </tr>\n",
       "    <tr>\n",
       "      <th>std</th>\n",
       "      <td>7.189466e+05</td>\n",
       "      <td>NaN</td>\n",
       "      <td>4.473597e+01</td>\n",
       "      <td>2.379798e+01</td>\n",
       "      <td>1.744964e-01</td>\n",
       "    </tr>\n",
       "    <tr>\n",
       "      <th>min</th>\n",
       "      <td>0.000000e+00</td>\n",
       "      <td>NaN</td>\n",
       "      <td>2.019010e+05</td>\n",
       "      <td>0.000000e+00</td>\n",
       "      <td>0.000000e+00</td>\n",
       "    </tr>\n",
       "    <tr>\n",
       "      <th>25%</th>\n",
       "      <td>7.661975e+05</td>\n",
       "      <td>NaN</td>\n",
       "      <td>2.019060e+05</td>\n",
       "      <td>2.300000e+01</td>\n",
       "      <td>0.000000e+00</td>\n",
       "    </tr>\n",
       "    <tr>\n",
       "      <th>50%</th>\n",
       "      <td>1.357358e+06</td>\n",
       "      <td>NaN</td>\n",
       "      <td>2.019100e+05</td>\n",
       "      <td>4.000000e+01</td>\n",
       "      <td>0.000000e+00</td>\n",
       "    </tr>\n",
       "    <tr>\n",
       "      <th>75%</th>\n",
       "      <td>1.739022e+06</td>\n",
       "      <td>NaN</td>\n",
       "      <td>2.020010e+05</td>\n",
       "      <td>5.500000e+01</td>\n",
       "      <td>0.000000e+00</td>\n",
       "    </tr>\n",
       "    <tr>\n",
       "      <th>max</th>\n",
       "      <td>2.703454e+06</td>\n",
       "      <td>NaN</td>\n",
       "      <td>2.020100e+05</td>\n",
       "      <td>9.100000e+01</td>\n",
       "      <td>1.000000e+00</td>\n",
       "    </tr>\n",
       "  </tbody>\n",
       "</table>\n",
       "</div>"
      ],
      "text/plain": [
       "             case_id date_decision         MONTH      WEEK_NUM        target\n",
       "count   1.526659e+06       1526659  1.526659e+06  1.526659e+06  1.526659e+06\n",
       "unique           NaN           644           NaN           NaN           NaN\n",
       "top              NaN    2019-11-29           NaN           NaN           NaN\n",
       "freq             NaN          8812           NaN           NaN           NaN\n",
       "mean    1.286077e+06           NaN  2.019363e+05  4.076904e+01  3.143728e-02\n",
       "std     7.189466e+05           NaN  4.473597e+01  2.379798e+01  1.744964e-01\n",
       "min     0.000000e+00           NaN  2.019010e+05  0.000000e+00  0.000000e+00\n",
       "25%     7.661975e+05           NaN  2.019060e+05  2.300000e+01  0.000000e+00\n",
       "50%     1.357358e+06           NaN  2.019100e+05  4.000000e+01  0.000000e+00\n",
       "75%     1.739022e+06           NaN  2.020010e+05  5.500000e+01  0.000000e+00\n",
       "max     2.703454e+06           NaN  2.020100e+05  9.100000e+01  1.000000e+00"
      ]
     },
     "execution_count": 7,
     "metadata": {},
     "output_type": "execute_result"
    }
   ],
   "source": [
    "df_train.describe(include='all')"
   ]
  },
  {
   "cell_type": "code",
   "execution_count": null,
   "metadata": {},
   "outputs": [],
   "source": [
    "# plot MONTH distribution\n",
    "plt.figure(figsize=(8,3))\n",
    "df_train.MONTH.value_counts().sort_index().plot(kind='bar', color=default_color_1)\n",
    "plt.title('MONTH')\n",
    "plt.grid()\n",
    "plt.show()"
   ]
  }
 ],
 "metadata": {
  "kernelspec": {
   "display_name": "kaggle_competition",
   "language": "python",
   "name": "python3"
  },
  "language_info": {
   "codemirror_mode": {
    "name": "ipython",
    "version": 3
   },
   "file_extension": ".py",
   "mimetype": "text/x-python",
   "name": "python",
   "nbconvert_exporter": "python",
   "pygments_lexer": "ipython3",
   "version": "3.8.18"
  }
 },
 "nbformat": 4,
 "nbformat_minor": 2
}
