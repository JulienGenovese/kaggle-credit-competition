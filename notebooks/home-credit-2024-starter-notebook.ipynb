{
 "cells": [
  {
   "cell_type": "markdown",
   "id": "c6ffbd85",
   "metadata": {
    "_cell_guid": "b1076dfc-b9ad-4769-8c92-a6c4dae69d19",
    "_uuid": "8f2839f25d086af736a60e9eeb907d3b93b6e0e5",
    "papermill": {
     "duration": 0.007009,
     "end_time": "2024-02-07T21:27:57.505355",
     "exception": false,
     "start_time": "2024-02-07T21:27:57.498346",
     "status": "completed"
    },
    "tags": []
   },
   "source": [
    "# Example Notebook\n",
    "\n",
    "Welcome to the example notebook for the Home Credit Kaggle competition. The goal of this competition is to determine how likely a customer is going to default on an issued loan. The main difference between the [first](https://www.kaggle.com/c/home-credit-default-risk) and this competition is that now your submission will be scored with a custom metric that will take into account how well the model performs in future. A decline in performance will be penalized. The goal is to create a model that is stable and performs well in the future.\n",
    "\n",
    "In this notebook you will see how to:\n",
    "* Load the data\n",
    "* Join tables with Polars - a DataFrame library implemented in Rust language, designed to be blazingy fast and memory efficient.  \n",
    "* Create simple aggregation features\n",
    "* Train a LightGBM model\n",
    "* Create a submission table\n",
    "\n",
    "## Load the data"
   ]
  },
  {
   "cell_type": "code",
   "execution_count": 1,
   "id": "00187238",
   "metadata": {
    "execution": {
     "iopub.execute_input": "2024-02-07T21:27:57.520412Z",
     "iopub.status.busy": "2024-02-07T21:27:57.520013Z",
     "iopub.status.idle": "2024-02-07T21:28:01.736666Z",
     "shell.execute_reply": "2024-02-07T21:28:01.735326Z"
    },
    "papermill": {
     "duration": 4.227484,
     "end_time": "2024-02-07T21:28:01.739621",
     "exception": false,
     "start_time": "2024-02-07T21:27:57.512137",
     "status": "completed"
    },
    "tags": []
   },
   "outputs": [],
   "source": [
    "import polars as pl\n",
    "import numpy as np\n",
    "import pandas as pd\n",
    "import lightgbm as lgb\n",
    "from sklearn.model_selection import train_test_split\n",
    "from sklearn.metrics import roc_auc_score \n",
    "\n",
    "dataPath = \"../data/\""
   ]
  },
  {
   "cell_type": "code",
   "execution_count": 2,
   "id": "14b1f90b",
   "metadata": {
    "execution": {
     "iopub.execute_input": "2024-02-07T21:28:01.755445Z",
     "iopub.status.busy": "2024-02-07T21:28:01.755022Z",
     "iopub.status.idle": "2024-02-07T21:28:01.764738Z",
     "shell.execute_reply": "2024-02-07T21:28:01.763428Z"
    },
    "papermill": {
     "duration": 0.020544,
     "end_time": "2024-02-07T21:28:01.767089",
     "exception": false,
     "start_time": "2024-02-07T21:28:01.746545",
     "status": "completed"
    },
    "tags": []
   },
   "outputs": [],
   "source": [
    "def set_table_dtypes(df: pl.DataFrame) -> pl.DataFrame:\n",
    "    # implement here all desired dtypes for tables\n",
    "    # the following is just an example\n",
    "    for col in df.columns:\n",
    "        # last letter of column name will help you determine the type\n",
    "        if col[-1] in (\"P\", \"A\"):\n",
    "            df = df.with_columns(pl.col(col).cast(pl.Float64).alias(col))\n",
    "\n",
    "    return df\n",
    "# conversion to cathegorical\n",
    "def convert_strings(df: pd.DataFrame) -> pd.DataFrame:\n",
    "    for col in df.columns:  \n",
    "        if df[col].dtype.name in ['object', 'string']:\n",
    "            df[col] = df[col].astype(\"string\").astype('category')\n",
    "            current_categories = df[col].cat.categories\n",
    "            new_categories = current_categories.to_list() + [\"Unknown\"]\n",
    "            new_dtype = pd.CategoricalDtype(categories=new_categories, ordered=True)\n",
    "            df[col] = df[col].astype(new_dtype)\n",
    "    return df"
   ]
  },
  {
   "cell_type": "code",
   "execution_count": 3,
   "id": "2635bfc9",
   "metadata": {},
   "outputs": [
    {
     "data": {
      "text/plain": [
       "'../data/parquet_files/train/train_base.parquet'"
      ]
     },
     "execution_count": 3,
     "metadata": {},
     "output_type": "execute_result"
    }
   ],
   "source": [
    "dataPath + \"parquet_files/train/train_base.parquet\""
   ]
  },
  {
   "cell_type": "markdown",
   "id": "7cab90bb",
   "metadata": {},
   "source": [
    "Three dataframes related with static info and "
   ]
  },
  {
   "cell_type": "code",
   "execution_count": 4,
   "id": "016b91f9",
   "metadata": {
    "execution": {
     "iopub.execute_input": "2024-02-07T21:28:01.782683Z",
     "iopub.status.busy": "2024-02-07T21:28:01.782161Z",
     "iopub.status.idle": "2024-02-07T21:28:20.978046Z",
     "shell.execute_reply": "2024-02-07T21:28:20.977092Z"
    },
    "papermill": {
     "duration": 19.207089,
     "end_time": "2024-02-07T21:28:20.980847",
     "exception": false,
     "start_time": "2024-02-07T21:28:01.773758",
     "status": "completed"
    },
    "tags": []
   },
   "outputs": [],
   "source": [
    "train_basetable = pl.read_parquet(dataPath + \"parquet_files/train/train_base.parquet\")\n",
    "train_static = pl.concat(\n",
    "    [\n",
    "        pl.read_parquet(dataPath + \"parquet_files/train/train_static_0_0.parquet\").pipe(set_table_dtypes),\n",
    "        pl.read_parquet(dataPath + \"parquet_files/train/train_static_0_1.parquet\").pipe(set_table_dtypes),\n",
    "    ],\n",
    "    how=\"vertical_relaxed\",\n",
    ")\n",
    "train_static_cb = pl.read_parquet(dataPath + \"parquet_files/train/train_static_cb_0.parquet\").pipe(set_table_dtypes)\n",
    "train_person_1 = pl.read_parquet(dataPath + \"parquet_files/train/train_person_1.parquet\").pipe(set_table_dtypes) \n",
    "train_credit_bureau_b_2 = pl.read_parquet(dataPath + \"parquet_files/train/train_credit_bureau_b_2.parquet\").pipe(set_table_dtypes) "
   ]
  },
  {
   "cell_type": "code",
   "execution_count": 5,
   "id": "49513470",
   "metadata": {},
   "outputs": [
    {
     "data": {
      "text/plain": [
       "['case_id',\n",
       " 'actualdpdtolerance_344P',\n",
       " 'amtinstpaidbefduel24m_4187115A',\n",
       " 'annuity_780A',\n",
       " 'annuitynextmonth_57A',\n",
       " 'applicationcnt_361L',\n",
       " 'applications30d_658L',\n",
       " 'applicationscnt_1086L',\n",
       " 'applicationscnt_464L',\n",
       " 'applicationscnt_629L',\n",
       " 'applicationscnt_867L',\n",
       " 'avgdbddpdlast24m_3658932P',\n",
       " 'avgdbddpdlast3m_4187120P',\n",
       " 'avgdbdtollast24m_4525197P',\n",
       " 'avgdpdtolclosure24_3658938P',\n",
       " 'avginstallast24m_3658937A',\n",
       " 'avglnamtstart24m_4525187A',\n",
       " 'avgmaxdpdlast9m_3716943P',\n",
       " 'avgoutstandbalancel6m_4187114A',\n",
       " 'avgpmtlast12m_4525200A',\n",
       " 'bankacctype_710L',\n",
       " 'cardtype_51L',\n",
       " 'clientscnt12m_3712952L',\n",
       " 'clientscnt3m_3712950L',\n",
       " 'clientscnt6m_3712949L',\n",
       " 'clientscnt_100L',\n",
       " 'clientscnt_1022L',\n",
       " 'clientscnt_1071L',\n",
       " 'clientscnt_1130L',\n",
       " 'clientscnt_136L',\n",
       " 'clientscnt_157L',\n",
       " 'clientscnt_257L',\n",
       " 'clientscnt_304L',\n",
       " 'clientscnt_360L',\n",
       " 'clientscnt_493L',\n",
       " 'clientscnt_533L',\n",
       " 'clientscnt_887L',\n",
       " 'clientscnt_946L',\n",
       " 'cntincpaycont9m_3716944L',\n",
       " 'cntpmts24_3658933L',\n",
       " 'commnoinclast6m_3546845L',\n",
       " 'credamount_770A',\n",
       " 'credtype_322L',\n",
       " 'currdebt_22A',\n",
       " 'currdebtcredtyperange_828A',\n",
       " 'datefirstoffer_1144D',\n",
       " 'datelastinstal40dpd_247D',\n",
       " 'datelastunpaid_3546854D',\n",
       " 'daysoverduetolerancedd_3976961L',\n",
       " 'deferredmnthsnum_166L',\n",
       " 'disbursedcredamount_1113A',\n",
       " 'disbursementtype_67L',\n",
       " 'downpmt_116A',\n",
       " 'dtlastpmtallstes_4499206D',\n",
       " 'eir_270L',\n",
       " 'equalitydataagreement_891L',\n",
       " 'equalityempfrom_62L',\n",
       " 'firstclxcampaign_1125D',\n",
       " 'firstdatedue_489D',\n",
       " 'homephncnt_628L',\n",
       " 'inittransactionamount_650A',\n",
       " 'inittransactioncode_186L',\n",
       " 'interestrate_311L',\n",
       " 'interestrategrace_34L',\n",
       " 'isbidproduct_1095L',\n",
       " 'isbidproductrequest_292L',\n",
       " 'isdebitcard_729L',\n",
       " 'lastactivateddate_801D',\n",
       " 'lastapplicationdate_877D',\n",
       " 'lastapprcommoditycat_1041M',\n",
       " 'lastapprcommoditytypec_5251766M',\n",
       " 'lastapprcredamount_781A',\n",
       " 'lastapprdate_640D',\n",
       " 'lastcancelreason_561M',\n",
       " 'lastdelinqdate_224D',\n",
       " 'lastdependentsnum_448L',\n",
       " 'lastotherinc_902A',\n",
       " 'lastotherlnsexpense_631A',\n",
       " 'lastrejectcommoditycat_161M',\n",
       " 'lastrejectcommodtypec_5251769M',\n",
       " 'lastrejectcredamount_222A',\n",
       " 'lastrejectdate_50D',\n",
       " 'lastrejectreason_759M',\n",
       " 'lastrejectreasonclient_4145040M',\n",
       " 'lastrepayingdate_696D',\n",
       " 'lastst_736L',\n",
       " 'maininc_215A',\n",
       " 'mastercontrelectronic_519L',\n",
       " 'mastercontrexist_109L',\n",
       " 'maxannuity_159A',\n",
       " 'maxannuity_4075009A',\n",
       " 'maxdbddpdlast1m_3658939P',\n",
       " 'maxdbddpdtollast12m_3658940P',\n",
       " 'maxdbddpdtollast6m_4187119P',\n",
       " 'maxdebt4_972A',\n",
       " 'maxdpdfrom6mto36m_3546853P',\n",
       " 'maxdpdinstldate_3546855D',\n",
       " 'maxdpdinstlnum_3546846P',\n",
       " 'maxdpdlast12m_727P',\n",
       " 'maxdpdlast24m_143P',\n",
       " 'maxdpdlast3m_392P',\n",
       " 'maxdpdlast6m_474P',\n",
       " 'maxdpdlast9m_1059P',\n",
       " 'maxdpdtolerance_374P',\n",
       " 'maxinstallast24m_3658928A',\n",
       " 'maxlnamtstart6m_4525199A',\n",
       " 'maxoutstandbalancel12m_4187113A',\n",
       " 'maxpmtlast3m_4525190A',\n",
       " 'mindbddpdlast24m_3658935P',\n",
       " 'mindbdtollast24m_4525191P',\n",
       " 'mobilephncnt_593L',\n",
       " 'monthsannuity_845L',\n",
       " 'numactivecreds_622L',\n",
       " 'numactivecredschannel_414L',\n",
       " 'numactiverelcontr_750L',\n",
       " 'numcontrs3months_479L',\n",
       " 'numincomingpmts_3546848L',\n",
       " 'numinstlallpaidearly3d_817L',\n",
       " 'numinstls_657L',\n",
       " 'numinstlsallpaid_934L',\n",
       " 'numinstlswithdpd10_728L',\n",
       " 'numinstlswithdpd5_4187116L',\n",
       " 'numinstlswithoutdpd_562L',\n",
       " 'numinstmatpaidtearly2d_4499204L',\n",
       " 'numinstpaid_4499208L',\n",
       " 'numinstpaidearly3d_3546850L',\n",
       " 'numinstpaidearly3dest_4493216L',\n",
       " 'numinstpaidearly5d_1087L',\n",
       " 'numinstpaidearly5dest_4493211L',\n",
       " 'numinstpaidearly5dobd_4499205L',\n",
       " 'numinstpaidearly_338L',\n",
       " 'numinstpaidearlyest_4493214L',\n",
       " 'numinstpaidlastcontr_4325080L',\n",
       " 'numinstpaidlate1d_3546852L',\n",
       " 'numinstregularpaid_973L',\n",
       " 'numinstregularpaidest_4493210L',\n",
       " 'numinsttopaygr_769L',\n",
       " 'numinsttopaygrest_4493213L',\n",
       " 'numinstunpaidmax_3546851L',\n",
       " 'numinstunpaidmaxest_4493212L',\n",
       " 'numnotactivated_1143L',\n",
       " 'numpmtchanneldd_318L',\n",
       " 'numrejects9m_859L',\n",
       " 'opencred_647L',\n",
       " 'paytype1st_925L',\n",
       " 'paytype_783L',\n",
       " 'payvacationpostpone_4187118D',\n",
       " 'pctinstlsallpaidearl3d_427L',\n",
       " 'pctinstlsallpaidlat10d_839L',\n",
       " 'pctinstlsallpaidlate1d_3546856L',\n",
       " 'pctinstlsallpaidlate4d_3546849L',\n",
       " 'pctinstlsallpaidlate6d_3546844L',\n",
       " 'pmtnum_254L',\n",
       " 'posfpd10lastmonth_333P',\n",
       " 'posfpd30lastmonth_3976960P',\n",
       " 'posfstqpd30lastmonth_3976962P',\n",
       " 'previouscontdistrict_112M',\n",
       " 'price_1097A',\n",
       " 'sellerplacecnt_915L',\n",
       " 'sellerplacescnt_216L',\n",
       " 'sumoutstandtotal_3546847A',\n",
       " 'sumoutstandtotalest_4493215A',\n",
       " 'totaldebt_9A',\n",
       " 'totalsettled_863A',\n",
       " 'totinstallast1m_4525188A',\n",
       " 'twobodfilling_608L',\n",
       " 'typesuite_864L',\n",
       " 'validfrom_1069D']"
      ]
     },
     "execution_count": 5,
     "metadata": {},
     "output_type": "execute_result"
    }
   ],
   "source": [
    "train_static.columns"
   ]
  },
  {
   "cell_type": "code",
   "execution_count": 6,
   "id": "c3c98e93",
   "metadata": {},
   "outputs": [
    {
     "data": {
      "text/html": [
       "<div><style>\n",
       ".dataframe > thead > tr,\n",
       ".dataframe > tbody > tr {\n",
       "  text-align: right;\n",
       "  white-space: pre-wrap;\n",
       "}\n",
       "</style>\n",
       "<small>shape: (5, 37)</small><table border=\"1\" class=\"dataframe\"><thead><tr><th>case_id</th><th>birth_259D</th><th>birthdate_87D</th><th>childnum_185L</th><th>contaddr_district_15M</th><th>contaddr_matchlist_1032L</th><th>contaddr_smempladdr_334L</th><th>contaddr_zipcode_807M</th><th>education_927M</th><th>empl_employedfrom_271D</th><th>empl_employedtotal_800L</th><th>empl_industry_691L</th><th>empladdr_district_926M</th><th>empladdr_zipcode_114M</th><th>familystate_447L</th><th>gender_992L</th><th>housetype_905L</th><th>housingtype_772L</th><th>incometype_1044T</th><th>isreference_387L</th><th>language1_981M</th><th>mainoccupationinc_384A</th><th>maritalst_703L</th><th>num_group1</th><th>personindex_1023L</th><th>persontype_1072L</th><th>persontype_792L</th><th>registaddr_district_1083M</th><th>registaddr_zipcode_184M</th><th>relationshiptoclient_415T</th><th>relationshiptoclient_642T</th><th>remitter_829L</th><th>role_1084L</th><th>role_993L</th><th>safeguarantyflag_411L</th><th>sex_738L</th><th>type_25L</th></tr><tr><td>i64</td><td>str</td><td>str</td><td>f64</td><td>str</td><td>bool</td><td>bool</td><td>str</td><td>str</td><td>str</td><td>str</td><td>str</td><td>str</td><td>str</td><td>str</td><td>str</td><td>str</td><td>str</td><td>str</td><td>bool</td><td>str</td><td>f64</td><td>str</td><td>i64</td><td>f64</td><td>f64</td><td>f64</td><td>str</td><td>str</td><td>str</td><td>str</td><td>bool</td><td>str</td><td>str</td><td>bool</td><td>str</td><td>str</td></tr></thead><tbody><tr><td>0</td><td>&quot;1986-07-01&quot;</td><td>null</td><td>null</td><td>&quot;P88_18_84&quot;</td><td>false</td><td>false</td><td>&quot;P167_100_165&quot;</td><td>&quot;P97_36_170&quot;</td><td>&quot;2017-09-15&quot;</td><td>&quot;MORE_FIVE&quot;</td><td>&quot;OTHER&quot;</td><td>&quot;P142_57_166&quot;</td><td>&quot;P167_100_165&quot;</td><td>&quot;MARRIED&quot;</td><td>null</td><td>null</td><td>null</td><td>&quot;SALARIED_GOVT&quot;</td><td>null</td><td>&quot;P10_39_147&quot;</td><td>10800.0</td><td>null</td><td>0</td><td>0.0</td><td>1.0</td><td>1.0</td><td>&quot;P88_18_84&quot;</td><td>&quot;P167_100_165&quot;</td><td>null</td><td>null</td><td>null</td><td>&quot;CL&quot;</td><td>null</td><td>true</td><td>&quot;F&quot;</td><td>&quot;PRIMARY_MOBILE…</td></tr><tr><td>0</td><td>null</td><td>null</td><td>null</td><td>&quot;a55475b1&quot;</td><td>null</td><td>null</td><td>&quot;a55475b1&quot;</td><td>&quot;a55475b1&quot;</td><td>null</td><td>null</td><td>null</td><td>&quot;a55475b1&quot;</td><td>&quot;a55475b1&quot;</td><td>null</td><td>null</td><td>null</td><td>null</td><td>null</td><td>null</td><td>&quot;a55475b1&quot;</td><td>null</td><td>null</td><td>1</td><td>1.0</td><td>1.0</td><td>4.0</td><td>&quot;a55475b1&quot;</td><td>&quot;a55475b1&quot;</td><td>&quot;SPOUSE&quot;</td><td>null</td><td>false</td><td>&quot;EM&quot;</td><td>null</td><td>null</td><td>null</td><td>&quot;PHONE&quot;</td></tr><tr><td>0</td><td>null</td><td>null</td><td>null</td><td>&quot;a55475b1&quot;</td><td>null</td><td>null</td><td>&quot;a55475b1&quot;</td><td>&quot;a55475b1&quot;</td><td>null</td><td>null</td><td>null</td><td>&quot;a55475b1&quot;</td><td>&quot;a55475b1&quot;</td><td>null</td><td>null</td><td>null</td><td>null</td><td>null</td><td>null</td><td>&quot;a55475b1&quot;</td><td>null</td><td>null</td><td>2</td><td>2.0</td><td>4.0</td><td>5.0</td><td>&quot;a55475b1&quot;</td><td>&quot;a55475b1&quot;</td><td>&quot;COLLEAGUE&quot;</td><td>&quot;SPOUSE&quot;</td><td>false</td><td>&quot;PE&quot;</td><td>null</td><td>null</td><td>null</td><td>&quot;PHONE&quot;</td></tr><tr><td>0</td><td>null</td><td>null</td><td>null</td><td>&quot;a55475b1&quot;</td><td>null</td><td>null</td><td>&quot;a55475b1&quot;</td><td>&quot;a55475b1&quot;</td><td>null</td><td>null</td><td>null</td><td>&quot;a55475b1&quot;</td><td>&quot;a55475b1&quot;</td><td>null</td><td>null</td><td>null</td><td>null</td><td>null</td><td>null</td><td>&quot;a55475b1&quot;</td><td>null</td><td>null</td><td>3</td><td>null</td><td>5.0</td><td>null</td><td>&quot;a55475b1&quot;</td><td>&quot;a55475b1&quot;</td><td>null</td><td>&quot;COLLEAGUE&quot;</td><td>null</td><td>&quot;PE&quot;</td><td>null</td><td>null</td><td>null</td><td>&quot;PHONE&quot;</td></tr><tr><td>1</td><td>&quot;1957-08-01&quot;</td><td>null</td><td>null</td><td>&quot;P103_93_94&quot;</td><td>false</td><td>false</td><td>&quot;P176_37_166&quot;</td><td>&quot;P97_36_170&quot;</td><td>&quot;2008-10-29&quot;</td><td>&quot;MORE_FIVE&quot;</td><td>&quot;OTHER&quot;</td><td>&quot;P49_46_174&quot;</td><td>&quot;P160_59_140&quot;</td><td>&quot;DIVORCED&quot;</td><td>null</td><td>null</td><td>null</td><td>&quot;SALARIED_GOVT&quot;</td><td>null</td><td>&quot;P10_39_147&quot;</td><td>10000.0</td><td>null</td><td>0</td><td>0.0</td><td>1.0</td><td>1.0</td><td>&quot;P103_93_94&quot;</td><td>&quot;P176_37_166&quot;</td><td>null</td><td>null</td><td>null</td><td>&quot;CL&quot;</td><td>null</td><td>true</td><td>&quot;M&quot;</td><td>&quot;PRIMARY_MOBILE…</td></tr></tbody></table></div>"
      ],
      "text/plain": [
       "shape: (5, 37)\n",
       "┌─────────┬────────────┬────────────┬───────────┬───┬───────────┬───────────┬──────────┬───────────┐\n",
       "│ case_id ┆ birth_259D ┆ birthdate_ ┆ childnum_ ┆ … ┆ role_993L ┆ safeguara ┆ sex_738L ┆ type_25L  │\n",
       "│ ---     ┆ ---        ┆ 87D        ┆ 185L      ┆   ┆ ---       ┆ ntyflag_4 ┆ ---      ┆ ---       │\n",
       "│ i64     ┆ str        ┆ ---        ┆ ---       ┆   ┆ str       ┆ 11L       ┆ str      ┆ str       │\n",
       "│         ┆            ┆ str        ┆ f64       ┆   ┆           ┆ ---       ┆          ┆           │\n",
       "│         ┆            ┆            ┆           ┆   ┆           ┆ bool      ┆          ┆           │\n",
       "╞═════════╪════════════╪════════════╪═══════════╪═══╪═══════════╪═══════════╪══════════╪═══════════╡\n",
       "│ 0       ┆ 1986-07-01 ┆ null       ┆ null      ┆ … ┆ null      ┆ true      ┆ F        ┆ PRIMARY_M │\n",
       "│         ┆            ┆            ┆           ┆   ┆           ┆           ┆          ┆ OBILE     │\n",
       "│ 0       ┆ null       ┆ null       ┆ null      ┆ … ┆ null      ┆ null      ┆ null     ┆ PHONE     │\n",
       "│ 0       ┆ null       ┆ null       ┆ null      ┆ … ┆ null      ┆ null      ┆ null     ┆ PHONE     │\n",
       "│ 0       ┆ null       ┆ null       ┆ null      ┆ … ┆ null      ┆ null      ┆ null     ┆ PHONE     │\n",
       "│ 1       ┆ 1957-08-01 ┆ null       ┆ null      ┆ … ┆ null      ┆ true      ┆ M        ┆ PRIMARY_M │\n",
       "│         ┆            ┆            ┆           ┆   ┆           ┆           ┆          ┆ OBILE     │\n",
       "└─────────┴────────────┴────────────┴───────────┴───┴───────────┴───────────┴──────────┴───────────┘"
      ]
     },
     "execution_count": 6,
     "metadata": {},
     "output_type": "execute_result"
    }
   ],
   "source": [
    "train_person_1.head(5)"
   ]
  },
  {
   "cell_type": "code",
   "execution_count": null,
   "id": "4d48ff4b",
   "metadata": {},
   "outputs": [],
   "source": []
  },
  {
   "cell_type": "code",
   "execution_count": 7,
   "id": "3a45a479",
   "metadata": {},
   "outputs": [
    {
     "data": {
      "text/plain": [
       "[0, 1, 2, 3]"
      ]
     },
     "execution_count": 7,
     "metadata": {},
     "output_type": "execute_result"
    }
   ],
   "source": [
    "train_person_1.filter(train_person_1[\"case_id\"] == 169381)[\"num_group1\"].to_list()"
   ]
  },
  {
   "cell_type": "code",
   "execution_count": 8,
   "id": "db2bd45a",
   "metadata": {},
   "outputs": [
    {
     "data": {
      "text/plain": [
       "[0, 1, 2, 3, 4, 5, 6, 7, 8, 9]"
      ]
     },
     "execution_count": 8,
     "metadata": {},
     "output_type": "execute_result"
    }
   ],
   "source": [
    "train_person_1.filter(train_person_1[\"case_id\"] == 706273)[\"num_group1\"].to_list()"
   ]
  },
  {
   "cell_type": "code",
   "execution_count": 9,
   "id": "fd68f3de",
   "metadata": {},
   "outputs": [
    {
     "data": {
      "text/html": [
       "<div><style>\n",
       ".dataframe > thead > tr,\n",
       ".dataframe > tbody > tr {\n",
       "  text-align: right;\n",
       "  white-space: pre-wrap;\n",
       "}\n",
       "</style>\n",
       "<small>shape: (8, 2)</small><table border=\"1\" class=\"dataframe\"><thead><tr><th>birth_259D</th><th>num_group1</th></tr><tr><td>str</td><td>i64</td></tr></thead><tbody><tr><td>&quot;1970-05-01&quot;</td><td>0</td></tr><tr><td>null</td><td>1</td></tr><tr><td>null</td><td>2</td></tr><tr><td>null</td><td>3</td></tr><tr><td>null</td><td>4</td></tr><tr><td>null</td><td>5</td></tr><tr><td>null</td><td>6</td></tr><tr><td>null</td><td>7</td></tr></tbody></table></div>"
      ],
      "text/plain": [
       "shape: (8, 2)\n",
       "┌────────────┬────────────┐\n",
       "│ birth_259D ┆ num_group1 │\n",
       "│ ---        ┆ ---        │\n",
       "│ str        ┆ i64        │\n",
       "╞════════════╪════════════╡\n",
       "│ 1970-05-01 ┆ 0          │\n",
       "│ null       ┆ 1          │\n",
       "│ null       ┆ 2          │\n",
       "│ null       ┆ 3          │\n",
       "│ null       ┆ 4          │\n",
       "│ null       ┆ 5          │\n",
       "│ null       ┆ 6          │\n",
       "│ null       ┆ 7          │\n",
       "└────────────┴────────────┘"
      ]
     },
     "execution_count": 9,
     "metadata": {},
     "output_type": "execute_result"
    }
   ],
   "source": [
    "train_person_1.filter(train_person_1[\"case_id\"] == 1757817).sort(by=\"num_group1\", descending=False)[[\"birth_259D\", \"num_group1\"]]"
   ]
  },
  {
   "cell_type": "code",
   "execution_count": 10,
   "id": "2e159a5f",
   "metadata": {},
   "outputs": [
    {
     "name": "stderr",
     "output_type": "stream",
     "text": [
      "/tmp/ipykernel_56981/2348889328.py:1: DeprecationWarning: `groupby` is deprecated. It has been renamed to `group_by`.\n",
      "  train_person_1.groupby(\"case_id\").count().sort(by=\"count\", descending=True)\n",
      "/tmp/ipykernel_56981/2348889328.py:1: DeprecationWarning: `count` is deprecated. It has been renamed to `len`.\n",
      "  train_person_1.groupby(\"case_id\").count().sort(by=\"count\", descending=True)\n"
     ]
    },
    {
     "data": {
      "text/html": [
       "<div><style>\n",
       ".dataframe > thead > tr,\n",
       ".dataframe > tbody > tr {\n",
       "  text-align: right;\n",
       "  white-space: pre-wrap;\n",
       "}\n",
       "</style>\n",
       "<small>shape: (1_526_659, 2)</small><table border=\"1\" class=\"dataframe\"><thead><tr><th>case_id</th><th>count</th></tr><tr><td>i64</td><td>u32</td></tr></thead><tbody><tr><td>706273</td><td>10</td></tr><tr><td>147982</td><td>10</td></tr><tr><td>1757817</td><td>8</td></tr><tr><td>693470</td><td>8</td></tr><tr><td>141673</td><td>8</td></tr><tr><td>608607</td><td>8</td></tr><tr><td>25018</td><td>8</td></tr><tr><td>124748</td><td>8</td></tr><tr><td>127574</td><td>7</td></tr><tr><td>198353</td><td>7</td></tr><tr><td>688069</td><td>7</td></tr><tr><td>9983</td><td>7</td></tr><tr><td>&hellip;</td><td>&hellip;</td></tr><tr><td>1714893</td><td>1</td></tr><tr><td>1830915</td><td>1</td></tr><tr><td>1932488</td><td>1</td></tr><tr><td>1621180</td><td>1</td></tr><tr><td>1600461</td><td>1</td></tr><tr><td>1352739</td><td>1</td></tr><tr><td>1831808</td><td>1</td></tr><tr><td>1836923</td><td>1</td></tr><tr><td>1693781</td><td>1</td></tr><tr><td>1943772</td><td>1</td></tr><tr><td>1625485</td><td>1</td></tr><tr><td>719723</td><td>1</td></tr></tbody></table></div>"
      ],
      "text/plain": [
       "shape: (1_526_659, 2)\n",
       "┌─────────┬───────┐\n",
       "│ case_id ┆ count │\n",
       "│ ---     ┆ ---   │\n",
       "│ i64     ┆ u32   │\n",
       "╞═════════╪═══════╡\n",
       "│ 706273  ┆ 10    │\n",
       "│ 147982  ┆ 10    │\n",
       "│ 1757817 ┆ 8     │\n",
       "│ 693470  ┆ 8     │\n",
       "│ 141673  ┆ 8     │\n",
       "│ …       ┆ …     │\n",
       "│ 1836923 ┆ 1     │\n",
       "│ 1693781 ┆ 1     │\n",
       "│ 1943772 ┆ 1     │\n",
       "│ 1625485 ┆ 1     │\n",
       "│ 719723  ┆ 1     │\n",
       "└─────────┴───────┘"
      ]
     },
     "execution_count": 10,
     "metadata": {},
     "output_type": "execute_result"
    }
   ],
   "source": [
    "train_person_1.groupby(\"case_id\").count().sort(by=\"count\", descending=True)"
   ]
  },
  {
   "cell_type": "code",
   "execution_count": 11,
   "id": "262643ab",
   "metadata": {},
   "outputs": [
    {
     "data": {
      "text/html": [
       "<div><style>\n",
       ".dataframe > thead > tr,\n",
       ".dataframe > tbody > tr {\n",
       "  text-align: right;\n",
       "  white-space: pre-wrap;\n",
       "}\n",
       "</style>\n",
       "<small>shape: (5, 6)</small><table border=\"1\" class=\"dataframe\"><thead><tr><th>case_id</th><th>num_group1</th><th>num_group2</th><th>pmts_date_1107D</th><th>pmts_dpdvalue_108P</th><th>pmts_pmtsoverdue_635A</th></tr><tr><td>i64</td><td>i64</td><td>i64</td><td>str</td><td>f64</td><td>f64</td></tr></thead><tbody><tr><td>467</td><td>2</td><td>19</td><td>&quot;2018-05-15&quot;</td><td>0.0</td><td>0.0</td></tr><tr><td>467</td><td>2</td><td>25</td><td>&quot;2018-11-15&quot;</td><td>0.0</td><td>0.0</td></tr><tr><td>467</td><td>2</td><td>18</td><td>&quot;2018-04-15&quot;</td><td>0.0</td><td>0.0</td></tr><tr><td>467</td><td>2</td><td>0</td><td>&quot;2016-10-15&quot;</td><td>0.0</td><td>0.0</td></tr><tr><td>467</td><td>2</td><td>6</td><td>&quot;2017-04-15&quot;</td><td>0.0</td><td>0.0</td></tr></tbody></table></div>"
      ],
      "text/plain": [
       "shape: (5, 6)\n",
       "┌─────────┬────────────┬────────────┬─────────────────┬────────────────────┬───────────────────────┐\n",
       "│ case_id ┆ num_group1 ┆ num_group2 ┆ pmts_date_1107D ┆ pmts_dpdvalue_108P ┆ pmts_pmtsoverdue_635A │\n",
       "│ ---     ┆ ---        ┆ ---        ┆ ---             ┆ ---                ┆ ---                   │\n",
       "│ i64     ┆ i64        ┆ i64        ┆ str             ┆ f64                ┆ f64                   │\n",
       "╞═════════╪════════════╪════════════╪═════════════════╪════════════════════╪═══════════════════════╡\n",
       "│ 467     ┆ 2          ┆ 19         ┆ 2018-05-15      ┆ 0.0                ┆ 0.0                   │\n",
       "│ 467     ┆ 2          ┆ 25         ┆ 2018-11-15      ┆ 0.0                ┆ 0.0                   │\n",
       "│ 467     ┆ 2          ┆ 18         ┆ 2018-04-15      ┆ 0.0                ┆ 0.0                   │\n",
       "│ 467     ┆ 2          ┆ 0          ┆ 2016-10-15      ┆ 0.0                ┆ 0.0                   │\n",
       "│ 467     ┆ 2          ┆ 6          ┆ 2017-04-15      ┆ 0.0                ┆ 0.0                   │\n",
       "└─────────┴────────────┴────────────┴─────────────────┴────────────────────┴───────────────────────┘"
      ]
     },
     "execution_count": 11,
     "metadata": {},
     "output_type": "execute_result"
    }
   ],
   "source": [
    "train_credit_bureau_b_2.head(5)"
   ]
  },
  {
   "cell_type": "code",
   "execution_count": 12,
   "id": "bf8d8336",
   "metadata": {
    "execution": {
     "iopub.execute_input": "2024-02-07T21:28:20.996615Z",
     "iopub.status.busy": "2024-02-07T21:28:20.995823Z",
     "iopub.status.idle": "2024-02-07T21:28:21.064631Z",
     "shell.execute_reply": "2024-02-07T21:28:21.063597Z"
    },
    "papermill": {
     "duration": 0.079736,
     "end_time": "2024-02-07T21:28:21.067361",
     "exception": false,
     "start_time": "2024-02-07T21:28:20.987625",
     "status": "completed"
    },
    "tags": []
   },
   "outputs": [],
   "source": [
    "test_basetable = pl.read_parquet(dataPath + \"parquet_files/test/test_base.parquet\")\n",
    "test_static = pl.concat(\n",
    "    [\n",
    "        pl.read_parquet(dataPath + \"parquet_files/test/test_static_0_0.parquet\").pipe(set_table_dtypes),\n",
    "        pl.read_parquet(dataPath + \"parquet_files/test/test_static_0_1.parquet\").pipe(set_table_dtypes),\n",
    "        pl.read_parquet(dataPath + \"parquet_files/test/test_static_0_2.parquet\").pipe(set_table_dtypes),\n",
    "    ],\n",
    "    how=\"vertical_relaxed\",\n",
    ")\n",
    "test_static_cb = pl.read_parquet(dataPath + \"parquet_files/test/test_static_cb_0.parquet\").pipe(set_table_dtypes)\n",
    "test_person_1 = pl.read_parquet(dataPath + \"parquet_files/test/test_person_1.parquet\").pipe(set_table_dtypes) \n",
    "test_credit_bureau_b_2 = pl.read_parquet(dataPath + \"parquet_files/test/test_credit_bureau_b_2.parquet\").pipe(set_table_dtypes) "
   ]
  },
  {
   "cell_type": "markdown",
   "id": "a93fe797",
   "metadata": {
    "papermill": {
     "duration": 0.006268,
     "end_time": "2024-02-07T21:28:21.080353",
     "exception": false,
     "start_time": "2024-02-07T21:28:21.074085",
     "status": "completed"
    },
    "tags": []
   },
   "source": [
    "## Feature engineering\n",
    "\n",
    "In this part, we can see a simple example of joining tables via `case_id`. Here the loading and joining is done with polars library. Polars library is blazingly fast and has much smaller memory footprint than pandas. "
   ]
  },
  {
   "cell_type": "code",
   "execution_count": 13,
   "id": "eed7be3e",
   "metadata": {
    "execution": {
     "iopub.execute_input": "2024-02-07T21:28:21.095200Z",
     "iopub.status.busy": "2024-02-07T21:28:21.094816Z",
     "iopub.status.idle": "2024-02-07T21:28:22.748078Z",
     "shell.execute_reply": "2024-02-07T21:28:22.747011Z"
    },
    "papermill": {
     "duration": 1.664029,
     "end_time": "2024-02-07T21:28:22.750906",
     "exception": false,
     "start_time": "2024-02-07T21:28:21.086877",
     "status": "completed"
    },
    "tags": []
   },
   "outputs": [
    {
     "name": "stdout",
     "output_type": "stream",
     "text": [
      "['amtinstpaidbefduel24m_4187115A', 'annuity_780A', 'annuitynextmonth_57A', 'avginstallast24m_3658937A', 'avglnamtstart24m_4525187A', 'avgoutstandbalancel6m_4187114A', 'avgpmtlast12m_4525200A', 'credamount_770A', 'currdebt_22A', 'currdebtcredtyperange_828A', 'disbursedcredamount_1113A', 'downpmt_116A', 'inittransactionamount_650A', 'lastapprcommoditycat_1041M', 'lastapprcommoditytypec_5251766M', 'lastapprcredamount_781A', 'lastcancelreason_561M', 'lastotherinc_902A', 'lastotherlnsexpense_631A', 'lastrejectcommoditycat_161M', 'lastrejectcommodtypec_5251769M', 'lastrejectcredamount_222A', 'lastrejectreason_759M', 'lastrejectreasonclient_4145040M', 'maininc_215A', 'maxannuity_159A', 'maxannuity_4075009A', 'maxdebt4_972A', 'maxinstallast24m_3658928A', 'maxlnamtstart6m_4525199A', 'maxoutstandbalancel12m_4187113A', 'maxpmtlast3m_4525190A', 'previouscontdistrict_112M', 'price_1097A', 'sumoutstandtotal_3546847A', 'sumoutstandtotalest_4493215A', 'totaldebt_9A', 'totalsettled_863A', 'totinstallast1m_4525188A']\n",
      "['description_5085714M', 'education_1103M', 'education_88M', 'maritalst_385M', 'maritalst_893M', 'pmtaverage_3A', 'pmtaverage_4527227A', 'pmtaverage_4955615A', 'pmtssum_45A']\n"
     ]
    }
   ],
   "source": [
    "# We need to use aggregation functions in tables with depth > 1, so tables that contain num_group1 column or \n",
    "# also num_group2 column.\n",
    "train_person_1_feats_1 = train_person_1.group_by(\"case_id\").agg(\n",
    "    pl.col(\"mainoccupationinc_384A\").max().alias(\"mainoccupationinc_384A_max\"),\n",
    "    (pl.col(\"incometype_1044T\") == \"SELFEMPLOYED\").max().alias(\"mainoccupationinc_384A_any_selfemployed\")\n",
    ")\n",
    "\n",
    "# Here num_group1=0 has special meaning, it is the person who applied for the loan.\n",
    "train_person_1_feats_2 = train_person_1.select([\"case_id\", \"num_group1\", \"housetype_905L\"]).filter(\n",
    "    pl.col(\"num_group1\") == 0\n",
    ").drop(\"num_group1\").rename({\"housetype_905L\": \"person_housetype\"})\n",
    "\n",
    "# Here we have num_goup1 and num_group2, so we need to aggregate again.\n",
    "train_credit_bureau_b_2_feats = train_credit_bureau_b_2.group_by(\"case_id\").agg(\n",
    "    pl.col(\"pmts_pmtsoverdue_635A\").max().alias(\"pmts_pmtsoverdue_635A_max\"),\n",
    "    (pl.col(\"pmts_dpdvalue_108P\") > 31).max().alias(\"pmts_dpdvalue_108P_over31\")\n",
    ")\n",
    "\n",
    "# We will process in this examples only A-type and M-type columns, so we need to select them.\n",
    "selected_static_cols = []\n",
    "for col in train_static.columns:\n",
    "    if col[-1] in (\"A\", \"M\"):\n",
    "        selected_static_cols.append(col)\n",
    "print(selected_static_cols)\n",
    "\n",
    "selected_static_cb_cols = []\n",
    "for col in train_static_cb.columns:\n",
    "    if col[-1] in (\"A\", \"M\"):\n",
    "        selected_static_cb_cols.append(col)\n",
    "print(selected_static_cb_cols)\n",
    "\n",
    "# Join all tables together.\n",
    "data = train_basetable.join(\n",
    "    train_static.select([\"case_id\"]+selected_static_cols), how=\"left\", on=\"case_id\"\n",
    ").join(\n",
    "    train_static_cb.select([\"case_id\"]+selected_static_cb_cols), how=\"left\", on=\"case_id\"\n",
    ").join(\n",
    "    train_person_1_feats_1, how=\"left\", on=\"case_id\"\n",
    ").join(\n",
    "    train_person_1_feats_2, how=\"left\", on=\"case_id\"\n",
    ").join(\n",
    "    train_credit_bureau_b_2_feats, how=\"left\", on=\"case_id\"\n",
    ")"
   ]
  },
  {
   "cell_type": "code",
   "execution_count": 14,
   "id": "c22cf0a5",
   "metadata": {},
   "outputs": [
    {
     "data": {
      "text/plain": [
       "(1526659, 5)"
      ]
     },
     "execution_count": 14,
     "metadata": {},
     "output_type": "execute_result"
    }
   ],
   "source": [
    "train_basetable.shape"
   ]
  },
  {
   "cell_type": "code",
   "execution_count": 15,
   "id": "58ae4ea3",
   "metadata": {},
   "outputs": [
    {
     "data": {
      "text/plain": [
       "(1526659, 58)"
      ]
     },
     "execution_count": 15,
     "metadata": {},
     "output_type": "execute_result"
    }
   ],
   "source": [
    "data.shape"
   ]
  },
  {
   "cell_type": "code",
   "execution_count": 16,
   "id": "3a910ed6",
   "metadata": {},
   "outputs": [
    {
     "data": {
      "text/html": [
       "<div><style>\n",
       ".dataframe > thead > tr,\n",
       ".dataframe > tbody > tr {\n",
       "  text-align: right;\n",
       "  white-space: pre-wrap;\n",
       "}\n",
       "</style>\n",
       "<small>shape: (4, 37)</small><table border=\"1\" class=\"dataframe\"><thead><tr><th>case_id</th><th>birth_259D</th><th>birthdate_87D</th><th>childnum_185L</th><th>contaddr_district_15M</th><th>contaddr_matchlist_1032L</th><th>contaddr_smempladdr_334L</th><th>contaddr_zipcode_807M</th><th>education_927M</th><th>empl_employedfrom_271D</th><th>empl_employedtotal_800L</th><th>empl_industry_691L</th><th>empladdr_district_926M</th><th>empladdr_zipcode_114M</th><th>familystate_447L</th><th>gender_992L</th><th>housetype_905L</th><th>housingtype_772L</th><th>incometype_1044T</th><th>isreference_387L</th><th>language1_981M</th><th>mainoccupationinc_384A</th><th>maritalst_703L</th><th>num_group1</th><th>personindex_1023L</th><th>persontype_1072L</th><th>persontype_792L</th><th>registaddr_district_1083M</th><th>registaddr_zipcode_184M</th><th>relationshiptoclient_415T</th><th>relationshiptoclient_642T</th><th>remitter_829L</th><th>role_1084L</th><th>role_993L</th><th>safeguarantyflag_411L</th><th>sex_738L</th><th>type_25L</th></tr><tr><td>i64</td><td>str</td><td>str</td><td>f64</td><td>str</td><td>bool</td><td>bool</td><td>str</td><td>str</td><td>str</td><td>str</td><td>str</td><td>str</td><td>str</td><td>str</td><td>str</td><td>str</td><td>str</td><td>str</td><td>bool</td><td>str</td><td>f64</td><td>str</td><td>i64</td><td>f64</td><td>f64</td><td>f64</td><td>str</td><td>str</td><td>str</td><td>str</td><td>bool</td><td>str</td><td>str</td><td>bool</td><td>str</td><td>str</td></tr></thead><tbody><tr><td>169381</td><td>&quot;1990-10-01&quot;</td><td>null</td><td>null</td><td>&quot;P11_36_178&quot;</td><td>false</td><td>false</td><td>&quot;P97_107_128&quot;</td><td>&quot;P33_146_175&quot;</td><td>&quot;2017-07-15&quot;</td><td>&quot;MORE_FIVE&quot;</td><td>&quot;OTHER&quot;</td><td>&quot;P98_137_111&quot;</td><td>&quot;P91_47_168&quot;</td><td>&quot;MARRIED&quot;</td><td>null</td><td>null</td><td>null</td><td>&quot;PRIVATE_SECTOR…</td><td>null</td><td>&quot;P10_39_147&quot;</td><td>65000.0</td><td>null</td><td>0</td><td>0.0</td><td>1.0</td><td>1.0</td><td>&quot;P11_36_178&quot;</td><td>&quot;P97_107_128&quot;</td><td>null</td><td>null</td><td>null</td><td>&quot;CL&quot;</td><td>null</td><td>true</td><td>&quot;F&quot;</td><td>&quot;PRIMARY_MOBILE…</td></tr><tr><td>169381</td><td>null</td><td>null</td><td>null</td><td>&quot;a55475b1&quot;</td><td>null</td><td>null</td><td>&quot;a55475b1&quot;</td><td>&quot;a55475b1&quot;</td><td>null</td><td>null</td><td>null</td><td>&quot;a55475b1&quot;</td><td>&quot;a55475b1&quot;</td><td>null</td><td>null</td><td>null</td><td>null</td><td>null</td><td>null</td><td>&quot;a55475b1&quot;</td><td>null</td><td>null</td><td>1</td><td>1.0</td><td>1.0</td><td>5.0</td><td>&quot;a55475b1&quot;</td><td>&quot;a55475b1&quot;</td><td>&quot;OTHER_RELATIVE…</td><td>null</td><td>false</td><td>&quot;EM&quot;</td><td>null</td><td>null</td><td>null</td><td>&quot;PHONE&quot;</td></tr><tr><td>169381</td><td>null</td><td>null</td><td>null</td><td>&quot;a55475b1&quot;</td><td>null</td><td>null</td><td>&quot;a55475b1&quot;</td><td>&quot;a55475b1&quot;</td><td>null</td><td>null</td><td>null</td><td>&quot;a55475b1&quot;</td><td>&quot;a55475b1&quot;</td><td>null</td><td>null</td><td>null</td><td>null</td><td>null</td><td>null</td><td>&quot;a55475b1&quot;</td><td>null</td><td>null</td><td>2</td><td>2.0</td><td>5.0</td><td>4.0</td><td>&quot;a55475b1&quot;</td><td>&quot;a55475b1&quot;</td><td>&quot;SPOUSE&quot;</td><td>&quot;OTHER_RELATIVE…</td><td>false</td><td>&quot;PE&quot;</td><td>null</td><td>null</td><td>null</td><td>&quot;PHONE&quot;</td></tr><tr><td>169381</td><td>null</td><td>null</td><td>null</td><td>&quot;a55475b1&quot;</td><td>null</td><td>null</td><td>&quot;a55475b1&quot;</td><td>&quot;a55475b1&quot;</td><td>null</td><td>null</td><td>null</td><td>&quot;a55475b1&quot;</td><td>&quot;a55475b1&quot;</td><td>null</td><td>null</td><td>null</td><td>null</td><td>null</td><td>null</td><td>&quot;a55475b1&quot;</td><td>null</td><td>null</td><td>3</td><td>null</td><td>4.0</td><td>null</td><td>&quot;a55475b1&quot;</td><td>&quot;a55475b1&quot;</td><td>null</td><td>&quot;SPOUSE&quot;</td><td>null</td><td>&quot;PE&quot;</td><td>null</td><td>null</td><td>null</td><td>&quot;PHONE&quot;</td></tr></tbody></table></div>"
      ],
      "text/plain": [
       "shape: (4, 37)\n",
       "┌─────────┬────────────┬────────────┬───────────┬───┬───────────┬───────────┬──────────┬───────────┐\n",
       "│ case_id ┆ birth_259D ┆ birthdate_ ┆ childnum_ ┆ … ┆ role_993L ┆ safeguara ┆ sex_738L ┆ type_25L  │\n",
       "│ ---     ┆ ---        ┆ 87D        ┆ 185L      ┆   ┆ ---       ┆ ntyflag_4 ┆ ---      ┆ ---       │\n",
       "│ i64     ┆ str        ┆ ---        ┆ ---       ┆   ┆ str       ┆ 11L       ┆ str      ┆ str       │\n",
       "│         ┆            ┆ str        ┆ f64       ┆   ┆           ┆ ---       ┆          ┆           │\n",
       "│         ┆            ┆            ┆           ┆   ┆           ┆ bool      ┆          ┆           │\n",
       "╞═════════╪════════════╪════════════╪═══════════╪═══╪═══════════╪═══════════╪══════════╪═══════════╡\n",
       "│ 169381  ┆ 1990-10-01 ┆ null       ┆ null      ┆ … ┆ null      ┆ true      ┆ F        ┆ PRIMARY_M │\n",
       "│         ┆            ┆            ┆           ┆   ┆           ┆           ┆          ┆ OBILE     │\n",
       "│ 169381  ┆ null       ┆ null       ┆ null      ┆ … ┆ null      ┆ null      ┆ null     ┆ PHONE     │\n",
       "│ 169381  ┆ null       ┆ null       ┆ null      ┆ … ┆ null      ┆ null      ┆ null     ┆ PHONE     │\n",
       "│ 169381  ┆ null       ┆ null       ┆ null      ┆ … ┆ null      ┆ null      ┆ null     ┆ PHONE     │\n",
       "└─────────┴────────────┴────────────┴───────────┴───┴───────────┴───────────┴──────────┴───────────┘"
      ]
     },
     "execution_count": 16,
     "metadata": {},
     "output_type": "execute_result"
    }
   ],
   "source": [
    "train_person_1.filter(train_person_1[\"case_id\"] == 169381)"
   ]
  },
  {
   "cell_type": "code",
   "execution_count": 17,
   "id": "3cc4a29b",
   "metadata": {
    "execution": {
     "iopub.execute_input": "2024-02-07T21:28:22.766849Z",
     "iopub.status.busy": "2024-02-07T21:28:22.766164Z",
     "iopub.status.idle": "2024-02-07T21:28:22.780619Z",
     "shell.execute_reply": "2024-02-07T21:28:22.779457Z"
    },
    "papermill": {
     "duration": 0.025248,
     "end_time": "2024-02-07T21:28:22.783159",
     "exception": false,
     "start_time": "2024-02-07T21:28:22.757911",
     "status": "completed"
    },
    "tags": []
   },
   "outputs": [],
   "source": [
    "test_person_1_feats_1 = test_person_1.group_by(\"case_id\").agg(\n",
    "    pl.col(\"mainoccupationinc_384A\").max().alias(\"mainoccupationinc_384A_max\"),\n",
    "    (pl.col(\"incometype_1044T\") == \"SELFEMPLOYED\").max().alias(\"mainoccupationinc_384A_any_selfemployed\")\n",
    ")\n",
    "\n",
    "test_person_1_feats_2 = test_person_1.select([\"case_id\", \"num_group1\", \"housetype_905L\"]).filter(\n",
    "    pl.col(\"num_group1\") == 0\n",
    ").drop(\"num_group1\").rename({\"housetype_905L\": \"person_housetype\"})\n",
    "\n",
    "test_credit_bureau_b_2_feats = test_credit_bureau_b_2.group_by(\"case_id\").agg(\n",
    "    pl.col(\"pmts_pmtsoverdue_635A\").max().alias(\"pmts_pmtsoverdue_635A_max\"),\n",
    "    (pl.col(\"pmts_dpdvalue_108P\") > 31).max().alias(\"pmts_dpdvalue_108P_over31\")\n",
    ")\n",
    "\n",
    "data_submission = test_basetable.join(\n",
    "    test_static.select([\"case_id\"]+selected_static_cols), how=\"left\", on=\"case_id\"\n",
    ").join(\n",
    "    test_static_cb.select([\"case_id\"]+selected_static_cb_cols), how=\"left\", on=\"case_id\"\n",
    ").join(\n",
    "    test_person_1_feats_1, how=\"left\", on=\"case_id\"\n",
    ").join(\n",
    "    test_person_1_feats_2, how=\"left\", on=\"case_id\"\n",
    ").join(\n",
    "    test_credit_bureau_b_2_feats, how=\"left\", on=\"case_id\"\n",
    ")"
   ]
  },
  {
   "cell_type": "code",
   "execution_count": 18,
   "id": "7195e82a",
   "metadata": {
    "execution": {
     "iopub.execute_input": "2024-02-07T21:28:22.798812Z",
     "iopub.status.busy": "2024-02-07T21:28:22.798415Z",
     "iopub.status.idle": "2024-02-07T21:28:32.218372Z",
     "shell.execute_reply": "2024-02-07T21:28:32.217254Z"
    },
    "papermill": {
     "duration": 9.431294,
     "end_time": "2024-02-07T21:28:32.221469",
     "exception": false,
     "start_time": "2024-02-07T21:28:22.790175",
     "status": "completed"
    },
    "tags": []
   },
   "outputs": [
    {
     "name": "stdout",
     "output_type": "stream",
     "text": [
      "['amtinstpaidbefduel24m_4187115A', 'annuity_780A', 'annuitynextmonth_57A', 'avginstallast24m_3658937A', 'avglnamtstart24m_4525187A', 'avgoutstandbalancel6m_4187114A', 'avgpmtlast12m_4525200A', 'credamount_770A', 'currdebt_22A', 'currdebtcredtyperange_828A', 'disbursedcredamount_1113A', 'downpmt_116A', 'inittransactionamount_650A', 'lastapprcommoditycat_1041M', 'lastapprcommoditytypec_5251766M', 'lastapprcredamount_781A', 'lastcancelreason_561M', 'lastotherinc_902A', 'lastotherlnsexpense_631A', 'lastrejectcommoditycat_161M', 'lastrejectcommodtypec_5251769M', 'lastrejectcredamount_222A', 'lastrejectreason_759M', 'lastrejectreasonclient_4145040M', 'maininc_215A', 'maxannuity_159A', 'maxannuity_4075009A', 'maxdebt4_972A', 'maxinstallast24m_3658928A', 'maxlnamtstart6m_4525199A', 'maxoutstandbalancel12m_4187113A', 'maxpmtlast3m_4525190A', 'previouscontdistrict_112M', 'price_1097A', 'sumoutstandtotal_3546847A', 'sumoutstandtotalest_4493215A', 'totaldebt_9A', 'totalsettled_863A', 'totinstallast1m_4525188A', 'description_5085714M', 'education_1103M', 'education_88M', 'maritalst_385M', 'maritalst_893M', 'pmtaverage_3A', 'pmtaverage_4527227A', 'pmtaverage_4955615A', 'pmtssum_45A']\n"
     ]
    }
   ],
   "source": [
    "case_ids = data[\"case_id\"].unique().shuffle(seed=1)\n",
    "case_ids_train, case_ids_test = train_test_split(case_ids, train_size=0.6, random_state=1)\n",
    "case_ids_valid, case_ids_test = train_test_split(case_ids_test, train_size=0.5, random_state=1)\n",
    "\n",
    "cols_pred = []\n",
    "for col in data.columns:\n",
    "    if col[-1].isupper() and col[:-1].islower():\n",
    "        cols_pred.append(col)\n",
    "\n",
    "print(cols_pred)\n",
    "\n",
    "def from_polars_to_pandas(case_ids: pl.DataFrame) -> pl.DataFrame:\n",
    "    return (\n",
    "        data.filter(pl.col(\"case_id\").is_in(case_ids))[[\"case_id\", \"WEEK_NUM\", \"target\"]].to_pandas(),\n",
    "        data.filter(pl.col(\"case_id\").is_in(case_ids))[cols_pred].to_pandas(),\n",
    "        data.filter(pl.col(\"case_id\").is_in(case_ids))[\"target\"].to_pandas()\n",
    "    )\n",
    "\n",
    "base_train, X_train, y_train = from_polars_to_pandas(case_ids_train)\n",
    "base_valid, X_valid, y_valid = from_polars_to_pandas(case_ids_valid)\n",
    "base_test, X_test, y_test = from_polars_to_pandas(case_ids_test)\n",
    "\n",
    "for df in [X_train, X_valid, X_test]:\n",
    "    df = convert_strings(df)"
   ]
  },
  {
   "cell_type": "code",
   "execution_count": 19,
   "id": "2f8b9166",
   "metadata": {},
   "outputs": [
    {
     "ename": "NameError",
     "evalue": "name 'sys' is not defined",
     "output_type": "error",
     "traceback": [
      "\u001b[0;31m---------------------------------------------------------------------------\u001b[0m",
      "\u001b[0;31mNameError\u001b[0m                                 Traceback (most recent call last)",
      "Cell \u001b[0;32mIn[19], line 1\u001b[0m\n\u001b[0;32m----> 1\u001b[0m \u001b[43msys\u001b[49m\u001b[38;5;241m.\u001b[39mexit()\n",
      "\u001b[0;31mNameError\u001b[0m: name 'sys' is not defined"
     ]
    }
   ],
   "source": [
    "sys.exit()"
   ]
  },
  {
   "cell_type": "code",
   "execution_count": null,
   "id": "6a275858",
   "metadata": {
    "execution": {
     "iopub.execute_input": "2024-02-07T21:28:32.238895Z",
     "iopub.status.busy": "2024-02-07T21:28:32.238439Z",
     "iopub.status.idle": "2024-02-07T21:28:32.246480Z",
     "shell.execute_reply": "2024-02-07T21:28:32.244638Z"
    },
    "papermill": {
     "duration": 0.019901,
     "end_time": "2024-02-07T21:28:32.249064",
     "exception": false,
     "start_time": "2024-02-07T21:28:32.229163",
     "status": "completed"
    },
    "tags": []
   },
   "outputs": [],
   "source": [
    "print(f\"Train: {X_train.shape}\")\n",
    "print(f\"Valid: {X_valid.shape}\")\n",
    "print(f\"Test: {X_test.shape}\")"
   ]
  },
  {
   "cell_type": "markdown",
   "id": "661f3324",
   "metadata": {
    "papermill": {
     "duration": 0.006806,
     "end_time": "2024-02-07T21:28:32.263196",
     "exception": false,
     "start_time": "2024-02-07T21:28:32.256390",
     "status": "completed"
    },
    "tags": []
   },
   "source": [
    "## Training LightGBM\n",
    "\n",
    "Minimal example of LightGBM training is shown below."
   ]
  },
  {
   "cell_type": "code",
   "execution_count": null,
   "id": "fb1d2bc7",
   "metadata": {
    "execution": {
     "iopub.execute_input": "2024-02-07T21:28:32.278983Z",
     "iopub.status.busy": "2024-02-07T21:28:32.278570Z",
     "iopub.status.idle": "2024-02-07T21:29:52.839799Z",
     "shell.execute_reply": "2024-02-07T21:29:52.838506Z"
    },
    "papermill": {
     "duration": 80.572251,
     "end_time": "2024-02-07T21:29:52.842351",
     "exception": false,
     "start_time": "2024-02-07T21:28:32.270100",
     "status": "completed"
    },
    "tags": []
   },
   "outputs": [],
   "source": [
    "lgb_train = lgb.Dataset(X_train, label=y_train)\n",
    "lgb_valid = lgb.Dataset(X_valid, label=y_valid, reference=lgb_train)\n",
    "\n",
    "params = {\n",
    "    \"boosting_type\": \"gbdt\",\n",
    "    \"objective\": \"binary\",\n",
    "    \"metric\": \"auc\",\n",
    "    \"max_depth\": 3,\n",
    "    \"num_leaves\": 31,\n",
    "    \"learning_rate\": 0.05,\n",
    "    \"feature_fraction\": 0.9,\n",
    "    \"bagging_fraction\": 0.8,\n",
    "    \"bagging_freq\": 5,\n",
    "    \"n_estimators\": 1000,\n",
    "    \"verbose\": -1,\n",
    "}\n",
    "\n",
    "gbm = lgb.train(\n",
    "    params,\n",
    "    lgb_train,\n",
    "    valid_sets=lgb_valid,\n",
    "    callbacks=[lgb.log_evaluation(50), lgb.early_stopping(10)]\n",
    ")"
   ]
  },
  {
   "cell_type": "markdown",
   "id": "159e73d6",
   "metadata": {
    "papermill": {
     "duration": 0.008222,
     "end_time": "2024-02-07T21:29:52.859056",
     "exception": false,
     "start_time": "2024-02-07T21:29:52.850834",
     "status": "completed"
    },
    "tags": []
   },
   "source": [
    "Evaluation with AUC and then comparison with the stability metric is shown below."
   ]
  },
  {
   "cell_type": "code",
   "execution_count": null,
   "id": "3e5c4fdb",
   "metadata": {
    "execution": {
     "iopub.execute_input": "2024-02-07T21:29:52.878460Z",
     "iopub.status.busy": "2024-02-07T21:29:52.877756Z",
     "iopub.status.idle": "2024-02-07T21:30:15.482110Z",
     "shell.execute_reply": "2024-02-07T21:30:15.480907Z"
    },
    "papermill": {
     "duration": 22.617002,
     "end_time": "2024-02-07T21:30:15.484653",
     "exception": false,
     "start_time": "2024-02-07T21:29:52.867651",
     "status": "completed"
    },
    "tags": []
   },
   "outputs": [],
   "source": [
    "for base, X in [(base_train, X_train), (base_valid, X_valid), (base_test, X_test)]:\n",
    "    y_pred = gbm.predict(X, num_iteration=gbm.best_iteration)\n",
    "    base[\"score\"] = y_pred\n",
    "\n",
    "print(f'The AUC score on the train set is: {roc_auc_score(base_train[\"target\"], base_train[\"score\"])}') \n",
    "print(f'The AUC score on the valid set is: {roc_auc_score(base_valid[\"target\"], base_valid[\"score\"])}') \n",
    "print(f'The AUC score on the test set is: {roc_auc_score(base_test[\"target\"], base_test[\"score\"])}')  "
   ]
  },
  {
   "cell_type": "code",
   "execution_count": null,
   "id": "2e10914f",
   "metadata": {
    "execution": {
     "iopub.execute_input": "2024-02-07T21:30:15.504198Z",
     "iopub.status.busy": "2024-02-07T21:30:15.503723Z",
     "iopub.status.idle": "2024-02-07T21:30:16.621500Z",
     "shell.execute_reply": "2024-02-07T21:30:16.620020Z"
    },
    "papermill": {
     "duration": 1.131134,
     "end_time": "2024-02-07T21:30:16.624526",
     "exception": false,
     "start_time": "2024-02-07T21:30:15.493392",
     "status": "completed"
    },
    "tags": []
   },
   "outputs": [],
   "source": [
    "def gini_stability(base, w_fallingrate=88.0, w_resstd=-0.5):\n",
    "    gini_in_time = base.loc[:, [\"WEEK_NUM\", \"target\", \"score\"]]\\\n",
    "        .sort_values(\"WEEK_NUM\")\\\n",
    "        .groupby(\"WEEK_NUM\")[[\"target\", \"score\"]]\\\n",
    "        .apply(lambda x: 2*roc_auc_score(x[\"target\"], x[\"score\"])-1).tolist()\n",
    "    \n",
    "    x = np.arange(len(gini_in_time))\n",
    "    y = gini_in_time\n",
    "    a, b = np.polyfit(x, y, 1)\n",
    "    y_hat = a*x + b\n",
    "    residuals = y - y_hat\n",
    "    res_std = np.std(residuals)\n",
    "    avg_gini = np.mean(gini_in_time)\n",
    "    return avg_gini + w_fallingrate * min(0, a) + w_resstd * res_std\n",
    "\n",
    "stability_score_train = gini_stability(base_train)\n",
    "stability_score_valid = gini_stability(base_valid)\n",
    "stability_score_test = gini_stability(base_test)\n",
    "\n",
    "print(f'The stability score on the train set is: {stability_score_train}') \n",
    "print(f'The stability score on the valid set is: {stability_score_valid}') \n",
    "print(f'The stability score on the test set is: {stability_score_test}')  "
   ]
  },
  {
   "cell_type": "markdown",
   "id": "e4e23f05",
   "metadata": {
    "papermill": {
     "duration": 0.008408,
     "end_time": "2024-02-07T21:30:16.642325",
     "exception": false,
     "start_time": "2024-02-07T21:30:16.633917",
     "status": "completed"
    },
    "tags": []
   },
   "source": [
    "## Submission\n",
    "\n",
    "Scoring the submission dataset is below, we need to take care of new categories. Then we save the score as a last step. "
   ]
  },
  {
   "cell_type": "code",
   "execution_count": null,
   "id": "a30dccc6",
   "metadata": {
    "execution": {
     "iopub.execute_input": "2024-02-07T21:30:16.662444Z",
     "iopub.status.busy": "2024-02-07T21:30:16.661989Z",
     "iopub.status.idle": "2024-02-07T21:30:16.775835Z",
     "shell.execute_reply": "2024-02-07T21:30:16.774344Z"
    },
    "papermill": {
     "duration": 0.127205,
     "end_time": "2024-02-07T21:30:16.778624",
     "exception": false,
     "start_time": "2024-02-07T21:30:16.651419",
     "status": "completed"
    },
    "tags": []
   },
   "outputs": [],
   "source": [
    "X_submission = data_submission[cols_pred].to_pandas()\n",
    "X_submission = convert_strings(X_submission)\n",
    "categorical_cols = X_train.select_dtypes(include=['category']).columns\n",
    "\n",
    "for col in categorical_cols:\n",
    "    train_categories = set(X_train[col].cat.categories)\n",
    "    submission_categories = set(X_submission[col].cat.categories)\n",
    "    new_categories = submission_categories - train_categories\n",
    "    X_submission.loc[X_submission[col].isin(new_categories), col] = \"Unknown\"\n",
    "    new_dtype = pd.CategoricalDtype(categories=train_categories, ordered=True)\n",
    "    X_train[col] = X_train[col].astype(new_dtype)\n",
    "    X_submission[col] = X_submission[col].astype(new_dtype)\n",
    "\n",
    "y_submission_pred = gbm.predict(X_submission, num_iteration=gbm.best_iteration)"
   ]
  },
  {
   "cell_type": "code",
   "execution_count": null,
   "id": "d8664c2f",
   "metadata": {
    "execution": {
     "iopub.execute_input": "2024-02-07T21:30:16.798722Z",
     "iopub.status.busy": "2024-02-07T21:30:16.798207Z",
     "iopub.status.idle": "2024-02-07T21:30:16.811051Z",
     "shell.execute_reply": "2024-02-07T21:30:16.809721Z"
    },
    "papermill": {
     "duration": 0.026081,
     "end_time": "2024-02-07T21:30:16.813857",
     "exception": false,
     "start_time": "2024-02-07T21:30:16.787776",
     "status": "completed"
    },
    "tags": []
   },
   "outputs": [],
   "source": [
    "submission = pd.DataFrame({\n",
    "    \"case_id\": data_submission[\"case_id\"].to_numpy(),\n",
    "    \"score\": y_submission_pred\n",
    "}).set_index('case_id')\n",
    "submission.to_csv(\"./submission.parquet\")"
   ]
  },
  {
   "cell_type": "markdown",
   "id": "5b7da404",
   "metadata": {
    "papermill": {
     "duration": 0.008614,
     "end_time": "2024-02-07T21:30:16.832643",
     "exception": false,
     "start_time": "2024-02-07T21:30:16.824029",
     "status": "completed"
    },
    "tags": []
   },
   "source": [
    "Best of luck, and most importantly, enjoy the process of learning and discovery! \n",
    "\n",
    "<img src=\"https://i.imgur.com/obVWIBh.png\" alt=\"Image\" width=\"700\"/>"
   ]
  }
 ],
 "metadata": {
  "kaggle": {
   "accelerator": "none",
   "dataSources": [
    {
     "databundleVersionId": 7493015,
     "sourceId": 50160,
     "sourceType": "competition"
    }
   ],
   "dockerImageVersionId": 30635,
   "isGpuEnabled": false,
   "isInternetEnabled": false,
   "language": "python",
   "sourceType": "notebook"
  },
  "kernelspec": {
   "display_name": "Python 3",
   "language": "python",
   "name": "python3"
  },
  "language_info": {
   "codemirror_mode": {
    "name": "ipython",
    "version": 3
   },
   "file_extension": ".py",
   "mimetype": "text/x-python",
   "name": "python",
   "nbconvert_exporter": "python",
   "pygments_lexer": "ipython3",
   "version": "3.8.18"
  },
  "papermill": {
   "default_parameters": {},
   "duration": 145.018038,
   "end_time": "2024-02-07T21:30:18.166484",
   "environment_variables": {},
   "exception": null,
   "input_path": "__notebook__.ipynb",
   "output_path": "__notebook__.ipynb",
   "parameters": {},
   "start_time": "2024-02-07T21:27:53.148446",
   "version": "2.4.0"
  }
 },
 "nbformat": 4,
 "nbformat_minor": 5
}
