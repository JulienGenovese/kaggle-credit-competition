{
 "cells": [
  {
   "cell_type": "code",
   "execution_count": 1,
   "metadata": {},
   "outputs": [],
   "source": [
    "from lightgbm.sklearn import LGBMClassifier\n",
    "from sklearn.model_selection import StratifiedGroupKFold\n",
    "import pandas as pd\n",
    "import xgboost as xgb\n",
    "from sklearn.metrics import roc_auc_score\n",
    "import joblib\n",
    "from datetime import datetime\n",
    "import numpy as np\n",
    "\n",
    "import sys\n",
    "sys.path.append(\"..\")\n",
    "from src.modeling import nestedcv, random_seed\n",
    "\n",
    "random_seed(42)"
   ]
  },
  {
   "cell_type": "markdown",
   "metadata": {},
   "source": [
    "# Setup and data loading"
   ]
  },
  {
   "cell_type": "code",
   "execution_count": 2,
   "metadata": {},
   "outputs": [],
   "source": [
    "### Setup\n",
    "ROOT = '..'\n",
    "EXTENSION = 'parquet'\n",
    "DATA_FOLDER = 'data'"
   ]
  },
  {
   "cell_type": "code",
   "execution_count": 3,
   "metadata": {},
   "outputs": [
    {
     "data": {
      "text/html": [
       "<div>\n",
       "<style scoped>\n",
       "    .dataframe tbody tr th:only-of-type {\n",
       "        vertical-align: middle;\n",
       "    }\n",
       "\n",
       "    .dataframe tbody tr th {\n",
       "        vertical-align: top;\n",
       "    }\n",
       "\n",
       "    .dataframe thead th {\n",
       "        text-align: right;\n",
       "    }\n",
       "</style>\n",
       "<table border=\"1\" class=\"dataframe\">\n",
       "  <thead>\n",
       "    <tr style=\"text-align: right;\">\n",
       "      <th></th>\n",
       "      <th>case_id</th>\n",
       "      <th>date_decision</th>\n",
       "      <th>MONTH</th>\n",
       "      <th>WEEK_NUM</th>\n",
       "      <th>target</th>\n",
       "    </tr>\n",
       "  </thead>\n",
       "  <tbody>\n",
       "    <tr>\n",
       "      <th>0</th>\n",
       "      <td>0</td>\n",
       "      <td>2019-01-03</td>\n",
       "      <td>201901</td>\n",
       "      <td>0</td>\n",
       "      <td>0</td>\n",
       "    </tr>\n",
       "    <tr>\n",
       "      <th>1</th>\n",
       "      <td>1</td>\n",
       "      <td>2019-01-03</td>\n",
       "      <td>201901</td>\n",
       "      <td>0</td>\n",
       "      <td>0</td>\n",
       "    </tr>\n",
       "  </tbody>\n",
       "</table>\n",
       "</div>"
      ],
      "text/plain": [
       "   case_id date_decision   MONTH  WEEK_NUM  target\n",
       "0        0    2019-01-03  201901         0       0\n",
       "1        1    2019-01-03  201901         0       0"
      ]
     },
     "execution_count": 3,
     "metadata": {},
     "output_type": "execute_result"
    }
   ],
   "source": [
    "train = pd.read_parquet(f'{ROOT}/{DATA_FOLDER}/train/train_base.{EXTENSION}')\n",
    "train['date_decision'] = pd.to_datetime(train['date_decision'])\n",
    "train.head(2)"
   ]
  },
  {
   "cell_type": "code",
   "execution_count": 4,
   "metadata": {},
   "outputs": [
    {
     "name": "stderr",
     "output_type": "stream",
     "text": [
      "C:\\Users\\repo7\\AppData\\Local\\Temp\\ipykernel_11116\\4156781601.py:2: DeprecationWarning: DataFrameGroupBy.apply operated on the grouping columns. This behavior is deprecated, and in a future version of pandas the grouping columns will be excluded from the operation. Either pass `include_groups=False` to exclude the groupings or explicitly select the grouping columns after groupby to silence this warning.\n",
      "  train_balanced = train.groupby('target', group_keys=False).apply(\n"
     ]
    },
    {
     "data": {
      "text/plain": [
       "(95988, 5)"
      ]
     },
     "execution_count": 4,
     "metadata": {},
     "output_type": "execute_result"
    }
   ],
   "source": [
    "# Balancing taking the number of positive target as reference\n",
    "train_balanced = train.groupby('target', group_keys=False).apply(\n",
    "    lambda x: x.sample(\n",
    "        min(len(x), train.target.value_counts()[1])\n",
    "        )\n",
    "    ).reset_index(drop=True)\n",
    "\n",
    "train_balanced.shape"
   ]
  },
  {
   "cell_type": "code",
   "execution_count": 5,
   "metadata": {},
   "outputs": [
    {
     "data": {
      "text/html": [
       "<div>\n",
       "<style scoped>\n",
       "    .dataframe tbody tr th:only-of-type {\n",
       "        vertical-align: middle;\n",
       "    }\n",
       "\n",
       "    .dataframe tbody tr th {\n",
       "        vertical-align: top;\n",
       "    }\n",
       "\n",
       "    .dataframe thead th {\n",
       "        text-align: right;\n",
       "    }\n",
       "</style>\n",
       "<table border=\"1\" class=\"dataframe\">\n",
       "  <thead>\n",
       "    <tr style=\"text-align: right;\">\n",
       "      <th></th>\n",
       "      <th>case_id</th>\n",
       "      <th>MONTH</th>\n",
       "      <th>WEEK_NUM</th>\n",
       "      <th>target</th>\n",
       "      <th>actualdpdtolerance_344P</th>\n",
       "      <th>amtinstpaidbefduel24m_4187115A</th>\n",
       "      <th>annuity_780A</th>\n",
       "      <th>annuitynextmonth_57A</th>\n",
       "      <th>applicationcnt_361L</th>\n",
       "      <th>applications30d_658L</th>\n",
       "      <th>...</th>\n",
       "      <th>pmtnum_254L</th>\n",
       "      <th>posfpd10lastmonth_333P</th>\n",
       "      <th>posfpd30lastmonth_3976960P</th>\n",
       "      <th>posfstqpd30lastmonth_3976962P</th>\n",
       "      <th>price_1097A</th>\n",
       "      <th>sellerplacecnt_915L</th>\n",
       "      <th>sellerplacescnt_216L</th>\n",
       "      <th>sumoutstandtotal_3546847A</th>\n",
       "      <th>totaldebt_9A</th>\n",
       "      <th>totalsettled_863A</th>\n",
       "    </tr>\n",
       "  </thead>\n",
       "  <tbody>\n",
       "    <tr>\n",
       "      <th>0</th>\n",
       "      <td>1653686</td>\n",
       "      <td>201911</td>\n",
       "      <td>47</td>\n",
       "      <td>0</td>\n",
       "      <td>0.0</td>\n",
       "      <td>0.000</td>\n",
       "      <td>1769.6000</td>\n",
       "      <td>0.0</td>\n",
       "      <td>0.0</td>\n",
       "      <td>0.0</td>\n",
       "      <td>...</td>\n",
       "      <td>24.0</td>\n",
       "      <td>0.0</td>\n",
       "      <td>0.0</td>\n",
       "      <td>0.0</td>\n",
       "      <td>29496.0</td>\n",
       "      <td>0.0</td>\n",
       "      <td>0.0</td>\n",
       "      <td>0.0</td>\n",
       "      <td>0.0</td>\n",
       "      <td>291421.2</td>\n",
       "    </tr>\n",
       "    <tr>\n",
       "      <th>1</th>\n",
       "      <td>1726009</td>\n",
       "      <td>201912</td>\n",
       "      <td>52</td>\n",
       "      <td>0</td>\n",
       "      <td>0.0</td>\n",
       "      <td>15385.469</td>\n",
       "      <td>1685.6000</td>\n",
       "      <td>0.0</td>\n",
       "      <td>0.0</td>\n",
       "      <td>0.0</td>\n",
       "      <td>...</td>\n",
       "      <td>24.0</td>\n",
       "      <td>0.0</td>\n",
       "      <td>0.0</td>\n",
       "      <td>0.0</td>\n",
       "      <td>28096.0</td>\n",
       "      <td>0.0</td>\n",
       "      <td>2.0</td>\n",
       "      <td>0.0</td>\n",
       "      <td>0.0</td>\n",
       "      <td>34062.0</td>\n",
       "    </tr>\n",
       "    <tr>\n",
       "      <th>2</th>\n",
       "      <td>736389</td>\n",
       "      <td>201907</td>\n",
       "      <td>26</td>\n",
       "      <td>0</td>\n",
       "      <td>0.0</td>\n",
       "      <td>NaN</td>\n",
       "      <td>2297.0000</td>\n",
       "      <td>0.0</td>\n",
       "      <td>0.0</td>\n",
       "      <td>0.0</td>\n",
       "      <td>...</td>\n",
       "      <td>12.0</td>\n",
       "      <td>0.0</td>\n",
       "      <td>0.0</td>\n",
       "      <td>0.0</td>\n",
       "      <td>22198.0</td>\n",
       "      <td>0.0</td>\n",
       "      <td>1.0</td>\n",
       "      <td>NaN</td>\n",
       "      <td>0.0</td>\n",
       "      <td>0.0</td>\n",
       "    </tr>\n",
       "    <tr>\n",
       "      <th>3</th>\n",
       "      <td>1027343</td>\n",
       "      <td>202010</td>\n",
       "      <td>91</td>\n",
       "      <td>0</td>\n",
       "      <td>NaN</td>\n",
       "      <td>NaN</td>\n",
       "      <td>2143.4001</td>\n",
       "      <td>0.0</td>\n",
       "      <td>0.0</td>\n",
       "      <td>0.0</td>\n",
       "      <td>...</td>\n",
       "      <td>12.0</td>\n",
       "      <td>0.0</td>\n",
       "      <td>0.0</td>\n",
       "      <td>0.0</td>\n",
       "      <td>17516.0</td>\n",
       "      <td>0.0</td>\n",
       "      <td>0.0</td>\n",
       "      <td>NaN</td>\n",
       "      <td>0.0</td>\n",
       "      <td>0.0</td>\n",
       "    </tr>\n",
       "    <tr>\n",
       "      <th>4</th>\n",
       "      <td>117009</td>\n",
       "      <td>201903</td>\n",
       "      <td>10</td>\n",
       "      <td>0</td>\n",
       "      <td>0.0</td>\n",
       "      <td>18596.201</td>\n",
       "      <td>1236.2001</td>\n",
       "      <td>0.0</td>\n",
       "      <td>0.0</td>\n",
       "      <td>0.0</td>\n",
       "      <td>...</td>\n",
       "      <td>NaN</td>\n",
       "      <td>0.0</td>\n",
       "      <td>0.0</td>\n",
       "      <td>0.0</td>\n",
       "      <td>NaN</td>\n",
       "      <td>0.0</td>\n",
       "      <td>0.0</td>\n",
       "      <td>0.0</td>\n",
       "      <td>0.0</td>\n",
       "      <td>31960.0</td>\n",
       "    </tr>\n",
       "  </tbody>\n",
       "</table>\n",
       "<p>5 rows × 102 columns</p>\n",
       "</div>"
      ],
      "text/plain": [
       "   case_id   MONTH  WEEK_NUM  target  actualdpdtolerance_344P  \\\n",
       "0  1653686  201911        47       0                      0.0   \n",
       "1  1726009  201912        52       0                      0.0   \n",
       "2   736389  201907        26       0                      0.0   \n",
       "3  1027343  202010        91       0                      NaN   \n",
       "4   117009  201903        10       0                      0.0   \n",
       "\n",
       "   amtinstpaidbefduel24m_4187115A  annuity_780A  annuitynextmonth_57A  \\\n",
       "0                           0.000     1769.6000                   0.0   \n",
       "1                       15385.469     1685.6000                   0.0   \n",
       "2                             NaN     2297.0000                   0.0   \n",
       "3                             NaN     2143.4001                   0.0   \n",
       "4                       18596.201     1236.2001                   0.0   \n",
       "\n",
       "   applicationcnt_361L  applications30d_658L  ...  pmtnum_254L  \\\n",
       "0                  0.0                   0.0  ...         24.0   \n",
       "1                  0.0                   0.0  ...         24.0   \n",
       "2                  0.0                   0.0  ...         12.0   \n",
       "3                  0.0                   0.0  ...         12.0   \n",
       "4                  0.0                   0.0  ...          NaN   \n",
       "\n",
       "   posfpd10lastmonth_333P  posfpd30lastmonth_3976960P  \\\n",
       "0                     0.0                         0.0   \n",
       "1                     0.0                         0.0   \n",
       "2                     0.0                         0.0   \n",
       "3                     0.0                         0.0   \n",
       "4                     0.0                         0.0   \n",
       "\n",
       "   posfstqpd30lastmonth_3976962P  price_1097A  sellerplacecnt_915L  \\\n",
       "0                            0.0      29496.0                  0.0   \n",
       "1                            0.0      28096.0                  0.0   \n",
       "2                            0.0      22198.0                  0.0   \n",
       "3                            0.0      17516.0                  0.0   \n",
       "4                            0.0          NaN                  0.0   \n",
       "\n",
       "   sellerplacescnt_216L  sumoutstandtotal_3546847A  totaldebt_9A  \\\n",
       "0                   0.0                        0.0           0.0   \n",
       "1                   2.0                        0.0           0.0   \n",
       "2                   1.0                        NaN           0.0   \n",
       "3                   0.0                        NaN           0.0   \n",
       "4                   0.0                        0.0           0.0   \n",
       "\n",
       "   totalsettled_863A  \n",
       "0           291421.2  \n",
       "1            34062.0  \n",
       "2                0.0  \n",
       "3                0.0  \n",
       "4            31960.0  \n",
       "\n",
       "[5 rows x 102 columns]"
      ]
     },
     "execution_count": 5,
     "metadata": {},
     "output_type": "execute_result"
    }
   ],
   "source": [
    "# Import static features\n",
    "train_static_0 = pd.read_parquet(f'{ROOT}/{DATA_FOLDER}/train/train_static_0_0.{EXTENSION}')\n",
    "train_static_1 = pd.read_parquet(f'{ROOT}/{DATA_FOLDER}/train/train_static_0_1.{EXTENSION}')\n",
    "train_static_concat = pd.concat([train_static_0, train_static_1])\n",
    "\n",
    "# Getting rid of high missing columns\n",
    "filter_high_na = (train_static_concat.isna().sum()/train_static_concat.shape[0]) < 0.5\n",
    "columns_to_keep = train_static_concat.columns[filter_high_na.values]\n",
    "\n",
    "train_merged = train_balanced.merge(train_static_concat[columns_to_keep], on='case_id', validate='1:1')\n",
    "\n",
    "# Exclude object columns\n",
    "train_merged = train_merged.loc[:, ~train_merged.columns.isin(train_merged.select_dtypes(include=['O', '<M8[ns]']).columns)]\n",
    "\n",
    "train_merged.head()"
   ]
  },
  {
   "cell_type": "code",
   "execution_count": 6,
   "metadata": {},
   "outputs": [],
   "source": [
    "# Save columns for inference later\n",
    "pd.Series([i for i in train_merged.columns if i != 'target'], name='cols').to_csv('{}/{}/output/columns_to_keep.csv'.format(ROOT, DATA_FOLDER), index=False)"
   ]
  },
  {
   "cell_type": "code",
   "execution_count": 7,
   "metadata": {},
   "outputs": [],
   "source": [
    "x = train_merged.drop(['case_id', 'target'], axis=1)\n",
    "y = train_merged['target']\n",
    "weeks = train_merged[\"WEEK_NUM\"]"
   ]
  },
  {
   "cell_type": "markdown",
   "metadata": {},
   "source": [
    "# Nested cross validation"
   ]
  },
  {
   "cell_type": "code",
   "execution_count": 8,
   "metadata": {},
   "outputs": [],
   "source": [
    "cv_inner = StratifiedGroupKFold(n_splits=5, shuffle=True, random_state=42)          \n",
    "cv_outer = StratifiedGroupKFold(n_splits=5, shuffle=True, random_state=42)"
   ]
  },
  {
   "cell_type": "code",
   "execution_count": 9,
   "metadata": {},
   "outputs": [
    {
     "name": "stderr",
     "output_type": "stream",
     "text": [
      "[I 2024-02-20 07:43:46,152] A new study created in memory with name: no-name-e7a6b289-8c89-4f78-bd9b-bb56d7ea0a60\n"
     ]
    },
    {
     "name": "stdout",
     "output_type": "stream",
     "text": [
      "\n",
      "Nested CV: 1 of 5 outer fold\n"
     ]
    },
    {
     "name": "stderr",
     "output_type": "stream",
     "text": [
      "[I 2024-02-20 07:44:01,278] Trial 0 finished with value: 0.7687175753868335 and parameters: {'subsample': 0.39963209507789, 'bagging_fraction': 0.95, 'feature_fraction': 0.8, 'learning_rate': 0.006251373574521752, 'max_depth': 6}. Best is trial 0 with value: 0.7687175753868335.\n",
      "[I 2024-02-20 07:44:22,323] Trial 1 finished with value: 0.7706064455573061 and parameters: {'subsample': 0.22479561626896213, 'bagging_fraction': 0.4, 'feature_fraction': 0.9, 'learning_rate': 0.006358358856676255, 'max_depth': 22}. Best is trial 1 with value: 0.7706064455573061.\n",
      "[I 2024-02-20 07:44:44,713] Trial 2 finished with value: 0.7376648080581714 and parameters: {'subsample': 0.11646759543664197, 'bagging_fraction': 0.95, 'feature_fraction': 0.8500000000000001, 'learning_rate': 0.0004335281794951569, 'max_depth': 7}. Best is trial 1 with value: 0.7706064455573061.\n",
      "[I 2024-02-20 07:45:06,671] Trial 3 finished with value: 0.7566188962656676 and parameters: {'subsample': 0.24672360788274705, 'bagging_fraction': 0.55, 'feature_fraction': 0.7000000000000001, 'learning_rate': 0.0019762189340280074, 'max_depth': 10}. Best is trial 1 with value: 0.7706064455573061.\n",
      "[I 2024-02-20 07:45:21,973] Trial 4 finished with value: 0.7502761037008172 and parameters: {'subsample': 0.5894823157779036, 'bagging_fraction': 0.45, 'feature_fraction': 0.55, 'learning_rate': 0.001256277350380704, 'max_depth': 15}. Best is trial 1 with value: 0.7706064455573061.\n",
      "[I 2024-02-20 07:45:26,389] Trial 5 finished with value: 0.7556954638048181 and parameters: {'subsample': 0.728140769114411, 'bagging_fraction': 0.5, 'feature_fraction': 0.7000000000000001, 'learning_rate': 0.005987474910461402, 'max_depth': 3}. Best is trial 1 with value: 0.7706064455573061.\n",
      "[I 2024-02-20 07:45:36,582] Trial 6 finished with value: 0.7732492261551475 and parameters: {'subsample': 0.5860358815211507, 'bagging_fraction': 0.5, 'feature_fraction': 0.4, 'learning_rate': 0.07025166339242159, 'max_depth': 30}. Best is trial 6 with value: 0.7732492261551475.\n",
      "[I 2024-02-20 07:45:45,785] Trial 7 finished with value: 0.7742283161662724 and parameters: {'subsample': 0.746717878493169, 'bagging_fraction': 0.55, 'feature_fraction': 0.45, 'learning_rate': 0.01129013355909268, 'max_depth': 14}. Best is trial 7 with value: 0.7742283161662724.\n",
      "[I 2024-02-20 07:45:51,695] Trial 8 finished with value: 0.7759637071473793 and parameters: {'subsample': 0.19763058787582308, 'bagging_fraction': 0.65, 'feature_fraction': 0.4, 'learning_rate': 0.053451661106468214, 'max_depth': 9}. Best is trial 8 with value: 0.7759637071473793.\n",
      "[I 2024-02-20 07:45:59,504] Trial 9 finished with value: 0.7667916796028644 and parameters: {'subsample': 0.6300178274831856, 'bagging_fraction': 0.55, 'feature_fraction': 0.7000000000000001, 'learning_rate': 0.004366473592979638, 'max_depth': 7}. Best is trial 8 with value: 0.7759637071473793.\n",
      "[I 2024-02-20 07:46:07,307] Trial 10 finished with value: 0.7754047252180072 and parameters: {'subsample': 0.3996315166137136, 'bagging_fraction': 0.8, 'feature_fraction': 0.55, 'learning_rate': 0.07326662753304228, 'max_depth': 22}. Best is trial 8 with value: 0.7759637071473793.\n",
      "[I 2024-02-20 07:46:15,697] Trial 11 finished with value: 0.7732498138632983 and parameters: {'subsample': 0.37509403529041185, 'bagging_fraction': 0.75, 'feature_fraction': 0.55, 'learning_rate': 0.08131098848678843, 'max_depth': 22}. Best is trial 8 with value: 0.7759637071473793.\n",
      "[I 2024-02-20 07:46:24,659] Trial 12 finished with value: 0.7758569269299915 and parameters: {'subsample': 0.4007689250361602, 'bagging_fraction': 0.75, 'feature_fraction': 0.5, 'learning_rate': 0.027453750001959973, 'max_depth': 22}. Best is trial 8 with value: 0.7759637071473793.\n",
      "[I 2024-02-20 07:46:33,195] Trial 13 finished with value: 0.7760803592732992 and parameters: {'subsample': 0.23765862775442798, 'bagging_fraction': 0.7000000000000001, 'feature_fraction': 0.45, 'learning_rate': 0.025447904692877853, 'max_depth': 28}. Best is trial 13 with value: 0.7760803592732992.\n",
      "[I 2024-02-20 07:46:40,787] Trial 14 finished with value: 0.7763580354905197 and parameters: {'subsample': 0.1504339824471035, 'bagging_fraction': 0.65, 'feature_fraction': 0.4, 'learning_rate': 0.023357760386764327, 'max_depth': 30}. Best is trial 14 with value: 0.7763580354905197.\n",
      "[I 2024-02-20 07:46:40,861] A new study created in memory with name: no-name-864e2571-3368-4fe3-9d0b-00ae8ec4168a\n"
     ]
    },
    {
     "name": "stdout",
     "output_type": "stream",
     "text": [
      "Found new best score with score 0.776358\n"
     ]
    },
    {
     "name": "stderr",
     "output_type": "stream",
     "text": [
      "[I 2024-02-20 07:46:48,439] Trial 0 finished with value: 0.779439548942004 and parameters: {'subsample': 0.39963209507789, 'bagging_fraction': 0.95, 'feature_fraction': 0.8, 'learning_rate': 0.006251373574521752, 'max_depth': 6}. Best is trial 0 with value: 0.779439548942004.\n",
      "[I 2024-02-20 07:46:57,154] Trial 1 finished with value: 0.7820899645859425 and parameters: {'subsample': 0.22479561626896213, 'bagging_fraction': 0.4, 'feature_fraction': 0.9, 'learning_rate': 0.006358358856676255, 'max_depth': 22}. Best is trial 1 with value: 0.7820899645859425.\n",
      "[I 2024-02-20 07:47:05,725] Trial 2 finished with value: 0.7474278052253305 and parameters: {'subsample': 0.11646759543664197, 'bagging_fraction': 0.95, 'feature_fraction': 0.8500000000000001, 'learning_rate': 0.0004335281794951569, 'max_depth': 7}. Best is trial 1 with value: 0.7820899645859425.\n",
      "[I 2024-02-20 07:47:14,165] Trial 3 finished with value: 0.7664056290207658 and parameters: {'subsample': 0.24672360788274705, 'bagging_fraction': 0.55, 'feature_fraction': 0.7000000000000001, 'learning_rate': 0.0019762189340280074, 'max_depth': 10}. Best is trial 1 with value: 0.7820899645859425.\n",
      "[I 2024-02-20 07:47:22,267] Trial 4 finished with value: 0.7603063273331653 and parameters: {'subsample': 0.5894823157779036, 'bagging_fraction': 0.45, 'feature_fraction': 0.55, 'learning_rate': 0.001256277350380704, 'max_depth': 15}. Best is trial 1 with value: 0.7820899645859425.\n",
      "[I 2024-02-20 07:47:25,511] Trial 5 finished with value: 0.765559630621059 and parameters: {'subsample': 0.728140769114411, 'bagging_fraction': 0.5, 'feature_fraction': 0.7000000000000001, 'learning_rate': 0.005987474910461402, 'max_depth': 3}. Best is trial 1 with value: 0.7820899645859425.\n",
      "[I 2024-02-20 07:47:32,041] Trial 6 finished with value: 0.7847588621157217 and parameters: {'subsample': 0.5860358815211507, 'bagging_fraction': 0.5, 'feature_fraction': 0.4, 'learning_rate': 0.07025166339242159, 'max_depth': 30}. Best is trial 6 with value: 0.7847588621157217.\n",
      "[I 2024-02-20 07:47:40,593] Trial 7 finished with value: 0.784599023944702 and parameters: {'subsample': 0.746717878493169, 'bagging_fraction': 0.55, 'feature_fraction': 0.45, 'learning_rate': 0.01129013355909268, 'max_depth': 14}. Best is trial 6 with value: 0.7847588621157217.\n",
      "[I 2024-02-20 07:47:47,260] Trial 8 finished with value: 0.7861405337897981 and parameters: {'subsample': 0.19763058787582308, 'bagging_fraction': 0.65, 'feature_fraction': 0.4, 'learning_rate': 0.053451661106468214, 'max_depth': 9}. Best is trial 8 with value: 0.7861405337897981.\n",
      "[I 2024-02-20 07:47:54,607] Trial 9 finished with value: 0.7768443363532667 and parameters: {'subsample': 0.6300178274831856, 'bagging_fraction': 0.55, 'feature_fraction': 0.7000000000000001, 'learning_rate': 0.004366473592979638, 'max_depth': 7}. Best is trial 8 with value: 0.7861405337897981.\n",
      "[I 2024-02-20 07:48:00,287] Trial 10 finished with value: 0.784400736981739 and parameters: {'subsample': 0.3996315166137136, 'bagging_fraction': 0.8, 'feature_fraction': 0.55, 'learning_rate': 0.07326662753304228, 'max_depth': 22}. Best is trial 8 with value: 0.7861405337897981.\n",
      "[I 2024-02-20 07:48:05,861] Trial 11 finished with value: 0.7817049914618686 and parameters: {'subsample': 0.45918381429063015, 'bagging_fraction': 0.7000000000000001, 'feature_fraction': 0.4, 'learning_rate': 0.08803956174227016, 'max_depth': 30}. Best is trial 8 with value: 0.7861405337897981.\n",
      "[I 2024-02-20 07:48:11,744] Trial 12 finished with value: 0.7864209306107373 and parameters: {'subsample': 0.8740291475009745, 'bagging_fraction': 0.65, 'feature_fraction': 0.5, 'learning_rate': 0.034620006734796704, 'max_depth': 30}. Best is trial 12 with value: 0.7864209306107373.\n",
      "[I 2024-02-20 07:48:17,787] Trial 13 finished with value: 0.7860986224011044 and parameters: {'subsample': 0.855388963235183, 'bagging_fraction': 0.7000000000000001, 'feature_fraction': 0.55, 'learning_rate': 0.025758612643565222, 'max_depth': 23}. Best is trial 12 with value: 0.7864209306107373.\n",
      "[I 2024-02-20 07:48:24,030] Trial 14 finished with value: 0.7864153875153024 and parameters: {'subsample': 0.3128028014914697, 'bagging_fraction': 0.8, 'feature_fraction': 0.5, 'learning_rate': 0.023357760386764327, 'max_depth': 12}. Best is trial 12 with value: 0.7864209306107373.\n",
      "[I 2024-02-20 07:48:24,095] A new study created in memory with name: no-name-f13b9b44-4fc2-446f-a841-72a6a60b6290\n"
     ]
    },
    {
     "name": "stdout",
     "output_type": "stream",
     "text": [
      "Found new best score with score 0.786421\n"
     ]
    },
    {
     "name": "stderr",
     "output_type": "stream",
     "text": [
      "[I 2024-02-20 07:48:30,622] Trial 0 finished with value: 0.7778962754010024 and parameters: {'subsample': 0.39963209507789, 'bagging_fraction': 0.95, 'feature_fraction': 0.8, 'learning_rate': 0.006251373574521752, 'max_depth': 6}. Best is trial 0 with value: 0.7778962754010024.\n",
      "[I 2024-02-20 07:48:39,160] Trial 1 finished with value: 0.7792713855488749 and parameters: {'subsample': 0.22479561626896213, 'bagging_fraction': 0.4, 'feature_fraction': 0.9, 'learning_rate': 0.006358358856676255, 'max_depth': 22}. Best is trial 1 with value: 0.7792713855488749.\n",
      "[I 2024-02-20 07:48:47,822] Trial 2 finished with value: 0.7437930890391607 and parameters: {'subsample': 0.11646759543664197, 'bagging_fraction': 0.95, 'feature_fraction': 0.8500000000000001, 'learning_rate': 0.0004335281794951569, 'max_depth': 7}. Best is trial 1 with value: 0.7792713855488749.\n",
      "[I 2024-02-20 07:48:56,314] Trial 3 finished with value: 0.7637644278196647 and parameters: {'subsample': 0.24672360788274705, 'bagging_fraction': 0.55, 'feature_fraction': 0.7000000000000001, 'learning_rate': 0.0019762189340280074, 'max_depth': 10}. Best is trial 1 with value: 0.7792713855488749.\n",
      "[I 2024-02-20 07:49:04,648] Trial 4 finished with value: 0.7575117480580865 and parameters: {'subsample': 0.5894823157779036, 'bagging_fraction': 0.45, 'feature_fraction': 0.55, 'learning_rate': 0.001256277350380704, 'max_depth': 15}. Best is trial 1 with value: 0.7792713855488749.\n",
      "[I 2024-02-20 07:49:07,752] Trial 5 finished with value: 0.7647978273964441 and parameters: {'subsample': 0.728140769114411, 'bagging_fraction': 0.5, 'feature_fraction': 0.7000000000000001, 'learning_rate': 0.005987474910461402, 'max_depth': 3}. Best is trial 1 with value: 0.7792713855488749.\n",
      "[I 2024-02-20 07:49:16,142] Trial 6 finished with value: 0.7816729081331542 and parameters: {'subsample': 0.5860358815211507, 'bagging_fraction': 0.5, 'feature_fraction': 0.4, 'learning_rate': 0.07025166339242159, 'max_depth': 30}. Best is trial 6 with value: 0.7816729081331542.\n",
      "[I 2024-02-20 07:49:24,580] Trial 7 finished with value: 0.7826723571797058 and parameters: {'subsample': 0.746717878493169, 'bagging_fraction': 0.55, 'feature_fraction': 0.45, 'learning_rate': 0.01129013355909268, 'max_depth': 14}. Best is trial 7 with value: 0.7826723571797058.\n",
      "[I 2024-02-20 07:49:31,341] Trial 8 finished with value: 0.7826018113123197 and parameters: {'subsample': 0.19763058787582308, 'bagging_fraction': 0.65, 'feature_fraction': 0.4, 'learning_rate': 0.053451661106468214, 'max_depth': 9}. Best is trial 7 with value: 0.7826723571797058.\n",
      "[I 2024-02-20 07:49:39,611] Trial 9 finished with value: 0.7749081285769024 and parameters: {'subsample': 0.6300178274831856, 'bagging_fraction': 0.55, 'feature_fraction': 0.7000000000000001, 'learning_rate': 0.004366473592979638, 'max_depth': 7}. Best is trial 7 with value: 0.7826723571797058.\n",
      "[I 2024-02-20 07:49:51,509] Trial 10 finished with value: 0.7444241596762551 and parameters: {'subsample': 0.8811415865685737, 'bagging_fraction': 0.8, 'feature_fraction': 0.55, 'learning_rate': 0.00011321021804230385, 'max_depth': 20}. Best is trial 7 with value: 0.7826723571797058.\n",
      "[I 2024-02-20 07:50:01,105] Trial 11 finished with value: 0.7826810494248333 and parameters: {'subsample': 0.38774885338554477, 'bagging_fraction': 0.7000000000000001, 'feature_fraction': 0.4, 'learning_rate': 0.0499396182448636, 'max_depth': 14}. Best is trial 11 with value: 0.7826810494248333.\n",
      "[I 2024-02-20 07:50:08,702] Trial 12 finished with value: 0.7841366708301031 and parameters: {'subsample': 0.3908352891655864, 'bagging_fraction': 0.7000000000000001, 'feature_fraction': 0.5, 'learning_rate': 0.02304619105182548, 'max_depth': 15}. Best is trial 12 with value: 0.7841366708301031.\n",
      "[I 2024-02-20 07:50:16,789] Trial 13 finished with value: 0.7841084494518513 and parameters: {'subsample': 0.4233569589311547, 'bagging_fraction': 0.75, 'feature_fraction': 0.55, 'learning_rate': 0.024891280353944025, 'max_depth': 20}. Best is trial 12 with value: 0.7841366708301031.\n",
      "[I 2024-02-20 07:50:24,627] Trial 14 finished with value: 0.7839552476841987 and parameters: {'subsample': 0.40378858770448633, 'bagging_fraction': 0.8, 'feature_fraction': 0.55, 'learning_rate': 0.021676779151018396, 'max_depth': 22}. Best is trial 12 with value: 0.7841366708301031.\n",
      "[I 2024-02-20 07:50:24,685] A new study created in memory with name: no-name-9bfbc27a-716d-44d4-948d-cbb4e35f2697\n",
      "[I 2024-02-20 07:50:33,636] Trial 0 finished with value: 0.7779229662432057 and parameters: {'subsample': 0.39963209507789, 'bagging_fraction': 0.95, 'feature_fraction': 0.8, 'learning_rate': 0.006251373574521752, 'max_depth': 6}. Best is trial 0 with value: 0.7779229662432057.\n",
      "[I 2024-02-20 07:50:44,867] Trial 1 finished with value: 0.7799244297150985 and parameters: {'subsample': 0.22479561626896213, 'bagging_fraction': 0.4, 'feature_fraction': 0.9, 'learning_rate': 0.006358358856676255, 'max_depth': 22}. Best is trial 1 with value: 0.7799244297150985.\n",
      "[I 2024-02-20 07:50:54,495] Trial 2 finished with value: 0.7445291094295696 and parameters: {'subsample': 0.11646759543664197, 'bagging_fraction': 0.95, 'feature_fraction': 0.8500000000000001, 'learning_rate': 0.0004335281794951569, 'max_depth': 7}. Best is trial 1 with value: 0.7799244297150985.\n",
      "[I 2024-02-20 07:51:04,289] Trial 3 finished with value: 0.7633617084537104 and parameters: {'subsample': 0.24672360788274705, 'bagging_fraction': 0.55, 'feature_fraction': 0.7000000000000001, 'learning_rate': 0.0019762189340280074, 'max_depth': 10}. Best is trial 1 with value: 0.7799244297150985.\n",
      "[I 2024-02-20 07:51:13,975] Trial 4 finished with value: 0.7568299857416527 and parameters: {'subsample': 0.5894823157779036, 'bagging_fraction': 0.45, 'feature_fraction': 0.55, 'learning_rate': 0.001256277350380704, 'max_depth': 15}. Best is trial 1 with value: 0.7799244297150985.\n",
      "[I 2024-02-20 07:51:17,474] Trial 5 finished with value: 0.7646588900423014 and parameters: {'subsample': 0.728140769114411, 'bagging_fraction': 0.5, 'feature_fraction': 0.7000000000000001, 'learning_rate': 0.005987474910461402, 'max_depth': 3}. Best is trial 1 with value: 0.7799244297150985.\n",
      "[I 2024-02-20 07:51:24,089] Trial 6 finished with value: 0.7813206583839645 and parameters: {'subsample': 0.5860358815211507, 'bagging_fraction': 0.5, 'feature_fraction': 0.4, 'learning_rate': 0.07025166339242159, 'max_depth': 30}. Best is trial 6 with value: 0.7813206583839645.\n",
      "[I 2024-02-20 07:51:32,355] Trial 7 finished with value: 0.7828736810717349 and parameters: {'subsample': 0.746717878493169, 'bagging_fraction': 0.55, 'feature_fraction': 0.45, 'learning_rate': 0.01129013355909268, 'max_depth': 14}. Best is trial 7 with value: 0.7828736810717349.\n",
      "[I 2024-02-20 07:51:40,932] Trial 8 finished with value: 0.7831522326700897 and parameters: {'subsample': 0.19763058787582308, 'bagging_fraction': 0.65, 'feature_fraction': 0.4, 'learning_rate': 0.053451661106468214, 'max_depth': 9}. Best is trial 8 with value: 0.7831522326700897.\n",
      "[I 2024-02-20 07:51:49,541] Trial 9 finished with value: 0.7748049886981384 and parameters: {'subsample': 0.6300178274831856, 'bagging_fraction': 0.55, 'feature_fraction': 0.7000000000000001, 'learning_rate': 0.004366473592979638, 'max_depth': 7}. Best is trial 8 with value: 0.7831522326700897.\n",
      "[I 2024-02-20 07:51:56,495] Trial 10 finished with value: 0.7811415659515553 and parameters: {'subsample': 0.3996315166137136, 'bagging_fraction': 0.8, 'feature_fraction': 0.55, 'learning_rate': 0.07326662753304228, 'max_depth': 22}. Best is trial 8 with value: 0.7831522326700897.\n",
      "[I 2024-02-20 07:52:05,695] Trial 11 finished with value: 0.7851689890990887 and parameters: {'subsample': 0.8261318362260144, 'bagging_fraction': 0.7000000000000001, 'feature_fraction': 0.4, 'learning_rate': 0.022433077847887246, 'max_depth': 14}. Best is trial 11 with value: 0.7851689890990887.\n",
      "[I 2024-02-20 07:52:13,113] Trial 12 finished with value: 0.7837253980504904 and parameters: {'subsample': 0.8938592970144932, 'bagging_fraction': 0.7000000000000001, 'feature_fraction': 0.5, 'learning_rate': 0.03105162402577188, 'max_depth': 19}. Best is trial 11 with value: 0.7851689890990887.\n",
      "[I 2024-02-20 07:52:20,607] Trial 13 finished with value: 0.7842337377761881 and parameters: {'subsample': 0.8759586522727435, 'bagging_fraction': 0.75, 'feature_fraction': 0.55, 'learning_rate': 0.024285559866475525, 'max_depth': 20}. Best is trial 11 with value: 0.7851689890990887.\n",
      "[I 2024-02-20 07:52:28,322] Trial 14 finished with value: 0.7843285541102459 and parameters: {'subsample': 0.8761116967567104, 'bagging_fraction': 0.8, 'feature_fraction': 0.6000000000000001, 'learning_rate': 0.021374357592659373, 'max_depth': 27}. Best is trial 11 with value: 0.7851689890990887.\n",
      "[I 2024-02-20 07:52:28,388] A new study created in memory with name: no-name-66034253-edaf-4910-bca7-8243ee482599\n",
      "[I 2024-02-20 07:52:36,359] Trial 0 finished with value: 0.7812773737687603 and parameters: {'subsample': 0.39963209507789, 'bagging_fraction': 0.95, 'feature_fraction': 0.8, 'learning_rate': 0.006251373574521752, 'max_depth': 6}. Best is trial 0 with value: 0.7812773737687603.\n",
      "[I 2024-02-20 07:52:46,732] Trial 1 finished with value: 0.7828180360555317 and parameters: {'subsample': 0.22479561626896213, 'bagging_fraction': 0.4, 'feature_fraction': 0.9, 'learning_rate': 0.006358358856676255, 'max_depth': 22}. Best is trial 1 with value: 0.7828180360555317.\n",
      "[I 2024-02-20 07:52:56,436] Trial 2 finished with value: 0.7456087424603524 and parameters: {'subsample': 0.11646759543664197, 'bagging_fraction': 0.95, 'feature_fraction': 0.8500000000000001, 'learning_rate': 0.0004335281794951569, 'max_depth': 7}. Best is trial 1 with value: 0.7828180360555317.\n",
      "[I 2024-02-20 07:53:06,587] Trial 3 finished with value: 0.7661668918648841 and parameters: {'subsample': 0.24672360788274705, 'bagging_fraction': 0.55, 'feature_fraction': 0.7000000000000001, 'learning_rate': 0.0019762189340280074, 'max_depth': 10}. Best is trial 1 with value: 0.7828180360555317.\n",
      "[I 2024-02-20 07:53:16,413] Trial 4 finished with value: 0.7595711857919295 and parameters: {'subsample': 0.5894823157779036, 'bagging_fraction': 0.45, 'feature_fraction': 0.55, 'learning_rate': 0.001256277350380704, 'max_depth': 15}. Best is trial 1 with value: 0.7828180360555317.\n",
      "[I 2024-02-20 07:53:20,090] Trial 5 finished with value: 0.7685074947757614 and parameters: {'subsample': 0.728140769114411, 'bagging_fraction': 0.5, 'feature_fraction': 0.7000000000000001, 'learning_rate': 0.005987474910461402, 'max_depth': 3}. Best is trial 1 with value: 0.7828180360555317.\n",
      "[I 2024-02-20 07:53:27,084] Trial 6 finished with value: 0.7850930965461084 and parameters: {'subsample': 0.5860358815211507, 'bagging_fraction': 0.5, 'feature_fraction': 0.4, 'learning_rate': 0.07025166339242159, 'max_depth': 30}. Best is trial 6 with value: 0.7850930965461084.\n",
      "[I 2024-02-20 07:53:35,444] Trial 7 finished with value: 0.7860323225061255 and parameters: {'subsample': 0.746717878493169, 'bagging_fraction': 0.55, 'feature_fraction': 0.45, 'learning_rate': 0.01129013355909268, 'max_depth': 14}. Best is trial 7 with value: 0.7860323225061255.\n",
      "[I 2024-02-20 07:53:44,205] Trial 8 finished with value: 0.7871849459707365 and parameters: {'subsample': 0.19763058787582308, 'bagging_fraction': 0.65, 'feature_fraction': 0.4, 'learning_rate': 0.053451661106468214, 'max_depth': 9}. Best is trial 8 with value: 0.7871849459707365.\n",
      "[I 2024-02-20 07:53:53,077] Trial 9 finished with value: 0.7782739769789788 and parameters: {'subsample': 0.6300178274831856, 'bagging_fraction': 0.55, 'feature_fraction': 0.7000000000000001, 'learning_rate': 0.004366473592979638, 'max_depth': 7}. Best is trial 8 with value: 0.7871849459707365.\n",
      "[I 2024-02-20 07:54:00,073] Trial 10 finished with value: 0.7843436512796143 and parameters: {'subsample': 0.3996315166137136, 'bagging_fraction': 0.8, 'feature_fraction': 0.55, 'learning_rate': 0.07326662753304228, 'max_depth': 22}. Best is trial 8 with value: 0.7871849459707365.\n",
      "[I 2024-02-20 07:54:09,747] Trial 11 finished with value: 0.787223856013211 and parameters: {'subsample': 0.8261318362260144, 'bagging_fraction': 0.7000000000000001, 'feature_fraction': 0.4, 'learning_rate': 0.022433077847887246, 'max_depth': 14}. Best is trial 11 with value: 0.787223856013211.\n",
      "[I 2024-02-20 07:54:17,079] Trial 12 finished with value: 0.785772722210883 and parameters: {'subsample': 0.8938592970144932, 'bagging_fraction': 0.7000000000000001, 'feature_fraction': 0.5, 'learning_rate': 0.03105162402577188, 'max_depth': 19}. Best is trial 11 with value: 0.787223856013211.\n",
      "[I 2024-02-20 07:54:24,679] Trial 13 finished with value: 0.7878042449148545 and parameters: {'subsample': 0.41156786987010213, 'bagging_fraction': 0.7000000000000001, 'feature_fraction': 0.4, 'learning_rate': 0.024774306950040393, 'max_depth': 12}. Best is trial 13 with value: 0.7878042449148545.\n",
      "[I 2024-02-20 07:54:32,577] Trial 14 finished with value: 0.7867953993651986 and parameters: {'subsample': 0.42258306343525276, 'bagging_fraction': 0.75, 'feature_fraction': 0.6000000000000001, 'learning_rate': 0.02161883314342727, 'max_depth': 12}. Best is trial 13 with value: 0.7878042449148545.\n"
     ]
    },
    {
     "name": "stdout",
     "output_type": "stream",
     "text": [
      "Found new best score with score 0.787804\n"
     ]
    },
    {
     "name": "stderr",
     "output_type": "stream",
     "text": [
      "[I 2024-02-20 07:54:41,044] A new study created in memory with name: no-name-284b2d34-c449-4fa2-8409-3e06fed87749\n"
     ]
    },
    {
     "name": "stdout",
     "output_type": "stream",
     "text": [
      "\n",
      "        Test AUC                           : 0.786\n",
      "        \n",
      "\n",
      "Nested CV: 2 of 5 outer fold\n"
     ]
    },
    {
     "name": "stderr",
     "output_type": "stream",
     "text": [
      "[I 2024-02-20 07:54:48,801] Trial 0 finished with value: 0.7730563087141924 and parameters: {'subsample': 0.39963209507789, 'bagging_fraction': 0.95, 'feature_fraction': 0.8, 'learning_rate': 0.006251373574521752, 'max_depth': 6}. Best is trial 0 with value: 0.7730563087141924.\n",
      "[I 2024-02-20 07:54:58,898] Trial 1 finished with value: 0.7756234936577133 and parameters: {'subsample': 0.22479561626896213, 'bagging_fraction': 0.4, 'feature_fraction': 0.9, 'learning_rate': 0.006358358856676255, 'max_depth': 22}. Best is trial 1 with value: 0.7756234936577133.\n",
      "[I 2024-02-20 07:55:08,566] Trial 2 finished with value: 0.7407127577283183 and parameters: {'subsample': 0.11646759543664197, 'bagging_fraction': 0.95, 'feature_fraction': 0.8500000000000001, 'learning_rate': 0.0004335281794951569, 'max_depth': 7}. Best is trial 1 with value: 0.7756234936577133.\n",
      "[I 2024-02-20 07:55:18,440] Trial 3 finished with value: 0.7592779030073923 and parameters: {'subsample': 0.24672360788274705, 'bagging_fraction': 0.55, 'feature_fraction': 0.7000000000000001, 'learning_rate': 0.0019762189340280074, 'max_depth': 10}. Best is trial 1 with value: 0.7756234936577133.\n",
      "[I 2024-02-20 07:55:27,969] Trial 4 finished with value: 0.7532791301815743 and parameters: {'subsample': 0.5894823157779036, 'bagging_fraction': 0.45, 'feature_fraction': 0.55, 'learning_rate': 0.001256277350380704, 'max_depth': 15}. Best is trial 1 with value: 0.7756234936577133.\n",
      "[I 2024-02-20 07:55:31,394] Trial 5 finished with value: 0.7598421373608701 and parameters: {'subsample': 0.728140769114411, 'bagging_fraction': 0.5, 'feature_fraction': 0.7000000000000001, 'learning_rate': 0.005987474910461402, 'max_depth': 3}. Best is trial 1 with value: 0.7756234936577133.\n",
      "[I 2024-02-20 07:55:38,857] Trial 6 finished with value: 0.7773380204948226 and parameters: {'subsample': 0.5860358815211507, 'bagging_fraction': 0.5, 'feature_fraction': 0.4, 'learning_rate': 0.07025166339242159, 'max_depth': 30}. Best is trial 6 with value: 0.7773380204948226.\n",
      "[I 2024-02-20 07:55:47,840] Trial 7 finished with value: 0.7785243836355714 and parameters: {'subsample': 0.746717878493169, 'bagging_fraction': 0.55, 'feature_fraction': 0.45, 'learning_rate': 0.01129013355909268, 'max_depth': 14}. Best is trial 7 with value: 0.7785243836355714.\n",
      "[I 2024-02-20 07:55:54,569] Trial 8 finished with value: 0.7780234337320538 and parameters: {'subsample': 0.19763058787582308, 'bagging_fraction': 0.65, 'feature_fraction': 0.4, 'learning_rate': 0.053451661106468214, 'max_depth': 9}. Best is trial 7 with value: 0.7785243836355714.\n",
      "[I 2024-02-20 07:56:02,988] Trial 9 finished with value: 0.7704648944259206 and parameters: {'subsample': 0.6300178274831856, 'bagging_fraction': 0.55, 'feature_fraction': 0.7000000000000001, 'learning_rate': 0.004366473592979638, 'max_depth': 7}. Best is trial 7 with value: 0.7785243836355714.\n",
      "[I 2024-02-20 07:56:12,504] Trial 10 finished with value: 0.7406925483836924 and parameters: {'subsample': 0.8811415865685737, 'bagging_fraction': 0.8, 'feature_fraction': 0.55, 'learning_rate': 0.00011321021804230385, 'max_depth': 20}. Best is trial 7 with value: 0.7785243836355714.\n",
      "[I 2024-02-20 07:56:19,304] Trial 11 finished with value: 0.7793874808783067 and parameters: {'subsample': 0.38774885338554477, 'bagging_fraction': 0.7000000000000001, 'feature_fraction': 0.4, 'learning_rate': 0.0499396182448636, 'max_depth': 14}. Best is trial 11 with value: 0.7793874808783067.\n",
      "[I 2024-02-20 07:56:27,277] Trial 12 finished with value: 0.7795405431870478 and parameters: {'subsample': 0.3908352891655864, 'bagging_fraction': 0.7000000000000001, 'feature_fraction': 0.5, 'learning_rate': 0.02304619105182548, 'max_depth': 15}. Best is trial 12 with value: 0.7795405431870478.\n",
      "[I 2024-02-20 07:56:34,644] Trial 13 finished with value: 0.779132355590404 and parameters: {'subsample': 0.4233569589311547, 'bagging_fraction': 0.75, 'feature_fraction': 0.55, 'learning_rate': 0.024891280353944025, 'max_depth': 20}. Best is trial 12 with value: 0.7795405431870478.\n",
      "[I 2024-02-20 07:56:42,165] Trial 14 finished with value: 0.7791430391427348 and parameters: {'subsample': 0.3776336739345699, 'bagging_fraction': 0.7000000000000001, 'feature_fraction': 0.5, 'learning_rate': 0.023357760386764327, 'max_depth': 25}. Best is trial 12 with value: 0.7795405431870478.\n",
      "[I 2024-02-20 07:56:42,220] A new study created in memory with name: no-name-fe4e6a91-b2fc-48f5-a614-b9138b6c26d4\n"
     ]
    },
    {
     "name": "stdout",
     "output_type": "stream",
     "text": [
      "Found new best score with score 0.779541\n"
     ]
    },
    {
     "name": "stderr",
     "output_type": "stream",
     "text": [
      "[I 2024-02-20 07:56:49,810] Trial 0 finished with value: 0.7867967975816239 and parameters: {'subsample': 0.39963209507789, 'bagging_fraction': 0.95, 'feature_fraction': 0.8, 'learning_rate': 0.006251373574521752, 'max_depth': 6}. Best is trial 0 with value: 0.7867967975816239.\n",
      "[I 2024-02-20 07:56:59,699] Trial 1 finished with value: 0.7892354938260151 and parameters: {'subsample': 0.22479561626896213, 'bagging_fraction': 0.4, 'feature_fraction': 0.9, 'learning_rate': 0.006358358856676255, 'max_depth': 22}. Best is trial 1 with value: 0.7892354938260151.\n",
      "[I 2024-02-20 07:57:09,151] Trial 2 finished with value: 0.7509979257674336 and parameters: {'subsample': 0.11646759543664197, 'bagging_fraction': 0.95, 'feature_fraction': 0.8500000000000001, 'learning_rate': 0.0004335281794951569, 'max_depth': 7}. Best is trial 1 with value: 0.7892354938260151.\n",
      "[I 2024-02-20 07:57:18,643] Trial 3 finished with value: 0.77185310248778 and parameters: {'subsample': 0.24672360788274705, 'bagging_fraction': 0.55, 'feature_fraction': 0.7000000000000001, 'learning_rate': 0.0019762189340280074, 'max_depth': 10}. Best is trial 1 with value: 0.7892354938260151.\n",
      "[I 2024-02-20 07:57:28,306] Trial 4 finished with value: 0.764892071244855 and parameters: {'subsample': 0.5894823157779036, 'bagging_fraction': 0.45, 'feature_fraction': 0.55, 'learning_rate': 0.001256277350380704, 'max_depth': 15}. Best is trial 1 with value: 0.7892354938260151.\n",
      "[I 2024-02-20 07:57:31,783] Trial 5 finished with value: 0.772409366568066 and parameters: {'subsample': 0.728140769114411, 'bagging_fraction': 0.5, 'feature_fraction': 0.7000000000000001, 'learning_rate': 0.005987474910461402, 'max_depth': 3}. Best is trial 1 with value: 0.7892354938260151.\n",
      "[I 2024-02-20 07:57:40,443] Trial 6 finished with value: 0.7931125017165422 and parameters: {'subsample': 0.5860358815211507, 'bagging_fraction': 0.5, 'feature_fraction': 0.4, 'learning_rate': 0.07025166339242159, 'max_depth': 30}. Best is trial 6 with value: 0.7931125017165422.\n",
      "[I 2024-02-20 07:57:48,865] Trial 7 finished with value: 0.7925384459075777 and parameters: {'subsample': 0.746717878493169, 'bagging_fraction': 0.55, 'feature_fraction': 0.45, 'learning_rate': 0.01129013355909268, 'max_depth': 14}. Best is trial 6 with value: 0.7931125017165422.\n",
      "[I 2024-02-20 07:57:55,791] Trial 8 finished with value: 0.7942314785088909 and parameters: {'subsample': 0.19763058787582308, 'bagging_fraction': 0.65, 'feature_fraction': 0.4, 'learning_rate': 0.053451661106468214, 'max_depth': 9}. Best is trial 8 with value: 0.7942314785088909.\n",
      "[I 2024-02-20 07:58:04,234] Trial 9 finished with value: 0.7839349504707964 and parameters: {'subsample': 0.6300178274831856, 'bagging_fraction': 0.55, 'feature_fraction': 0.7000000000000001, 'learning_rate': 0.004366473592979638, 'max_depth': 7}. Best is trial 8 with value: 0.7942314785088909.\n",
      "[I 2024-02-20 07:58:11,214] Trial 10 finished with value: 0.7919517827915246 and parameters: {'subsample': 0.3996315166137136, 'bagging_fraction': 0.8, 'feature_fraction': 0.55, 'learning_rate': 0.07326662753304228, 'max_depth': 22}. Best is trial 8 with value: 0.7942314785088909.\n",
      "[I 2024-02-20 07:58:18,019] Trial 11 finished with value: 0.7927440830323972 and parameters: {'subsample': 0.45918381429063015, 'bagging_fraction': 0.7000000000000001, 'feature_fraction': 0.4, 'learning_rate': 0.08803956174227016, 'max_depth': 30}. Best is trial 8 with value: 0.7942314785088909.\n",
      "[I 2024-02-20 07:58:25,259] Trial 12 finished with value: 0.7947392038769729 and parameters: {'subsample': 0.8740291475009745, 'bagging_fraction': 0.65, 'feature_fraction': 0.5, 'learning_rate': 0.034620006734796704, 'max_depth': 30}. Best is trial 12 with value: 0.7947392038769729.\n",
      "[I 2024-02-20 07:58:32,726] Trial 13 finished with value: 0.7947668425271956 and parameters: {'subsample': 0.855388963235183, 'bagging_fraction': 0.7000000000000001, 'feature_fraction': 0.55, 'learning_rate': 0.025758612643565222, 'max_depth': 23}. Best is trial 13 with value: 0.7947668425271956.\n",
      "[I 2024-02-20 07:58:40,319] Trial 14 finished with value: 0.7949489235888166 and parameters: {'subsample': 0.8861736116766851, 'bagging_fraction': 0.75, 'feature_fraction': 0.55, 'learning_rate': 0.023357760386764327, 'max_depth': 24}. Best is trial 14 with value: 0.7949489235888166.\n",
      "[I 2024-02-20 07:58:40,380] A new study created in memory with name: no-name-90698e5e-0276-46e2-b39d-7937c22d64ea\n"
     ]
    },
    {
     "name": "stdout",
     "output_type": "stream",
     "text": [
      "Found new best score with score 0.794949\n"
     ]
    },
    {
     "name": "stderr",
     "output_type": "stream",
     "text": [
      "[I 2024-02-20 07:58:48,143] Trial 0 finished with value: 0.7810732477988553 and parameters: {'subsample': 0.39963209507789, 'bagging_fraction': 0.95, 'feature_fraction': 0.8, 'learning_rate': 0.006251373574521752, 'max_depth': 6}. Best is trial 0 with value: 0.7810732477988553.\n",
      "[I 2024-02-20 07:58:58,289] Trial 1 finished with value: 0.7833872327984618 and parameters: {'subsample': 0.22479561626896213, 'bagging_fraction': 0.4, 'feature_fraction': 0.9, 'learning_rate': 0.006358358856676255, 'max_depth': 22}. Best is trial 1 with value: 0.7833872327984618.\n",
      "[I 2024-02-20 07:59:08,025] Trial 2 finished with value: 0.7425970134148947 and parameters: {'subsample': 0.11646759543664197, 'bagging_fraction': 0.95, 'feature_fraction': 0.8500000000000001, 'learning_rate': 0.0004335281794951569, 'max_depth': 7}. Best is trial 1 with value: 0.7833872327984618.\n",
      "[I 2024-02-20 07:59:17,821] Trial 3 finished with value: 0.7656436450731465 and parameters: {'subsample': 0.24672360788274705, 'bagging_fraction': 0.55, 'feature_fraction': 0.7000000000000001, 'learning_rate': 0.0019762189340280074, 'max_depth': 10}. Best is trial 1 with value: 0.7833872327984618.\n",
      "[I 2024-02-20 07:59:27,365] Trial 4 finished with value: 0.7583788133496756 and parameters: {'subsample': 0.5894823157779036, 'bagging_fraction': 0.45, 'feature_fraction': 0.55, 'learning_rate': 0.001256277350380704, 'max_depth': 15}. Best is trial 1 with value: 0.7833872327984618.\n",
      "[I 2024-02-20 07:59:31,023] Trial 5 finished with value: 0.7685082254781798 and parameters: {'subsample': 0.728140769114411, 'bagging_fraction': 0.5, 'feature_fraction': 0.7000000000000001, 'learning_rate': 0.005987474910461402, 'max_depth': 3}. Best is trial 1 with value: 0.7833872327984618.\n",
      "[I 2024-02-20 07:59:38,390] Trial 6 finished with value: 0.7865007421484072 and parameters: {'subsample': 0.5860358815211507, 'bagging_fraction': 0.5, 'feature_fraction': 0.4, 'learning_rate': 0.07025166339242159, 'max_depth': 30}. Best is trial 6 with value: 0.7865007421484072.\n",
      "[I 2024-02-20 07:59:47,963] Trial 7 finished with value: 0.7866639445187843 and parameters: {'subsample': 0.746717878493169, 'bagging_fraction': 0.55, 'feature_fraction': 0.45, 'learning_rate': 0.01129013355909268, 'max_depth': 14}. Best is trial 7 with value: 0.7866639445187843.\n",
      "[I 2024-02-20 07:59:57,117] Trial 8 finished with value: 0.7872099577200302 and parameters: {'subsample': 0.19763058787582308, 'bagging_fraction': 0.65, 'feature_fraction': 0.4, 'learning_rate': 0.053451661106468214, 'max_depth': 9}. Best is trial 8 with value: 0.7872099577200302.\n",
      "[I 2024-02-20 08:00:07,505] Trial 9 finished with value: 0.7784436810560996 and parameters: {'subsample': 0.6300178274831856, 'bagging_fraction': 0.55, 'feature_fraction': 0.7000000000000001, 'learning_rate': 0.004366473592979638, 'max_depth': 7}. Best is trial 8 with value: 0.7872099577200302.\n",
      "[I 2024-02-20 08:00:15,981] Trial 10 finished with value: 0.7868175045822041 and parameters: {'subsample': 0.3996315166137136, 'bagging_fraction': 0.8, 'feature_fraction': 0.55, 'learning_rate': 0.07326662753304228, 'max_depth': 22}. Best is trial 8 with value: 0.7872099577200302.\n",
      "[I 2024-02-20 08:00:24,527] Trial 11 finished with value: 0.7857975003092285 and parameters: {'subsample': 0.37509403529041185, 'bagging_fraction': 0.75, 'feature_fraction': 0.55, 'learning_rate': 0.08131098848678843, 'max_depth': 22}. Best is trial 8 with value: 0.7872099577200302.\n",
      "[I 2024-02-20 08:00:33,029] Trial 12 finished with value: 0.7893042358682574 and parameters: {'subsample': 0.4007689250361602, 'bagging_fraction': 0.75, 'feature_fraction': 0.5, 'learning_rate': 0.027453750001959973, 'max_depth': 22}. Best is trial 12 with value: 0.7893042358682574.\n",
      "[I 2024-02-20 08:00:43,156] Trial 13 finished with value: 0.7885712097019038 and parameters: {'subsample': 0.23765862775442798, 'bagging_fraction': 0.7000000000000001, 'feature_fraction': 0.45, 'learning_rate': 0.025447904692877853, 'max_depth': 28}. Best is trial 12 with value: 0.7893042358682574.\n",
      "[I 2024-02-20 08:00:51,541] Trial 14 finished with value: 0.7884218382791152 and parameters: {'subsample': 0.3371748454688944, 'bagging_fraction': 0.8, 'feature_fraction': 0.5, 'learning_rate': 0.020924628059549432, 'max_depth': 30}. Best is trial 12 with value: 0.7893042358682574.\n",
      "[I 2024-02-20 08:00:51,602] A new study created in memory with name: no-name-ccb9ed26-8df1-4b7a-9847-0892949819d4\n",
      "[I 2024-02-20 08:00:59,986] Trial 0 finished with value: 0.7722236906819457 and parameters: {'subsample': 0.39963209507789, 'bagging_fraction': 0.95, 'feature_fraction': 0.8, 'learning_rate': 0.006251373574521752, 'max_depth': 6}. Best is trial 0 with value: 0.7722236906819457.\n",
      "[I 2024-02-20 08:01:11,967] Trial 1 finished with value: 0.7745608608342457 and parameters: {'subsample': 0.22479561626896213, 'bagging_fraction': 0.4, 'feature_fraction': 0.9, 'learning_rate': 0.006358358856676255, 'max_depth': 22}. Best is trial 1 with value: 0.7745608608342457.\n",
      "[I 2024-02-20 08:01:22,458] Trial 2 finished with value: 0.7422964224210992 and parameters: {'subsample': 0.11646759543664197, 'bagging_fraction': 0.95, 'feature_fraction': 0.8500000000000001, 'learning_rate': 0.0004335281794951569, 'max_depth': 7}. Best is trial 1 with value: 0.7745608608342457.\n",
      "[I 2024-02-20 08:01:33,043] Trial 3 finished with value: 0.7605739411633536 and parameters: {'subsample': 0.24672360788274705, 'bagging_fraction': 0.55, 'feature_fraction': 0.7000000000000001, 'learning_rate': 0.0019762189340280074, 'max_depth': 10}. Best is trial 1 with value: 0.7745608608342457.\n",
      "[I 2024-02-20 08:01:43,920] Trial 4 finished with value: 0.7545071739660499 and parameters: {'subsample': 0.5894823157779036, 'bagging_fraction': 0.45, 'feature_fraction': 0.55, 'learning_rate': 0.001256277350380704, 'max_depth': 15}. Best is trial 1 with value: 0.7745608608342457.\n",
      "[I 2024-02-20 08:01:47,829] Trial 5 finished with value: 0.7597716708184905 and parameters: {'subsample': 0.728140769114411, 'bagging_fraction': 0.5, 'feature_fraction': 0.7000000000000001, 'learning_rate': 0.005987474910461402, 'max_depth': 3}. Best is trial 1 with value: 0.7745608608342457.\n",
      "[I 2024-02-20 08:01:57,136] Trial 6 finished with value: 0.775803965779061 and parameters: {'subsample': 0.5860358815211507, 'bagging_fraction': 0.5, 'feature_fraction': 0.4, 'learning_rate': 0.07025166339242159, 'max_depth': 30}. Best is trial 6 with value: 0.775803965779061.\n",
      "[I 2024-02-20 08:02:06,288] Trial 7 finished with value: 0.7777142164827638 and parameters: {'subsample': 0.746717878493169, 'bagging_fraction': 0.55, 'feature_fraction': 0.45, 'learning_rate': 0.01129013355909268, 'max_depth': 14}. Best is trial 7 with value: 0.7777142164827638.\n",
      "[I 2024-02-20 08:02:13,507] Trial 8 finished with value: 0.7777365545338473 and parameters: {'subsample': 0.19763058787582308, 'bagging_fraction': 0.65, 'feature_fraction': 0.4, 'learning_rate': 0.053451661106468214, 'max_depth': 9}. Best is trial 8 with value: 0.7777365545338473.\n",
      "[I 2024-02-20 08:02:22,464] Trial 9 finished with value: 0.7708137992974087 and parameters: {'subsample': 0.6300178274831856, 'bagging_fraction': 0.55, 'feature_fraction': 0.7000000000000001, 'learning_rate': 0.004366473592979638, 'max_depth': 7}. Best is trial 8 with value: 0.7777365545338473.\n",
      "[I 2024-02-20 08:02:30,633] Trial 10 finished with value: 0.7764795561461812 and parameters: {'subsample': 0.3996315166137136, 'bagging_fraction': 0.8, 'feature_fraction': 0.55, 'learning_rate': 0.07326662753304228, 'max_depth': 22}. Best is trial 8 with value: 0.7777365545338473.\n",
      "[I 2024-02-20 08:02:38,512] Trial 11 finished with value: 0.7790427443926065 and parameters: {'subsample': 0.8261318362260144, 'bagging_fraction': 0.7000000000000001, 'feature_fraction': 0.4, 'learning_rate': 0.022433077847887246, 'max_depth': 14}. Best is trial 11 with value: 0.7790427443926065.\n",
      "[I 2024-02-20 08:02:46,407] Trial 12 finished with value: 0.7793860101192891 and parameters: {'subsample': 0.8938592970144932, 'bagging_fraction': 0.7000000000000001, 'feature_fraction': 0.5, 'learning_rate': 0.03105162402577188, 'max_depth': 19}. Best is trial 12 with value: 0.7793860101192891.\n",
      "[I 2024-02-20 08:02:54,984] Trial 13 finished with value: 0.7790574519043743 and parameters: {'subsample': 0.8759586522727435, 'bagging_fraction': 0.75, 'feature_fraction': 0.55, 'learning_rate': 0.024285559866475525, 'max_depth': 20}. Best is trial 12 with value: 0.7793860101192891.\n",
      "[I 2024-02-20 08:03:03,521] Trial 14 finished with value: 0.7782929869200182 and parameters: {'subsample': 0.8872195397929133, 'bagging_fraction': 0.8, 'feature_fraction': 0.55, 'learning_rate': 0.023357760386764327, 'max_depth': 21}. Best is trial 12 with value: 0.7793860101192891.\n",
      "[I 2024-02-20 08:03:03,585] A new study created in memory with name: no-name-c1064fdc-977d-4b4e-8be6-74fc116e41d0\n",
      "[I 2024-02-20 08:03:10,839] Trial 0 finished with value: 0.7757970097559621 and parameters: {'subsample': 0.39963209507789, 'bagging_fraction': 0.95, 'feature_fraction': 0.8, 'learning_rate': 0.006251373574521752, 'max_depth': 6}. Best is trial 0 with value: 0.7757970097559621.\n",
      "[I 2024-02-20 08:03:20,713] Trial 1 finished with value: 0.7785632647342391 and parameters: {'subsample': 0.22479561626896213, 'bagging_fraction': 0.4, 'feature_fraction': 0.9, 'learning_rate': 0.006358358856676255, 'max_depth': 22}. Best is trial 1 with value: 0.7785632647342391.\n",
      "[I 2024-02-20 08:03:31,042] Trial 2 finished with value: 0.7430090515300207 and parameters: {'subsample': 0.11646759543664197, 'bagging_fraction': 0.95, 'feature_fraction': 0.8500000000000001, 'learning_rate': 0.0004335281794951569, 'max_depth': 7}. Best is trial 1 with value: 0.7785632647342391.\n",
      "[I 2024-02-20 08:03:41,337] Trial 3 finished with value: 0.7605847228536493 and parameters: {'subsample': 0.24672360788274705, 'bagging_fraction': 0.55, 'feature_fraction': 0.7000000000000001, 'learning_rate': 0.0019762189340280074, 'max_depth': 10}. Best is trial 1 with value: 0.7785632647342391.\n",
      "[I 2024-02-20 08:03:51,514] Trial 4 finished with value: 0.7547916305179687 and parameters: {'subsample': 0.5894823157779036, 'bagging_fraction': 0.45, 'feature_fraction': 0.55, 'learning_rate': 0.001256277350380704, 'max_depth': 15}. Best is trial 1 with value: 0.7785632647342391.\n",
      "[I 2024-02-20 08:03:55,447] Trial 5 finished with value: 0.7604635115192464 and parameters: {'subsample': 0.728140769114411, 'bagging_fraction': 0.5, 'feature_fraction': 0.7000000000000001, 'learning_rate': 0.005987474910461402, 'max_depth': 3}. Best is trial 1 with value: 0.7785632647342391.\n",
      "[I 2024-02-20 08:04:03,514] Trial 6 finished with value: 0.7802832431590334 and parameters: {'subsample': 0.5860358815211507, 'bagging_fraction': 0.5, 'feature_fraction': 0.4, 'learning_rate': 0.07025166339242159, 'max_depth': 30}. Best is trial 6 with value: 0.7802832431590334.\n",
      "[I 2024-02-20 08:04:11,817] Trial 7 finished with value: 0.7825334995995288 and parameters: {'subsample': 0.746717878493169, 'bagging_fraction': 0.55, 'feature_fraction': 0.45, 'learning_rate': 0.01129013355909268, 'max_depth': 14}. Best is trial 7 with value: 0.7825334995995288.\n",
      "[I 2024-02-20 08:04:19,451] Trial 8 finished with value: 0.7833310961223419 and parameters: {'subsample': 0.19763058787582308, 'bagging_fraction': 0.65, 'feature_fraction': 0.4, 'learning_rate': 0.053451661106468214, 'max_depth': 9}. Best is trial 8 with value: 0.7833310961223419.\n",
      "[I 2024-02-20 08:04:28,650] Trial 9 finished with value: 0.772776552235477 and parameters: {'subsample': 0.6300178274831856, 'bagging_fraction': 0.55, 'feature_fraction': 0.7000000000000001, 'learning_rate': 0.004366473592979638, 'max_depth': 7}. Best is trial 8 with value: 0.7833310961223419.\n",
      "[I 2024-02-20 08:04:36,880] Trial 10 finished with value: 0.779501713136523 and parameters: {'subsample': 0.3996315166137136, 'bagging_fraction': 0.8, 'feature_fraction': 0.55, 'learning_rate': 0.07326662753304228, 'max_depth': 22}. Best is trial 8 with value: 0.7833310961223419.\n",
      "[I 2024-02-20 08:04:45,088] Trial 11 finished with value: 0.7841159329713178 and parameters: {'subsample': 0.8261318362260144, 'bagging_fraction': 0.7000000000000001, 'feature_fraction': 0.4, 'learning_rate': 0.022433077847887246, 'max_depth': 14}. Best is trial 11 with value: 0.7841159329713178.\n",
      "[I 2024-02-20 08:04:53,285] Trial 12 finished with value: 0.7836902152496852 and parameters: {'subsample': 0.8938592970144932, 'bagging_fraction': 0.7000000000000001, 'feature_fraction': 0.5, 'learning_rate': 0.03105162402577188, 'max_depth': 19}. Best is trial 11 with value: 0.7841159329713178.\n",
      "[I 2024-02-20 08:05:01,512] Trial 13 finished with value: 0.7830160123440604 and parameters: {'subsample': 0.8759586522727435, 'bagging_fraction': 0.75, 'feature_fraction': 0.55, 'learning_rate': 0.024285559866475525, 'max_depth': 20}. Best is trial 11 with value: 0.7841159329713178.\n",
      "[I 2024-02-20 08:05:10,820] Trial 14 finished with value: 0.7837226154685905 and parameters: {'subsample': 0.8761116967567104, 'bagging_fraction': 0.7000000000000001, 'feature_fraction': 0.5, 'learning_rate': 0.023357760386764327, 'max_depth': 27}. Best is trial 11 with value: 0.7841159329713178.\n"
     ]
    },
    {
     "name": "stdout",
     "output_type": "stream",
     "text": [
      "\n",
      "        Test AUC                           : 0.783\n",
      "        \n",
      "\n",
      "Nested CV: 3 of 5 outer fold\n"
     ]
    },
    {
     "name": "stderr",
     "output_type": "stream",
     "text": [
      "[I 2024-02-20 08:05:20,160] A new study created in memory with name: no-name-c00cbc7d-12c9-45f4-be23-cd9a8f93d4ea\n",
      "[I 2024-02-20 08:05:29,036] Trial 0 finished with value: 0.77585387381743 and parameters: {'subsample': 0.39963209507789, 'bagging_fraction': 0.95, 'feature_fraction': 0.8, 'learning_rate': 0.006251373574521752, 'max_depth': 6}. Best is trial 0 with value: 0.77585387381743.\n",
      "[I 2024-02-20 08:05:40,747] Trial 1 finished with value: 0.7782940617755779 and parameters: {'subsample': 0.22479561626896213, 'bagging_fraction': 0.4, 'feature_fraction': 0.9, 'learning_rate': 0.006358358856676255, 'max_depth': 22}. Best is trial 1 with value: 0.7782940617755779.\n",
      "[I 2024-02-20 08:05:51,555] Trial 2 finished with value: 0.7420362333187144 and parameters: {'subsample': 0.11646759543664197, 'bagging_fraction': 0.95, 'feature_fraction': 0.8500000000000001, 'learning_rate': 0.0004335281794951569, 'max_depth': 7}. Best is trial 1 with value: 0.7782940617755779.\n",
      "[I 2024-02-20 08:06:01,924] Trial 3 finished with value: 0.7615682024935782 and parameters: {'subsample': 0.24672360788274705, 'bagging_fraction': 0.55, 'feature_fraction': 0.7000000000000001, 'learning_rate': 0.0019762189340280074, 'max_depth': 10}. Best is trial 1 with value: 0.7782940617755779.\n",
      "[I 2024-02-20 08:06:12,720] Trial 4 finished with value: 0.7545061587619823 and parameters: {'subsample': 0.5894823157779036, 'bagging_fraction': 0.45, 'feature_fraction': 0.55, 'learning_rate': 0.001256277350380704, 'max_depth': 15}. Best is trial 1 with value: 0.7782940617755779.\n",
      "[I 2024-02-20 08:06:16,850] Trial 5 finished with value: 0.7627715356180689 and parameters: {'subsample': 0.728140769114411, 'bagging_fraction': 0.5, 'feature_fraction': 0.7000000000000001, 'learning_rate': 0.005987474910461402, 'max_depth': 3}. Best is trial 1 with value: 0.7782940617755779.\n",
      "[I 2024-02-20 08:06:25,031] Trial 6 finished with value: 0.7804717298414887 and parameters: {'subsample': 0.5860358815211507, 'bagging_fraction': 0.5, 'feature_fraction': 0.4, 'learning_rate': 0.07025166339242159, 'max_depth': 30}. Best is trial 6 with value: 0.7804717298414887.\n",
      "[I 2024-02-20 08:06:35,587] Trial 7 finished with value: 0.7815799010087087 and parameters: {'subsample': 0.746717878493169, 'bagging_fraction': 0.55, 'feature_fraction': 0.45, 'learning_rate': 0.01129013355909268, 'max_depth': 14}. Best is trial 7 with value: 0.7815799010087087.\n",
      "[I 2024-02-20 08:06:43,179] Trial 8 finished with value: 0.782538597832216 and parameters: {'subsample': 0.19763058787582308, 'bagging_fraction': 0.65, 'feature_fraction': 0.4, 'learning_rate': 0.053451661106468214, 'max_depth': 9}. Best is trial 8 with value: 0.782538597832216.\n",
      "[I 2024-02-20 08:06:52,589] Trial 9 finished with value: 0.7729454645698891 and parameters: {'subsample': 0.6300178274831856, 'bagging_fraction': 0.55, 'feature_fraction': 0.7000000000000001, 'learning_rate': 0.004366473592979638, 'max_depth': 7}. Best is trial 8 with value: 0.782538597832216.\n",
      "[I 2024-02-20 08:06:59,736] Trial 10 finished with value: 0.7805898377294656 and parameters: {'subsample': 0.3996315166137136, 'bagging_fraction': 0.8, 'feature_fraction': 0.55, 'learning_rate': 0.07326662753304228, 'max_depth': 22}. Best is trial 8 with value: 0.782538597832216.\n",
      "[I 2024-02-20 08:07:07,106] Trial 11 finished with value: 0.78275309065848 and parameters: {'subsample': 0.8261318362260144, 'bagging_fraction': 0.7000000000000001, 'feature_fraction': 0.4, 'learning_rate': 0.022433077847887246, 'max_depth': 14}. Best is trial 11 with value: 0.78275309065848.\n",
      "[I 2024-02-20 08:07:15,462] Trial 12 finished with value: 0.7838828845310444 and parameters: {'subsample': 0.8938592970144932, 'bagging_fraction': 0.7000000000000001, 'feature_fraction': 0.5, 'learning_rate': 0.03105162402577188, 'max_depth': 19}. Best is trial 12 with value: 0.7838828845310444.\n",
      "[I 2024-02-20 08:07:25,545] Trial 13 finished with value: 0.7828994073053067 and parameters: {'subsample': 0.8759586522727435, 'bagging_fraction': 0.75, 'feature_fraction': 0.55, 'learning_rate': 0.024285559866475525, 'max_depth': 20}. Best is trial 12 with value: 0.7838828845310444.\n",
      "[I 2024-02-20 08:07:34,065] Trial 14 finished with value: 0.783199518827141 and parameters: {'subsample': 0.8872195397929133, 'bagging_fraction': 0.8, 'feature_fraction': 0.55, 'learning_rate': 0.023357760386764327, 'max_depth': 21}. Best is trial 12 with value: 0.7838828845310444.\n",
      "[I 2024-02-20 08:07:34,130] A new study created in memory with name: no-name-a361c35c-c498-4f66-a195-e507486adfb1\n"
     ]
    },
    {
     "name": "stdout",
     "output_type": "stream",
     "text": [
      "Found new best score with score 0.783883\n"
     ]
    },
    {
     "name": "stderr",
     "output_type": "stream",
     "text": [
      "[I 2024-02-20 08:07:42,535] Trial 0 finished with value: 0.7775633979440177 and parameters: {'subsample': 0.39963209507789, 'bagging_fraction': 0.95, 'feature_fraction': 0.8, 'learning_rate': 0.006251373574521752, 'max_depth': 6}. Best is trial 0 with value: 0.7775633979440177.\n",
      "[I 2024-02-20 08:07:53,110] Trial 1 finished with value: 0.7798929506634826 and parameters: {'subsample': 0.22479561626896213, 'bagging_fraction': 0.4, 'feature_fraction': 0.9, 'learning_rate': 0.006358358856676255, 'max_depth': 22}. Best is trial 1 with value: 0.7798929506634826.\n",
      "[I 2024-02-20 08:08:03,701] Trial 2 finished with value: 0.7453024531177226 and parameters: {'subsample': 0.11646759543664197, 'bagging_fraction': 0.95, 'feature_fraction': 0.8500000000000001, 'learning_rate': 0.0004335281794951569, 'max_depth': 7}. Best is trial 1 with value: 0.7798929506634826.\n",
      "[I 2024-02-20 08:08:13,984] Trial 3 finished with value: 0.7644320438953434 and parameters: {'subsample': 0.24672360788274705, 'bagging_fraction': 0.55, 'feature_fraction': 0.7000000000000001, 'learning_rate': 0.0019762189340280074, 'max_depth': 10}. Best is trial 1 with value: 0.7798929506634826.\n",
      "[I 2024-02-20 08:08:24,088] Trial 4 finished with value: 0.757147083500677 and parameters: {'subsample': 0.5894823157779036, 'bagging_fraction': 0.45, 'feature_fraction': 0.55, 'learning_rate': 0.001256277350380704, 'max_depth': 15}. Best is trial 1 with value: 0.7798929506634826.\n",
      "[I 2024-02-20 08:08:28,175] Trial 5 finished with value: 0.7633886950241014 and parameters: {'subsample': 0.728140769114411, 'bagging_fraction': 0.5, 'feature_fraction': 0.7000000000000001, 'learning_rate': 0.005987474910461402, 'max_depth': 3}. Best is trial 1 with value: 0.7798929506634826.\n",
      "[I 2024-02-20 08:08:36,299] Trial 6 finished with value: 0.7834532934333949 and parameters: {'subsample': 0.5860358815211507, 'bagging_fraction': 0.5, 'feature_fraction': 0.4, 'learning_rate': 0.07025166339242159, 'max_depth': 30}. Best is trial 6 with value: 0.7834532934333949.\n",
      "[I 2024-02-20 08:08:45,637] Trial 7 finished with value: 0.7831497889064983 and parameters: {'subsample': 0.746717878493169, 'bagging_fraction': 0.55, 'feature_fraction': 0.45, 'learning_rate': 0.01129013355909268, 'max_depth': 14}. Best is trial 6 with value: 0.7834532934333949.\n",
      "[I 2024-02-20 08:08:53,320] Trial 8 finished with value: 0.7844703946524583 and parameters: {'subsample': 0.19763058787582308, 'bagging_fraction': 0.65, 'feature_fraction': 0.4, 'learning_rate': 0.053451661106468214, 'max_depth': 9}. Best is trial 8 with value: 0.7844703946524583.\n",
      "[I 2024-02-20 08:09:03,102] Trial 9 finished with value: 0.7752592787047481 and parameters: {'subsample': 0.6300178274831856, 'bagging_fraction': 0.55, 'feature_fraction': 0.7000000000000001, 'learning_rate': 0.004366473592979638, 'max_depth': 7}. Best is trial 8 with value: 0.7844703946524583.\n",
      "[I 2024-02-20 08:09:10,660] Trial 10 finished with value: 0.7822999311385862 and parameters: {'subsample': 0.3996315166137136, 'bagging_fraction': 0.8, 'feature_fraction': 0.55, 'learning_rate': 0.07326662753304228, 'max_depth': 22}. Best is trial 8 with value: 0.7844703946524583.\n",
      "[I 2024-02-20 08:09:17,777] Trial 11 finished with value: 0.7811897512732147 and parameters: {'subsample': 0.45918381429063015, 'bagging_fraction': 0.7000000000000001, 'feature_fraction': 0.4, 'learning_rate': 0.08803956174227016, 'max_depth': 30}. Best is trial 8 with value: 0.7844703946524583.\n",
      "[I 2024-02-20 08:09:26,563] Trial 12 finished with value: 0.7846421097866578 and parameters: {'subsample': 0.8740291475009745, 'bagging_fraction': 0.65, 'feature_fraction': 0.5, 'learning_rate': 0.034620006734796704, 'max_depth': 30}. Best is trial 12 with value: 0.7846421097866578.\n",
      "[I 2024-02-20 08:09:34,820] Trial 13 finished with value: 0.7848850837580055 and parameters: {'subsample': 0.855388963235183, 'bagging_fraction': 0.7000000000000001, 'feature_fraction': 0.55, 'learning_rate': 0.025758612643565222, 'max_depth': 23}. Best is trial 13 with value: 0.7848850837580055.\n",
      "[I 2024-02-20 08:09:43,363] Trial 14 finished with value: 0.7849048180343153 and parameters: {'subsample': 0.8861736116766851, 'bagging_fraction': 0.75, 'feature_fraction': 0.55, 'learning_rate': 0.023357760386764327, 'max_depth': 24}. Best is trial 14 with value: 0.7849048180343153.\n",
      "[I 2024-02-20 08:09:43,427] A new study created in memory with name: no-name-0f0e9927-ed9d-469b-b658-8a3bbdd771f2\n"
     ]
    },
    {
     "name": "stdout",
     "output_type": "stream",
     "text": [
      "Found new best score with score 0.784905\n"
     ]
    },
    {
     "name": "stderr",
     "output_type": "stream",
     "text": [
      "[I 2024-02-20 08:09:52,068] Trial 0 finished with value: 0.7815571638986796 and parameters: {'subsample': 0.39963209507789, 'bagging_fraction': 0.95, 'feature_fraction': 0.8, 'learning_rate': 0.006251373574521752, 'max_depth': 6}. Best is trial 0 with value: 0.7815571638986796.\n",
      "[I 2024-02-20 08:10:03,257] Trial 1 finished with value: 0.7839350452534609 and parameters: {'subsample': 0.22479561626896213, 'bagging_fraction': 0.4, 'feature_fraction': 0.9, 'learning_rate': 0.006358358856676255, 'max_depth': 22}. Best is trial 1 with value: 0.7839350452534609.\n",
      "[I 2024-02-20 08:10:14,687] Trial 2 finished with value: 0.7476217919849311 and parameters: {'subsample': 0.11646759543664197, 'bagging_fraction': 0.95, 'feature_fraction': 0.8500000000000001, 'learning_rate': 0.0004335281794951569, 'max_depth': 7}. Best is trial 1 with value: 0.7839350452534609.\n",
      "[I 2024-02-20 08:10:24,894] Trial 3 finished with value: 0.767078970675082 and parameters: {'subsample': 0.24672360788274705, 'bagging_fraction': 0.55, 'feature_fraction': 0.7000000000000001, 'learning_rate': 0.0019762189340280074, 'max_depth': 10}. Best is trial 1 with value: 0.7839350452534609.\n",
      "[I 2024-02-20 08:10:35,479] Trial 4 finished with value: 0.7612279343728472 and parameters: {'subsample': 0.5894823157779036, 'bagging_fraction': 0.45, 'feature_fraction': 0.55, 'learning_rate': 0.001256277350380704, 'max_depth': 15}. Best is trial 1 with value: 0.7839350452534609.\n",
      "[I 2024-02-20 08:10:39,305] Trial 5 finished with value: 0.7674966333803505 and parameters: {'subsample': 0.728140769114411, 'bagging_fraction': 0.5, 'feature_fraction': 0.7000000000000001, 'learning_rate': 0.005987474910461402, 'max_depth': 3}. Best is trial 1 with value: 0.7839350452534609.\n",
      "[I 2024-02-20 08:10:46,752] Trial 6 finished with value: 0.7907271861739749 and parameters: {'subsample': 0.5860358815211507, 'bagging_fraction': 0.5, 'feature_fraction': 0.4, 'learning_rate': 0.07025166339242159, 'max_depth': 30}. Best is trial 6 with value: 0.7907271861739749.\n",
      "[I 2024-02-20 08:10:56,355] Trial 7 finished with value: 0.7885080250155715 and parameters: {'subsample': 0.746717878493169, 'bagging_fraction': 0.55, 'feature_fraction': 0.45, 'learning_rate': 0.01129013355909268, 'max_depth': 14}. Best is trial 6 with value: 0.7907271861739749.\n",
      "[I 2024-02-20 08:11:03,781] Trial 8 finished with value: 0.790686731683075 and parameters: {'subsample': 0.19763058787582308, 'bagging_fraction': 0.65, 'feature_fraction': 0.4, 'learning_rate': 0.053451661106468214, 'max_depth': 9}. Best is trial 6 with value: 0.7907271861739749.\n",
      "[I 2024-02-20 08:11:13,484] Trial 9 finished with value: 0.7791734980875692 and parameters: {'subsample': 0.6300178274831856, 'bagging_fraction': 0.55, 'feature_fraction': 0.7000000000000001, 'learning_rate': 0.004366473592979638, 'max_depth': 7}. Best is trial 6 with value: 0.7907271861739749.\n",
      "[I 2024-02-20 08:11:21,957] Trial 10 finished with value: 0.788524842514873 and parameters: {'subsample': 0.8640124714322273, 'bagging_fraction': 0.8, 'feature_fraction': 0.55, 'learning_rate': 0.07335580495957027, 'max_depth': 30}. Best is trial 6 with value: 0.7907271861739749.\n",
      "[I 2024-02-20 08:11:30,182] Trial 11 finished with value: 0.7871094638623799 and parameters: {'subsample': 0.45918381429063015, 'bagging_fraction': 0.7000000000000001, 'feature_fraction': 0.4, 'learning_rate': 0.08803956174227016, 'max_depth': 23}. Best is trial 6 with value: 0.7907271861739749.\n",
      "[I 2024-02-20 08:11:38,543] Trial 12 finished with value: 0.7901010334577212 and parameters: {'subsample': 0.32460876339176337, 'bagging_fraction': 0.65, 'feature_fraction': 0.5, 'learning_rate': 0.034620006734796704, 'max_depth': 30}. Best is trial 6 with value: 0.7907271861739749.\n",
      "[I 2024-02-20 08:11:47,055] Trial 13 finished with value: 0.7908202366415211 and parameters: {'subsample': 0.533453133122471, 'bagging_fraction': 0.7000000000000001, 'feature_fraction': 0.4, 'learning_rate': 0.02554108100832244, 'max_depth': 20}. Best is trial 13 with value: 0.7908202366415211.\n",
      "[I 2024-02-20 08:11:55,227] Trial 14 finished with value: 0.7899711107514177 and parameters: {'subsample': 0.5478118964432521, 'bagging_fraction': 0.8, 'feature_fraction': 0.6000000000000001, 'learning_rate': 0.023357760386764327, 'max_depth': 24}. Best is trial 13 with value: 0.7908202366415211.\n",
      "[I 2024-02-20 08:11:55,283] A new study created in memory with name: no-name-b95615bb-3a8e-4087-9773-4a636d0e9e40\n"
     ]
    },
    {
     "name": "stdout",
     "output_type": "stream",
     "text": [
      "Found new best score with score 0.790820\n"
     ]
    },
    {
     "name": "stderr",
     "output_type": "stream",
     "text": [
      "[I 2024-02-20 08:12:04,196] Trial 0 finished with value: 0.7766476071176971 and parameters: {'subsample': 0.39963209507789, 'bagging_fraction': 0.95, 'feature_fraction': 0.8, 'learning_rate': 0.006251373574521752, 'max_depth': 6}. Best is trial 0 with value: 0.7766476071176971.\n",
      "[I 2024-02-20 08:12:15,140] Trial 1 finished with value: 0.77940813953652 and parameters: {'subsample': 0.22479561626896213, 'bagging_fraction': 0.4, 'feature_fraction': 0.9, 'learning_rate': 0.006358358856676255, 'max_depth': 22}. Best is trial 1 with value: 0.77940813953652.\n",
      "[I 2024-02-20 08:12:24,990] Trial 2 finished with value: 0.7428892045225588 and parameters: {'subsample': 0.11646759543664197, 'bagging_fraction': 0.95, 'feature_fraction': 0.8500000000000001, 'learning_rate': 0.0004335281794951569, 'max_depth': 7}. Best is trial 1 with value: 0.77940813953652.\n",
      "[I 2024-02-20 08:12:35,571] Trial 3 finished with value: 0.7641875245216276 and parameters: {'subsample': 0.24672360788274705, 'bagging_fraction': 0.55, 'feature_fraction': 0.7000000000000001, 'learning_rate': 0.0019762189340280074, 'max_depth': 10}. Best is trial 1 with value: 0.77940813953652.\n",
      "[I 2024-02-20 08:12:45,537] Trial 4 finished with value: 0.7577351527341606 and parameters: {'subsample': 0.5894823157779036, 'bagging_fraction': 0.45, 'feature_fraction': 0.55, 'learning_rate': 0.001256277350380704, 'max_depth': 15}. Best is trial 1 with value: 0.77940813953652.\n",
      "[I 2024-02-20 08:12:49,350] Trial 5 finished with value: 0.763991345104738 and parameters: {'subsample': 0.728140769114411, 'bagging_fraction': 0.5, 'feature_fraction': 0.7000000000000001, 'learning_rate': 0.005987474910461402, 'max_depth': 3}. Best is trial 1 with value: 0.77940813953652.\n",
      "[I 2024-02-20 08:12:57,818] Trial 6 finished with value: 0.7840791042280626 and parameters: {'subsample': 0.5860358815211507, 'bagging_fraction': 0.5, 'feature_fraction': 0.4, 'learning_rate': 0.07025166339242159, 'max_depth': 30}. Best is trial 6 with value: 0.7840791042280626.\n",
      "[I 2024-02-20 08:13:09,416] Trial 7 finished with value: 0.7828215692843836 and parameters: {'subsample': 0.746717878493169, 'bagging_fraction': 0.55, 'feature_fraction': 0.45, 'learning_rate': 0.01129013355909268, 'max_depth': 14}. Best is trial 6 with value: 0.7840791042280626.\n",
      "[I 2024-02-20 08:13:17,140] Trial 8 finished with value: 0.7850090551726546 and parameters: {'subsample': 0.19763058787582308, 'bagging_fraction': 0.65, 'feature_fraction': 0.4, 'learning_rate': 0.053451661106468214, 'max_depth': 9}. Best is trial 8 with value: 0.7850090551726546.\n",
      "[I 2024-02-20 08:13:26,471] Trial 9 finished with value: 0.7748699418286549 and parameters: {'subsample': 0.6300178274831856, 'bagging_fraction': 0.55, 'feature_fraction': 0.7000000000000001, 'learning_rate': 0.004366473592979638, 'max_depth': 7}. Best is trial 8 with value: 0.7850090551726546.\n",
      "[I 2024-02-20 08:13:36,710] Trial 10 finished with value: 0.7825117220895428 and parameters: {'subsample': 0.3996315166137136, 'bagging_fraction': 0.8, 'feature_fraction': 0.55, 'learning_rate': 0.07326662753304228, 'max_depth': 22}. Best is trial 8 with value: 0.7850090551726546.\n",
      "[I 2024-02-20 08:13:44,355] Trial 11 finished with value: 0.7811551092166268 and parameters: {'subsample': 0.45918381429063015, 'bagging_fraction': 0.7000000000000001, 'feature_fraction': 0.4, 'learning_rate': 0.08803956174227016, 'max_depth': 30}. Best is trial 8 with value: 0.7850090551726546.\n",
      "[I 2024-02-20 08:13:52,879] Trial 12 finished with value: 0.7847319248020904 and parameters: {'subsample': 0.8740291475009745, 'bagging_fraction': 0.65, 'feature_fraction': 0.5, 'learning_rate': 0.034620006734796704, 'max_depth': 30}. Best is trial 8 with value: 0.7850090551726546.\n",
      "[I 2024-02-20 08:14:04,231] Trial 13 finished with value: 0.783759106182757 and parameters: {'subsample': 0.855388963235183, 'bagging_fraction': 0.7000000000000001, 'feature_fraction': 0.55, 'learning_rate': 0.025758612643565222, 'max_depth': 23}. Best is trial 8 with value: 0.7850090551726546.\n",
      "[I 2024-02-20 08:14:11,504] Trial 14 finished with value: 0.7844412087942312 and parameters: {'subsample': 0.3128028014914697, 'bagging_fraction': 0.8, 'feature_fraction': 0.5, 'learning_rate': 0.023357760386764327, 'max_depth': 12}. Best is trial 8 with value: 0.7850090551726546.\n",
      "[I 2024-02-20 08:14:11,575] A new study created in memory with name: no-name-d35d273c-c124-47fd-9c31-e4f6fd1cdc7f\n",
      "[I 2024-02-20 08:14:19,070] Trial 0 finished with value: 0.7742916273882103 and parameters: {'subsample': 0.39963209507789, 'bagging_fraction': 0.95, 'feature_fraction': 0.8, 'learning_rate': 0.006251373574521752, 'max_depth': 6}. Best is trial 0 with value: 0.7742916273882103.\n",
      "[I 2024-02-20 08:14:28,760] Trial 1 finished with value: 0.7767370216689156 and parameters: {'subsample': 0.22479561626896213, 'bagging_fraction': 0.4, 'feature_fraction': 0.9, 'learning_rate': 0.006358358856676255, 'max_depth': 22}. Best is trial 1 with value: 0.7767370216689156.\n",
      "[I 2024-02-20 08:14:37,881] Trial 2 finished with value: 0.7403480502205835 and parameters: {'subsample': 0.11646759543664197, 'bagging_fraction': 0.95, 'feature_fraction': 0.8500000000000001, 'learning_rate': 0.0004335281794951569, 'max_depth': 7}. Best is trial 1 with value: 0.7767370216689156.\n",
      "[I 2024-02-20 08:14:47,066] Trial 3 finished with value: 0.7616568425125488 and parameters: {'subsample': 0.24672360788274705, 'bagging_fraction': 0.55, 'feature_fraction': 0.7000000000000001, 'learning_rate': 0.0019762189340280074, 'max_depth': 10}. Best is trial 1 with value: 0.7767370216689156.\n",
      "[I 2024-02-20 08:14:56,420] Trial 4 finished with value: 0.7554942965736694 and parameters: {'subsample': 0.5894823157779036, 'bagging_fraction': 0.45, 'feature_fraction': 0.55, 'learning_rate': 0.001256277350380704, 'max_depth': 15}. Best is trial 1 with value: 0.7767370216689156.\n",
      "[I 2024-02-20 08:14:59,978] Trial 5 finished with value: 0.7611961399272049 and parameters: {'subsample': 0.728140769114411, 'bagging_fraction': 0.5, 'feature_fraction': 0.7000000000000001, 'learning_rate': 0.005987474910461402, 'max_depth': 3}. Best is trial 1 with value: 0.7767370216689156.\n",
      "[I 2024-02-20 08:15:06,302] Trial 6 finished with value: 0.7787318379894126 and parameters: {'subsample': 0.5860358815211507, 'bagging_fraction': 0.5, 'feature_fraction': 0.4, 'learning_rate': 0.07025166339242159, 'max_depth': 30}. Best is trial 6 with value: 0.7787318379894126.\n",
      "[I 2024-02-20 08:15:14,300] Trial 7 finished with value: 0.7799589827329501 and parameters: {'subsample': 0.746717878493169, 'bagging_fraction': 0.55, 'feature_fraction': 0.45, 'learning_rate': 0.01129013355909268, 'max_depth': 14}. Best is trial 7 with value: 0.7799589827329501.\n",
      "[I 2024-02-20 08:15:20,722] Trial 8 finished with value: 0.7800075487919346 and parameters: {'subsample': 0.19763058787582308, 'bagging_fraction': 0.65, 'feature_fraction': 0.4, 'learning_rate': 0.053451661106468214, 'max_depth': 9}. Best is trial 8 with value: 0.7800075487919346.\n",
      "[I 2024-02-20 08:15:29,624] Trial 9 finished with value: 0.772258666944285 and parameters: {'subsample': 0.6300178274831856, 'bagging_fraction': 0.55, 'feature_fraction': 0.7000000000000001, 'learning_rate': 0.004366473592979638, 'max_depth': 7}. Best is trial 8 with value: 0.7800075487919346.\n",
      "[I 2024-02-20 08:15:39,847] Trial 10 finished with value: 0.7791554571263427 and parameters: {'subsample': 0.3996315166137136, 'bagging_fraction': 0.8, 'feature_fraction': 0.55, 'learning_rate': 0.07326662753304228, 'max_depth': 22}. Best is trial 8 with value: 0.7800075487919346.\n",
      "[I 2024-02-20 08:15:48,529] Trial 11 finished with value: 0.7810519440517716 and parameters: {'subsample': 0.8261318362260144, 'bagging_fraction': 0.7000000000000001, 'feature_fraction': 0.4, 'learning_rate': 0.022433077847887246, 'max_depth': 14}. Best is trial 11 with value: 0.7810519440517716.\n",
      "[I 2024-02-20 08:15:57,079] Trial 12 finished with value: 0.7812969760508902 and parameters: {'subsample': 0.8938592970144932, 'bagging_fraction': 0.7000000000000001, 'feature_fraction': 0.5, 'learning_rate': 0.03105162402577188, 'max_depth': 19}. Best is trial 12 with value: 0.7812969760508902.\n",
      "[I 2024-02-20 08:16:05,702] Trial 13 finished with value: 0.7814303639693455 and parameters: {'subsample': 0.8759586522727435, 'bagging_fraction': 0.75, 'feature_fraction': 0.55, 'learning_rate': 0.024285559866475525, 'max_depth': 20}. Best is trial 13 with value: 0.7814303639693455.\n",
      "[I 2024-02-20 08:16:13,940] Trial 14 finished with value: 0.7812819016090216 and parameters: {'subsample': 0.8872195397929133, 'bagging_fraction': 0.8, 'feature_fraction': 0.55, 'learning_rate': 0.023357760386764327, 'max_depth': 21}. Best is trial 13 with value: 0.7814303639693455.\n",
      "[I 2024-02-20 08:16:23,230] A new study created in memory with name: no-name-ff543b56-944f-47f1-a711-256c65f6c9e3\n"
     ]
    },
    {
     "name": "stdout",
     "output_type": "stream",
     "text": [
      "\n",
      "        Test AUC                           : 0.789\n",
      "        \n",
      "\n",
      "Nested CV: 4 of 5 outer fold\n"
     ]
    },
    {
     "name": "stderr",
     "output_type": "stream",
     "text": [
      "[I 2024-02-20 08:16:32,027] Trial 0 finished with value: 0.7756765345550146 and parameters: {'subsample': 0.39963209507789, 'bagging_fraction': 0.95, 'feature_fraction': 0.8, 'learning_rate': 0.006251373574521752, 'max_depth': 6}. Best is trial 0 with value: 0.7756765345550146.\n",
      "[I 2024-02-20 08:16:42,863] Trial 1 finished with value: 0.7779733579874469 and parameters: {'subsample': 0.22479561626896213, 'bagging_fraction': 0.4, 'feature_fraction': 0.9, 'learning_rate': 0.006358358856676255, 'max_depth': 22}. Best is trial 1 with value: 0.7779733579874469.\n",
      "[I 2024-02-20 08:16:53,188] Trial 2 finished with value: 0.7401698123417924 and parameters: {'subsample': 0.11646759543664197, 'bagging_fraction': 0.95, 'feature_fraction': 0.8500000000000001, 'learning_rate': 0.0004335281794951569, 'max_depth': 7}. Best is trial 1 with value: 0.7779733579874469.\n",
      "[I 2024-02-20 08:17:03,856] Trial 3 finished with value: 0.7617162204394672 and parameters: {'subsample': 0.24672360788274705, 'bagging_fraction': 0.55, 'feature_fraction': 0.7000000000000001, 'learning_rate': 0.0019762189340280074, 'max_depth': 10}. Best is trial 1 with value: 0.7779733579874469.\n",
      "[I 2024-02-20 08:17:14,188] Trial 4 finished with value: 0.7548680150765935 and parameters: {'subsample': 0.5894823157779036, 'bagging_fraction': 0.45, 'feature_fraction': 0.55, 'learning_rate': 0.001256277350380704, 'max_depth': 15}. Best is trial 1 with value: 0.7779733579874469.\n",
      "[I 2024-02-20 08:17:17,961] Trial 5 finished with value: 0.7611088810132054 and parameters: {'subsample': 0.728140769114411, 'bagging_fraction': 0.5, 'feature_fraction': 0.7000000000000001, 'learning_rate': 0.005987474910461402, 'max_depth': 3}. Best is trial 1 with value: 0.7779733579874469.\n",
      "[I 2024-02-20 08:17:25,835] Trial 6 finished with value: 0.7826996168019557 and parameters: {'subsample': 0.5860358815211507, 'bagging_fraction': 0.5, 'feature_fraction': 0.4, 'learning_rate': 0.07025166339242159, 'max_depth': 30}. Best is trial 6 with value: 0.7826996168019557.\n",
      "[I 2024-02-20 08:17:35,036] Trial 7 finished with value: 0.7814389876715335 and parameters: {'subsample': 0.746717878493169, 'bagging_fraction': 0.55, 'feature_fraction': 0.45, 'learning_rate': 0.01129013355909268, 'max_depth': 14}. Best is trial 6 with value: 0.7826996168019557.\n",
      "[I 2024-02-20 08:17:42,509] Trial 8 finished with value: 0.7826833736721652 and parameters: {'subsample': 0.19763058787582308, 'bagging_fraction': 0.65, 'feature_fraction': 0.4, 'learning_rate': 0.053451661106468214, 'max_depth': 9}. Best is trial 6 with value: 0.7826996168019557.\n",
      "[I 2024-02-20 08:17:51,828] Trial 9 finished with value: 0.7730939028106742 and parameters: {'subsample': 0.6300178274831856, 'bagging_fraction': 0.55, 'feature_fraction': 0.7000000000000001, 'learning_rate': 0.004366473592979638, 'max_depth': 7}. Best is trial 6 with value: 0.7826996168019557.\n",
      "[I 2024-02-20 08:17:59,142] Trial 10 finished with value: 0.780557664103296 and parameters: {'subsample': 0.8640124714322273, 'bagging_fraction': 0.8, 'feature_fraction': 0.55, 'learning_rate': 0.07335580495957027, 'max_depth': 30}. Best is trial 6 with value: 0.7826996168019557.\n",
      "[I 2024-02-20 08:18:06,403] Trial 11 finished with value: 0.7797448775667618 and parameters: {'subsample': 0.45918381429063015, 'bagging_fraction': 0.7000000000000001, 'feature_fraction': 0.4, 'learning_rate': 0.08803956174227016, 'max_depth': 23}. Best is trial 6 with value: 0.7826996168019557.\n",
      "[I 2024-02-20 08:18:14,398] Trial 12 finished with value: 0.7833026149453883 and parameters: {'subsample': 0.32460876339176337, 'bagging_fraction': 0.65, 'feature_fraction': 0.5, 'learning_rate': 0.034620006734796704, 'max_depth': 30}. Best is trial 12 with value: 0.7833026149453883.\n",
      "[I 2024-02-20 08:18:22,484] Trial 13 finished with value: 0.7823016428605274 and parameters: {'subsample': 0.3678547987050854, 'bagging_fraction': 0.7000000000000001, 'feature_fraction': 0.55, 'learning_rate': 0.025758612643565222, 'max_depth': 30}. Best is trial 12 with value: 0.7833026149453883.\n",
      "[I 2024-02-20 08:18:31,286] Trial 14 finished with value: 0.7826458297749342 and parameters: {'subsample': 0.5478118964432521, 'bagging_fraction': 0.8, 'feature_fraction': 0.5, 'learning_rate': 0.023357760386764327, 'max_depth': 24}. Best is trial 12 with value: 0.7833026149453883.\n",
      "[I 2024-02-20 08:18:31,343] A new study created in memory with name: no-name-4b58d74d-88f5-464c-b238-65b64c1a9b7d\n"
     ]
    },
    {
     "name": "stdout",
     "output_type": "stream",
     "text": [
      "Found new best score with score 0.783303\n"
     ]
    },
    {
     "name": "stderr",
     "output_type": "stream",
     "text": [
      "[I 2024-02-20 08:18:39,429] Trial 0 finished with value: 0.7765059638307317 and parameters: {'subsample': 0.39963209507789, 'bagging_fraction': 0.95, 'feature_fraction': 0.8, 'learning_rate': 0.006251373574521752, 'max_depth': 6}. Best is trial 0 with value: 0.7765059638307317.\n",
      "[I 2024-02-20 08:18:49,837] Trial 1 finished with value: 0.7787200253506998 and parameters: {'subsample': 0.22479561626896213, 'bagging_fraction': 0.4, 'feature_fraction': 0.9, 'learning_rate': 0.006358358856676255, 'max_depth': 22}. Best is trial 1 with value: 0.7787200253506998.\n",
      "[I 2024-02-20 08:19:00,714] Trial 2 finished with value: 0.74238273009754 and parameters: {'subsample': 0.11646759543664197, 'bagging_fraction': 0.95, 'feature_fraction': 0.8500000000000001, 'learning_rate': 0.0004335281794951569, 'max_depth': 7}. Best is trial 1 with value: 0.7787200253506998.\n",
      "[I 2024-02-20 08:19:11,765] Trial 3 finished with value: 0.7615021337275611 and parameters: {'subsample': 0.24672360788274705, 'bagging_fraction': 0.55, 'feature_fraction': 0.7000000000000001, 'learning_rate': 0.0019762189340280074, 'max_depth': 10}. Best is trial 1 with value: 0.7787200253506998.\n",
      "[I 2024-02-20 08:19:22,342] Trial 4 finished with value: 0.7544888023496537 and parameters: {'subsample': 0.5894823157779036, 'bagging_fraction': 0.45, 'feature_fraction': 0.55, 'learning_rate': 0.001256277350380704, 'max_depth': 15}. Best is trial 1 with value: 0.7787200253506998.\n",
      "[I 2024-02-20 08:19:26,084] Trial 5 finished with value: 0.7624827317998081 and parameters: {'subsample': 0.728140769114411, 'bagging_fraction': 0.5, 'feature_fraction': 0.7000000000000001, 'learning_rate': 0.005987474910461402, 'max_depth': 3}. Best is trial 1 with value: 0.7787200253506998.\n",
      "[I 2024-02-20 08:19:33,914] Trial 6 finished with value: 0.7827830511714877 and parameters: {'subsample': 0.5860358815211507, 'bagging_fraction': 0.5, 'feature_fraction': 0.4, 'learning_rate': 0.07025166339242159, 'max_depth': 30}. Best is trial 6 with value: 0.7827830511714877.\n",
      "[I 2024-02-20 08:19:43,077] Trial 7 finished with value: 0.7819492540792236 and parameters: {'subsample': 0.746717878493169, 'bagging_fraction': 0.55, 'feature_fraction': 0.45, 'learning_rate': 0.01129013355909268, 'max_depth': 14}. Best is trial 6 with value: 0.7827830511714877.\n",
      "[I 2024-02-20 08:19:50,163] Trial 8 finished with value: 0.783837396734526 and parameters: {'subsample': 0.19763058787582308, 'bagging_fraction': 0.65, 'feature_fraction': 0.4, 'learning_rate': 0.053451661106468214, 'max_depth': 9}. Best is trial 8 with value: 0.783837396734526.\n",
      "[I 2024-02-20 08:19:59,765] Trial 9 finished with value: 0.7734577385761445 and parameters: {'subsample': 0.6300178274831856, 'bagging_fraction': 0.55, 'feature_fraction': 0.7000000000000001, 'learning_rate': 0.004366473592979638, 'max_depth': 7}. Best is trial 8 with value: 0.783837396734526.\n",
      "[I 2024-02-20 08:20:07,867] Trial 10 finished with value: 0.7807777139063516 and parameters: {'subsample': 0.3996315166137136, 'bagging_fraction': 0.8, 'feature_fraction': 0.55, 'learning_rate': 0.07326662753304228, 'max_depth': 22}. Best is trial 8 with value: 0.783837396734526.\n",
      "[I 2024-02-20 08:20:15,992] Trial 11 finished with value: 0.77989028227533 and parameters: {'subsample': 0.45918381429063015, 'bagging_fraction': 0.7000000000000001, 'feature_fraction': 0.4, 'learning_rate': 0.08803956174227016, 'max_depth': 30}. Best is trial 8 with value: 0.783837396734526.\n",
      "[I 2024-02-20 08:20:23,973] Trial 12 finished with value: 0.7839365865858656 and parameters: {'subsample': 0.8740291475009745, 'bagging_fraction': 0.65, 'feature_fraction': 0.5, 'learning_rate': 0.034620006734796704, 'max_depth': 30}. Best is trial 12 with value: 0.7839365865858656.\n",
      "[I 2024-02-20 08:20:32,972] Trial 13 finished with value: 0.7837286479932224 and parameters: {'subsample': 0.855388963235183, 'bagging_fraction': 0.7000000000000001, 'feature_fraction': 0.55, 'learning_rate': 0.025758612643565222, 'max_depth': 23}. Best is trial 12 with value: 0.7839365865858656.\n",
      "[I 2024-02-20 08:20:41,272] Trial 14 finished with value: 0.7839851274147656 and parameters: {'subsample': 0.3128028014914697, 'bagging_fraction': 0.8, 'feature_fraction': 0.5, 'learning_rate': 0.023357760386764327, 'max_depth': 12}. Best is trial 14 with value: 0.7839851274147656.\n",
      "[I 2024-02-20 08:20:41,337] A new study created in memory with name: no-name-7f871ad8-0379-41b5-884e-07c483a86095\n"
     ]
    },
    {
     "name": "stdout",
     "output_type": "stream",
     "text": [
      "Found new best score with score 0.783985\n"
     ]
    },
    {
     "name": "stderr",
     "output_type": "stream",
     "text": [
      "[I 2024-02-20 08:20:49,443] Trial 0 finished with value: 0.7761857416996466 and parameters: {'subsample': 0.39963209507789, 'bagging_fraction': 0.95, 'feature_fraction': 0.8, 'learning_rate': 0.006251373574521752, 'max_depth': 6}. Best is trial 0 with value: 0.7761857416996466.\n",
      "[I 2024-02-20 08:21:00,352] Trial 1 finished with value: 0.7781271879158611 and parameters: {'subsample': 0.22479561626896213, 'bagging_fraction': 0.4, 'feature_fraction': 0.9, 'learning_rate': 0.006358358856676255, 'max_depth': 22}. Best is trial 1 with value: 0.7781271879158611.\n",
      "[I 2024-02-20 08:21:10,659] Trial 2 finished with value: 0.7434948936000351 and parameters: {'subsample': 0.11646759543664197, 'bagging_fraction': 0.95, 'feature_fraction': 0.8500000000000001, 'learning_rate': 0.0004335281794951569, 'max_depth': 7}. Best is trial 1 with value: 0.7781271879158611.\n",
      "[I 2024-02-20 08:21:20,235] Trial 3 finished with value: 0.7627904101589469 and parameters: {'subsample': 0.24672360788274705, 'bagging_fraction': 0.55, 'feature_fraction': 0.7000000000000001, 'learning_rate': 0.0019762189340280074, 'max_depth': 10}. Best is trial 1 with value: 0.7781271879158611.\n",
      "[I 2024-02-20 08:21:29,450] Trial 4 finished with value: 0.7566082685048164 and parameters: {'subsample': 0.5894823157779036, 'bagging_fraction': 0.45, 'feature_fraction': 0.55, 'learning_rate': 0.001256277350380704, 'max_depth': 15}. Best is trial 1 with value: 0.7781271879158611.\n",
      "[I 2024-02-20 08:21:33,426] Trial 5 finished with value: 0.762692886496674 and parameters: {'subsample': 0.728140769114411, 'bagging_fraction': 0.5, 'feature_fraction': 0.7000000000000001, 'learning_rate': 0.005987474910461402, 'max_depth': 3}. Best is trial 1 with value: 0.7781271879158611.\n",
      "[I 2024-02-20 08:21:41,263] Trial 6 finished with value: 0.7832723530362371 and parameters: {'subsample': 0.5860358815211507, 'bagging_fraction': 0.5, 'feature_fraction': 0.4, 'learning_rate': 0.07025166339242159, 'max_depth': 30}. Best is trial 6 with value: 0.7832723530362371.\n",
      "[I 2024-02-20 08:21:49,981] Trial 7 finished with value: 0.7820626137937093 and parameters: {'subsample': 0.746717878493169, 'bagging_fraction': 0.55, 'feature_fraction': 0.45, 'learning_rate': 0.01129013355909268, 'max_depth': 14}. Best is trial 6 with value: 0.7832723530362371.\n",
      "[I 2024-02-20 08:21:57,197] Trial 8 finished with value: 0.782812105671343 and parameters: {'subsample': 0.19763058787582308, 'bagging_fraction': 0.65, 'feature_fraction': 0.4, 'learning_rate': 0.053451661106468214, 'max_depth': 9}. Best is trial 6 with value: 0.7832723530362371.\n",
      "[I 2024-02-20 08:22:05,957] Trial 9 finished with value: 0.773450959021097 and parameters: {'subsample': 0.6300178274831856, 'bagging_fraction': 0.55, 'feature_fraction': 0.7000000000000001, 'learning_rate': 0.004366473592979638, 'max_depth': 7}. Best is trial 6 with value: 0.7832723530362371.\n",
      "[I 2024-02-20 08:22:13,294] Trial 10 finished with value: 0.7803493761218568 and parameters: {'subsample': 0.8640124714322273, 'bagging_fraction': 0.8, 'feature_fraction': 0.55, 'learning_rate': 0.07335580495957027, 'max_depth': 30}. Best is trial 6 with value: 0.7832723530362371.\n",
      "[I 2024-02-20 08:22:20,713] Trial 11 finished with value: 0.781713271902789 and parameters: {'subsample': 0.45918381429063015, 'bagging_fraction': 0.7000000000000001, 'feature_fraction': 0.4, 'learning_rate': 0.08803956174227016, 'max_depth': 23}. Best is trial 6 with value: 0.7832723530362371.\n",
      "[I 2024-02-20 08:22:27,673] Trial 12 finished with value: 0.7839792632850956 and parameters: {'subsample': 0.32460876339176337, 'bagging_fraction': 0.65, 'feature_fraction': 0.5, 'learning_rate': 0.034620006734796704, 'max_depth': 30}. Best is trial 12 with value: 0.7839792632850956.\n",
      "[I 2024-02-20 08:22:34,925] Trial 13 finished with value: 0.7835376082877735 and parameters: {'subsample': 0.3678547987050854, 'bagging_fraction': 0.7000000000000001, 'feature_fraction': 0.55, 'learning_rate': 0.025758612643565222, 'max_depth': 30}. Best is trial 12 with value: 0.7839792632850956.\n",
      "[I 2024-02-20 08:22:43,011] Trial 14 finished with value: 0.783109176369987 and parameters: {'subsample': 0.3598985249600955, 'bagging_fraction': 0.75, 'feature_fraction': 0.55, 'learning_rate': 0.023357760386764327, 'max_depth': 24}. Best is trial 12 with value: 0.7839792632850956.\n",
      "[I 2024-02-20 08:22:43,071] A new study created in memory with name: no-name-72307d54-4ea9-42a8-adb2-653c6792286b\n",
      "[I 2024-02-20 08:22:50,929] Trial 0 finished with value: 0.7793442516742722 and parameters: {'subsample': 0.39963209507789, 'bagging_fraction': 0.95, 'feature_fraction': 0.8, 'learning_rate': 0.006251373574521752, 'max_depth': 6}. Best is trial 0 with value: 0.7793442516742722.\n",
      "[I 2024-02-20 08:23:01,063] Trial 1 finished with value: 0.7814813777604548 and parameters: {'subsample': 0.22479561626896213, 'bagging_fraction': 0.4, 'feature_fraction': 0.9, 'learning_rate': 0.006358358856676255, 'max_depth': 22}. Best is trial 1 with value: 0.7814813777604548.\n",
      "[I 2024-02-20 08:23:11,626] Trial 2 finished with value: 0.7472343395859697 and parameters: {'subsample': 0.11646759543664197, 'bagging_fraction': 0.95, 'feature_fraction': 0.8500000000000001, 'learning_rate': 0.0004335281794951569, 'max_depth': 7}. Best is trial 1 with value: 0.7814813777604548.\n",
      "[I 2024-02-20 08:23:22,203] Trial 3 finished with value: 0.7659745958566313 and parameters: {'subsample': 0.24672360788274705, 'bagging_fraction': 0.55, 'feature_fraction': 0.7000000000000001, 'learning_rate': 0.0019762189340280074, 'max_depth': 10}. Best is trial 1 with value: 0.7814813777604548.\n",
      "[I 2024-02-20 08:23:32,130] Trial 4 finished with value: 0.7591677943425675 and parameters: {'subsample': 0.5894823157779036, 'bagging_fraction': 0.45, 'feature_fraction': 0.55, 'learning_rate': 0.001256277350380704, 'max_depth': 15}. Best is trial 1 with value: 0.7814813777604548.\n",
      "[I 2024-02-20 08:23:35,990] Trial 5 finished with value: 0.7657587996164336 and parameters: {'subsample': 0.728140769114411, 'bagging_fraction': 0.5, 'feature_fraction': 0.7000000000000001, 'learning_rate': 0.005987474910461402, 'max_depth': 3}. Best is trial 1 with value: 0.7814813777604548.\n",
      "[I 2024-02-20 08:23:43,155] Trial 6 finished with value: 0.7835504984588719 and parameters: {'subsample': 0.5860358815211507, 'bagging_fraction': 0.5, 'feature_fraction': 0.4, 'learning_rate': 0.07025166339242159, 'max_depth': 30}. Best is trial 6 with value: 0.7835504984588719.\n",
      "[I 2024-02-20 08:23:51,693] Trial 7 finished with value: 0.7837362628176259 and parameters: {'subsample': 0.746717878493169, 'bagging_fraction': 0.55, 'feature_fraction': 0.45, 'learning_rate': 0.01129013355909268, 'max_depth': 14}. Best is trial 7 with value: 0.7837362628176259.\n",
      "[I 2024-02-20 08:23:58,968] Trial 8 finished with value: 0.7848621762351056 and parameters: {'subsample': 0.19763058787582308, 'bagging_fraction': 0.65, 'feature_fraction': 0.4, 'learning_rate': 0.053451661106468214, 'max_depth': 9}. Best is trial 8 with value: 0.7848621762351056.\n",
      "[I 2024-02-20 08:24:08,126] Trial 9 finished with value: 0.777068774123121 and parameters: {'subsample': 0.6300178274831856, 'bagging_fraction': 0.55, 'feature_fraction': 0.7000000000000001, 'learning_rate': 0.004366473592979638, 'max_depth': 7}. Best is trial 8 with value: 0.7848621762351056.\n",
      "[I 2024-02-20 08:24:14,733] Trial 10 finished with value: 0.7835567890617353 and parameters: {'subsample': 0.3996315166137136, 'bagging_fraction': 0.8, 'feature_fraction': 0.55, 'learning_rate': 0.07326662753304228, 'max_depth': 22}. Best is trial 8 with value: 0.7848621762351056.\n",
      "[I 2024-02-20 08:24:21,661] Trial 11 finished with value: 0.7851912102931818 and parameters: {'subsample': 0.8261318362260144, 'bagging_fraction': 0.7000000000000001, 'feature_fraction': 0.4, 'learning_rate': 0.022433077847887246, 'max_depth': 14}. Best is trial 11 with value: 0.7851912102931818.\n",
      "[I 2024-02-20 08:24:29,060] Trial 12 finished with value: 0.7852668856186578 and parameters: {'subsample': 0.8938592970144932, 'bagging_fraction': 0.7000000000000001, 'feature_fraction': 0.5, 'learning_rate': 0.03105162402577188, 'max_depth': 19}. Best is trial 12 with value: 0.7852668856186578.\n",
      "[I 2024-02-20 08:24:36,352] Trial 13 finished with value: 0.7846392673642061 and parameters: {'subsample': 0.8759586522727435, 'bagging_fraction': 0.75, 'feature_fraction': 0.55, 'learning_rate': 0.024285559866475525, 'max_depth': 20}. Best is trial 12 with value: 0.7852668856186578.\n",
      "[I 2024-02-20 08:24:44,212] Trial 14 finished with value: 0.7850470837343333 and parameters: {'subsample': 0.8761116967567104, 'bagging_fraction': 0.7000000000000001, 'feature_fraction': 0.5, 'learning_rate': 0.023357760386764327, 'max_depth': 27}. Best is trial 12 with value: 0.7852668856186578.\n",
      "[I 2024-02-20 08:24:44,276] A new study created in memory with name: no-name-1232782f-1120-4dd7-9138-3a56a003192d\n"
     ]
    },
    {
     "name": "stdout",
     "output_type": "stream",
     "text": [
      "Found new best score with score 0.785267\n"
     ]
    },
    {
     "name": "stderr",
     "output_type": "stream",
     "text": [
      "[I 2024-02-20 08:24:52,334] Trial 0 finished with value: 0.7757191614736407 and parameters: {'subsample': 0.39963209507789, 'bagging_fraction': 0.95, 'feature_fraction': 0.8, 'learning_rate': 0.006251373574521752, 'max_depth': 6}. Best is trial 0 with value: 0.7757191614736407.\n",
      "[I 2024-02-20 08:25:03,181] Trial 1 finished with value: 0.7784653510074138 and parameters: {'subsample': 0.22479561626896213, 'bagging_fraction': 0.4, 'feature_fraction': 0.9, 'learning_rate': 0.006358358856676255, 'max_depth': 22}. Best is trial 1 with value: 0.7784653510074138.\n",
      "[I 2024-02-20 08:25:14,147] Trial 2 finished with value: 0.7423129819117008 and parameters: {'subsample': 0.11646759543664197, 'bagging_fraction': 0.95, 'feature_fraction': 0.8500000000000001, 'learning_rate': 0.0004335281794951569, 'max_depth': 7}. Best is trial 1 with value: 0.7784653510074138.\n",
      "[I 2024-02-20 08:25:24,840] Trial 3 finished with value: 0.7623007718371192 and parameters: {'subsample': 0.24672360788274705, 'bagging_fraction': 0.55, 'feature_fraction': 0.7000000000000001, 'learning_rate': 0.0019762189340280074, 'max_depth': 10}. Best is trial 1 with value: 0.7784653510074138.\n",
      "[I 2024-02-20 08:25:34,430] Trial 4 finished with value: 0.7562719237158937 and parameters: {'subsample': 0.5894823157779036, 'bagging_fraction': 0.45, 'feature_fraction': 0.55, 'learning_rate': 0.001256277350380704, 'max_depth': 15}. Best is trial 1 with value: 0.7784653510074138.\n",
      "[I 2024-02-20 08:25:38,302] Trial 5 finished with value: 0.7617769778117678 and parameters: {'subsample': 0.728140769114411, 'bagging_fraction': 0.5, 'feature_fraction': 0.7000000000000001, 'learning_rate': 0.005987474910461402, 'max_depth': 3}. Best is trial 1 with value: 0.7784653510074138.\n",
      "[I 2024-02-20 08:25:45,785] Trial 6 finished with value: 0.7832016937382338 and parameters: {'subsample': 0.5860358815211507, 'bagging_fraction': 0.5, 'feature_fraction': 0.4, 'learning_rate': 0.07025166339242159, 'max_depth': 30}. Best is trial 6 with value: 0.7832016937382338.\n",
      "[I 2024-02-20 08:25:54,537] Trial 7 finished with value: 0.781793940283537 and parameters: {'subsample': 0.746717878493169, 'bagging_fraction': 0.55, 'feature_fraction': 0.45, 'learning_rate': 0.01129013355909268, 'max_depth': 14}. Best is trial 6 with value: 0.7832016937382338.\n",
      "[I 2024-02-20 08:26:01,271] Trial 8 finished with value: 0.7829613981360706 and parameters: {'subsample': 0.19763058787582308, 'bagging_fraction': 0.65, 'feature_fraction': 0.4, 'learning_rate': 0.053451661106468214, 'max_depth': 9}. Best is trial 6 with value: 0.7832016937382338.\n",
      "[I 2024-02-20 08:26:09,463] Trial 9 finished with value: 0.7731669546043903 and parameters: {'subsample': 0.6300178274831856, 'bagging_fraction': 0.55, 'feature_fraction': 0.7000000000000001, 'learning_rate': 0.004366473592979638, 'max_depth': 7}. Best is trial 6 with value: 0.7832016937382338.\n",
      "[I 2024-02-20 08:26:16,170] Trial 10 finished with value: 0.7807794080812158 and parameters: {'subsample': 0.8640124714322273, 'bagging_fraction': 0.8, 'feature_fraction': 0.55, 'learning_rate': 0.07335580495957027, 'max_depth': 30}. Best is trial 6 with value: 0.7832016937382338.\n",
      "[I 2024-02-20 08:26:24,928] Trial 11 finished with value: 0.7796350154789983 and parameters: {'subsample': 0.45918381429063015, 'bagging_fraction': 0.7000000000000001, 'feature_fraction': 0.4, 'learning_rate': 0.08803956174227016, 'max_depth': 23}. Best is trial 6 with value: 0.7832016937382338.\n",
      "[I 2024-02-20 08:26:32,180] Trial 12 finished with value: 0.7832654685037969 and parameters: {'subsample': 0.32460876339176337, 'bagging_fraction': 0.65, 'feature_fraction': 0.5, 'learning_rate': 0.034620006734796704, 'max_depth': 30}. Best is trial 12 with value: 0.7832654685037969.\n",
      "[I 2024-02-20 08:26:40,065] Trial 13 finished with value: 0.7832964480452761 and parameters: {'subsample': 0.3678547987050854, 'bagging_fraction': 0.7000000000000001, 'feature_fraction': 0.55, 'learning_rate': 0.025758612643565222, 'max_depth': 30}. Best is trial 13 with value: 0.7832964480452761.\n",
      "[I 2024-02-20 08:26:47,820] Trial 14 finished with value: 0.7830657868546387 and parameters: {'subsample': 0.3598985249600955, 'bagging_fraction': 0.75, 'feature_fraction': 0.55, 'learning_rate': 0.023357760386764327, 'max_depth': 24}. Best is trial 13 with value: 0.7832964480452761.\n",
      "[I 2024-02-20 08:26:57,254] A new study created in memory with name: no-name-d937092f-78c5-45a1-b02b-6a5b05b9ebac\n"
     ]
    },
    {
     "name": "stdout",
     "output_type": "stream",
     "text": [
      "\n",
      "        Test AUC                           : 0.787\n",
      "        \n",
      "\n",
      "Nested CV: 5 of 5 outer fold\n"
     ]
    },
    {
     "name": "stderr",
     "output_type": "stream",
     "text": [
      "[I 2024-02-20 08:27:05,541] Trial 0 finished with value: 0.7778909261580833 and parameters: {'subsample': 0.39963209507789, 'bagging_fraction': 0.95, 'feature_fraction': 0.8, 'learning_rate': 0.006251373574521752, 'max_depth': 6}. Best is trial 0 with value: 0.7778909261580833.\n",
      "[I 2024-02-20 08:27:15,789] Trial 1 finished with value: 0.7800116382371691 and parameters: {'subsample': 0.22479561626896213, 'bagging_fraction': 0.4, 'feature_fraction': 0.9, 'learning_rate': 0.006358358856676255, 'max_depth': 22}. Best is trial 1 with value: 0.7800116382371691.\n",
      "[I 2024-02-20 08:27:26,118] Trial 2 finished with value: 0.7420929828792775 and parameters: {'subsample': 0.11646759543664197, 'bagging_fraction': 0.95, 'feature_fraction': 0.8500000000000001, 'learning_rate': 0.0004335281794951569, 'max_depth': 7}. Best is trial 1 with value: 0.7800116382371691.\n",
      "[I 2024-02-20 08:27:36,162] Trial 3 finished with value: 0.7639653336935547 and parameters: {'subsample': 0.24672360788274705, 'bagging_fraction': 0.55, 'feature_fraction': 0.7000000000000001, 'learning_rate': 0.0019762189340280074, 'max_depth': 10}. Best is trial 1 with value: 0.7800116382371691.\n",
      "[I 2024-02-20 08:27:45,679] Trial 4 finished with value: 0.7575798388964534 and parameters: {'subsample': 0.5894823157779036, 'bagging_fraction': 0.45, 'feature_fraction': 0.55, 'learning_rate': 0.001256277350380704, 'max_depth': 15}. Best is trial 1 with value: 0.7800116382371691.\n",
      "[I 2024-02-20 08:27:49,165] Trial 5 finished with value: 0.7639240085999166 and parameters: {'subsample': 0.728140769114411, 'bagging_fraction': 0.5, 'feature_fraction': 0.7000000000000001, 'learning_rate': 0.005987474910461402, 'max_depth': 3}. Best is trial 1 with value: 0.7800116382371691.\n",
      "[I 2024-02-20 08:27:56,107] Trial 6 finished with value: 0.7822184850056777 and parameters: {'subsample': 0.5860358815211507, 'bagging_fraction': 0.5, 'feature_fraction': 0.4, 'learning_rate': 0.07025166339242159, 'max_depth': 30}. Best is trial 6 with value: 0.7822184850056777.\n",
      "[I 2024-02-20 08:28:04,915] Trial 7 finished with value: 0.7830431482182156 and parameters: {'subsample': 0.746717878493169, 'bagging_fraction': 0.55, 'feature_fraction': 0.45, 'learning_rate': 0.01129013355909268, 'max_depth': 14}. Best is trial 7 with value: 0.7830431482182156.\n",
      "[I 2024-02-20 08:28:12,419] Trial 8 finished with value: 0.7849127144607776 and parameters: {'subsample': 0.19763058787582308, 'bagging_fraction': 0.65, 'feature_fraction': 0.4, 'learning_rate': 0.053451661106468214, 'max_depth': 9}. Best is trial 8 with value: 0.7849127144607776.\n",
      "[I 2024-02-20 08:28:20,985] Trial 9 finished with value: 0.7756614921029337 and parameters: {'subsample': 0.6300178274831856, 'bagging_fraction': 0.55, 'feature_fraction': 0.7000000000000001, 'learning_rate': 0.004366473592979638, 'max_depth': 7}. Best is trial 8 with value: 0.7849127144607776.\n",
      "[I 2024-02-20 08:28:27,950] Trial 10 finished with value: 0.7819714641035127 and parameters: {'subsample': 0.3996315166137136, 'bagging_fraction': 0.8, 'feature_fraction': 0.55, 'learning_rate': 0.07326662753304228, 'max_depth': 22}. Best is trial 8 with value: 0.7849127144607776.\n",
      "[I 2024-02-20 08:28:37,919] Trial 11 finished with value: 0.7850264152808172 and parameters: {'subsample': 0.8261318362260144, 'bagging_fraction': 0.7000000000000001, 'feature_fraction': 0.4, 'learning_rate': 0.022433077847887246, 'max_depth': 14}. Best is trial 11 with value: 0.7850264152808172.\n",
      "[I 2024-02-20 08:28:46,102] Trial 12 finished with value: 0.7850756459247796 and parameters: {'subsample': 0.8938592970144932, 'bagging_fraction': 0.7000000000000001, 'feature_fraction': 0.5, 'learning_rate': 0.03105162402577188, 'max_depth': 19}. Best is trial 12 with value: 0.7850756459247796.\n",
      "[I 2024-02-20 08:28:54,915] Trial 13 finished with value: 0.7846652941492757 and parameters: {'subsample': 0.8759586522727435, 'bagging_fraction': 0.75, 'feature_fraction': 0.55, 'learning_rate': 0.024285559866475525, 'max_depth': 20}. Best is trial 12 with value: 0.7850756459247796.\n",
      "[I 2024-02-20 08:29:03,044] Trial 14 finished with value: 0.7848643032945927 and parameters: {'subsample': 0.8761116967567104, 'bagging_fraction': 0.7000000000000001, 'feature_fraction': 0.5, 'learning_rate': 0.023357760386764327, 'max_depth': 27}. Best is trial 12 with value: 0.7850756459247796.\n",
      "[I 2024-02-20 08:29:03,112] A new study created in memory with name: no-name-dc0e2f62-ee43-406f-9d5b-39598bdb12a2\n"
     ]
    },
    {
     "name": "stdout",
     "output_type": "stream",
     "text": [
      "Found new best score with score 0.785076\n"
     ]
    },
    {
     "name": "stderr",
     "output_type": "stream",
     "text": [
      "[I 2024-02-20 08:29:12,075] Trial 0 finished with value: 0.7768534865350847 and parameters: {'subsample': 0.39963209507789, 'bagging_fraction': 0.95, 'feature_fraction': 0.8, 'learning_rate': 0.006251373574521752, 'max_depth': 6}. Best is trial 0 with value: 0.7768534865350847.\n",
      "[I 2024-02-20 08:29:22,411] Trial 1 finished with value: 0.778182607714787 and parameters: {'subsample': 0.22479561626896213, 'bagging_fraction': 0.4, 'feature_fraction': 0.9, 'learning_rate': 0.006358358856676255, 'max_depth': 22}. Best is trial 1 with value: 0.778182607714787.\n",
      "[I 2024-02-20 08:29:32,679] Trial 2 finished with value: 0.74270176056653 and parameters: {'subsample': 0.11646759543664197, 'bagging_fraction': 0.95, 'feature_fraction': 0.8500000000000001, 'learning_rate': 0.0004335281794951569, 'max_depth': 7}. Best is trial 1 with value: 0.778182607714787.\n",
      "[I 2024-02-20 08:29:42,597] Trial 3 finished with value: 0.7601838016256702 and parameters: {'subsample': 0.24672360788274705, 'bagging_fraction': 0.55, 'feature_fraction': 0.7000000000000001, 'learning_rate': 0.0019762189340280074, 'max_depth': 10}. Best is trial 1 with value: 0.778182607714787.\n",
      "[I 2024-02-20 08:29:52,528] Trial 4 finished with value: 0.7532852850658109 and parameters: {'subsample': 0.5894823157779036, 'bagging_fraction': 0.45, 'feature_fraction': 0.55, 'learning_rate': 0.001256277350380704, 'max_depth': 15}. Best is trial 1 with value: 0.778182607714787.\n",
      "[I 2024-02-20 08:29:56,080] Trial 5 finished with value: 0.7610038104402714 and parameters: {'subsample': 0.728140769114411, 'bagging_fraction': 0.5, 'feature_fraction': 0.7000000000000001, 'learning_rate': 0.005987474910461402, 'max_depth': 3}. Best is trial 1 with value: 0.778182607714787.\n",
      "[I 2024-02-20 08:30:03,581] Trial 6 finished with value: 0.7815557279268756 and parameters: {'subsample': 0.5860358815211507, 'bagging_fraction': 0.5, 'feature_fraction': 0.4, 'learning_rate': 0.07025166339242159, 'max_depth': 30}. Best is trial 6 with value: 0.7815557279268756.\n",
      "[I 2024-02-20 08:30:13,597] Trial 7 finished with value: 0.7822825962762339 and parameters: {'subsample': 0.746717878493169, 'bagging_fraction': 0.55, 'feature_fraction': 0.45, 'learning_rate': 0.01129013355909268, 'max_depth': 14}. Best is trial 7 with value: 0.7822825962762339.\n",
      "[I 2024-02-20 08:30:20,696] Trial 8 finished with value: 0.7829135961637517 and parameters: {'subsample': 0.19763058787582308, 'bagging_fraction': 0.65, 'feature_fraction': 0.4, 'learning_rate': 0.053451661106468214, 'max_depth': 9}. Best is trial 8 with value: 0.7829135961637517.\n",
      "[I 2024-02-20 08:30:29,532] Trial 9 finished with value: 0.7735944108551933 and parameters: {'subsample': 0.6300178274831856, 'bagging_fraction': 0.55, 'feature_fraction': 0.7000000000000001, 'learning_rate': 0.004366473592979638, 'max_depth': 7}. Best is trial 8 with value: 0.7829135961637517.\n",
      "[I 2024-02-20 08:30:36,728] Trial 10 finished with value: 0.7801469080093536 and parameters: {'subsample': 0.3996315166137136, 'bagging_fraction': 0.8, 'feature_fraction': 0.55, 'learning_rate': 0.07326662753304228, 'max_depth': 22}. Best is trial 8 with value: 0.7829135961637517.\n",
      "[I 2024-02-20 08:30:44,383] Trial 11 finished with value: 0.7834649607552313 and parameters: {'subsample': 0.8261318362260144, 'bagging_fraction': 0.7000000000000001, 'feature_fraction': 0.4, 'learning_rate': 0.022433077847887246, 'max_depth': 14}. Best is trial 11 with value: 0.7834649607552313.\n",
      "[I 2024-02-20 08:30:51,980] Trial 12 finished with value: 0.7839684188715699 and parameters: {'subsample': 0.8938592970144932, 'bagging_fraction': 0.7000000000000001, 'feature_fraction': 0.5, 'learning_rate': 0.03105162402577188, 'max_depth': 19}. Best is trial 12 with value: 0.7839684188715699.\n",
      "[I 2024-02-20 08:31:00,273] Trial 13 finished with value: 0.7834203770433885 and parameters: {'subsample': 0.8759586522727435, 'bagging_fraction': 0.75, 'feature_fraction': 0.55, 'learning_rate': 0.024285559866475525, 'max_depth': 20}. Best is trial 12 with value: 0.7839684188715699.\n",
      "[I 2024-02-20 08:31:09,512] Trial 14 finished with value: 0.7838792593781069 and parameters: {'subsample': 0.8761116967567104, 'bagging_fraction': 0.7000000000000001, 'feature_fraction': 0.5, 'learning_rate': 0.023357760386764327, 'max_depth': 27}. Best is trial 12 with value: 0.7839684188715699.\n",
      "[I 2024-02-20 08:31:09,579] A new study created in memory with name: no-name-02f06774-0eb9-40ad-b5f4-72c409b3d2be\n",
      "[I 2024-02-20 08:31:18,216] Trial 0 finished with value: 0.7771360690963838 and parameters: {'subsample': 0.39963209507789, 'bagging_fraction': 0.95, 'feature_fraction': 0.8, 'learning_rate': 0.006251373574521752, 'max_depth': 6}. Best is trial 0 with value: 0.7771360690963838.\n",
      "[I 2024-02-20 08:31:28,209] Trial 1 finished with value: 0.7789916317148506 and parameters: {'subsample': 0.22479561626896213, 'bagging_fraction': 0.4, 'feature_fraction': 0.9, 'learning_rate': 0.006358358856676255, 'max_depth': 22}. Best is trial 1 with value: 0.7789916317148506.\n",
      "[I 2024-02-20 08:31:37,816] Trial 2 finished with value: 0.7453747016981257 and parameters: {'subsample': 0.11646759543664197, 'bagging_fraction': 0.95, 'feature_fraction': 0.8500000000000001, 'learning_rate': 0.0004335281794951569, 'max_depth': 7}. Best is trial 1 with value: 0.7789916317148506.\n",
      "[I 2024-02-20 08:31:47,696] Trial 3 finished with value: 0.76390083463026 and parameters: {'subsample': 0.24672360788274705, 'bagging_fraction': 0.55, 'feature_fraction': 0.7000000000000001, 'learning_rate': 0.0019762189340280074, 'max_depth': 10}. Best is trial 1 with value: 0.7789916317148506.\n",
      "[I 2024-02-20 08:31:58,579] Trial 4 finished with value: 0.7581172130420366 and parameters: {'subsample': 0.5894823157779036, 'bagging_fraction': 0.45, 'feature_fraction': 0.55, 'learning_rate': 0.001256277350380704, 'max_depth': 15}. Best is trial 1 with value: 0.7789916317148506.\n",
      "[I 2024-02-20 08:32:02,214] Trial 5 finished with value: 0.7635264116394455 and parameters: {'subsample': 0.728140769114411, 'bagging_fraction': 0.5, 'feature_fraction': 0.7000000000000001, 'learning_rate': 0.005987474910461402, 'max_depth': 3}. Best is trial 1 with value: 0.7789916317148506.\n",
      "[I 2024-02-20 08:32:09,638] Trial 6 finished with value: 0.7837847301367393 and parameters: {'subsample': 0.5860358815211507, 'bagging_fraction': 0.5, 'feature_fraction': 0.4, 'learning_rate': 0.07025166339242159, 'max_depth': 30}. Best is trial 6 with value: 0.7837847301367393.\n",
      "[I 2024-02-20 08:32:19,028] Trial 7 finished with value: 0.7821293918972849 and parameters: {'subsample': 0.746717878493169, 'bagging_fraction': 0.55, 'feature_fraction': 0.45, 'learning_rate': 0.01129013355909268, 'max_depth': 14}. Best is trial 6 with value: 0.7837847301367393.\n",
      "[I 2024-02-20 08:32:26,634] Trial 8 finished with value: 0.7851182595683621 and parameters: {'subsample': 0.19763058787582308, 'bagging_fraction': 0.65, 'feature_fraction': 0.4, 'learning_rate': 0.053451661106468214, 'max_depth': 9}. Best is trial 8 with value: 0.7851182595683621.\n",
      "[I 2024-02-20 08:32:35,416] Trial 9 finished with value: 0.7745490764320127 and parameters: {'subsample': 0.6300178274831856, 'bagging_fraction': 0.55, 'feature_fraction': 0.7000000000000001, 'learning_rate': 0.004366473592979638, 'max_depth': 7}. Best is trial 8 with value: 0.7851182595683621.\n",
      "[I 2024-02-20 08:32:43,252] Trial 10 finished with value: 0.7836864105717216 and parameters: {'subsample': 0.3996315166137136, 'bagging_fraction': 0.8, 'feature_fraction': 0.55, 'learning_rate': 0.07326662753304228, 'max_depth': 22}. Best is trial 8 with value: 0.7851182595683621.\n",
      "[I 2024-02-20 08:32:49,731] Trial 11 finished with value: 0.7835404490668277 and parameters: {'subsample': 0.45918381429063015, 'bagging_fraction': 0.7000000000000001, 'feature_fraction': 0.4, 'learning_rate': 0.08803956174227016, 'max_depth': 30}. Best is trial 8 with value: 0.7851182595683621.\n",
      "[I 2024-02-20 08:32:57,263] Trial 12 finished with value: 0.7846266224887228 and parameters: {'subsample': 0.8740291475009745, 'bagging_fraction': 0.65, 'feature_fraction': 0.5, 'learning_rate': 0.034620006734796704, 'max_depth': 30}. Best is trial 8 with value: 0.7851182595683621.\n",
      "[I 2024-02-20 08:33:05,097] Trial 13 finished with value: 0.7834904649387512 and parameters: {'subsample': 0.855388963235183, 'bagging_fraction': 0.7000000000000001, 'feature_fraction': 0.55, 'learning_rate': 0.025758612643565222, 'max_depth': 23}. Best is trial 8 with value: 0.7851182595683621.\n",
      "[I 2024-02-20 08:33:13,602] Trial 14 finished with value: 0.7835551564385446 and parameters: {'subsample': 0.3128028014914697, 'bagging_fraction': 0.8, 'feature_fraction': 0.5, 'learning_rate': 0.023357760386764327, 'max_depth': 12}. Best is trial 8 with value: 0.7851182595683621.\n",
      "[I 2024-02-20 08:33:13,666] A new study created in memory with name: no-name-d840d436-12fd-459e-bf2e-58de8365c77c\n"
     ]
    },
    {
     "name": "stdout",
     "output_type": "stream",
     "text": [
      "Found new best score with score 0.785118\n"
     ]
    },
    {
     "name": "stderr",
     "output_type": "stream",
     "text": [
      "[I 2024-02-20 08:33:21,566] Trial 0 finished with value: 0.7777782050986928 and parameters: {'subsample': 0.39963209507789, 'bagging_fraction': 0.95, 'feature_fraction': 0.8, 'learning_rate': 0.006251373574521752, 'max_depth': 6}. Best is trial 0 with value: 0.7777782050986928.\n",
      "[I 2024-02-20 08:33:31,615] Trial 1 finished with value: 0.7799822241931006 and parameters: {'subsample': 0.22479561626896213, 'bagging_fraction': 0.4, 'feature_fraction': 0.9, 'learning_rate': 0.006358358856676255, 'max_depth': 22}. Best is trial 1 with value: 0.7799822241931006.\n",
      "[I 2024-02-20 08:33:42,396] Trial 2 finished with value: 0.7456089106592174 and parameters: {'subsample': 0.11646759543664197, 'bagging_fraction': 0.95, 'feature_fraction': 0.8500000000000001, 'learning_rate': 0.0004335281794951569, 'max_depth': 7}. Best is trial 1 with value: 0.7799822241931006.\n",
      "[I 2024-02-20 08:33:53,071] Trial 3 finished with value: 0.7640345240370523 and parameters: {'subsample': 0.24672360788274705, 'bagging_fraction': 0.55, 'feature_fraction': 0.7000000000000001, 'learning_rate': 0.0019762189340280074, 'max_depth': 10}. Best is trial 1 with value: 0.7799822241931006.\n",
      "[I 2024-02-20 08:34:03,280] Trial 4 finished with value: 0.758807070124867 and parameters: {'subsample': 0.5894823157779036, 'bagging_fraction': 0.45, 'feature_fraction': 0.55, 'learning_rate': 0.001256277350380704, 'max_depth': 15}. Best is trial 1 with value: 0.7799822241931006.\n",
      "[I 2024-02-20 08:34:07,036] Trial 5 finished with value: 0.7641340526519192 and parameters: {'subsample': 0.728140769114411, 'bagging_fraction': 0.5, 'feature_fraction': 0.7000000000000001, 'learning_rate': 0.005987474910461402, 'max_depth': 3}. Best is trial 1 with value: 0.7799822241931006.\n",
      "[I 2024-02-20 08:34:14,982] Trial 6 finished with value: 0.7833180770477074 and parameters: {'subsample': 0.5860358815211507, 'bagging_fraction': 0.5, 'feature_fraction': 0.4, 'learning_rate': 0.07025166339242159, 'max_depth': 30}. Best is trial 6 with value: 0.7833180770477074.\n",
      "[I 2024-02-20 08:34:24,424] Trial 7 finished with value: 0.7830960095156565 and parameters: {'subsample': 0.746717878493169, 'bagging_fraction': 0.55, 'feature_fraction': 0.45, 'learning_rate': 0.01129013355909268, 'max_depth': 14}. Best is trial 6 with value: 0.7833180770477074.\n",
      "[I 2024-02-20 08:34:32,055] Trial 8 finished with value: 0.7847355655500345 and parameters: {'subsample': 0.19763058787582308, 'bagging_fraction': 0.65, 'feature_fraction': 0.4, 'learning_rate': 0.053451661106468214, 'max_depth': 9}. Best is trial 8 with value: 0.7847355655500345.\n",
      "[I 2024-02-20 08:34:40,886] Trial 9 finished with value: 0.7755942979560478 and parameters: {'subsample': 0.6300178274831856, 'bagging_fraction': 0.55, 'feature_fraction': 0.7000000000000001, 'learning_rate': 0.004366473592979638, 'max_depth': 7}. Best is trial 8 with value: 0.7847355655500345.\n",
      "[I 2024-02-20 08:34:48,043] Trial 10 finished with value: 0.7807182751796945 and parameters: {'subsample': 0.3996315166137136, 'bagging_fraction': 0.8, 'feature_fraction': 0.55, 'learning_rate': 0.07326662753304228, 'max_depth': 22}. Best is trial 8 with value: 0.7847355655500345.\n",
      "[I 2024-02-20 08:34:55,023] Trial 11 finished with value: 0.7835846695611899 and parameters: {'subsample': 0.45918381429063015, 'bagging_fraction': 0.7000000000000001, 'feature_fraction': 0.4, 'learning_rate': 0.08803956174227016, 'max_depth': 30}. Best is trial 8 with value: 0.7847355655500345.\n",
      "[I 2024-02-20 08:35:02,784] Trial 12 finished with value: 0.7841557653849882 and parameters: {'subsample': 0.8740291475009745, 'bagging_fraction': 0.7000000000000001, 'feature_fraction': 0.5, 'learning_rate': 0.0295900322481497, 'max_depth': 29}. Best is trial 8 with value: 0.7847355655500345.\n",
      "[I 2024-02-20 08:35:10,918] Trial 13 finished with value: 0.784689359153698 and parameters: {'subsample': 0.855388963235183, 'bagging_fraction': 0.7000000000000001, 'feature_fraction': 0.55, 'learning_rate': 0.02559399734613265, 'max_depth': 23}. Best is trial 8 with value: 0.7847355655500345.\n",
      "[I 2024-02-20 08:35:19,216] Trial 14 finished with value: 0.7850311229898894 and parameters: {'subsample': 0.8395312209471094, 'bagging_fraction': 0.8, 'feature_fraction': 0.6000000000000001, 'learning_rate': 0.023357760386764327, 'max_depth': 21}. Best is trial 14 with value: 0.7850311229898894.\n",
      "[I 2024-02-20 08:35:19,278] A new study created in memory with name: no-name-a46aa345-0be1-482c-8510-ccf999d05afe\n",
      "[I 2024-02-20 08:35:28,116] Trial 0 finished with value: 0.7746158428009992 and parameters: {'subsample': 0.39963209507789, 'bagging_fraction': 0.95, 'feature_fraction': 0.8, 'learning_rate': 0.006251373574521752, 'max_depth': 6}. Best is trial 0 with value: 0.7746158428009992.\n",
      "[I 2024-02-20 08:35:38,372] Trial 1 finished with value: 0.7768673541939901 and parameters: {'subsample': 0.22479561626896213, 'bagging_fraction': 0.4, 'feature_fraction': 0.9, 'learning_rate': 0.006358358856676255, 'max_depth': 22}. Best is trial 1 with value: 0.7768673541939901.\n",
      "[I 2024-02-20 08:35:48,680] Trial 2 finished with value: 0.7398439308171569 and parameters: {'subsample': 0.11646759543664197, 'bagging_fraction': 0.95, 'feature_fraction': 0.8500000000000001, 'learning_rate': 0.0004335281794951569, 'max_depth': 7}. Best is trial 1 with value: 0.7768673541939901.\n",
      "[I 2024-02-20 08:35:58,782] Trial 3 finished with value: 0.7598675123769896 and parameters: {'subsample': 0.24672360788274705, 'bagging_fraction': 0.55, 'feature_fraction': 0.7000000000000001, 'learning_rate': 0.0019762189340280074, 'max_depth': 10}. Best is trial 1 with value: 0.7768673541939901.\n",
      "[I 2024-02-20 08:36:08,287] Trial 4 finished with value: 0.7535751812922711 and parameters: {'subsample': 0.5894823157779036, 'bagging_fraction': 0.45, 'feature_fraction': 0.55, 'learning_rate': 0.001256277350380704, 'max_depth': 15}. Best is trial 1 with value: 0.7768673541939901.\n",
      "[I 2024-02-20 08:36:11,859] Trial 5 finished with value: 0.759422344510845 and parameters: {'subsample': 0.728140769114411, 'bagging_fraction': 0.5, 'feature_fraction': 0.7000000000000001, 'learning_rate': 0.005987474910461402, 'max_depth': 3}. Best is trial 1 with value: 0.7768673541939901.\n",
      "[I 2024-02-20 08:36:19,000] Trial 6 finished with value: 0.7795391915160219 and parameters: {'subsample': 0.5860358815211507, 'bagging_fraction': 0.5, 'feature_fraction': 0.4, 'learning_rate': 0.07025166339242159, 'max_depth': 30}. Best is trial 6 with value: 0.7795391915160219.\n",
      "[I 2024-02-20 08:36:28,003] Trial 7 finished with value: 0.7809586967162084 and parameters: {'subsample': 0.746717878493169, 'bagging_fraction': 0.55, 'feature_fraction': 0.45, 'learning_rate': 0.01129013355909268, 'max_depth': 14}. Best is trial 7 with value: 0.7809586967162084.\n",
      "[I 2024-02-20 08:36:35,982] Trial 8 finished with value: 0.7827801944428666 and parameters: {'subsample': 0.19763058787582308, 'bagging_fraction': 0.65, 'feature_fraction': 0.4, 'learning_rate': 0.053451661106468214, 'max_depth': 9}. Best is trial 8 with value: 0.7827801944428666.\n",
      "[I 2024-02-20 08:36:45,704] Trial 9 finished with value: 0.7718231692808191 and parameters: {'subsample': 0.6300178274831856, 'bagging_fraction': 0.55, 'feature_fraction': 0.7000000000000001, 'learning_rate': 0.004366473592979638, 'max_depth': 7}. Best is trial 8 with value: 0.7827801944428666.\n",
      "[I 2024-02-20 08:36:53,087] Trial 10 finished with value: 0.7791496067114243 and parameters: {'subsample': 0.3996315166137136, 'bagging_fraction': 0.8, 'feature_fraction': 0.55, 'learning_rate': 0.07326662753304228, 'max_depth': 22}. Best is trial 8 with value: 0.7827801944428666.\n",
      "[I 2024-02-20 08:37:01,627] Trial 11 finished with value: 0.7824080246044859 and parameters: {'subsample': 0.8261318362260144, 'bagging_fraction': 0.7000000000000001, 'feature_fraction': 0.4, 'learning_rate': 0.022433077847887246, 'max_depth': 14}. Best is trial 8 with value: 0.7827801944428666.\n",
      "[I 2024-02-20 08:37:09,896] Trial 12 finished with value: 0.7834689245647247 and parameters: {'subsample': 0.8938592970144932, 'bagging_fraction': 0.7000000000000001, 'feature_fraction': 0.5, 'learning_rate': 0.03105162402577188, 'max_depth': 19}. Best is trial 12 with value: 0.7834689245647247.\n",
      "[I 2024-02-20 08:37:18,477] Trial 13 finished with value: 0.7830878971142164 and parameters: {'subsample': 0.41156786987010213, 'bagging_fraction': 0.7000000000000001, 'feature_fraction': 0.55, 'learning_rate': 0.029335409283014136, 'max_depth': 21}. Best is trial 12 with value: 0.7834689245647247.\n",
      "[I 2024-02-20 08:37:26,783] Trial 14 finished with value: 0.7830987947147803 and parameters: {'subsample': 0.42258306343525276, 'bagging_fraction': 0.75, 'feature_fraction': 0.55, 'learning_rate': 0.023357760386764327, 'max_depth': 21}. Best is trial 12 with value: 0.7834689245647247.\n"
     ]
    },
    {
     "name": "stdout",
     "output_type": "stream",
     "text": [
      "\n",
      "        Test AUC                           : 0.787\n",
      "        \n"
     ]
    }
   ],
   "source": [
    "random_seed(42)\n",
    "\n",
    "def create_params(trial):\n",
    "    return {\n",
    "        'verbose': -1,\n",
    "        'subsample': trial.suggest_float('subsample', 0.1, 0.9),\n",
    "        'bagging_fraction': trial.suggest_float('bagging_fraction', 0.4, 0.95, step=0.05),\n",
    "        'feature_fraction': trial.suggest_float('feature_fraction', 0.4, 0.95, step=0.05),\n",
    "        'learning_rate': trial.suggest_float(\"learning_rate\", 1e-4, 1e-1, log=True),\n",
    "        'max_depth': trial.suggest_int('max_depth', 2, 30),\n",
    "    }\n",
    "\n",
    "classifier = LGBMClassifier(n_estimators=1000, objective='binary', metric='auc', n_jobs=-1) \n",
    "\n",
    "lgb_clfs, lgb_oof_preds, lgb_oof_targets = nestedcv(x=x,\n",
    "                                                    y=y,\n",
    "                                                    groups=weeks,\n",
    "                                                    classifier=classifier,\n",
    "                                                    cv_outer=cv_outer,\n",
    "                                                    cv_inner=cv_inner,\n",
    "                                                    p_grid=create_params,\n",
    "                                                    n_iter=15)"
   ]
  },
  {
   "cell_type": "code",
   "execution_count": 13,
   "metadata": {},
   "outputs": [
    {
     "name": "stderr",
     "output_type": "stream",
     "text": [
      "[I 2024-02-20 10:00:15,117] A new study created in memory with name: no-name-d17b40c5-742e-4008-b48e-01eddc341a6b\n"
     ]
    },
    {
     "name": "stdout",
     "output_type": "stream",
     "text": [
      "\n",
      "Nested CV: 1 of 5 outer fold\n"
     ]
    },
    {
     "name": "stderr",
     "output_type": "stream",
     "text": [
      "[I 2024-02-20 10:00:48,748] Trial 0 finished with value: 0.7720008546229552 and parameters: {'subsample': 0.39963209507789, 'bagging_fraction': 0.95, 'learning_rate': 0.015702970884055395, 'max_depth': 19}. Best is trial 0 with value: 0.7720008546229552.\n",
      "[I 2024-02-20 10:01:13,152] Trial 1 finished with value: 0.7591483842044509 and parameters: {'subsample': 0.22481491235394924, 'bagging_fraction': 0.45, 'learning_rate': 0.00014936568554617635, 'max_depth': 27}. Best is trial 0 with value: 0.7720008546229552.\n",
      "[I 2024-02-20 10:02:13,525] Trial 2 finished with value: 0.7617930867667851 and parameters: {'subsample': 0.5808920093945671, 'bagging_fraction': 0.8, 'learning_rate': 0.00011527987128232407, 'max_depth': 30}. Best is trial 0 with value: 0.7720008546229552.\n",
      "[I 2024-02-20 10:02:18,056] Trial 3 finished with value: 0.7466946817082256 and parameters: {'subsample': 0.7659541126403374, 'bagging_fraction': 0.5, 'learning_rate': 0.0003511356313970409, 'max_depth': 7}. Best is trial 0 with value: 0.7720008546229552.\n",
      "[I 2024-02-20 10:02:27,090] Trial 4 finished with value: 0.7594028856597274 and parameters: {'subsample': 0.3433937943676302, 'bagging_fraction': 0.7000000000000001, 'learning_rate': 0.0019762189340280074, 'max_depth': 10}. Best is trial 0 with value: 0.7720008546229552.\n",
      "[I 2024-02-20 10:02:43,699] Trial 5 finished with value: 0.7593035788662562 and parameters: {'subsample': 0.5894823157779036, 'bagging_fraction': 0.45, 'learning_rate': 0.0007523742884534858, 'max_depth': 12}. Best is trial 0 with value: 0.7720008546229552.\n",
      "[I 2024-02-20 10:03:14,657] Trial 6 finished with value: 0.7625163490082933 and parameters: {'subsample': 0.46485598737362877, 'bagging_fraction': 0.8500000000000001, 'learning_rate': 0.0003972110727381913, 'max_depth': 16}. Best is trial 0 with value: 0.7720008546229552.\n",
      "[I 2024-02-20 10:03:18,252] Trial 7 finished with value: 0.7545414511988278 and parameters: {'subsample': 0.573931655089634, 'bagging_fraction': 0.4, 'learning_rate': 0.006647135865318032, 'max_depth': 6}. Best is trial 0 with value: 0.7720008546229552.\n",
      "[I 2024-02-20 10:03:35,968] Trial 8 finished with value: 0.7390536894904027 and parameters: {'subsample': 0.15204127438822362, 'bagging_fraction': 0.95, 'learning_rate': 0.07886714129990492, 'max_depth': 25}. Best is trial 0 with value: 0.7720008546229552.\n",
      "[I 2024-02-20 10:03:52,866] Trial 9 finished with value: 0.7689781683576725 and parameters: {'subsample': 0.34369101533869656, 'bagging_fraction': 0.45, 'learning_rate': 0.01129013355909268, 'max_depth': 14}. Best is trial 0 with value: 0.7720008546229552.\n",
      "[I 2024-02-20 10:03:52,926] A new study created in memory with name: no-name-e28a99e9-e52e-434f-af57-294825212084\n"
     ]
    },
    {
     "name": "stdout",
     "output_type": "stream",
     "text": [
      "Found new best score with score 0.772001\n"
     ]
    },
    {
     "name": "stderr",
     "output_type": "stream",
     "text": [
      "[I 2024-02-20 10:04:24,774] Trial 0 finished with value: 0.7826464575503282 and parameters: {'subsample': 0.39963209507789, 'bagging_fraction': 0.95, 'learning_rate': 0.015702970884055395, 'max_depth': 19}. Best is trial 0 with value: 0.7826464575503282.\n",
      "[I 2024-02-20 10:04:46,992] Trial 1 finished with value: 0.7709839979509662 and parameters: {'subsample': 0.22481491235394924, 'bagging_fraction': 0.45, 'learning_rate': 0.00014936568554617635, 'max_depth': 27}. Best is trial 0 with value: 0.7826464575503282.\n",
      "[I 2024-02-20 10:05:44,212] Trial 2 finished with value: 0.7747147437810732 and parameters: {'subsample': 0.5808920093945671, 'bagging_fraction': 0.8, 'learning_rate': 0.00011527987128232407, 'max_depth': 30}. Best is trial 0 with value: 0.7826464575503282.\n",
      "[I 2024-02-20 10:05:48,736] Trial 3 finished with value: 0.7573604661728557 and parameters: {'subsample': 0.7659541126403374, 'bagging_fraction': 0.5, 'learning_rate': 0.0003511356313970409, 'max_depth': 7}. Best is trial 0 with value: 0.7826464575503282.\n",
      "[I 2024-02-20 10:05:57,882] Trial 4 finished with value: 0.7714803770010649 and parameters: {'subsample': 0.3433937943676302, 'bagging_fraction': 0.7000000000000001, 'learning_rate': 0.0019762189340280074, 'max_depth': 10}. Best is trial 0 with value: 0.7826464575503282.\n",
      "[I 2024-02-20 10:06:14,931] Trial 5 finished with value: 0.771089059458741 and parameters: {'subsample': 0.5894823157779036, 'bagging_fraction': 0.45, 'learning_rate': 0.0007523742884534858, 'max_depth': 12}. Best is trial 0 with value: 0.7826464575503282.\n",
      "[I 2024-02-20 10:06:46,075] Trial 6 finished with value: 0.7746312444734456 and parameters: {'subsample': 0.46485598737362877, 'bagging_fraction': 0.8500000000000001, 'learning_rate': 0.0003972110727381913, 'max_depth': 16}. Best is trial 0 with value: 0.7826464575503282.\n",
      "[I 2024-02-20 10:06:49,617] Trial 7 finished with value: 0.7645598811630914 and parameters: {'subsample': 0.573931655089634, 'bagging_fraction': 0.4, 'learning_rate': 0.006647135865318032, 'max_depth': 6}. Best is trial 0 with value: 0.7826464575503282.\n",
      "[I 2024-02-20 10:07:07,834] Trial 8 finished with value: 0.7567550851651769 and parameters: {'subsample': 0.15204127438822362, 'bagging_fraction': 0.95, 'learning_rate': 0.07886714129990492, 'max_depth': 25}. Best is trial 0 with value: 0.7826464575503282.\n",
      "[I 2024-02-20 10:07:24,392] Trial 9 finished with value: 0.7799631582646378 and parameters: {'subsample': 0.34369101533869656, 'bagging_fraction': 0.45, 'learning_rate': 0.01129013355909268, 'max_depth': 14}. Best is trial 0 with value: 0.7826464575503282.\n",
      "[I 2024-02-20 10:07:24,448] A new study created in memory with name: no-name-023f9286-c682-4d41-9fb3-f09a570a0004\n"
     ]
    },
    {
     "name": "stdout",
     "output_type": "stream",
     "text": [
      "Found new best score with score 0.782646\n"
     ]
    },
    {
     "name": "stderr",
     "output_type": "stream",
     "text": [
      "[I 2024-02-20 10:07:56,780] Trial 0 finished with value: 0.7796677125198235 and parameters: {'subsample': 0.39963209507789, 'bagging_fraction': 0.95, 'learning_rate': 0.015702970884055395, 'max_depth': 19}. Best is trial 0 with value: 0.7796677125198235.\n",
      "[I 2024-02-20 10:08:18,427] Trial 1 finished with value: 0.7677963943051562 and parameters: {'subsample': 0.22481491235394924, 'bagging_fraction': 0.45, 'learning_rate': 0.00014936568554617635, 'max_depth': 27}. Best is trial 0 with value: 0.7796677125198235.\n",
      "[I 2024-02-20 10:09:16,341] Trial 2 finished with value: 0.7715192669789519 and parameters: {'subsample': 0.5808920093945671, 'bagging_fraction': 0.8, 'learning_rate': 0.00011527987128232407, 'max_depth': 30}. Best is trial 0 with value: 0.7796677125198235.\n",
      "[I 2024-02-20 10:09:20,791] Trial 3 finished with value: 0.754743771938162 and parameters: {'subsample': 0.7659541126403374, 'bagging_fraction': 0.5, 'learning_rate': 0.0003511356313970409, 'max_depth': 7}. Best is trial 0 with value: 0.7796677125198235.\n",
      "[I 2024-02-20 10:09:29,850] Trial 4 finished with value: 0.7685072411100423 and parameters: {'subsample': 0.3433937943676302, 'bagging_fraction': 0.7000000000000001, 'learning_rate': 0.0019762189340280074, 'max_depth': 10}. Best is trial 0 with value: 0.7796677125198235.\n",
      "[I 2024-02-20 10:09:47,069] Trial 5 finished with value: 0.76858194743303 and parameters: {'subsample': 0.5894823157779036, 'bagging_fraction': 0.45, 'learning_rate': 0.0007523742884534858, 'max_depth': 12}. Best is trial 0 with value: 0.7796677125198235.\n",
      "[I 2024-02-20 10:10:17,830] Trial 6 finished with value: 0.7711624150776366 and parameters: {'subsample': 0.46485598737362877, 'bagging_fraction': 0.8500000000000001, 'learning_rate': 0.0003972110727381913, 'max_depth': 16}. Best is trial 0 with value: 0.7796677125198235.\n",
      "[I 2024-02-20 10:10:21,364] Trial 7 finished with value: 0.7627350901813232 and parameters: {'subsample': 0.573931655089634, 'bagging_fraction': 0.4, 'learning_rate': 0.006647135865318032, 'max_depth': 6}. Best is trial 0 with value: 0.7796677125198235.\n",
      "[I 2024-02-20 10:10:38,320] Trial 8 finished with value: 0.750192612422217 and parameters: {'subsample': 0.15204127438822362, 'bagging_fraction': 0.95, 'learning_rate': 0.07886714129990492, 'max_depth': 25}. Best is trial 0 with value: 0.7796677125198235.\n",
      "[I 2024-02-20 10:10:55,094] Trial 9 finished with value: 0.7783442556786543 and parameters: {'subsample': 0.34369101533869656, 'bagging_fraction': 0.45, 'learning_rate': 0.01129013355909268, 'max_depth': 14}. Best is trial 0 with value: 0.7796677125198235.\n",
      "[I 2024-02-20 10:10:55,155] A new study created in memory with name: no-name-691d8cbd-28d8-490a-8eb6-7bcd94eb53c8\n",
      "[I 2024-02-20 10:11:26,419] Trial 0 finished with value: 0.777503939218499 and parameters: {'subsample': 0.39963209507789, 'bagging_fraction': 0.95, 'learning_rate': 0.015702970884055395, 'max_depth': 19}. Best is trial 0 with value: 0.777503939218499.\n",
      "[I 2024-02-20 10:11:48,939] Trial 1 finished with value: 0.7665948502074998 and parameters: {'subsample': 0.22481491235394924, 'bagging_fraction': 0.45, 'learning_rate': 0.00014936568554617635, 'max_depth': 27}. Best is trial 0 with value: 0.777503939218499.\n",
      "[I 2024-02-20 10:12:48,221] Trial 2 finished with value: 0.7688779147117093 and parameters: {'subsample': 0.5808920093945671, 'bagging_fraction': 0.8, 'learning_rate': 0.00011527987128232407, 'max_depth': 30}. Best is trial 0 with value: 0.777503939218499.\n",
      "[I 2024-02-20 10:12:52,605] Trial 3 finished with value: 0.7533576419923137 and parameters: {'subsample': 0.7659541126403374, 'bagging_fraction': 0.5, 'learning_rate': 0.0003511356313970409, 'max_depth': 7}. Best is trial 0 with value: 0.777503939218499.\n",
      "[I 2024-02-20 10:13:01,635] Trial 4 finished with value: 0.7673271630738565 and parameters: {'subsample': 0.3433937943676302, 'bagging_fraction': 0.7000000000000001, 'learning_rate': 0.0019762189340280074, 'max_depth': 10}. Best is trial 0 with value: 0.777503939218499.\n",
      "[I 2024-02-20 10:13:19,066] Trial 5 finished with value: 0.7674606147288906 and parameters: {'subsample': 0.5894823157779036, 'bagging_fraction': 0.45, 'learning_rate': 0.0007523742884534858, 'max_depth': 12}. Best is trial 0 with value: 0.777503939218499.\n",
      "[I 2024-02-20 10:13:49,873] Trial 6 finished with value: 0.769954429002465 and parameters: {'subsample': 0.46485598737362877, 'bagging_fraction': 0.8500000000000001, 'learning_rate': 0.0003972110727381913, 'max_depth': 16}. Best is trial 0 with value: 0.777503939218499.\n",
      "[I 2024-02-20 10:13:53,437] Trial 7 finished with value: 0.7622116597644149 and parameters: {'subsample': 0.573931655089634, 'bagging_fraction': 0.4, 'learning_rate': 0.006647135865318032, 'max_depth': 6}. Best is trial 0 with value: 0.777503939218499.\n",
      "[I 2024-02-20 10:14:12,330] Trial 8 finished with value: 0.7486472372119148 and parameters: {'subsample': 0.15204127438822362, 'bagging_fraction': 0.95, 'learning_rate': 0.07886714129990492, 'max_depth': 25}. Best is trial 0 with value: 0.777503939218499.\n",
      "[I 2024-02-20 10:14:30,133] Trial 9 finished with value: 0.7771827962767308 and parameters: {'subsample': 0.34369101533869656, 'bagging_fraction': 0.45, 'learning_rate': 0.01129013355909268, 'max_depth': 14}. Best is trial 0 with value: 0.777503939218499.\n",
      "[I 2024-02-20 10:14:30,200] A new study created in memory with name: no-name-dc458b62-4aa9-414f-9ebc-239365885b8f\n",
      "[I 2024-02-20 10:15:03,712] Trial 0 finished with value: 0.7815076338303141 and parameters: {'subsample': 0.39963209507789, 'bagging_fraction': 0.95, 'learning_rate': 0.015702970884055395, 'max_depth': 19}. Best is trial 0 with value: 0.7815076338303141.\n",
      "[I 2024-02-20 10:15:28,156] Trial 1 finished with value: 0.7690495275145388 and parameters: {'subsample': 0.22481491235394924, 'bagging_fraction': 0.45, 'learning_rate': 0.00014936568554617635, 'max_depth': 27}. Best is trial 0 with value: 0.7815076338303141.\n",
      "[I 2024-02-20 10:16:30,917] Trial 2 finished with value: 0.7717083342603124 and parameters: {'subsample': 0.5808920093945671, 'bagging_fraction': 0.8, 'learning_rate': 0.00011527987128232407, 'max_depth': 30}. Best is trial 0 with value: 0.7815076338303141.\n",
      "[I 2024-02-20 10:16:35,476] Trial 3 finished with value: 0.7573576674800389 and parameters: {'subsample': 0.7659541126403374, 'bagging_fraction': 0.5, 'learning_rate': 0.0003511356313970409, 'max_depth': 7}. Best is trial 0 with value: 0.7815076338303141.\n",
      "[I 2024-02-20 10:16:44,786] Trial 4 finished with value: 0.7711982572978178 and parameters: {'subsample': 0.3433937943676302, 'bagging_fraction': 0.7000000000000001, 'learning_rate': 0.0019762189340280074, 'max_depth': 10}. Best is trial 0 with value: 0.7815076338303141.\n",
      "[I 2024-02-20 10:17:02,178] Trial 5 finished with value: 0.7702137516798322 and parameters: {'subsample': 0.5894823157779036, 'bagging_fraction': 0.45, 'learning_rate': 0.0007523742884534858, 'max_depth': 12}. Best is trial 0 with value: 0.7815076338303141.\n",
      "[I 2024-02-20 10:17:36,525] Trial 6 finished with value: 0.7724449172114611 and parameters: {'subsample': 0.46485598737362877, 'bagging_fraction': 0.8500000000000001, 'learning_rate': 0.0003972110727381913, 'max_depth': 16}. Best is trial 0 with value: 0.7815076338303141.\n",
      "[I 2024-02-20 10:17:40,200] Trial 7 finished with value: 0.7661252893520923 and parameters: {'subsample': 0.573931655089634, 'bagging_fraction': 0.4, 'learning_rate': 0.006647135865318032, 'max_depth': 6}. Best is trial 0 with value: 0.7815076338303141.\n",
      "[I 2024-02-20 10:17:59,547] Trial 8 finished with value: 0.7533214698475481 and parameters: {'subsample': 0.15204127438822362, 'bagging_fraction': 0.95, 'learning_rate': 0.07886714129990492, 'max_depth': 25}. Best is trial 0 with value: 0.7815076338303141.\n",
      "[I 2024-02-20 10:18:17,140] Trial 9 finished with value: 0.7786420761352447 and parameters: {'subsample': 0.34369101533869656, 'bagging_fraction': 0.45, 'learning_rate': 0.01129013355909268, 'max_depth': 14}. Best is trial 0 with value: 0.7815076338303141.\n",
      "c:\\Users\\repo7\\Documents\\Personal\\Progetti\\kaggle-credit-competition\\venv\\lib\\site-packages\\xgboost\\core.py:160: UserWarning: [10:18:18] WARNING: C:\\buildkite-agent\\builds\\buildkite-windows-cpu-autoscaling-group-i-0b3782d1791676daf-1\\xgboost\\xgboost-ci-windows\\src\\learner.cc:742: \n",
      "Parameters: { \"bagging_fraction\" } are not used.\n",
      "\n",
      "  warnings.warn(smsg, UserWarning)\n"
     ]
    },
    {
     "name": "stdout",
     "output_type": "stream",
     "text": [
      "\n",
      "        Test AUC                           : 0.780\n",
      "        \n",
      "\n",
      "Nested CV: 2 of 5 outer fold\n"
     ]
    },
    {
     "name": "stderr",
     "output_type": "stream",
     "text": [
      "[I 2024-02-20 10:18:50,132] A new study created in memory with name: no-name-11ee7d2c-0608-4751-b80e-4040f8037ec7\n",
      "[I 2024-02-20 10:19:21,221] Trial 0 finished with value: 0.775626870457818 and parameters: {'subsample': 0.39963209507789, 'bagging_fraction': 0.95, 'learning_rate': 0.015702970884055395, 'max_depth': 19}. Best is trial 0 with value: 0.775626870457818.\n",
      "[I 2024-02-20 10:19:43,275] Trial 1 finished with value: 0.7632570985226519 and parameters: {'subsample': 0.22481491235394924, 'bagging_fraction': 0.45, 'learning_rate': 0.00014936568554617635, 'max_depth': 27}. Best is trial 0 with value: 0.775626870457818.\n",
      "[I 2024-02-20 10:20:37,542] Trial 2 finished with value: 0.7658179736739775 and parameters: {'subsample': 0.5808920093945671, 'bagging_fraction': 0.8, 'learning_rate': 0.00011527987128232407, 'max_depth': 30}. Best is trial 0 with value: 0.775626870457818.\n",
      "[I 2024-02-20 10:20:41,932] Trial 3 finished with value: 0.7492233488399425 and parameters: {'subsample': 0.7659541126403374, 'bagging_fraction': 0.5, 'learning_rate': 0.0003511356313970409, 'max_depth': 7}. Best is trial 0 with value: 0.775626870457818.\n",
      "[I 2024-02-20 10:20:50,669] Trial 4 finished with value: 0.7634786616335151 and parameters: {'subsample': 0.3433937943676302, 'bagging_fraction': 0.7000000000000001, 'learning_rate': 0.0019762189340280074, 'max_depth': 10}. Best is trial 0 with value: 0.775626870457818.\n",
      "[I 2024-02-20 10:21:07,136] Trial 5 finished with value: 0.7631326457507968 and parameters: {'subsample': 0.5894823157779036, 'bagging_fraction': 0.45, 'learning_rate': 0.0007523742884534858, 'max_depth': 12}. Best is trial 0 with value: 0.775626870457818.\n",
      "[I 2024-02-20 10:21:37,911] Trial 6 finished with value: 0.7653326535309443 and parameters: {'subsample': 0.46485598737362877, 'bagging_fraction': 0.8500000000000001, 'learning_rate': 0.0003972110727381913, 'max_depth': 16}. Best is trial 0 with value: 0.775626870457818.\n",
      "[I 2024-02-20 10:21:41,442] Trial 7 finished with value: 0.7582171889905356 and parameters: {'subsample': 0.573931655089634, 'bagging_fraction': 0.4, 'learning_rate': 0.006647135865318032, 'max_depth': 6}. Best is trial 0 with value: 0.775626870457818.\n",
      "[I 2024-02-20 10:21:58,643] Trial 8 finished with value: 0.7478714260140653 and parameters: {'subsample': 0.15204127438822362, 'bagging_fraction': 0.95, 'learning_rate': 0.07886714129990492, 'max_depth': 25}. Best is trial 0 with value: 0.775626870457818.\n",
      "[I 2024-02-20 10:22:15,185] Trial 9 finished with value: 0.7745408979761789 and parameters: {'subsample': 0.34369101533869656, 'bagging_fraction': 0.45, 'learning_rate': 0.01129013355909268, 'max_depth': 14}. Best is trial 0 with value: 0.775626870457818.\n",
      "[I 2024-02-20 10:22:15,250] A new study created in memory with name: no-name-e4133d6c-274d-44a2-a798-b346dbf5f4bc\n"
     ]
    },
    {
     "name": "stdout",
     "output_type": "stream",
     "text": [
      "Found new best score with score 0.775627\n"
     ]
    },
    {
     "name": "stderr",
     "output_type": "stream",
     "text": [
      "[I 2024-02-20 10:22:47,307] Trial 0 finished with value: 0.7896256476467598 and parameters: {'subsample': 0.39963209507789, 'bagging_fraction': 0.95, 'learning_rate': 0.015702970884055395, 'max_depth': 19}. Best is trial 0 with value: 0.7896256476467598.\n",
      "[I 2024-02-20 10:23:09,702] Trial 1 finished with value: 0.776130447470095 and parameters: {'subsample': 0.22481491235394924, 'bagging_fraction': 0.45, 'learning_rate': 0.00014936568554617635, 'max_depth': 27}. Best is trial 0 with value: 0.7896256476467598.\n",
      "[I 2024-02-20 10:24:08,811] Trial 2 finished with value: 0.7794468767281405 and parameters: {'subsample': 0.5808920093945671, 'bagging_fraction': 0.8, 'learning_rate': 0.00011527987128232407, 'max_depth': 30}. Best is trial 0 with value: 0.7896256476467598.\n",
      "[I 2024-02-20 10:24:13,385] Trial 3 finished with value: 0.7621295400223429 and parameters: {'subsample': 0.7659541126403374, 'bagging_fraction': 0.5, 'learning_rate': 0.0003511356313970409, 'max_depth': 7}. Best is trial 0 with value: 0.7896256476467598.\n",
      "[I 2024-02-20 10:24:22,550] Trial 4 finished with value: 0.7774770052925174 and parameters: {'subsample': 0.3433937943676302, 'bagging_fraction': 0.7000000000000001, 'learning_rate': 0.0019762189340280074, 'max_depth': 10}. Best is trial 0 with value: 0.7896256476467598.\n",
      "[I 2024-02-20 10:24:40,527] Trial 5 finished with value: 0.7765190587224471 and parameters: {'subsample': 0.5894823157779036, 'bagging_fraction': 0.45, 'learning_rate': 0.0007523742884534858, 'max_depth': 12}. Best is trial 0 with value: 0.7896256476467598.\n",
      "[I 2024-02-20 10:25:12,102] Trial 6 finished with value: 0.7795771715651525 and parameters: {'subsample': 0.46485598737362877, 'bagging_fraction': 0.8500000000000001, 'learning_rate': 0.0003972110727381913, 'max_depth': 16}. Best is trial 0 with value: 0.7896256476467598.\n",
      "[I 2024-02-20 10:25:15,780] Trial 7 finished with value: 0.771112402899379 and parameters: {'subsample': 0.573931655089634, 'bagging_fraction': 0.4, 'learning_rate': 0.006647135865318032, 'max_depth': 6}. Best is trial 0 with value: 0.7896256476467598.\n",
      "[I 2024-02-20 10:25:33,492] Trial 8 finished with value: 0.76022313425773 and parameters: {'subsample': 0.15204127438822362, 'bagging_fraction': 0.95, 'learning_rate': 0.07886714129990492, 'max_depth': 25}. Best is trial 0 with value: 0.7896256476467598.\n",
      "[I 2024-02-20 10:25:50,128] Trial 9 finished with value: 0.7869633369767329 and parameters: {'subsample': 0.34369101533869656, 'bagging_fraction': 0.45, 'learning_rate': 0.01129013355909268, 'max_depth': 14}. Best is trial 0 with value: 0.7896256476467598.\n",
      "[I 2024-02-20 10:25:50,191] A new study created in memory with name: no-name-487a59f3-fa4f-422f-9985-1ddc47d75f63\n"
     ]
    },
    {
     "name": "stdout",
     "output_type": "stream",
     "text": [
      "Found new best score with score 0.789626\n"
     ]
    },
    {
     "name": "stderr",
     "output_type": "stream",
     "text": [
      "[I 2024-02-20 10:26:25,066] Trial 0 finished with value: 0.7826067119452159 and parameters: {'subsample': 0.39963209507789, 'bagging_fraction': 0.95, 'learning_rate': 0.015702970884055395, 'max_depth': 19}. Best is trial 0 with value: 0.7826067119452159.\n",
      "[I 2024-02-20 10:26:48,639] Trial 1 finished with value: 0.7702096709808728 and parameters: {'subsample': 0.22481491235394924, 'bagging_fraction': 0.45, 'learning_rate': 0.00014936568554617635, 'max_depth': 27}. Best is trial 0 with value: 0.7826067119452159.\n",
      "[I 2024-02-20 10:27:50,374] Trial 2 finished with value: 0.7727428005982167 and parameters: {'subsample': 0.5808920093945671, 'bagging_fraction': 0.8, 'learning_rate': 0.00011527987128232407, 'max_depth': 30}. Best is trial 0 with value: 0.7826067119452159.\n",
      "[I 2024-02-20 10:27:54,943] Trial 3 finished with value: 0.7565348556746242 and parameters: {'subsample': 0.7659541126403374, 'bagging_fraction': 0.5, 'learning_rate': 0.0003511356313970409, 'max_depth': 7}. Best is trial 0 with value: 0.7826067119452159.\n",
      "[I 2024-02-20 10:28:04,134] Trial 4 finished with value: 0.7700050038794122 and parameters: {'subsample': 0.3433937943676302, 'bagging_fraction': 0.7000000000000001, 'learning_rate': 0.0019762189340280074, 'max_depth': 10}. Best is trial 0 with value: 0.7826067119452159.\n",
      "[I 2024-02-20 10:28:21,907] Trial 5 finished with value: 0.7707030591132451 and parameters: {'subsample': 0.5894823157779036, 'bagging_fraction': 0.45, 'learning_rate': 0.0007523742884534858, 'max_depth': 12}. Best is trial 0 with value: 0.7826067119452159.\n",
      "[I 2024-02-20 10:28:55,492] Trial 6 finished with value: 0.7716454329761276 and parameters: {'subsample': 0.46485598737362877, 'bagging_fraction': 0.8500000000000001, 'learning_rate': 0.0003972110727381913, 'max_depth': 16}. Best is trial 0 with value: 0.7826067119452159.\n",
      "[I 2024-02-20 10:28:59,204] Trial 7 finished with value: 0.7660987732061937 and parameters: {'subsample': 0.573931655089634, 'bagging_fraction': 0.4, 'learning_rate': 0.006647135865318032, 'max_depth': 6}. Best is trial 0 with value: 0.7826067119452159.\n",
      "[I 2024-02-20 10:29:17,744] Trial 8 finished with value: 0.7574156930654103 and parameters: {'subsample': 0.15204127438822362, 'bagging_fraction': 0.95, 'learning_rate': 0.07886714129990492, 'max_depth': 25}. Best is trial 0 with value: 0.7826067119452159.\n",
      "[I 2024-02-20 10:29:34,903] Trial 9 finished with value: 0.7822618237734873 and parameters: {'subsample': 0.34369101533869656, 'bagging_fraction': 0.45, 'learning_rate': 0.01129013355909268, 'max_depth': 14}. Best is trial 0 with value: 0.7826067119452159.\n",
      "[I 2024-02-20 10:29:34,962] A new study created in memory with name: no-name-7960f058-e32c-4a59-a379-f5932bdb6527\n",
      "[I 2024-02-20 10:30:07,788] Trial 0 finished with value: 0.7748600365883818 and parameters: {'subsample': 0.39963209507789, 'bagging_fraction': 0.95, 'learning_rate': 0.015702970884055395, 'max_depth': 19}. Best is trial 0 with value: 0.7748600365883818.\n",
      "[I 2024-02-20 10:30:30,837] Trial 1 finished with value: 0.7639363062927571 and parameters: {'subsample': 0.22481491235394924, 'bagging_fraction': 0.45, 'learning_rate': 0.00014936568554617635, 'max_depth': 27}. Best is trial 0 with value: 0.7748600365883818.\n",
      "[I 2024-02-20 10:31:29,593] Trial 2 finished with value: 0.7644195810189173 and parameters: {'subsample': 0.5808920093945671, 'bagging_fraction': 0.8, 'learning_rate': 0.00011527987128232407, 'max_depth': 30}. Best is trial 0 with value: 0.7748600365883818.\n",
      "[I 2024-02-20 10:31:34,202] Trial 3 finished with value: 0.7523457992828205 and parameters: {'subsample': 0.7659541126403374, 'bagging_fraction': 0.5, 'learning_rate': 0.0003511356313970409, 'max_depth': 7}. Best is trial 0 with value: 0.7748600365883818.\n",
      "[I 2024-02-20 10:31:43,481] Trial 4 finished with value: 0.7648175196140679 and parameters: {'subsample': 0.3433937943676302, 'bagging_fraction': 0.7000000000000001, 'learning_rate': 0.0019762189340280074, 'max_depth': 10}. Best is trial 0 with value: 0.7748600365883818.\n",
      "[I 2024-02-20 10:32:01,965] Trial 5 finished with value: 0.7633635599654888 and parameters: {'subsample': 0.5894823157779036, 'bagging_fraction': 0.45, 'learning_rate': 0.0007523742884534858, 'max_depth': 12}. Best is trial 0 with value: 0.7748600365883818.\n",
      "[I 2024-02-20 10:32:34,734] Trial 6 finished with value: 0.7649249658568642 and parameters: {'subsample': 0.46485598737362877, 'bagging_fraction': 0.8500000000000001, 'learning_rate': 0.0003972110727381913, 'max_depth': 16}. Best is trial 0 with value: 0.7748600365883818.\n",
      "[I 2024-02-20 10:32:38,354] Trial 7 finished with value: 0.7586272201721675 and parameters: {'subsample': 0.573931655089634, 'bagging_fraction': 0.4, 'learning_rate': 0.006647135865318032, 'max_depth': 6}. Best is trial 0 with value: 0.7748600365883818.\n",
      "[I 2024-02-20 10:32:57,200] Trial 8 finished with value: 0.7467879554096899 and parameters: {'subsample': 0.15204127438822362, 'bagging_fraction': 0.95, 'learning_rate': 0.07886714129990492, 'max_depth': 25}. Best is trial 0 with value: 0.7748600365883818.\n",
      "[I 2024-02-20 10:33:14,774] Trial 9 finished with value: 0.7727440326794616 and parameters: {'subsample': 0.34369101533869656, 'bagging_fraction': 0.45, 'learning_rate': 0.01129013355909268, 'max_depth': 14}. Best is trial 0 with value: 0.7748600365883818.\n",
      "[I 2024-02-20 10:33:14,831] A new study created in memory with name: no-name-b67231c9-6702-4199-ae64-15efb1a0ed7c\n",
      "[I 2024-02-20 10:33:45,033] Trial 0 finished with value: 0.7777540887517487 and parameters: {'subsample': 0.39963209507789, 'bagging_fraction': 0.95, 'learning_rate': 0.015702970884055395, 'max_depth': 19}. Best is trial 0 with value: 0.7777540887517487.\n",
      "[I 2024-02-20 10:34:07,286] Trial 1 finished with value: 0.7656133593027954 and parameters: {'subsample': 0.22481491235394924, 'bagging_fraction': 0.45, 'learning_rate': 0.00014936568554617635, 'max_depth': 27}. Best is trial 0 with value: 0.7777540887517487.\n",
      "[I 2024-02-20 10:35:02,634] Trial 2 finished with value: 0.7692913130180918 and parameters: {'subsample': 0.5808920093945671, 'bagging_fraction': 0.8, 'learning_rate': 0.00011527987128232407, 'max_depth': 30}. Best is trial 0 with value: 0.7777540887517487.\n",
      "[I 2024-02-20 10:35:07,055] Trial 3 finished with value: 0.7526251971180329 and parameters: {'subsample': 0.7659541126403374, 'bagging_fraction': 0.5, 'learning_rate': 0.0003511356313970409, 'max_depth': 7}. Best is trial 0 with value: 0.7777540887517487.\n",
      "[I 2024-02-20 10:35:15,853] Trial 4 finished with value: 0.7662721414856768 and parameters: {'subsample': 0.3433937943676302, 'bagging_fraction': 0.7000000000000001, 'learning_rate': 0.0019762189340280074, 'max_depth': 10}. Best is trial 0 with value: 0.7777540887517487.\n",
      "[I 2024-02-20 10:35:33,585] Trial 5 finished with value: 0.7659004519641257 and parameters: {'subsample': 0.5894823157779036, 'bagging_fraction': 0.45, 'learning_rate': 0.0007523742884534858, 'max_depth': 12}. Best is trial 0 with value: 0.7777540887517487.\n",
      "[I 2024-02-20 10:36:02,880] Trial 6 finished with value: 0.7679416434869637 and parameters: {'subsample': 0.46485598737362877, 'bagging_fraction': 0.8500000000000001, 'learning_rate': 0.0003972110727381913, 'max_depth': 16}. Best is trial 0 with value: 0.7777540887517487.\n",
      "[I 2024-02-20 10:36:06,384] Trial 7 finished with value: 0.7599251223147233 and parameters: {'subsample': 0.573931655089634, 'bagging_fraction': 0.4, 'learning_rate': 0.006647135865318032, 'max_depth': 6}. Best is trial 0 with value: 0.7777540887517487.\n",
      "[I 2024-02-20 10:36:24,064] Trial 8 finished with value: 0.7499008453094638 and parameters: {'subsample': 0.15204127438822362, 'bagging_fraction': 0.95, 'learning_rate': 0.07886714129990492, 'max_depth': 25}. Best is trial 0 with value: 0.7777540887517487.\n",
      "[I 2024-02-20 10:36:40,648] Trial 9 finished with value: 0.7775834865681832 and parameters: {'subsample': 0.34369101533869656, 'bagging_fraction': 0.45, 'learning_rate': 0.01129013355909268, 'max_depth': 14}. Best is trial 0 with value: 0.7777540887517487.\n",
      "c:\\Users\\repo7\\Documents\\Personal\\Progetti\\kaggle-credit-competition\\venv\\lib\\site-packages\\xgboost\\core.py:160: UserWarning: [10:36:41] WARNING: C:\\buildkite-agent\\builds\\buildkite-windows-cpu-autoscaling-group-i-0b3782d1791676daf-1\\xgboost\\xgboost-ci-windows\\src\\learner.cc:742: \n",
      "Parameters: { \"bagging_fraction\" } are not used.\n",
      "\n",
      "  warnings.warn(smsg, UserWarning)\n"
     ]
    },
    {
     "name": "stdout",
     "output_type": "stream",
     "text": [
      "\n",
      "        Test AUC                           : 0.777\n",
      "        \n",
      "\n",
      "Nested CV: 3 of 5 outer fold\n"
     ]
    },
    {
     "name": "stderr",
     "output_type": "stream",
     "text": [
      "[I 2024-02-20 10:37:13,452] A new study created in memory with name: no-name-fbd2f15e-3f40-40a0-9eb2-c5b98e09391c\n",
      "[I 2024-02-20 10:37:49,210] Trial 0 finished with value: 0.7756764814234697 and parameters: {'subsample': 0.39963209507789, 'bagging_fraction': 0.95, 'learning_rate': 0.015702970884055395, 'max_depth': 19}. Best is trial 0 with value: 0.7756764814234697.\n",
      "[I 2024-02-20 10:38:14,140] Trial 1 finished with value: 0.7634494881273103 and parameters: {'subsample': 0.22481491235394924, 'bagging_fraction': 0.45, 'learning_rate': 0.00014936568554617635, 'max_depth': 27}. Best is trial 0 with value: 0.7756764814234697.\n",
      "[I 2024-02-20 10:39:18,861] Trial 2 finished with value: 0.7674939565190151 and parameters: {'subsample': 0.5808920093945671, 'bagging_fraction': 0.8, 'learning_rate': 0.00011527987128232407, 'max_depth': 30}. Best is trial 0 with value: 0.7756764814234697.\n",
      "[I 2024-02-20 10:39:23,696] Trial 3 finished with value: 0.7518194398847189 and parameters: {'subsample': 0.7659541126403374, 'bagging_fraction': 0.5, 'learning_rate': 0.0003511356313970409, 'max_depth': 7}. Best is trial 0 with value: 0.7756764814234697.\n",
      "[I 2024-02-20 10:39:33,647] Trial 4 finished with value: 0.7652095683227869 and parameters: {'subsample': 0.3433937943676302, 'bagging_fraction': 0.7000000000000001, 'learning_rate': 0.0019762189340280074, 'max_depth': 10}. Best is trial 0 with value: 0.7756764814234697.\n",
      "[I 2024-02-20 10:39:51,712] Trial 5 finished with value: 0.76364690934152 and parameters: {'subsample': 0.5894823157779036, 'bagging_fraction': 0.45, 'learning_rate': 0.0007523742884534858, 'max_depth': 12}. Best is trial 0 with value: 0.7756764814234697.\n",
      "[I 2024-02-20 10:40:27,676] Trial 6 finished with value: 0.7684529741244284 and parameters: {'subsample': 0.46485598737362877, 'bagging_fraction': 0.8500000000000001, 'learning_rate': 0.0003972110727381913, 'max_depth': 16}. Best is trial 0 with value: 0.7756764814234697.\n",
      "[I 2024-02-20 10:40:31,573] Trial 7 finished with value: 0.7602888741306936 and parameters: {'subsample': 0.573931655089634, 'bagging_fraction': 0.4, 'learning_rate': 0.006647135865318032, 'max_depth': 6}. Best is trial 0 with value: 0.7756764814234697.\n",
      "[I 2024-02-20 10:40:52,240] Trial 8 finished with value: 0.744316200739302 and parameters: {'subsample': 0.15204127438822362, 'bagging_fraction': 0.95, 'learning_rate': 0.07886714129990492, 'max_depth': 25}. Best is trial 0 with value: 0.7756764814234697.\n",
      "[I 2024-02-20 10:41:10,617] Trial 9 finished with value: 0.7749205388133575 and parameters: {'subsample': 0.34369101533869656, 'bagging_fraction': 0.45, 'learning_rate': 0.01129013355909268, 'max_depth': 14}. Best is trial 0 with value: 0.7756764814234697.\n",
      "[I 2024-02-20 10:41:10,682] A new study created in memory with name: no-name-a4998966-86c0-4af5-9938-11dbb2e12331\n"
     ]
    },
    {
     "name": "stdout",
     "output_type": "stream",
     "text": [
      "Found new best score with score 0.775676\n"
     ]
    },
    {
     "name": "stderr",
     "output_type": "stream",
     "text": [
      "[I 2024-02-20 10:41:43,803] Trial 0 finished with value: 0.7809595848534552 and parameters: {'subsample': 0.39963209507789, 'bagging_fraction': 0.95, 'learning_rate': 0.015702970884055395, 'max_depth': 19}. Best is trial 0 with value: 0.7809595848534552.\n",
      "[I 2024-02-20 10:42:06,391] Trial 1 finished with value: 0.7670414463141508 and parameters: {'subsample': 0.22481491235394924, 'bagging_fraction': 0.45, 'learning_rate': 0.00014936568554617635, 'max_depth': 27}. Best is trial 0 with value: 0.7809595848534552.\n",
      "[I 2024-02-20 10:43:05,414] Trial 2 finished with value: 0.7709892723196357 and parameters: {'subsample': 0.5808920093945671, 'bagging_fraction': 0.8, 'learning_rate': 0.00011527987128232407, 'max_depth': 30}. Best is trial 0 with value: 0.7809595848534552.\n",
      "[I 2024-02-20 10:43:10,079] Trial 3 finished with value: 0.7526525096939074 and parameters: {'subsample': 0.7659541126403374, 'bagging_fraction': 0.5, 'learning_rate': 0.0003511356313970409, 'max_depth': 7}. Best is trial 0 with value: 0.7809595848534552.\n",
      "[I 2024-02-20 10:43:19,433] Trial 4 finished with value: 0.7675633994471045 and parameters: {'subsample': 0.3433937943676302, 'bagging_fraction': 0.7000000000000001, 'learning_rate': 0.0019762189340280074, 'max_depth': 10}. Best is trial 0 with value: 0.7809595848534552.\n",
      "[I 2024-02-20 10:43:37,079] Trial 5 finished with value: 0.767341788096034 and parameters: {'subsample': 0.5894823157779036, 'bagging_fraction': 0.45, 'learning_rate': 0.0007523742884534858, 'max_depth': 12}. Best is trial 0 with value: 0.7809595848534552.\n",
      "[I 2024-02-20 10:44:10,323] Trial 6 finished with value: 0.7705291461545429 and parameters: {'subsample': 0.46485598737362877, 'bagging_fraction': 0.8500000000000001, 'learning_rate': 0.0003972110727381913, 'max_depth': 16}. Best is trial 0 with value: 0.7809595848534552.\n",
      "[I 2024-02-20 10:44:14,125] Trial 7 finished with value: 0.7616927497308472 and parameters: {'subsample': 0.573931655089634, 'bagging_fraction': 0.4, 'learning_rate': 0.006647135865318032, 'max_depth': 6}. Best is trial 0 with value: 0.7809595848534552.\n",
      "[I 2024-02-20 10:44:31,981] Trial 8 finished with value: 0.7524490168009023 and parameters: {'subsample': 0.15204127438822362, 'bagging_fraction': 0.95, 'learning_rate': 0.07886714129990492, 'max_depth': 25}. Best is trial 0 with value: 0.7809595848534552.\n",
      "[I 2024-02-20 10:44:49,390] Trial 9 finished with value: 0.7784012873837713 and parameters: {'subsample': 0.34369101533869656, 'bagging_fraction': 0.45, 'learning_rate': 0.01129013355909268, 'max_depth': 14}. Best is trial 0 with value: 0.7809595848534552.\n",
      "[I 2024-02-20 10:44:49,455] A new study created in memory with name: no-name-f1242707-8b7f-4957-add2-18fdd79f730a\n"
     ]
    },
    {
     "name": "stdout",
     "output_type": "stream",
     "text": [
      "Found new best score with score 0.780960\n"
     ]
    },
    {
     "name": "stderr",
     "output_type": "stream",
     "text": [
      "[I 2024-02-20 10:45:23,779] Trial 0 finished with value: 0.7848941492206216 and parameters: {'subsample': 0.39963209507789, 'bagging_fraction': 0.95, 'learning_rate': 0.015702970884055395, 'max_depth': 19}. Best is trial 0 with value: 0.7848941492206216.\n",
      "[I 2024-02-20 10:45:48,475] Trial 1 finished with value: 0.7716448887024355 and parameters: {'subsample': 0.22481491235394924, 'bagging_fraction': 0.45, 'learning_rate': 0.00014936568554617635, 'max_depth': 27}. Best is trial 0 with value: 0.7848941492206216.\n",
      "[I 2024-02-20 10:46:52,751] Trial 2 finished with value: 0.774162683429845 and parameters: {'subsample': 0.5808920093945671, 'bagging_fraction': 0.8, 'learning_rate': 0.00011527987128232407, 'max_depth': 30}. Best is trial 0 with value: 0.7848941492206216.\n",
      "[I 2024-02-20 10:46:57,463] Trial 3 finished with value: 0.7589878229119524 and parameters: {'subsample': 0.7659541126403374, 'bagging_fraction': 0.5, 'learning_rate': 0.0003511356313970409, 'max_depth': 7}. Best is trial 0 with value: 0.7848941492206216.\n",
      "[I 2024-02-20 10:47:06,910] Trial 4 finished with value: 0.7727297825727104 and parameters: {'subsample': 0.3433937943676302, 'bagging_fraction': 0.7000000000000001, 'learning_rate': 0.0019762189340280074, 'max_depth': 10}. Best is trial 0 with value: 0.7848941492206216.\n",
      "[I 2024-02-20 10:47:24,301] Trial 5 finished with value: 0.7728459488435309 and parameters: {'subsample': 0.5894823157779036, 'bagging_fraction': 0.45, 'learning_rate': 0.0007523742884534858, 'max_depth': 12}. Best is trial 0 with value: 0.7848941492206216.\n",
      "[I 2024-02-20 10:47:58,753] Trial 6 finished with value: 0.7751618528318327 and parameters: {'subsample': 0.46485598737362877, 'bagging_fraction': 0.8500000000000001, 'learning_rate': 0.0003972110727381913, 'max_depth': 16}. Best is trial 0 with value: 0.7848941492206216.\n",
      "[I 2024-02-20 10:48:02,454] Trial 7 finished with value: 0.766283813468901 and parameters: {'subsample': 0.573931655089634, 'bagging_fraction': 0.4, 'learning_rate': 0.006647135865318032, 'max_depth': 6}. Best is trial 0 with value: 0.7848941492206216.\n",
      "[I 2024-02-20 10:48:21,547] Trial 8 finished with value: 0.7587600489329771 and parameters: {'subsample': 0.15204127438822362, 'bagging_fraction': 0.95, 'learning_rate': 0.07886714129990492, 'max_depth': 25}. Best is trial 0 with value: 0.7848941492206216.\n",
      "[I 2024-02-20 10:48:39,174] Trial 9 finished with value: 0.7826189419656802 and parameters: {'subsample': 0.34369101533869656, 'bagging_fraction': 0.45, 'learning_rate': 0.01129013355909268, 'max_depth': 14}. Best is trial 0 with value: 0.7848941492206216.\n",
      "[I 2024-02-20 10:48:39,239] A new study created in memory with name: no-name-4ec0bc1f-8811-4022-8498-2652dd423661\n"
     ]
    },
    {
     "name": "stdout",
     "output_type": "stream",
     "text": [
      "Found new best score with score 0.784894\n"
     ]
    },
    {
     "name": "stderr",
     "output_type": "stream",
     "text": [
      "[I 2024-02-20 10:49:14,046] Trial 0 finished with value: 0.779691531836892 and parameters: {'subsample': 0.39963209507789, 'bagging_fraction': 0.95, 'learning_rate': 0.015702970884055395, 'max_depth': 19}. Best is trial 0 with value: 0.779691531836892.\n",
      "[I 2024-02-20 10:49:38,583] Trial 1 finished with value: 0.7689886976964158 and parameters: {'subsample': 0.22481491235394924, 'bagging_fraction': 0.45, 'learning_rate': 0.00014936568554617635, 'max_depth': 27}. Best is trial 0 with value: 0.779691531836892.\n",
      "[I 2024-02-20 10:50:41,483] Trial 2 finished with value: 0.7710745791362733 and parameters: {'subsample': 0.5808920093945671, 'bagging_fraction': 0.8, 'learning_rate': 0.00011527987128232407, 'max_depth': 30}. Best is trial 0 with value: 0.779691531836892.\n",
      "[I 2024-02-20 10:50:46,127] Trial 3 finished with value: 0.7565322545672111 and parameters: {'subsample': 0.7659541126403374, 'bagging_fraction': 0.5, 'learning_rate': 0.0003511356313970409, 'max_depth': 7}. Best is trial 0 with value: 0.779691531836892.\n",
      "[I 2024-02-20 10:50:55,562] Trial 4 finished with value: 0.7694909249350044 and parameters: {'subsample': 0.3433937943676302, 'bagging_fraction': 0.7000000000000001, 'learning_rate': 0.0019762189340280074, 'max_depth': 10}. Best is trial 0 with value: 0.779691531836892.\n",
      "[I 2024-02-20 10:51:13,148] Trial 5 finished with value: 0.7697193862310973 and parameters: {'subsample': 0.5894823157779036, 'bagging_fraction': 0.45, 'learning_rate': 0.0007523742884534858, 'max_depth': 12}. Best is trial 0 with value: 0.779691531836892.\n",
      "[I 2024-02-20 10:51:46,885] Trial 6 finished with value: 0.771330601878272 and parameters: {'subsample': 0.46485598737362877, 'bagging_fraction': 0.8500000000000001, 'learning_rate': 0.0003972110727381913, 'max_depth': 16}. Best is trial 0 with value: 0.779691531836892.\n",
      "[I 2024-02-20 10:51:50,555] Trial 7 finished with value: 0.7641370453081002 and parameters: {'subsample': 0.573931655089634, 'bagging_fraction': 0.4, 'learning_rate': 0.006647135865318032, 'max_depth': 6}. Best is trial 0 with value: 0.779691531836892.\n",
      "[I 2024-02-20 10:52:09,546] Trial 8 finished with value: 0.7526535487232506 and parameters: {'subsample': 0.15204127438822362, 'bagging_fraction': 0.95, 'learning_rate': 0.07886714129990492, 'max_depth': 25}. Best is trial 0 with value: 0.779691531836892.\n",
      "[I 2024-02-20 10:52:27,068] Trial 9 finished with value: 0.7794065020962434 and parameters: {'subsample': 0.34369101533869656, 'bagging_fraction': 0.45, 'learning_rate': 0.01129013355909268, 'max_depth': 14}. Best is trial 0 with value: 0.779691531836892.\n",
      "[I 2024-02-20 10:52:27,128] A new study created in memory with name: no-name-b53331a4-b12a-4faf-89f2-31cdb9645bac\n",
      "[I 2024-02-20 10:53:02,093] Trial 0 finished with value: 0.7773752908941404 and parameters: {'subsample': 0.39963209507789, 'bagging_fraction': 0.95, 'learning_rate': 0.015702970884055395, 'max_depth': 19}. Best is trial 0 with value: 0.7773752908941404.\n",
      "[I 2024-02-20 10:53:26,060] Trial 1 finished with value: 0.7662055392756226 and parameters: {'subsample': 0.22481491235394924, 'bagging_fraction': 0.45, 'learning_rate': 0.00014936568554617635, 'max_depth': 27}. Best is trial 0 with value: 0.7773752908941404.\n",
      "[I 2024-02-20 10:54:30,284] Trial 2 finished with value: 0.7685502096070608 and parameters: {'subsample': 0.5808920093945671, 'bagging_fraction': 0.8, 'learning_rate': 0.00011527987128232407, 'max_depth': 30}. Best is trial 0 with value: 0.7773752908941404.\n",
      "[I 2024-02-20 10:54:35,022] Trial 3 finished with value: 0.7533119416610743 and parameters: {'subsample': 0.7659541126403374, 'bagging_fraction': 0.5, 'learning_rate': 0.0003511356313970409, 'max_depth': 7}. Best is trial 0 with value: 0.7773752908941404.\n",
      "[I 2024-02-20 10:54:44,476] Trial 4 finished with value: 0.7666946390238473 and parameters: {'subsample': 0.3433937943676302, 'bagging_fraction': 0.7000000000000001, 'learning_rate': 0.0019762189340280074, 'max_depth': 10}. Best is trial 0 with value: 0.7773752908941404.\n",
      "[I 2024-02-20 10:55:02,027] Trial 5 finished with value: 0.7668227396380649 and parameters: {'subsample': 0.5894823157779036, 'bagging_fraction': 0.45, 'learning_rate': 0.0007523742884534858, 'max_depth': 12}. Best is trial 0 with value: 0.7773752908941404.\n",
      "[I 2024-02-20 10:55:36,748] Trial 6 finished with value: 0.7686401178853496 and parameters: {'subsample': 0.46485598737362877, 'bagging_fraction': 0.8500000000000001, 'learning_rate': 0.0003972110727381913, 'max_depth': 16}. Best is trial 0 with value: 0.7773752908941404.\n",
      "[I 2024-02-20 10:55:40,510] Trial 7 finished with value: 0.7611758263935992 and parameters: {'subsample': 0.573931655089634, 'bagging_fraction': 0.4, 'learning_rate': 0.006647135865318032, 'max_depth': 6}. Best is trial 0 with value: 0.7773752908941404.\n",
      "[I 2024-02-20 10:55:59,904] Trial 8 finished with value: 0.7454745014851538 and parameters: {'subsample': 0.15204127438822362, 'bagging_fraction': 0.95, 'learning_rate': 0.07886714129990492, 'max_depth': 25}. Best is trial 0 with value: 0.7773752908941404.\n",
      "[I 2024-02-20 10:56:18,231] Trial 9 finished with value: 0.7772188975774601 and parameters: {'subsample': 0.34369101533869656, 'bagging_fraction': 0.45, 'learning_rate': 0.01129013355909268, 'max_depth': 14}. Best is trial 0 with value: 0.7773752908941404.\n",
      "c:\\Users\\repo7\\Documents\\Personal\\Progetti\\kaggle-credit-competition\\venv\\lib\\site-packages\\xgboost\\core.py:160: UserWarning: [10:56:19] WARNING: C:\\buildkite-agent\\builds\\buildkite-windows-cpu-autoscaling-group-i-0b3782d1791676daf-1\\xgboost\\xgboost-ci-windows\\src\\learner.cc:742: \n",
      "Parameters: { \"bagging_fraction\" } are not used.\n",
      "\n",
      "  warnings.warn(smsg, UserWarning)\n",
      "[I 2024-02-20 10:56:54,669] A new study created in memory with name: no-name-78b1ffa5-543c-4f00-bc67-030cebb8ff89\n"
     ]
    },
    {
     "name": "stdout",
     "output_type": "stream",
     "text": [
      "\n",
      "        Test AUC                           : 0.782\n",
      "        \n",
      "\n",
      "Nested CV: 4 of 5 outer fold\n"
     ]
    },
    {
     "name": "stderr",
     "output_type": "stream",
     "text": [
      "[I 2024-02-20 10:57:27,799] Trial 0 finished with value: 0.7786826269369955 and parameters: {'subsample': 0.39963209507789, 'bagging_fraction': 0.95, 'learning_rate': 0.015702970884055395, 'max_depth': 19}. Best is trial 0 with value: 0.7786826269369955.\n",
      "[I 2024-02-20 10:57:50,591] Trial 1 finished with value: 0.7664252349535927 and parameters: {'subsample': 0.22481491235394924, 'bagging_fraction': 0.45, 'learning_rate': 0.00014936568554617635, 'max_depth': 27}. Best is trial 0 with value: 0.7786826269369955.\n",
      "[I 2024-02-20 10:58:48,753] Trial 2 finished with value: 0.7695884248108371 and parameters: {'subsample': 0.5808920093945671, 'bagging_fraction': 0.8, 'learning_rate': 0.00011527987128232407, 'max_depth': 30}. Best is trial 0 with value: 0.7786826269369955.\n",
      "[I 2024-02-20 10:58:53,316] Trial 3 finished with value: 0.7531547532688435 and parameters: {'subsample': 0.7659541126403374, 'bagging_fraction': 0.5, 'learning_rate': 0.0003511356313970409, 'max_depth': 7}. Best is trial 0 with value: 0.7786826269369955.\n",
      "[I 2024-02-20 10:59:02,420] Trial 4 finished with value: 0.766845277801968 and parameters: {'subsample': 0.3433937943676302, 'bagging_fraction': 0.7000000000000001, 'learning_rate': 0.0019762189340280074, 'max_depth': 10}. Best is trial 0 with value: 0.7786826269369955.\n",
      "[I 2024-02-20 10:59:19,563] Trial 5 finished with value: 0.7678206078365593 and parameters: {'subsample': 0.5894823157779036, 'bagging_fraction': 0.45, 'learning_rate': 0.0007523742884534858, 'max_depth': 12}. Best is trial 0 with value: 0.7786826269369955.\n",
      "[I 2024-02-20 10:59:51,743] Trial 6 finished with value: 0.7692903435283858 and parameters: {'subsample': 0.46485598737362877, 'bagging_fraction': 0.8500000000000001, 'learning_rate': 0.0003972110727381913, 'max_depth': 16}. Best is trial 0 with value: 0.7786826269369955.\n",
      "[I 2024-02-20 10:59:55,392] Trial 7 finished with value: 0.7604079235057334 and parameters: {'subsample': 0.573931655089634, 'bagging_fraction': 0.4, 'learning_rate': 0.006647135865318032, 'max_depth': 6}. Best is trial 0 with value: 0.7786826269369955.\n",
      "[I 2024-02-20 11:00:13,977] Trial 8 finished with value: 0.7487528823571906 and parameters: {'subsample': 0.15204127438822362, 'bagging_fraction': 0.95, 'learning_rate': 0.07886714129990492, 'max_depth': 25}. Best is trial 0 with value: 0.7786826269369955.\n",
      "[I 2024-02-20 11:00:31,036] Trial 9 finished with value: 0.7776638150278641 and parameters: {'subsample': 0.34369101533869656, 'bagging_fraction': 0.45, 'learning_rate': 0.01129013355909268, 'max_depth': 14}. Best is trial 0 with value: 0.7786826269369955.\n",
      "[I 2024-02-20 11:00:31,090] A new study created in memory with name: no-name-536f6430-a269-4c02-8d74-ffc38caf293c\n"
     ]
    },
    {
     "name": "stdout",
     "output_type": "stream",
     "text": [
      "Found new best score with score 0.778683\n"
     ]
    },
    {
     "name": "stderr",
     "output_type": "stream",
     "text": [
      "[I 2024-02-20 11:01:04,949] Trial 0 finished with value: 0.7810891503980034 and parameters: {'subsample': 0.39963209507789, 'bagging_fraction': 0.95, 'learning_rate': 0.015702970884055395, 'max_depth': 19}. Best is trial 0 with value: 0.7810891503980034.\n",
      "[I 2024-02-20 11:01:29,052] Trial 1 finished with value: 0.7646600898011882 and parameters: {'subsample': 0.22481491235394924, 'bagging_fraction': 0.45, 'learning_rate': 0.00014936568554617635, 'max_depth': 27}. Best is trial 0 with value: 0.7810891503980034.\n",
      "[I 2024-02-20 11:02:31,902] Trial 2 finished with value: 0.7679000428185893 and parameters: {'subsample': 0.5808920093945671, 'bagging_fraction': 0.8, 'learning_rate': 0.00011527987128232407, 'max_depth': 30}. Best is trial 0 with value: 0.7810891503980034.\n",
      "[I 2024-02-20 11:02:36,600] Trial 3 finished with value: 0.7524311268883719 and parameters: {'subsample': 0.7659541126403374, 'bagging_fraction': 0.5, 'learning_rate': 0.0003511356313970409, 'max_depth': 7}. Best is trial 0 with value: 0.7810891503980034.\n",
      "[I 2024-02-20 11:02:45,987] Trial 4 finished with value: 0.7669832797991847 and parameters: {'subsample': 0.3433937943676302, 'bagging_fraction': 0.7000000000000001, 'learning_rate': 0.0019762189340280074, 'max_depth': 10}. Best is trial 0 with value: 0.7810891503980034.\n",
      "[I 2024-02-20 11:03:03,775] Trial 5 finished with value: 0.7653142845170862 and parameters: {'subsample': 0.5894823157779036, 'bagging_fraction': 0.45, 'learning_rate': 0.0007523742884534858, 'max_depth': 12}. Best is trial 0 with value: 0.7810891503980034.\n",
      "[I 2024-02-20 11:03:37,842] Trial 6 finished with value: 0.7679931437879655 and parameters: {'subsample': 0.46485598737362877, 'bagging_fraction': 0.8500000000000001, 'learning_rate': 0.0003972110727381913, 'max_depth': 16}. Best is trial 0 with value: 0.7810891503980034.\n",
      "[I 2024-02-20 11:03:41,586] Trial 7 finished with value: 0.7603429415454237 and parameters: {'subsample': 0.573931655089634, 'bagging_fraction': 0.4, 'learning_rate': 0.006647135865318032, 'max_depth': 6}. Best is trial 0 with value: 0.7810891503980034.\n",
      "[I 2024-02-20 11:04:00,696] Trial 8 finished with value: 0.7516709070600913 and parameters: {'subsample': 0.15204127438822362, 'bagging_fraction': 0.95, 'learning_rate': 0.07886714129990492, 'max_depth': 25}. Best is trial 0 with value: 0.7810891503980034.\n",
      "[I 2024-02-20 11:04:18,120] Trial 9 finished with value: 0.7771707649861789 and parameters: {'subsample': 0.34369101533869656, 'bagging_fraction': 0.45, 'learning_rate': 0.01129013355909268, 'max_depth': 14}. Best is trial 0 with value: 0.7810891503980034.\n",
      "[I 2024-02-20 11:04:18,174] A new study created in memory with name: no-name-733ad45e-5da5-4256-b929-00051767be05\n"
     ]
    },
    {
     "name": "stdout",
     "output_type": "stream",
     "text": [
      "Found new best score with score 0.781089\n"
     ]
    },
    {
     "name": "stderr",
     "output_type": "stream",
     "text": [
      "[I 2024-02-20 11:04:49,906] Trial 0 finished with value: 0.7792818747025153 and parameters: {'subsample': 0.39963209507789, 'bagging_fraction': 0.95, 'learning_rate': 0.015702970884055395, 'max_depth': 19}. Best is trial 0 with value: 0.7792818747025153.\n",
      "[I 2024-02-20 11:05:12,141] Trial 1 finished with value: 0.766933319681447 and parameters: {'subsample': 0.22481491235394924, 'bagging_fraction': 0.45, 'learning_rate': 0.00014936568554617635, 'max_depth': 27}. Best is trial 0 with value: 0.7792818747025153.\n",
      "[I 2024-02-20 11:06:09,080] Trial 2 finished with value: 0.769994973297385 and parameters: {'subsample': 0.5808920093945671, 'bagging_fraction': 0.8, 'learning_rate': 0.00011527987128232407, 'max_depth': 30}. Best is trial 0 with value: 0.7792818747025153.\n",
      "[I 2024-02-20 11:06:13,543] Trial 3 finished with value: 0.7545159370130889 and parameters: {'subsample': 0.7659541126403374, 'bagging_fraction': 0.5, 'learning_rate': 0.0003511356313970409, 'max_depth': 7}. Best is trial 0 with value: 0.7792818747025153.\n",
      "[I 2024-02-20 11:06:22,696] Trial 4 finished with value: 0.7684112265656802 and parameters: {'subsample': 0.3433937943676302, 'bagging_fraction': 0.7000000000000001, 'learning_rate': 0.0019762189340280074, 'max_depth': 10}. Best is trial 0 with value: 0.7792818747025153.\n",
      "[I 2024-02-20 11:06:39,415] Trial 5 finished with value: 0.7685975850295085 and parameters: {'subsample': 0.5894823157779036, 'bagging_fraction': 0.45, 'learning_rate': 0.0007523742884534858, 'max_depth': 12}. Best is trial 0 with value: 0.7792818747025153.\n",
      "[I 2024-02-20 11:07:11,017] Trial 6 finished with value: 0.7699587547580311 and parameters: {'subsample': 0.46485598737362877, 'bagging_fraction': 0.8500000000000001, 'learning_rate': 0.0003972110727381913, 'max_depth': 16}. Best is trial 0 with value: 0.7792818747025153.\n",
      "[I 2024-02-20 11:07:14,621] Trial 7 finished with value: 0.7622642475369323 and parameters: {'subsample': 0.573931655089634, 'bagging_fraction': 0.4, 'learning_rate': 0.006647135865318032, 'max_depth': 6}. Best is trial 0 with value: 0.7792818747025153.\n",
      "[I 2024-02-20 11:07:32,391] Trial 8 finished with value: 0.7490718378164727 and parameters: {'subsample': 0.15204127438822362, 'bagging_fraction': 0.95, 'learning_rate': 0.07886714129990492, 'max_depth': 25}. Best is trial 0 with value: 0.7792818747025153.\n",
      "[I 2024-02-20 11:07:49,246] Trial 9 finished with value: 0.7779590698482813 and parameters: {'subsample': 0.34369101533869656, 'bagging_fraction': 0.45, 'learning_rate': 0.01129013355909268, 'max_depth': 14}. Best is trial 0 with value: 0.7792818747025153.\n",
      "[I 2024-02-20 11:07:49,299] A new study created in memory with name: no-name-df21e078-07f5-4d30-83d8-6585eaab9b4e\n",
      "[I 2024-02-20 11:08:19,987] Trial 0 finished with value: 0.7794247268063625 and parameters: {'subsample': 0.39963209507789, 'bagging_fraction': 0.95, 'learning_rate': 0.015702970884055395, 'max_depth': 19}. Best is trial 0 with value: 0.7794247268063625.\n",
      "[I 2024-02-20 11:08:42,760] Trial 1 finished with value: 0.7676404422370442 and parameters: {'subsample': 0.22481491235394924, 'bagging_fraction': 0.45, 'learning_rate': 0.00014936568554617635, 'max_depth': 27}. Best is trial 0 with value: 0.7794247268063625.\n",
      "[I 2024-02-20 11:09:41,850] Trial 2 finished with value: 0.770765311400516 and parameters: {'subsample': 0.5808920093945671, 'bagging_fraction': 0.8, 'learning_rate': 0.00011527987128232407, 'max_depth': 30}. Best is trial 0 with value: 0.7794247268063625.\n",
      "[I 2024-02-20 11:09:46,279] Trial 3 finished with value: 0.7562028513916478 and parameters: {'subsample': 0.7659541126403374, 'bagging_fraction': 0.5, 'learning_rate': 0.0003511356313970409, 'max_depth': 7}. Best is trial 0 with value: 0.7794247268063625.\n",
      "[I 2024-02-20 11:09:55,316] Trial 4 finished with value: 0.7692182341100451 and parameters: {'subsample': 0.3433937943676302, 'bagging_fraction': 0.7000000000000001, 'learning_rate': 0.0019762189340280074, 'max_depth': 10}. Best is trial 0 with value: 0.7794247268063625.\n",
      "[I 2024-02-20 11:10:12,170] Trial 5 finished with value: 0.768108078548243 and parameters: {'subsample': 0.5894823157779036, 'bagging_fraction': 0.45, 'learning_rate': 0.0007523742884534858, 'max_depth': 12}. Best is trial 0 with value: 0.7794247268063625.\n",
      "[I 2024-02-20 11:10:43,419] Trial 6 finished with value: 0.7713885338959348 and parameters: {'subsample': 0.46485598737362877, 'bagging_fraction': 0.8500000000000001, 'learning_rate': 0.0003972110727381913, 'max_depth': 16}. Best is trial 0 with value: 0.7794247268063625.\n",
      "[I 2024-02-20 11:10:47,000] Trial 7 finished with value: 0.7643291817444337 and parameters: {'subsample': 0.573931655089634, 'bagging_fraction': 0.4, 'learning_rate': 0.006647135865318032, 'max_depth': 6}. Best is trial 0 with value: 0.7794247268063625.\n",
      "[I 2024-02-20 11:11:04,409] Trial 8 finished with value: 0.7548639909660534 and parameters: {'subsample': 0.15204127438822362, 'bagging_fraction': 0.95, 'learning_rate': 0.07886714129990492, 'max_depth': 25}. Best is trial 0 with value: 0.7794247268063625.\n",
      "[I 2024-02-20 11:11:20,805] Trial 9 finished with value: 0.7775940847434072 and parameters: {'subsample': 0.34369101533869656, 'bagging_fraction': 0.45, 'learning_rate': 0.01129013355909268, 'max_depth': 14}. Best is trial 0 with value: 0.7794247268063625.\n",
      "[I 2024-02-20 11:11:20,861] A new study created in memory with name: no-name-0673b96a-de36-4d83-923f-356a87f07799\n",
      "[I 2024-02-20 11:11:54,144] Trial 0 finished with value: 0.7800215126245019 and parameters: {'subsample': 0.39963209507789, 'bagging_fraction': 0.95, 'learning_rate': 0.015702970884055395, 'max_depth': 19}. Best is trial 0 with value: 0.7800215126245019.\n",
      "[I 2024-02-20 11:12:16,881] Trial 1 finished with value: 0.7676698061122027 and parameters: {'subsample': 0.22481491235394924, 'bagging_fraction': 0.45, 'learning_rate': 0.00014936568554617635, 'max_depth': 27}. Best is trial 0 with value: 0.7800215126245019.\n",
      "[I 2024-02-20 11:13:16,419] Trial 2 finished with value: 0.7701869416385054 and parameters: {'subsample': 0.5808920093945671, 'bagging_fraction': 0.8, 'learning_rate': 0.00011527987128232407, 'max_depth': 30}. Best is trial 0 with value: 0.7800215126245019.\n",
      "[I 2024-02-20 11:13:20,924] Trial 3 finished with value: 0.7542294892847968 and parameters: {'subsample': 0.7659541126403374, 'bagging_fraction': 0.5, 'learning_rate': 0.0003511356313970409, 'max_depth': 7}. Best is trial 0 with value: 0.7800215126245019.\n",
      "[I 2024-02-20 11:13:29,961] Trial 4 finished with value: 0.767491695467389 and parameters: {'subsample': 0.3433937943676302, 'bagging_fraction': 0.7000000000000001, 'learning_rate': 0.0019762189340280074, 'max_depth': 10}. Best is trial 0 with value: 0.7800215126245019.\n",
      "[I 2024-02-20 11:13:46,832] Trial 5 finished with value: 0.768067570914829 and parameters: {'subsample': 0.5894823157779036, 'bagging_fraction': 0.45, 'learning_rate': 0.0007523742884534858, 'max_depth': 12}. Best is trial 0 with value: 0.7800215126245019.\n",
      "[I 2024-02-20 11:14:18,744] Trial 6 finished with value: 0.7699049808986715 and parameters: {'subsample': 0.46485598737362877, 'bagging_fraction': 0.8500000000000001, 'learning_rate': 0.0003972110727381913, 'max_depth': 16}. Best is trial 0 with value: 0.7800215126245019.\n",
      "[I 2024-02-20 11:14:22,357] Trial 7 finished with value: 0.7613022854040385 and parameters: {'subsample': 0.573931655089634, 'bagging_fraction': 0.4, 'learning_rate': 0.006647135865318032, 'max_depth': 6}. Best is trial 0 with value: 0.7800215126245019.\n",
      "[I 2024-02-20 11:14:40,911] Trial 8 finished with value: 0.7536776260226203 and parameters: {'subsample': 0.15204127438822362, 'bagging_fraction': 0.95, 'learning_rate': 0.07886714129990492, 'max_depth': 25}. Best is trial 0 with value: 0.7800215126245019.\n",
      "[I 2024-02-20 11:14:57,742] Trial 9 finished with value: 0.7779345809383698 and parameters: {'subsample': 0.34369101533869656, 'bagging_fraction': 0.45, 'learning_rate': 0.01129013355909268, 'max_depth': 14}. Best is trial 0 with value: 0.7800215126245019.\n",
      "c:\\Users\\repo7\\Documents\\Personal\\Progetti\\kaggle-credit-competition\\venv\\lib\\site-packages\\xgboost\\core.py:160: UserWarning: [11:14:58] WARNING: C:\\buildkite-agent\\builds\\buildkite-windows-cpu-autoscaling-group-i-0b3782d1791676daf-1\\xgboost\\xgboost-ci-windows\\src\\learner.cc:742: \n",
      "Parameters: { \"bagging_fraction\" } are not used.\n",
      "\n",
      "  warnings.warn(smsg, UserWarning)\n"
     ]
    },
    {
     "name": "stdout",
     "output_type": "stream",
     "text": [
      "\n",
      "        Test AUC                           : 0.779\n",
      "        \n",
      "\n",
      "Nested CV: 5 of 5 outer fold\n"
     ]
    },
    {
     "name": "stderr",
     "output_type": "stream",
     "text": [
      "[I 2024-02-20 11:15:30,358] A new study created in memory with name: no-name-1ed2b610-8d68-4975-b94c-e65341be417f\n",
      "[I 2024-02-20 11:16:01,906] Trial 0 finished with value: 0.7794595099197855 and parameters: {'subsample': 0.39963209507789, 'bagging_fraction': 0.95, 'learning_rate': 0.015702970884055395, 'max_depth': 19}. Best is trial 0 with value: 0.7794595099197855.\n",
      "[I 2024-02-20 11:16:23,919] Trial 1 finished with value: 0.7683792131625045 and parameters: {'subsample': 0.22481491235394924, 'bagging_fraction': 0.45, 'learning_rate': 0.00014936568554617635, 'max_depth': 27}. Best is trial 0 with value: 0.7794595099197855.\n",
      "[I 2024-02-20 11:17:19,058] Trial 2 finished with value: 0.7704624565139642 and parameters: {'subsample': 0.5808920093945671, 'bagging_fraction': 0.8, 'learning_rate': 0.00011527987128232407, 'max_depth': 30}. Best is trial 0 with value: 0.7794595099197855.\n",
      "[I 2024-02-20 11:17:23,493] Trial 3 finished with value: 0.7551586745868344 and parameters: {'subsample': 0.7659541126403374, 'bagging_fraction': 0.5, 'learning_rate': 0.0003511356313970409, 'max_depth': 7}. Best is trial 0 with value: 0.7794595099197855.\n",
      "[I 2024-02-20 11:17:32,400] Trial 4 finished with value: 0.7680500310051828 and parameters: {'subsample': 0.3433937943676302, 'bagging_fraction': 0.7000000000000001, 'learning_rate': 0.0019762189340280074, 'max_depth': 10}. Best is trial 0 with value: 0.7794595099197855.\n",
      "[I 2024-02-20 11:17:48,980] Trial 5 finished with value: 0.7686301110897849 and parameters: {'subsample': 0.5894823157779036, 'bagging_fraction': 0.45, 'learning_rate': 0.0007523742884534858, 'max_depth': 12}. Best is trial 0 with value: 0.7794595099197855.\n",
      "[I 2024-02-20 11:18:19,659] Trial 6 finished with value: 0.7696913210389447 and parameters: {'subsample': 0.46485598737362877, 'bagging_fraction': 0.8500000000000001, 'learning_rate': 0.0003972110727381913, 'max_depth': 16}. Best is trial 0 with value: 0.7794595099197855.\n",
      "[I 2024-02-20 11:18:23,258] Trial 7 finished with value: 0.7630659396168007 and parameters: {'subsample': 0.573931655089634, 'bagging_fraction': 0.4, 'learning_rate': 0.006647135865318032, 'max_depth': 6}. Best is trial 0 with value: 0.7794595099197855.\n",
      "[I 2024-02-20 11:18:40,682] Trial 8 finished with value: 0.7544754160523108 and parameters: {'subsample': 0.15204127438822362, 'bagging_fraction': 0.95, 'learning_rate': 0.07886714129990492, 'max_depth': 25}. Best is trial 0 with value: 0.7794595099197855.\n",
      "[I 2024-02-20 11:18:57,129] Trial 9 finished with value: 0.7780589673070512 and parameters: {'subsample': 0.34369101533869656, 'bagging_fraction': 0.45, 'learning_rate': 0.01129013355909268, 'max_depth': 14}. Best is trial 0 with value: 0.7794595099197855.\n",
      "[I 2024-02-20 11:18:57,184] A new study created in memory with name: no-name-4ed2eae7-589a-4734-96f8-fd9a3310c2d9\n"
     ]
    },
    {
     "name": "stdout",
     "output_type": "stream",
     "text": [
      "Found new best score with score 0.779460\n"
     ]
    },
    {
     "name": "stderr",
     "output_type": "stream",
     "text": [
      "[I 2024-02-20 11:19:28,649] Trial 0 finished with value: 0.775857680544366 and parameters: {'subsample': 0.39963209507789, 'bagging_fraction': 0.95, 'learning_rate': 0.015702970884055395, 'max_depth': 19}. Best is trial 0 with value: 0.775857680544366.\n",
      "[I 2024-02-20 11:19:50,533] Trial 1 finished with value: 0.7617738350613923 and parameters: {'subsample': 0.22481491235394924, 'bagging_fraction': 0.45, 'learning_rate': 0.00014936568554617635, 'max_depth': 27}. Best is trial 0 with value: 0.775857680544366.\n",
      "[I 2024-02-20 11:20:47,551] Trial 2 finished with value: 0.766679074293054 and parameters: {'subsample': 0.5808920093945671, 'bagging_fraction': 0.8, 'learning_rate': 0.00011527987128232407, 'max_depth': 30}. Best is trial 0 with value: 0.775857680544366.\n",
      "[I 2024-02-20 11:20:52,004] Trial 3 finished with value: 0.7516561477021101 and parameters: {'subsample': 0.7659541126403374, 'bagging_fraction': 0.5, 'learning_rate': 0.0003511356313970409, 'max_depth': 7}. Best is trial 0 with value: 0.775857680544366.\n",
      "[I 2024-02-20 11:21:01,096] Trial 4 finished with value: 0.7657917299577738 and parameters: {'subsample': 0.3433937943676302, 'bagging_fraction': 0.7000000000000001, 'learning_rate': 0.0019762189340280074, 'max_depth': 10}. Best is trial 0 with value: 0.775857680544366.\n",
      "[I 2024-02-20 11:21:18,401] Trial 5 finished with value: 0.7639710777166262 and parameters: {'subsample': 0.5894823157779036, 'bagging_fraction': 0.45, 'learning_rate': 0.0007523742884534858, 'max_depth': 12}. Best is trial 0 with value: 0.775857680544366.\n",
      "[I 2024-02-20 11:21:50,310] Trial 6 finished with value: 0.7677302253077767 and parameters: {'subsample': 0.46485598737362877, 'bagging_fraction': 0.8500000000000001, 'learning_rate': 0.0003972110727381913, 'max_depth': 16}. Best is trial 0 with value: 0.775857680544366.\n",
      "[I 2024-02-20 11:21:53,962] Trial 7 finished with value: 0.7588390420468654 and parameters: {'subsample': 0.573931655089634, 'bagging_fraction': 0.4, 'learning_rate': 0.006647135865318032, 'max_depth': 6}. Best is trial 0 with value: 0.775857680544366.\n",
      "[I 2024-02-20 11:22:11,405] Trial 8 finished with value: 0.7455278857398292 and parameters: {'subsample': 0.15204127438822362, 'bagging_fraction': 0.95, 'learning_rate': 0.07886714129990492, 'max_depth': 25}. Best is trial 0 with value: 0.775857680544366.\n",
      "[I 2024-02-20 11:22:28,220] Trial 9 finished with value: 0.7747252685379581 and parameters: {'subsample': 0.34369101533869656, 'bagging_fraction': 0.45, 'learning_rate': 0.01129013355909268, 'max_depth': 14}. Best is trial 0 with value: 0.775857680544366.\n",
      "[I 2024-02-20 11:22:28,272] A new study created in memory with name: no-name-b5053b75-43b6-4212-9402-6c6c3c518555\n",
      "[I 2024-02-20 11:23:00,623] Trial 0 finished with value: 0.77938251544732 and parameters: {'subsample': 0.39963209507789, 'bagging_fraction': 0.95, 'learning_rate': 0.015702970884055395, 'max_depth': 19}. Best is trial 0 with value: 0.77938251544732.\n",
      "[I 2024-02-20 11:23:25,201] Trial 1 finished with value: 0.7694609800605201 and parameters: {'subsample': 0.22481491235394924, 'bagging_fraction': 0.45, 'learning_rate': 0.00014936568554617635, 'max_depth': 27}. Best is trial 0 with value: 0.77938251544732.\n",
      "[I 2024-02-20 11:24:26,660] Trial 2 finished with value: 0.7715622369127291 and parameters: {'subsample': 0.5808920093945671, 'bagging_fraction': 0.8, 'learning_rate': 0.00011527987128232407, 'max_depth': 30}. Best is trial 0 with value: 0.77938251544732.\n",
      "[I 2024-02-20 11:24:31,207] Trial 3 finished with value: 0.7562369331413873 and parameters: {'subsample': 0.7659541126403374, 'bagging_fraction': 0.5, 'learning_rate': 0.0003511356313970409, 'max_depth': 7}. Best is trial 0 with value: 0.77938251544732.\n",
      "[I 2024-02-20 11:24:40,498] Trial 4 finished with value: 0.7689856467043318 and parameters: {'subsample': 0.3433937943676302, 'bagging_fraction': 0.7000000000000001, 'learning_rate': 0.0019762189340280074, 'max_depth': 10}. Best is trial 0 with value: 0.77938251544732.\n",
      "[I 2024-02-20 11:24:58,240] Trial 5 finished with value: 0.7690486764281395 and parameters: {'subsample': 0.5894823157779036, 'bagging_fraction': 0.45, 'learning_rate': 0.0007523742884534858, 'max_depth': 12}. Best is trial 0 with value: 0.77938251544732.\n",
      "[I 2024-02-20 11:25:32,401] Trial 6 finished with value: 0.7705103327137222 and parameters: {'subsample': 0.46485598737362877, 'bagging_fraction': 0.8500000000000001, 'learning_rate': 0.0003972110727381913, 'max_depth': 16}. Best is trial 0 with value: 0.77938251544732.\n",
      "[I 2024-02-20 11:25:36,150] Trial 7 finished with value: 0.7644770260124207 and parameters: {'subsample': 0.573931655089634, 'bagging_fraction': 0.4, 'learning_rate': 0.006647135865318032, 'max_depth': 6}. Best is trial 0 with value: 0.77938251544732.\n",
      "[I 2024-02-20 11:25:55,357] Trial 8 finished with value: 0.7531108184757039 and parameters: {'subsample': 0.15204127438822362, 'bagging_fraction': 0.95, 'learning_rate': 0.07886714129990492, 'max_depth': 25}. Best is trial 0 with value: 0.77938251544732.\n",
      "[I 2024-02-20 11:26:13,087] Trial 9 finished with value: 0.777711174435971 and parameters: {'subsample': 0.34369101533869656, 'bagging_fraction': 0.45, 'learning_rate': 0.01129013355909268, 'max_depth': 14}. Best is trial 0 with value: 0.77938251544732.\n",
      "[I 2024-02-20 11:26:13,142] A new study created in memory with name: no-name-65ef44ba-5c59-4031-8af8-69b2ffdda61a\n",
      "[I 2024-02-20 11:26:46,073] Trial 0 finished with value: 0.7804711536366022 and parameters: {'subsample': 0.39963209507789, 'bagging_fraction': 0.95, 'learning_rate': 0.015702970884055395, 'max_depth': 19}. Best is trial 0 with value: 0.7804711536366022.\n",
      "[I 2024-02-20 11:27:09,508] Trial 1 finished with value: 0.7694228456945847 and parameters: {'subsample': 0.22481491235394924, 'bagging_fraction': 0.45, 'learning_rate': 0.00014936568554617635, 'max_depth': 27}. Best is trial 0 with value: 0.7804711536366022.\n",
      "[I 2024-02-20 11:28:10,828] Trial 2 finished with value: 0.7717742626359305 and parameters: {'subsample': 0.5808920093945671, 'bagging_fraction': 0.8, 'learning_rate': 0.00011527987128232407, 'max_depth': 30}. Best is trial 0 with value: 0.7804711536366022.\n",
      "[I 2024-02-20 11:28:15,413] Trial 3 finished with value: 0.7584738805757321 and parameters: {'subsample': 0.7659541126403374, 'bagging_fraction': 0.5, 'learning_rate': 0.0003511356313970409, 'max_depth': 7}. Best is trial 0 with value: 0.7804711536366022.\n",
      "[I 2024-02-20 11:28:24,701] Trial 4 finished with value: 0.7698003279855237 and parameters: {'subsample': 0.3433937943676302, 'bagging_fraction': 0.7000000000000001, 'learning_rate': 0.0019762189340280074, 'max_depth': 10}. Best is trial 0 with value: 0.7804711536366022.\n",
      "[I 2024-02-20 11:28:41,736] Trial 5 finished with value: 0.7710581842573229 and parameters: {'subsample': 0.5894823157779036, 'bagging_fraction': 0.45, 'learning_rate': 0.0007523742884534858, 'max_depth': 12}. Best is trial 0 with value: 0.7804711536366022.\n",
      "[I 2024-02-20 11:29:14,737] Trial 6 finished with value: 0.7720305901578666 and parameters: {'subsample': 0.46485598737362877, 'bagging_fraction': 0.8500000000000001, 'learning_rate': 0.0003972110727381913, 'max_depth': 16}. Best is trial 0 with value: 0.7804711536366022.\n",
      "[I 2024-02-20 11:29:18,410] Trial 7 finished with value: 0.765089625824244 and parameters: {'subsample': 0.573931655089634, 'bagging_fraction': 0.4, 'learning_rate': 0.006647135865318032, 'max_depth': 6}. Best is trial 0 with value: 0.7804711536366022.\n",
      "[I 2024-02-20 11:29:36,785] Trial 8 finished with value: 0.74697232448662 and parameters: {'subsample': 0.15204127438822362, 'bagging_fraction': 0.95, 'learning_rate': 0.07886714129990492, 'max_depth': 25}. Best is trial 0 with value: 0.7804711536366022.\n",
      "[I 2024-02-20 11:29:54,642] Trial 9 finished with value: 0.7802800018437968 and parameters: {'subsample': 0.34369101533869656, 'bagging_fraction': 0.45, 'learning_rate': 0.01129013355909268, 'max_depth': 14}. Best is trial 0 with value: 0.7804711536366022.\n",
      "[I 2024-02-20 11:29:54,708] A new study created in memory with name: no-name-bdaf7bc7-eb33-420e-a3d3-6c7a5f40e05f\n"
     ]
    },
    {
     "name": "stdout",
     "output_type": "stream",
     "text": [
      "Found new best score with score 0.780471\n"
     ]
    },
    {
     "name": "stderr",
     "output_type": "stream",
     "text": [
      "[I 2024-02-20 11:30:27,413] Trial 0 finished with value: 0.7769158105426885 and parameters: {'subsample': 0.39963209507789, 'bagging_fraction': 0.95, 'learning_rate': 0.015702970884055395, 'max_depth': 19}. Best is trial 0 with value: 0.7769158105426885.\n",
      "[I 2024-02-20 11:30:50,886] Trial 1 finished with value: 0.7629499525662949 and parameters: {'subsample': 0.22481491235394924, 'bagging_fraction': 0.45, 'learning_rate': 0.00014936568554617635, 'max_depth': 27}. Best is trial 0 with value: 0.7769158105426885.\n",
      "[I 2024-02-20 11:31:51,520] Trial 2 finished with value: 0.7672015357386192 and parameters: {'subsample': 0.5808920093945671, 'bagging_fraction': 0.8, 'learning_rate': 0.00011527987128232407, 'max_depth': 30}. Best is trial 0 with value: 0.7769158105426885.\n",
      "[I 2024-02-20 11:31:56,074] Trial 3 finished with value: 0.7488057766396702 and parameters: {'subsample': 0.7659541126403374, 'bagging_fraction': 0.5, 'learning_rate': 0.0003511356313970409, 'max_depth': 7}. Best is trial 0 with value: 0.7769158105426885.\n",
      "[I 2024-02-20 11:32:05,269] Trial 4 finished with value: 0.7643606178165914 and parameters: {'subsample': 0.3433937943676302, 'bagging_fraction': 0.7000000000000001, 'learning_rate': 0.0019762189340280074, 'max_depth': 10}. Best is trial 0 with value: 0.7769158105426885.\n",
      "[I 2024-02-20 11:32:22,722] Trial 5 finished with value: 0.7639590668460585 and parameters: {'subsample': 0.5894823157779036, 'bagging_fraction': 0.45, 'learning_rate': 0.0007523742884534858, 'max_depth': 12}. Best is trial 0 with value: 0.7769158105426885.\n",
      "[I 2024-02-20 11:32:54,767] Trial 6 finished with value: 0.7677388916536179 and parameters: {'subsample': 0.46485598737362877, 'bagging_fraction': 0.8500000000000001, 'learning_rate': 0.0003972110727381913, 'max_depth': 16}. Best is trial 0 with value: 0.7769158105426885.\n",
      "[I 2024-02-20 11:32:58,460] Trial 7 finished with value: 0.7569709230822272 and parameters: {'subsample': 0.573931655089634, 'bagging_fraction': 0.4, 'learning_rate': 0.006647135865318032, 'max_depth': 6}. Best is trial 0 with value: 0.7769158105426885.\n",
      "[I 2024-02-20 11:33:16,826] Trial 8 finished with value: 0.7527457537861479 and parameters: {'subsample': 0.15204127438822362, 'bagging_fraction': 0.95, 'learning_rate': 0.07886714129990492, 'max_depth': 25}. Best is trial 0 with value: 0.7769158105426885.\n",
      "[I 2024-02-20 11:33:33,562] Trial 9 finished with value: 0.7752933838953739 and parameters: {'subsample': 0.34369101533869656, 'bagging_fraction': 0.45, 'learning_rate': 0.01129013355909268, 'max_depth': 14}. Best is trial 0 with value: 0.7769158105426885.\n",
      "c:\\Users\\repo7\\Documents\\Personal\\Progetti\\kaggle-credit-competition\\venv\\lib\\site-packages\\xgboost\\core.py:160: UserWarning: [11:33:34] WARNING: C:\\buildkite-agent\\builds\\buildkite-windows-cpu-autoscaling-group-i-0b3782d1791676daf-1\\xgboost\\xgboost-ci-windows\\src\\learner.cc:742: \n",
      "Parameters: { \"bagging_fraction\" } are not used.\n",
      "\n",
      "  warnings.warn(smsg, UserWarning)\n"
     ]
    },
    {
     "name": "stdout",
     "output_type": "stream",
     "text": [
      "\n",
      "        Test AUC                           : 0.783\n",
      "        \n"
     ]
    }
   ],
   "source": [
    "random_seed(42)\n",
    "\n",
    "def create_params(trial):\n",
    "    return {\n",
    "        'subsample': trial.suggest_float('subsample', 0.1, 0.9),\n",
    "        'tree_method': 'hist',\n",
    "        'colsample_bytree': trial.suggest_float('bagging_fraction', 0.4, 0.95, step=0.05),\n",
    "        'learning_rate': trial.suggest_float(\"learning_rate\", 1e-4, 1e-1, log=True),\n",
    "        'max_depth': trial.suggest_int('max_depth', 2, 30)\n",
    "    }\n",
    "\n",
    "classifier = xgb.XGBClassifier(n_estimators=250, objective='binary:logistic', eval_metric='auc', n_jobs=-1) \n",
    "\n",
    "xb_clfs, xb_oof_preds, xb_oof_targets = nestedcv(x=x,\n",
    "                                                 y=y,\n",
    "                                                 groups=weeks,\n",
    "                                                 classifier=classifier,\n",
    "                                                 cv_outer=cv_outer,\n",
    "                                                 cv_inner=cv_inner,\n",
    "                                                 p_grid=create_params,\n",
    "                                                 n_iter=10)"
   ]
  },
  {
   "cell_type": "markdown",
   "metadata": {},
   "source": [
    "# Output and model savings"
   ]
  },
  {
   "cell_type": "code",
   "execution_count": 14,
   "metadata": {},
   "outputs": [
    {
     "name": "stdout",
     "output_type": "stream",
     "text": [
      "Overall OOF AUC LGBM = 0.78637\n"
     ]
    }
   ],
   "source": [
    "# Counter for current lgb version\n",
    "n = 1\n",
    "timestamp =datetime.today().strftime('%Y%m%d%H%M')\n",
    "\n",
    "oof_lgb = np.concatenate(lgb_oof_preds)\n",
    "true_lgb = np.concatenate(lgb_oof_targets)\n",
    "auc_cv_lgb = roc_auc_score(true_lgb, oof_lgb)\n",
    "\n",
    "print('Overall OOF AUC LGBM = {:.5f}'.format(auc_cv_lgb))\n",
    "\n",
    "results = pd.DataFrame({'oof': oof_lgb, 'truth': true_lgb})\n",
    "results.to_csv('{}/{}/output/oof_lgb_{}_{}.csv'.format(ROOT,\n",
    "                                                       DATA_FOLDER,\n",
    "                                                       n,\n",
    "                                                       timestamp), index=False)\n",
    "\n",
    "for model in lgb_clfs:\n",
    "    joblib.dump(model, '{}/{}/models/lgb_{}_{}.pkl'.format(ROOT,\n",
    "                                                           DATA_FOLDER,\n",
    "                                                           n,\n",
    "                                                           datetime.today().strftime('%Y%m%d%H%M')))"
   ]
  },
  {
   "cell_type": "code",
   "execution_count": 15,
   "metadata": {},
   "outputs": [
    {
     "name": "stdout",
     "output_type": "stream",
     "text": [
      "Overall OOF AUC XGB = 0.78023\n"
     ]
    }
   ],
   "source": [
    "# Counter for current xgb version\n",
    "n = 1\n",
    "timestamp =datetime.today().strftime('%Y%m%d%H%M')\n",
    "\n",
    "oof_xb = np.concatenate(xb_oof_preds)\n",
    "true_xb = np.concatenate(xb_oof_targets)\n",
    "auc_cv_xb = roc_auc_score(true_xb, oof_xb)\n",
    "\n",
    "print('Overall OOF AUC XGB = {:.5f}'.format(auc_cv_xb))\n",
    "\n",
    "results = pd.DataFrame({'oof': oof_xb, 'truth': true_xb})\n",
    "results.to_csv('{}/{}/output/oof_xb_{}_{}.csv'.format(ROOT,\n",
    "                                                      DATA_FOLDER,\n",
    "                                                      n,\n",
    "                                                      timestamp), index=False)\n",
    "\n",
    "for model in xb_clfs:\n",
    "    joblib.dump(model, '{}/{}/models/xb_{}_{}.pkl'.format(ROOT,\n",
    "                                                          DATA_FOLDER,\n",
    "                                                          n,\n",
    "                                                          datetime.today().strftime('%Y%m%d%H%M')))"
   ]
  },
  {
   "cell_type": "code",
   "execution_count": null,
   "metadata": {},
   "outputs": [],
   "source": []
  }
 ],
 "metadata": {
  "kernelspec": {
   "display_name": "venv",
   "language": "python",
   "name": "python3"
  },
  "language_info": {
   "codemirror_mode": {
    "name": "ipython",
    "version": 3
   },
   "file_extension": ".py",
   "mimetype": "text/x-python",
   "name": "python",
   "nbconvert_exporter": "python",
   "pygments_lexer": "ipython3",
   "version": "3.10.10"
  }
 },
 "nbformat": 4,
 "nbformat_minor": 2
}
